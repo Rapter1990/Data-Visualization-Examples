{
 "cells": [
  {
   "cell_type": "markdown",
   "metadata": {},
   "source": [
    "# COVID-19 World Vaccination Progress\n",
    "\n",
    "## Daily and Total Vaccination for COVID-19 in the World\n",
    "\n",
    "## Context\n",
    "Data is collected daily from Our World in Data GitHub repository for covid-19, merged and uploaded.\n",
    "\n",
    "## Acknowledgements\n",
    "I would like to specify that I am only making available Our World in Data collected data about vaccinations to Kagglers. My contribution is very small, just daily collection, merge and upload of the updated version, as maintained by Our World in Data in their GitHub repository.\n",
    "\n",
    "The dataset is prepared by Gabriel Preda\n",
    "\n",
    "Here is the dataset link : https://www.kaggle.com/gpreda/covid-world-vaccination-progress"
   ]
  },
  {
   "cell_type": "markdown",
   "metadata": {},
   "source": [
    "## Content"
   ]
  },
  {
   "cell_type": "markdown",
   "metadata": {},
   "source": [
    "<ul>\n",
    "  <li><a href=\"#part1\">1. Loading Data and Checking Values</a></li>\n",
    "  <li><a href=\"#part2\">2. Description of Some Columns which I used in Dataframe</a>\n",
    "  <li><a href=\"#part3\">3. Data Wrangling</a>\n",
    "    <ul>\n",
    "      <li><a href=\"#part3-1\">3.1 Filling missing ISO Code for countries which is part of United Kingdom</a></li>\n",
    "      <li><a href=\"#part3-2\">3.2 Formatting date column as day-month-year </a></li>\n",
    "      <li><a href=\"#part3-3\">3.3 Filling empty cells with with previous row value</a></li>\n",
    "      <li><a href=\"#part3-3\">3.4 Replacing Pifzer/BioNTech to Pfizer/BioNTech</a></li>\n",
    "      <li><a href=\"#part3-3\">3.5 3.5 Replacing England,Wales,Northern Ireland and Scotland and  to United Kingdom</a></li>  \n",
    "    </ul>\n",
    "  </li>\n",
    "  <li><a href=\"#part4\">4. Data Visualization</a>\n",
    "    <ul>\n",
    "      <li><a href=\"#part4-1\">4.1 Showing which vaccination scheme is used most</a></li>\n",
    "      <li><a href=\"#part4-2\">4.2 Showing which country has vaccinated the most people against COVID-19</a></li>  \n",
    "      <li><a href=\"#part4-3\">4.3 Showing which countries use different kinds of vaccine's name in total vacination count</a></li>   \n",
    "      <li><a href=\"#part4-4\">4.4 Total vaccinations per country, grouped by vaccine scheme</a></li>   \n",
    "      <li><a href=\"#part4-5\">4.5 Total vs Total vaccinations per hundred grouped by Vaccines</a></li>   \n",
    "      <li><a href=\"#part4-6\">4.6 Timeline for No of people Vaccinated by Country</a></li>     \n",
    "      <li><a href=\"#part4-7\">4.7 WordCloud</a></li>   \n",
    "    </ul>\n",
    "  </li>\n",
    "</ul>"
   ]
  },
  {
   "cell_type": "markdown",
   "metadata": {},
   "source": [
    "<a id='part1'></a>\n",
    "## 1. Loading Data and Checking Values"
   ]
  },
  {
   "cell_type": "markdown",
   "metadata": {},
   "source": [
    "1 - Import libraries I used for visualization"
   ]
  },
  {
   "cell_type": "code",
   "execution_count": 52,
   "metadata": {},
   "outputs": [],
   "source": [
    "import numpy as np\n",
    "import pandas as pd\n",
    "import matplotlib.pyplot as plt\n",
    "import seaborn as sns\n",
    "import plotly.graph_objects as go\n",
    "from plotly.subplots import make_subplots\n",
    "from plotly.offline import init_notebook_mode, iplot\n",
    "from collections import Counter\n",
    "from operator import itemgetter\n",
    "from IPython.display import display, HTML\n",
    "from plotly.subplots import make_subplots\n",
    "from wordcloud import WordCloud, STOPWORDS,ImageColorGenerator \n",
    "from PIL import Image, ImageOps\n",
    "import plotly.express as px\n",
    "import plotly.io as pio\n",
    "import datetime\n",
    "import matplotlib.cm as mplcm\n",
    "import random\n",
    "import matplotlib.colors as mcolors\n",
    "import requests\n",
    "from matplotlib.offsetbox import OffsetImage,AnnotationBbox\n",
    "import matplotlib.image as mpimg \n",
    "%matplotlib inline\n",
    "\n",
    "sns.set(style=\"darkgrid\")"
   ]
  },
  {
   "cell_type": "markdown",
   "metadata": {},
   "source": [
    "2 - Define dataframe after loading all values from csv file and assigning them to it"
   ]
  },
  {
   "cell_type": "code",
   "execution_count": 53,
   "metadata": {},
   "outputs": [],
   "source": [
    "file_location_url = \"files/country_vaccinations.csv\";\n",
    "\n",
    "covid19_vaccinations_df = pd.read_csv(file_location_url, error_bad_lines=False,encoding = \"utf-8\")"
   ]
  },
  {
   "cell_type": "markdown",
   "metadata": {},
   "source": [
    "3 - Deterime how many rows and columns are defined in dataframe"
   ]
  },
  {
   "cell_type": "code",
   "execution_count": 54,
   "metadata": {},
   "outputs": [
    {
     "name": "stdout",
     "output_type": "stream",
     "text": [
      "Row : 1587 , Column : 15\n"
     ]
    }
   ],
   "source": [
    "row_count = covid19_vaccinations_df.shape[0]\n",
    "column_count = covid19_vaccinations_df.shape[1]\n",
    "\n",
    "print(\"Row : {} , Column : {}\".format(row_count,column_count))"
   ]
  },
  {
   "cell_type": "markdown",
   "metadata": {},
   "source": [
    "4 - Show first 5 values of dataframe"
   ]
  },
  {
   "cell_type": "code",
   "execution_count": 55,
   "metadata": {},
   "outputs": [
    {
     "data": {
      "text/html": [
       "<div>\n",
       "<style scoped>\n",
       "    .dataframe tbody tr th:only-of-type {\n",
       "        vertical-align: middle;\n",
       "    }\n",
       "\n",
       "    .dataframe tbody tr th {\n",
       "        vertical-align: top;\n",
       "    }\n",
       "\n",
       "    .dataframe thead th {\n",
       "        text-align: right;\n",
       "    }\n",
       "</style>\n",
       "<table border=\"1\" class=\"dataframe\">\n",
       "  <thead>\n",
       "    <tr style=\"text-align: right;\">\n",
       "      <th></th>\n",
       "      <th>country</th>\n",
       "      <th>iso_code</th>\n",
       "      <th>date</th>\n",
       "      <th>total_vaccinations</th>\n",
       "      <th>people_vaccinated</th>\n",
       "      <th>people_fully_vaccinated</th>\n",
       "      <th>daily_vaccinations_raw</th>\n",
       "      <th>daily_vaccinations</th>\n",
       "      <th>total_vaccinations_per_hundred</th>\n",
       "      <th>people_vaccinated_per_hundred</th>\n",
       "      <th>people_fully_vaccinated_per_hundred</th>\n",
       "      <th>daily_vaccinations_per_million</th>\n",
       "      <th>vaccines</th>\n",
       "      <th>source_name</th>\n",
       "      <th>source_website</th>\n",
       "    </tr>\n",
       "  </thead>\n",
       "  <tbody>\n",
       "    <tr>\n",
       "      <th>0</th>\n",
       "      <td>Argentina</td>\n",
       "      <td>ARG</td>\n",
       "      <td>2020-12-29</td>\n",
       "      <td>700.0</td>\n",
       "      <td>NaN</td>\n",
       "      <td>NaN</td>\n",
       "      <td>NaN</td>\n",
       "      <td>NaN</td>\n",
       "      <td>0.00</td>\n",
       "      <td>NaN</td>\n",
       "      <td>NaN</td>\n",
       "      <td>NaN</td>\n",
       "      <td>Sputnik V</td>\n",
       "      <td>Ministry of Health</td>\n",
       "      <td>http://datos.salud.gob.ar/dataset/vacunas-cont...</td>\n",
       "    </tr>\n",
       "    <tr>\n",
       "      <th>1</th>\n",
       "      <td>Argentina</td>\n",
       "      <td>ARG</td>\n",
       "      <td>2020-12-30</td>\n",
       "      <td>NaN</td>\n",
       "      <td>NaN</td>\n",
       "      <td>NaN</td>\n",
       "      <td>NaN</td>\n",
       "      <td>15656.0</td>\n",
       "      <td>NaN</td>\n",
       "      <td>NaN</td>\n",
       "      <td>NaN</td>\n",
       "      <td>346.0</td>\n",
       "      <td>Sputnik V</td>\n",
       "      <td>Ministry of Health</td>\n",
       "      <td>http://datos.salud.gob.ar/dataset/vacunas-cont...</td>\n",
       "    </tr>\n",
       "    <tr>\n",
       "      <th>2</th>\n",
       "      <td>Argentina</td>\n",
       "      <td>ARG</td>\n",
       "      <td>2020-12-31</td>\n",
       "      <td>32013.0</td>\n",
       "      <td>NaN</td>\n",
       "      <td>NaN</td>\n",
       "      <td>NaN</td>\n",
       "      <td>15656.0</td>\n",
       "      <td>0.07</td>\n",
       "      <td>NaN</td>\n",
       "      <td>NaN</td>\n",
       "      <td>346.0</td>\n",
       "      <td>Sputnik V</td>\n",
       "      <td>Ministry of Health</td>\n",
       "      <td>http://datos.salud.gob.ar/dataset/vacunas-cont...</td>\n",
       "    </tr>\n",
       "    <tr>\n",
       "      <th>3</th>\n",
       "      <td>Argentina</td>\n",
       "      <td>ARG</td>\n",
       "      <td>2021-01-01</td>\n",
       "      <td>NaN</td>\n",
       "      <td>NaN</td>\n",
       "      <td>NaN</td>\n",
       "      <td>NaN</td>\n",
       "      <td>11070.0</td>\n",
       "      <td>NaN</td>\n",
       "      <td>NaN</td>\n",
       "      <td>NaN</td>\n",
       "      <td>245.0</td>\n",
       "      <td>Sputnik V</td>\n",
       "      <td>Ministry of Health</td>\n",
       "      <td>http://datos.salud.gob.ar/dataset/vacunas-cont...</td>\n",
       "    </tr>\n",
       "    <tr>\n",
       "      <th>4</th>\n",
       "      <td>Argentina</td>\n",
       "      <td>ARG</td>\n",
       "      <td>2021-01-02</td>\n",
       "      <td>NaN</td>\n",
       "      <td>NaN</td>\n",
       "      <td>NaN</td>\n",
       "      <td>NaN</td>\n",
       "      <td>8776.0</td>\n",
       "      <td>NaN</td>\n",
       "      <td>NaN</td>\n",
       "      <td>NaN</td>\n",
       "      <td>194.0</td>\n",
       "      <td>Sputnik V</td>\n",
       "      <td>Ministry of Health</td>\n",
       "      <td>http://datos.salud.gob.ar/dataset/vacunas-cont...</td>\n",
       "    </tr>\n",
       "  </tbody>\n",
       "</table>\n",
       "</div>"
      ],
      "text/plain": [
       "     country iso_code        date  total_vaccinations  people_vaccinated  \\\n",
       "0  Argentina      ARG  2020-12-29               700.0                NaN   \n",
       "1  Argentina      ARG  2020-12-30                 NaN                NaN   \n",
       "2  Argentina      ARG  2020-12-31             32013.0                NaN   \n",
       "3  Argentina      ARG  2021-01-01                 NaN                NaN   \n",
       "4  Argentina      ARG  2021-01-02                 NaN                NaN   \n",
       "\n",
       "   people_fully_vaccinated  daily_vaccinations_raw  daily_vaccinations  \\\n",
       "0                      NaN                     NaN                 NaN   \n",
       "1                      NaN                     NaN             15656.0   \n",
       "2                      NaN                     NaN             15656.0   \n",
       "3                      NaN                     NaN             11070.0   \n",
       "4                      NaN                     NaN              8776.0   \n",
       "\n",
       "   total_vaccinations_per_hundred  people_vaccinated_per_hundred  \\\n",
       "0                            0.00                            NaN   \n",
       "1                             NaN                            NaN   \n",
       "2                            0.07                            NaN   \n",
       "3                             NaN                            NaN   \n",
       "4                             NaN                            NaN   \n",
       "\n",
       "   people_fully_vaccinated_per_hundred  daily_vaccinations_per_million  \\\n",
       "0                                  NaN                             NaN   \n",
       "1                                  NaN                           346.0   \n",
       "2                                  NaN                           346.0   \n",
       "3                                  NaN                           245.0   \n",
       "4                                  NaN                           194.0   \n",
       "\n",
       "    vaccines         source_name  \\\n",
       "0  Sputnik V  Ministry of Health   \n",
       "1  Sputnik V  Ministry of Health   \n",
       "2  Sputnik V  Ministry of Health   \n",
       "3  Sputnik V  Ministry of Health   \n",
       "4  Sputnik V  Ministry of Health   \n",
       "\n",
       "                                      source_website  \n",
       "0  http://datos.salud.gob.ar/dataset/vacunas-cont...  \n",
       "1  http://datos.salud.gob.ar/dataset/vacunas-cont...  \n",
       "2  http://datos.salud.gob.ar/dataset/vacunas-cont...  \n",
       "3  http://datos.salud.gob.ar/dataset/vacunas-cont...  \n",
       "4  http://datos.salud.gob.ar/dataset/vacunas-cont...  "
      ]
     },
     "execution_count": 55,
     "metadata": {},
     "output_type": "execute_result"
    }
   ],
   "source": [
    "covid19_vaccinations_df.head()"
   ]
  },
  {
   "cell_type": "markdown",
   "metadata": {},
   "source": [
    "5 - Show last 5 values of dataframe"
   ]
  },
  {
   "cell_type": "code",
   "execution_count": 56,
   "metadata": {},
   "outputs": [
    {
     "data": {
      "text/html": [
       "<div>\n",
       "<style scoped>\n",
       "    .dataframe tbody tr th:only-of-type {\n",
       "        vertical-align: middle;\n",
       "    }\n",
       "\n",
       "    .dataframe tbody tr th {\n",
       "        vertical-align: top;\n",
       "    }\n",
       "\n",
       "    .dataframe thead th {\n",
       "        text-align: right;\n",
       "    }\n",
       "</style>\n",
       "<table border=\"1\" class=\"dataframe\">\n",
       "  <thead>\n",
       "    <tr style=\"text-align: right;\">\n",
       "      <th></th>\n",
       "      <th>country</th>\n",
       "      <th>iso_code</th>\n",
       "      <th>date</th>\n",
       "      <th>total_vaccinations</th>\n",
       "      <th>people_vaccinated</th>\n",
       "      <th>people_fully_vaccinated</th>\n",
       "      <th>daily_vaccinations_raw</th>\n",
       "      <th>daily_vaccinations</th>\n",
       "      <th>total_vaccinations_per_hundred</th>\n",
       "      <th>people_vaccinated_per_hundred</th>\n",
       "      <th>people_fully_vaccinated_per_hundred</th>\n",
       "      <th>daily_vaccinations_per_million</th>\n",
       "      <th>vaccines</th>\n",
       "      <th>source_name</th>\n",
       "      <th>source_website</th>\n",
       "    </tr>\n",
       "  </thead>\n",
       "  <tbody>\n",
       "    <tr>\n",
       "      <th>1582</th>\n",
       "      <td>Wales</td>\n",
       "      <td>NaN</td>\n",
       "      <td>2021-01-21</td>\n",
       "      <td>212732.0</td>\n",
       "      <td>212317.0</td>\n",
       "      <td>415.0</td>\n",
       "      <td>21901.0</td>\n",
       "      <td>12318.0</td>\n",
       "      <td>6.75</td>\n",
       "      <td>6.73</td>\n",
       "      <td>0.01</td>\n",
       "      <td>3907.0</td>\n",
       "      <td>Oxford/AstraZeneca, Pfizer/BioNTech</td>\n",
       "      <td>Government of the United Kingdom</td>\n",
       "      <td>https://coronavirus.data.gov.uk/details/health...</td>\n",
       "    </tr>\n",
       "    <tr>\n",
       "      <th>1583</th>\n",
       "      <td>Wales</td>\n",
       "      <td>NaN</td>\n",
       "      <td>2021-01-22</td>\n",
       "      <td>241016.0</td>\n",
       "      <td>240547.0</td>\n",
       "      <td>469.0</td>\n",
       "      <td>28284.0</td>\n",
       "      <td>15148.0</td>\n",
       "      <td>7.64</td>\n",
       "      <td>7.63</td>\n",
       "      <td>0.01</td>\n",
       "      <td>4804.0</td>\n",
       "      <td>Oxford/AstraZeneca, Pfizer/BioNTech</td>\n",
       "      <td>Government of the United Kingdom</td>\n",
       "      <td>https://coronavirus.data.gov.uk/details/health...</td>\n",
       "    </tr>\n",
       "    <tr>\n",
       "      <th>1584</th>\n",
       "      <td>Wales</td>\n",
       "      <td>NaN</td>\n",
       "      <td>2021-01-23</td>\n",
       "      <td>265054.0</td>\n",
       "      <td>264538.0</td>\n",
       "      <td>516.0</td>\n",
       "      <td>24038.0</td>\n",
       "      <td>17371.0</td>\n",
       "      <td>8.41</td>\n",
       "      <td>8.39</td>\n",
       "      <td>0.02</td>\n",
       "      <td>5510.0</td>\n",
       "      <td>Oxford/AstraZeneca, Pfizer/BioNTech</td>\n",
       "      <td>Government of the United Kingdom</td>\n",
       "      <td>https://coronavirus.data.gov.uk/details/health...</td>\n",
       "    </tr>\n",
       "    <tr>\n",
       "      <th>1585</th>\n",
       "      <td>Wales</td>\n",
       "      <td>NaN</td>\n",
       "      <td>2021-01-24</td>\n",
       "      <td>271376.0</td>\n",
       "      <td>270833.0</td>\n",
       "      <td>543.0</td>\n",
       "      <td>6322.0</td>\n",
       "      <td>17063.0</td>\n",
       "      <td>8.61</td>\n",
       "      <td>8.59</td>\n",
       "      <td>0.02</td>\n",
       "      <td>5412.0</td>\n",
       "      <td>Oxford/AstraZeneca, Pfizer/BioNTech</td>\n",
       "      <td>Government of the United Kingdom</td>\n",
       "      <td>https://coronavirus.data.gov.uk/details/health...</td>\n",
       "    </tr>\n",
       "    <tr>\n",
       "      <th>1586</th>\n",
       "      <td>Wales</td>\n",
       "      <td>NaN</td>\n",
       "      <td>2021-01-25</td>\n",
       "      <td>290147.0</td>\n",
       "      <td>289566.0</td>\n",
       "      <td>581.0</td>\n",
       "      <td>18771.0</td>\n",
       "      <td>18279.0</td>\n",
       "      <td>9.20</td>\n",
       "      <td>9.18</td>\n",
       "      <td>0.02</td>\n",
       "      <td>5798.0</td>\n",
       "      <td>Oxford/AstraZeneca, Pfizer/BioNTech</td>\n",
       "      <td>Government of the United Kingdom</td>\n",
       "      <td>https://coronavirus.data.gov.uk/details/health...</td>\n",
       "    </tr>\n",
       "  </tbody>\n",
       "</table>\n",
       "</div>"
      ],
      "text/plain": [
       "     country iso_code        date  total_vaccinations  people_vaccinated  \\\n",
       "1582   Wales      NaN  2021-01-21            212732.0           212317.0   \n",
       "1583   Wales      NaN  2021-01-22            241016.0           240547.0   \n",
       "1584   Wales      NaN  2021-01-23            265054.0           264538.0   \n",
       "1585   Wales      NaN  2021-01-24            271376.0           270833.0   \n",
       "1586   Wales      NaN  2021-01-25            290147.0           289566.0   \n",
       "\n",
       "      people_fully_vaccinated  daily_vaccinations_raw  daily_vaccinations  \\\n",
       "1582                    415.0                 21901.0             12318.0   \n",
       "1583                    469.0                 28284.0             15148.0   \n",
       "1584                    516.0                 24038.0             17371.0   \n",
       "1585                    543.0                  6322.0             17063.0   \n",
       "1586                    581.0                 18771.0             18279.0   \n",
       "\n",
       "      total_vaccinations_per_hundred  people_vaccinated_per_hundred  \\\n",
       "1582                            6.75                           6.73   \n",
       "1583                            7.64                           7.63   \n",
       "1584                            8.41                           8.39   \n",
       "1585                            8.61                           8.59   \n",
       "1586                            9.20                           9.18   \n",
       "\n",
       "      people_fully_vaccinated_per_hundred  daily_vaccinations_per_million  \\\n",
       "1582                                 0.01                          3907.0   \n",
       "1583                                 0.01                          4804.0   \n",
       "1584                                 0.02                          5510.0   \n",
       "1585                                 0.02                          5412.0   \n",
       "1586                                 0.02                          5798.0   \n",
       "\n",
       "                                 vaccines                       source_name  \\\n",
       "1582  Oxford/AstraZeneca, Pfizer/BioNTech  Government of the United Kingdom   \n",
       "1583  Oxford/AstraZeneca, Pfizer/BioNTech  Government of the United Kingdom   \n",
       "1584  Oxford/AstraZeneca, Pfizer/BioNTech  Government of the United Kingdom   \n",
       "1585  Oxford/AstraZeneca, Pfizer/BioNTech  Government of the United Kingdom   \n",
       "1586  Oxford/AstraZeneca, Pfizer/BioNTech  Government of the United Kingdom   \n",
       "\n",
       "                                         source_website  \n",
       "1582  https://coronavirus.data.gov.uk/details/health...  \n",
       "1583  https://coronavirus.data.gov.uk/details/health...  \n",
       "1584  https://coronavirus.data.gov.uk/details/health...  \n",
       "1585  https://coronavirus.data.gov.uk/details/health...  \n",
       "1586  https://coronavirus.data.gov.uk/details/health...  "
      ]
     },
     "execution_count": 56,
     "metadata": {},
     "output_type": "execute_result"
    }
   ],
   "source": [
    "covid19_vaccinations_df.tail()"
   ]
  },
  {
   "cell_type": "markdown",
   "metadata": {},
   "source": [
    "6 - Show each column information of dataframe"
   ]
  },
  {
   "cell_type": "code",
   "execution_count": 57,
   "metadata": {},
   "outputs": [
    {
     "name": "stdout",
     "output_type": "stream",
     "text": [
      "<class 'pandas.core.frame.DataFrame'>\n",
      "RangeIndex: 1587 entries, 0 to 1586\n",
      "Data columns (total 15 columns):\n",
      " #   Column                               Non-Null Count  Dtype  \n",
      "---  ------                               --------------  -----  \n",
      " 0   country                              1587 non-null   object \n",
      " 1   iso_code                             1409 non-null   object \n",
      " 2   date                                 1587 non-null   object \n",
      " 3   total_vaccinations                   1052 non-null   float64\n",
      " 4   people_vaccinated                    1000 non-null   float64\n",
      " 5   people_fully_vaccinated              334 non-null    float64\n",
      " 6   daily_vaccinations_raw               846 non-null    float64\n",
      " 7   daily_vaccinations                   1525 non-null   float64\n",
      " 8   total_vaccinations_per_hundred       1052 non-null   float64\n",
      " 9   people_vaccinated_per_hundred        1000 non-null   float64\n",
      " 10  people_fully_vaccinated_per_hundred  334 non-null    float64\n",
      " 11  daily_vaccinations_per_million       1525 non-null   float64\n",
      " 12  vaccines                             1587 non-null   object \n",
      " 13  source_name                          1587 non-null   object \n",
      " 14  source_website                       1587 non-null   object \n",
      "dtypes: float64(9), object(6)\n",
      "memory usage: 186.1+ KB\n"
     ]
    }
   ],
   "source": [
    "covid19_vaccinations_df.info()"
   ]
  },
  {
   "cell_type": "markdown",
   "metadata": {},
   "source": [
    "7 - Show how many variables there are in dataframe"
   ]
  },
  {
   "cell_type": "code",
   "execution_count": 58,
   "metadata": {},
   "outputs": [
    {
     "data": {
      "text/plain": [
       "country                                1587\n",
       "iso_code                               1409\n",
       "date                                   1587\n",
       "total_vaccinations                     1052\n",
       "people_vaccinated                      1000\n",
       "people_fully_vaccinated                 334\n",
       "daily_vaccinations_raw                  846\n",
       "daily_vaccinations                     1525\n",
       "total_vaccinations_per_hundred         1052\n",
       "people_vaccinated_per_hundred          1000\n",
       "people_fully_vaccinated_per_hundred     334\n",
       "daily_vaccinations_per_million         1525\n",
       "vaccines                               1587\n",
       "source_name                            1587\n",
       "source_website                         1587\n",
       "dtype: int64"
      ]
     },
     "execution_count": 58,
     "metadata": {},
     "output_type": "execute_result"
    }
   ],
   "source": [
    "covid19_vaccinations_df.count()"
   ]
  },
  {
   "cell_type": "markdown",
   "metadata": {},
   "source": [
    "8 - Show descriptive statistics of dataframe"
   ]
  },
  {
   "cell_type": "code",
   "execution_count": 59,
   "metadata": {},
   "outputs": [
    {
     "data": {
      "text/html": [
       "<div>\n",
       "<style scoped>\n",
       "    .dataframe tbody tr th:only-of-type {\n",
       "        vertical-align: middle;\n",
       "    }\n",
       "\n",
       "    .dataframe tbody tr th {\n",
       "        vertical-align: top;\n",
       "    }\n",
       "\n",
       "    .dataframe thead th {\n",
       "        text-align: right;\n",
       "    }\n",
       "</style>\n",
       "<table border=\"1\" class=\"dataframe\">\n",
       "  <thead>\n",
       "    <tr style=\"text-align: right;\">\n",
       "      <th></th>\n",
       "      <th>total_vaccinations</th>\n",
       "      <th>people_vaccinated</th>\n",
       "      <th>people_fully_vaccinated</th>\n",
       "      <th>daily_vaccinations_raw</th>\n",
       "      <th>daily_vaccinations</th>\n",
       "      <th>total_vaccinations_per_hundred</th>\n",
       "      <th>people_vaccinated_per_hundred</th>\n",
       "      <th>people_fully_vaccinated_per_hundred</th>\n",
       "      <th>daily_vaccinations_per_million</th>\n",
       "    </tr>\n",
       "  </thead>\n",
       "  <tbody>\n",
       "    <tr>\n",
       "      <th>count</th>\n",
       "      <td>1.052000e+03</td>\n",
       "      <td>1.000000e+03</td>\n",
       "      <td>3.340000e+02</td>\n",
       "      <td>8.460000e+02</td>\n",
       "      <td>1.525000e+03</td>\n",
       "      <td>1052.000000</td>\n",
       "      <td>1000.000000</td>\n",
       "      <td>334.000000</td>\n",
       "      <td>1525.000000</td>\n",
       "    </tr>\n",
       "    <tr>\n",
       "      <th>mean</th>\n",
       "      <td>6.816659e+05</td>\n",
       "      <td>6.426651e+05</td>\n",
       "      <td>1.715269e+05</td>\n",
       "      <td>5.117685e+04</td>\n",
       "      <td>4.322459e+04</td>\n",
       "      <td>2.809021</td>\n",
       "      <td>2.661860</td>\n",
       "      <td>0.658952</td>\n",
       "      <td>1584.196721</td>\n",
       "    </tr>\n",
       "    <tr>\n",
       "      <th>std</th>\n",
       "      <td>2.165897e+06</td>\n",
       "      <td>1.938581e+06</td>\n",
       "      <td>4.772281e+05</td>\n",
       "      <td>1.399615e+05</td>\n",
       "      <td>1.175745e+05</td>\n",
       "      <td>5.780718</td>\n",
       "      <td>5.115721</td>\n",
       "      <td>1.876430</td>\n",
       "      <td>3310.815076</td>\n",
       "    </tr>\n",
       "    <tr>\n",
       "      <th>min</th>\n",
       "      <td>0.000000e+00</td>\n",
       "      <td>0.000000e+00</td>\n",
       "      <td>1.000000e+00</td>\n",
       "      <td>0.000000e+00</td>\n",
       "      <td>1.000000e+00</td>\n",
       "      <td>0.000000</td>\n",
       "      <td>0.000000</td>\n",
       "      <td>0.000000</td>\n",
       "      <td>0.000000</td>\n",
       "    </tr>\n",
       "    <tr>\n",
       "      <th>25%</th>\n",
       "      <td>1.775200e+04</td>\n",
       "      <td>1.813350e+04</td>\n",
       "      <td>1.952750e+03</td>\n",
       "      <td>1.818000e+03</td>\n",
       "      <td>1.659000e+03</td>\n",
       "      <td>0.267500</td>\n",
       "      <td>0.270000</td>\n",
       "      <td>0.020000</td>\n",
       "      <td>273.000000</td>\n",
       "    </tr>\n",
       "    <tr>\n",
       "      <th>50%</th>\n",
       "      <td>7.779700e+04</td>\n",
       "      <td>7.961300e+04</td>\n",
       "      <td>8.468500e+03</td>\n",
       "      <td>8.129000e+03</td>\n",
       "      <td>5.654000e+03</td>\n",
       "      <td>0.930000</td>\n",
       "      <td>0.940000</td>\n",
       "      <td>0.075000</td>\n",
       "      <td>684.000000</td>\n",
       "    </tr>\n",
       "    <tr>\n",
       "      <th>75%</th>\n",
       "      <td>3.511120e+05</td>\n",
       "      <td>3.885522e+05</td>\n",
       "      <td>8.605525e+04</td>\n",
       "      <td>4.013875e+04</td>\n",
       "      <td>2.585300e+04</td>\n",
       "      <td>2.160000</td>\n",
       "      <td>2.130000</td>\n",
       "      <td>0.650000</td>\n",
       "      <td>1169.000000</td>\n",
       "    </tr>\n",
       "    <tr>\n",
       "      <th>max</th>\n",
       "      <td>2.354099e+07</td>\n",
       "      <td>1.990224e+07</td>\n",
       "      <td>3.481921e+06</td>\n",
       "      <td>1.561585e+06</td>\n",
       "      <td>1.126251e+06</td>\n",
       "      <td>47.900000</td>\n",
       "      <td>31.980000</td>\n",
       "      <td>15.920000</td>\n",
       "      <td>30869.000000</td>\n",
       "    </tr>\n",
       "  </tbody>\n",
       "</table>\n",
       "</div>"
      ],
      "text/plain": [
       "       total_vaccinations  people_vaccinated  people_fully_vaccinated  \\\n",
       "count        1.052000e+03       1.000000e+03             3.340000e+02   \n",
       "mean         6.816659e+05       6.426651e+05             1.715269e+05   \n",
       "std          2.165897e+06       1.938581e+06             4.772281e+05   \n",
       "min          0.000000e+00       0.000000e+00             1.000000e+00   \n",
       "25%          1.775200e+04       1.813350e+04             1.952750e+03   \n",
       "50%          7.779700e+04       7.961300e+04             8.468500e+03   \n",
       "75%          3.511120e+05       3.885522e+05             8.605525e+04   \n",
       "max          2.354099e+07       1.990224e+07             3.481921e+06   \n",
       "\n",
       "       daily_vaccinations_raw  daily_vaccinations  \\\n",
       "count            8.460000e+02        1.525000e+03   \n",
       "mean             5.117685e+04        4.322459e+04   \n",
       "std              1.399615e+05        1.175745e+05   \n",
       "min              0.000000e+00        1.000000e+00   \n",
       "25%              1.818000e+03        1.659000e+03   \n",
       "50%              8.129000e+03        5.654000e+03   \n",
       "75%              4.013875e+04        2.585300e+04   \n",
       "max              1.561585e+06        1.126251e+06   \n",
       "\n",
       "       total_vaccinations_per_hundred  people_vaccinated_per_hundred  \\\n",
       "count                     1052.000000                    1000.000000   \n",
       "mean                         2.809021                       2.661860   \n",
       "std                          5.780718                       5.115721   \n",
       "min                          0.000000                       0.000000   \n",
       "25%                          0.267500                       0.270000   \n",
       "50%                          0.930000                       0.940000   \n",
       "75%                          2.160000                       2.130000   \n",
       "max                         47.900000                      31.980000   \n",
       "\n",
       "       people_fully_vaccinated_per_hundred  daily_vaccinations_per_million  \n",
       "count                           334.000000                     1525.000000  \n",
       "mean                              0.658952                     1584.196721  \n",
       "std                               1.876430                     3310.815076  \n",
       "min                               0.000000                        0.000000  \n",
       "25%                               0.020000                      273.000000  \n",
       "50%                               0.075000                      684.000000  \n",
       "75%                               0.650000                     1169.000000  \n",
       "max                              15.920000                    30869.000000  "
      ]
     },
     "execution_count": 59,
     "metadata": {},
     "output_type": "execute_result"
    }
   ],
   "source": [
    "covid19_vaccinations_df.describe()"
   ]
  },
  {
   "cell_type": "markdown",
   "metadata": {},
   "source": [
    "9 - Determine if null values of each column are in a dataframe"
   ]
  },
  {
   "cell_type": "code",
   "execution_count": 60,
   "metadata": {},
   "outputs": [
    {
     "data": {
      "text/plain": [
       "country                                   0\n",
       "iso_code                                178\n",
       "date                                      0\n",
       "total_vaccinations                      535\n",
       "people_vaccinated                       587\n",
       "people_fully_vaccinated                1253\n",
       "daily_vaccinations_raw                  741\n",
       "daily_vaccinations                       62\n",
       "total_vaccinations_per_hundred          535\n",
       "people_vaccinated_per_hundred           587\n",
       "people_fully_vaccinated_per_hundred    1253\n",
       "daily_vaccinations_per_million           62\n",
       "vaccines                                  0\n",
       "source_name                               0\n",
       "source_website                            0\n",
       "dtype: int64"
      ]
     },
     "execution_count": 60,
     "metadata": {},
     "output_type": "execute_result"
    }
   ],
   "source": [
    "covid19_vaccinations_df.isnull().sum()"
   ]
  },
  {
   "cell_type": "markdown",
   "metadata": {},
   "source": [
    "<a id='part2'></a>\n",
    "## 2. Description of Some Columns which I used in Dataframe"
   ]
  },
  {
   "cell_type": "code",
   "execution_count": 61,
   "metadata": {},
   "outputs": [
    {
     "data": {
      "application/vnd.plotly.v1+json": {
       "config": {
        "plotlyServerURL": "https://plot.ly"
       },
       "data": [
        {
         "cells": {
          "align": [
           "left",
           "left"
          ],
          "fill": {
           "color": [
            "red",
            "tomato"
           ]
          },
          "font": {
           "size": 12
          },
          "height": 30,
          "line": {
           "color": "darkslategray"
          },
          "values": [
           [
            "country",
            "iso_code",
            "date",
            "total_vaccinations",
            "people_vaccinated",
            "people_fully_vaccinated",
            "daily_vaccinations_raw",
            "daily_vaccinations",
            "total_vaccinations_per_hundred",
            "people_vaccinated_per_hundred",
            "people_fully_vaccinated_per_hundred",
            "daily_vaccinations_per_million",
            "vaccines",
            "source_name ",
            "source_website"
           ],
           [
            "A name of country",
            "An ISO code for the country",
            "A date for implementing vaccination",
            "A total number of vaccination in current date",
            "A total number of people vaccinations",
            "A total complete vaccinations (with rapel)",
            "A daily vaccinations (raw)",
            "A daily vaccinations",
            "A total vaccination percent",
            "A people vaccinated percent",
            "A people fully vaccinated percent",
            "A daily vaccination per million population",
            "A vaccines names",
            "A data source name",
            "A data source website name"
           ]
          ]
         },
         "columnwidth": [
          350,
          700
         ],
         "header": {
          "align": [
           "center",
           "center"
          ],
          "fill": {
           "color": "darkred"
          },
          "font": {
           "color": "white",
           "size": 12
          },
          "height": 40,
          "line": {
           "color": "firebrick"
          },
          "values": [
           [
            "<b>COLUMN NAME</b>"
           ],
           [
            "<b>DESCRIPTION</b>"
           ]
          ]
         },
         "type": "table"
        }
       ],
       "layout": {
        "height": 720,
        "legend": {
         "x": 1.1,
         "y": 1.3
        },
        "template": {
         "data": {
          "bar": [
           {
            "error_x": {
             "color": "#2a3f5f"
            },
            "error_y": {
             "color": "#2a3f5f"
            },
            "marker": {
             "line": {
              "color": "#E5ECF6",
              "width": 0.5
             }
            },
            "type": "bar"
           }
          ],
          "barpolar": [
           {
            "marker": {
             "line": {
              "color": "#E5ECF6",
              "width": 0.5
             }
            },
            "type": "barpolar"
           }
          ],
          "carpet": [
           {
            "aaxis": {
             "endlinecolor": "#2a3f5f",
             "gridcolor": "white",
             "linecolor": "white",
             "minorgridcolor": "white",
             "startlinecolor": "#2a3f5f"
            },
            "baxis": {
             "endlinecolor": "#2a3f5f",
             "gridcolor": "white",
             "linecolor": "white",
             "minorgridcolor": "white",
             "startlinecolor": "#2a3f5f"
            },
            "type": "carpet"
           }
          ],
          "choropleth": [
           {
            "colorbar": {
             "outlinewidth": 0,
             "ticks": ""
            },
            "type": "choropleth"
           }
          ],
          "contour": [
           {
            "colorbar": {
             "outlinewidth": 0,
             "ticks": ""
            },
            "colorscale": [
             [
              0,
              "#0d0887"
             ],
             [
              0.1111111111111111,
              "#46039f"
             ],
             [
              0.2222222222222222,
              "#7201a8"
             ],
             [
              0.3333333333333333,
              "#9c179e"
             ],
             [
              0.4444444444444444,
              "#bd3786"
             ],
             [
              0.5555555555555556,
              "#d8576b"
             ],
             [
              0.6666666666666666,
              "#ed7953"
             ],
             [
              0.7777777777777778,
              "#fb9f3a"
             ],
             [
              0.8888888888888888,
              "#fdca26"
             ],
             [
              1,
              "#f0f921"
             ]
            ],
            "type": "contour"
           }
          ],
          "contourcarpet": [
           {
            "colorbar": {
             "outlinewidth": 0,
             "ticks": ""
            },
            "type": "contourcarpet"
           }
          ],
          "heatmap": [
           {
            "colorbar": {
             "outlinewidth": 0,
             "ticks": ""
            },
            "colorscale": [
             [
              0,
              "#0d0887"
             ],
             [
              0.1111111111111111,
              "#46039f"
             ],
             [
              0.2222222222222222,
              "#7201a8"
             ],
             [
              0.3333333333333333,
              "#9c179e"
             ],
             [
              0.4444444444444444,
              "#bd3786"
             ],
             [
              0.5555555555555556,
              "#d8576b"
             ],
             [
              0.6666666666666666,
              "#ed7953"
             ],
             [
              0.7777777777777778,
              "#fb9f3a"
             ],
             [
              0.8888888888888888,
              "#fdca26"
             ],
             [
              1,
              "#f0f921"
             ]
            ],
            "type": "heatmap"
           }
          ],
          "heatmapgl": [
           {
            "colorbar": {
             "outlinewidth": 0,
             "ticks": ""
            },
            "colorscale": [
             [
              0,
              "#0d0887"
             ],
             [
              0.1111111111111111,
              "#46039f"
             ],
             [
              0.2222222222222222,
              "#7201a8"
             ],
             [
              0.3333333333333333,
              "#9c179e"
             ],
             [
              0.4444444444444444,
              "#bd3786"
             ],
             [
              0.5555555555555556,
              "#d8576b"
             ],
             [
              0.6666666666666666,
              "#ed7953"
             ],
             [
              0.7777777777777778,
              "#fb9f3a"
             ],
             [
              0.8888888888888888,
              "#fdca26"
             ],
             [
              1,
              "#f0f921"
             ]
            ],
            "type": "heatmapgl"
           }
          ],
          "histogram": [
           {
            "marker": {
             "colorbar": {
              "outlinewidth": 0,
              "ticks": ""
             }
            },
            "type": "histogram"
           }
          ],
          "histogram2d": [
           {
            "colorbar": {
             "outlinewidth": 0,
             "ticks": ""
            },
            "colorscale": [
             [
              0,
              "#0d0887"
             ],
             [
              0.1111111111111111,
              "#46039f"
             ],
             [
              0.2222222222222222,
              "#7201a8"
             ],
             [
              0.3333333333333333,
              "#9c179e"
             ],
             [
              0.4444444444444444,
              "#bd3786"
             ],
             [
              0.5555555555555556,
              "#d8576b"
             ],
             [
              0.6666666666666666,
              "#ed7953"
             ],
             [
              0.7777777777777778,
              "#fb9f3a"
             ],
             [
              0.8888888888888888,
              "#fdca26"
             ],
             [
              1,
              "#f0f921"
             ]
            ],
            "type": "histogram2d"
           }
          ],
          "histogram2dcontour": [
           {
            "colorbar": {
             "outlinewidth": 0,
             "ticks": ""
            },
            "colorscale": [
             [
              0,
              "#0d0887"
             ],
             [
              0.1111111111111111,
              "#46039f"
             ],
             [
              0.2222222222222222,
              "#7201a8"
             ],
             [
              0.3333333333333333,
              "#9c179e"
             ],
             [
              0.4444444444444444,
              "#bd3786"
             ],
             [
              0.5555555555555556,
              "#d8576b"
             ],
             [
              0.6666666666666666,
              "#ed7953"
             ],
             [
              0.7777777777777778,
              "#fb9f3a"
             ],
             [
              0.8888888888888888,
              "#fdca26"
             ],
             [
              1,
              "#f0f921"
             ]
            ],
            "type": "histogram2dcontour"
           }
          ],
          "mesh3d": [
           {
            "colorbar": {
             "outlinewidth": 0,
             "ticks": ""
            },
            "type": "mesh3d"
           }
          ],
          "parcoords": [
           {
            "line": {
             "colorbar": {
              "outlinewidth": 0,
              "ticks": ""
             }
            },
            "type": "parcoords"
           }
          ],
          "pie": [
           {
            "automargin": true,
            "type": "pie"
           }
          ],
          "scatter": [
           {
            "marker": {
             "colorbar": {
              "outlinewidth": 0,
              "ticks": ""
             }
            },
            "type": "scatter"
           }
          ],
          "scatter3d": [
           {
            "line": {
             "colorbar": {
              "outlinewidth": 0,
              "ticks": ""
             }
            },
            "marker": {
             "colorbar": {
              "outlinewidth": 0,
              "ticks": ""
             }
            },
            "type": "scatter3d"
           }
          ],
          "scattercarpet": [
           {
            "marker": {
             "colorbar": {
              "outlinewidth": 0,
              "ticks": ""
             }
            },
            "type": "scattercarpet"
           }
          ],
          "scattergeo": [
           {
            "marker": {
             "colorbar": {
              "outlinewidth": 0,
              "ticks": ""
             }
            },
            "type": "scattergeo"
           }
          ],
          "scattergl": [
           {
            "marker": {
             "colorbar": {
              "outlinewidth": 0,
              "ticks": ""
             }
            },
            "type": "scattergl"
           }
          ],
          "scattermapbox": [
           {
            "marker": {
             "colorbar": {
              "outlinewidth": 0,
              "ticks": ""
             }
            },
            "type": "scattermapbox"
           }
          ],
          "scatterpolar": [
           {
            "marker": {
             "colorbar": {
              "outlinewidth": 0,
              "ticks": ""
             }
            },
            "type": "scatterpolar"
           }
          ],
          "scatterpolargl": [
           {
            "marker": {
             "colorbar": {
              "outlinewidth": 0,
              "ticks": ""
             }
            },
            "type": "scatterpolargl"
           }
          ],
          "scatterternary": [
           {
            "marker": {
             "colorbar": {
              "outlinewidth": 0,
              "ticks": ""
             }
            },
            "type": "scatterternary"
           }
          ],
          "surface": [
           {
            "colorbar": {
             "outlinewidth": 0,
             "ticks": ""
            },
            "colorscale": [
             [
              0,
              "#0d0887"
             ],
             [
              0.1111111111111111,
              "#46039f"
             ],
             [
              0.2222222222222222,
              "#7201a8"
             ],
             [
              0.3333333333333333,
              "#9c179e"
             ],
             [
              0.4444444444444444,
              "#bd3786"
             ],
             [
              0.5555555555555556,
              "#d8576b"
             ],
             [
              0.6666666666666666,
              "#ed7953"
             ],
             [
              0.7777777777777778,
              "#fb9f3a"
             ],
             [
              0.8888888888888888,
              "#fdca26"
             ],
             [
              1,
              "#f0f921"
             ]
            ],
            "type": "surface"
           }
          ],
          "table": [
           {
            "cells": {
             "fill": {
              "color": "#EBF0F8"
             },
             "line": {
              "color": "white"
             }
            },
            "header": {
             "fill": {
              "color": "#C8D4E3"
             },
             "line": {
              "color": "white"
             }
            },
            "type": "table"
           }
          ]
         },
         "layout": {
          "annotationdefaults": {
           "arrowcolor": "#2a3f5f",
           "arrowhead": 0,
           "arrowwidth": 1
          },
          "coloraxis": {
           "colorbar": {
            "outlinewidth": 0,
            "ticks": ""
           }
          },
          "colorscale": {
           "diverging": [
            [
             0,
             "#8e0152"
            ],
            [
             0.1,
             "#c51b7d"
            ],
            [
             0.2,
             "#de77ae"
            ],
            [
             0.3,
             "#f1b6da"
            ],
            [
             0.4,
             "#fde0ef"
            ],
            [
             0.5,
             "#f7f7f7"
            ],
            [
             0.6,
             "#e6f5d0"
            ],
            [
             0.7,
             "#b8e186"
            ],
            [
             0.8,
             "#7fbc41"
            ],
            [
             0.9,
             "#4d9221"
            ],
            [
             1,
             "#276419"
            ]
           ],
           "sequential": [
            [
             0,
             "#0d0887"
            ],
            [
             0.1111111111111111,
             "#46039f"
            ],
            [
             0.2222222222222222,
             "#7201a8"
            ],
            [
             0.3333333333333333,
             "#9c179e"
            ],
            [
             0.4444444444444444,
             "#bd3786"
            ],
            [
             0.5555555555555556,
             "#d8576b"
            ],
            [
             0.6666666666666666,
             "#ed7953"
            ],
            [
             0.7777777777777778,
             "#fb9f3a"
            ],
            [
             0.8888888888888888,
             "#fdca26"
            ],
            [
             1,
             "#f0f921"
            ]
           ],
           "sequentialminus": [
            [
             0,
             "#0d0887"
            ],
            [
             0.1111111111111111,
             "#46039f"
            ],
            [
             0.2222222222222222,
             "#7201a8"
            ],
            [
             0.3333333333333333,
             "#9c179e"
            ],
            [
             0.4444444444444444,
             "#bd3786"
            ],
            [
             0.5555555555555556,
             "#d8576b"
            ],
            [
             0.6666666666666666,
             "#ed7953"
            ],
            [
             0.7777777777777778,
             "#fb9f3a"
            ],
            [
             0.8888888888888888,
             "#fdca26"
            ],
            [
             1,
             "#f0f921"
            ]
           ]
          },
          "colorway": [
           "#636efa",
           "#EF553B",
           "#00cc96",
           "#ab63fa",
           "#FFA15A",
           "#19d3f3",
           "#FF6692",
           "#B6E880",
           "#FF97FF",
           "#FECB52"
          ],
          "font": {
           "color": "#2a3f5f"
          },
          "geo": {
           "bgcolor": "white",
           "lakecolor": "white",
           "landcolor": "#E5ECF6",
           "showlakes": true,
           "showland": true,
           "subunitcolor": "white"
          },
          "hoverlabel": {
           "align": "left"
          },
          "hovermode": "closest",
          "mapbox": {
           "style": "light"
          },
          "paper_bgcolor": "white",
          "plot_bgcolor": "#E5ECF6",
          "polar": {
           "angularaxis": {
            "gridcolor": "white",
            "linecolor": "white",
            "ticks": ""
           },
           "bgcolor": "#E5ECF6",
           "radialaxis": {
            "gridcolor": "white",
            "linecolor": "white",
            "ticks": ""
           }
          },
          "scene": {
           "xaxis": {
            "backgroundcolor": "#E5ECF6",
            "gridcolor": "white",
            "gridwidth": 2,
            "linecolor": "white",
            "showbackground": true,
            "ticks": "",
            "zerolinecolor": "white"
           },
           "yaxis": {
            "backgroundcolor": "#E5ECF6",
            "gridcolor": "white",
            "gridwidth": 2,
            "linecolor": "white",
            "showbackground": true,
            "ticks": "",
            "zerolinecolor": "white"
           },
           "zaxis": {
            "backgroundcolor": "#E5ECF6",
            "gridcolor": "white",
            "gridwidth": 2,
            "linecolor": "white",
            "showbackground": true,
            "ticks": "",
            "zerolinecolor": "white"
           }
          },
          "shapedefaults": {
           "line": {
            "color": "#2a3f5f"
           }
          },
          "ternary": {
           "aaxis": {
            "gridcolor": "white",
            "linecolor": "white",
            "ticks": ""
           },
           "baxis": {
            "gridcolor": "white",
            "linecolor": "white",
            "ticks": ""
           },
           "bgcolor": "#E5ECF6",
           "caxis": {
            "gridcolor": "white",
            "linecolor": "white",
            "ticks": ""
           }
          },
          "title": {
           "x": 0.05
          },
          "xaxis": {
           "automargin": true,
           "gridcolor": "white",
           "linecolor": "white",
           "ticks": "",
           "title": {
            "standoff": 15
           },
           "zerolinecolor": "white",
           "zerolinewidth": 2
          },
          "yaxis": {
           "automargin": true,
           "gridcolor": "white",
           "linecolor": "white",
           "ticks": "",
           "title": {
            "standoff": 15
           },
           "zerolinecolor": "white",
           "zerolinewidth": 2
          }
         }
        },
        "title": {
         "text": "Description of Columns which I used in Dataframe"
        }
       }
      },
      "text/html": [
       "<div>\n",
       "        \n",
       "        \n",
       "            <div id=\"61984601-a9c6-4277-b9a0-774cf5aa9806\" class=\"plotly-graph-div\" style=\"height:720px; width:100%;\"></div>\n",
       "            <script type=\"text/javascript\">\n",
       "                require([\"plotly\"], function(Plotly) {\n",
       "                    window.PLOTLYENV=window.PLOTLYENV || {};\n",
       "                    \n",
       "                if (document.getElementById(\"61984601-a9c6-4277-b9a0-774cf5aa9806\")) {\n",
       "                    Plotly.newPlot(\n",
       "                        '61984601-a9c6-4277-b9a0-774cf5aa9806',\n",
       "                        [{\"cells\": {\"align\": [\"left\", \"left\"], \"fill\": {\"color\": [\"red\", \"tomato\"]}, \"font\": {\"size\": 12}, \"height\": 30, \"line\": {\"color\": \"darkslategray\"}, \"values\": [[\"country\", \"iso_code\", \"date\", \"total_vaccinations\", \"people_vaccinated\", \"people_fully_vaccinated\", \"daily_vaccinations_raw\", \"daily_vaccinations\", \"total_vaccinations_per_hundred\", \"people_vaccinated_per_hundred\", \"people_fully_vaccinated_per_hundred\", \"daily_vaccinations_per_million\", \"vaccines\", \"source_name \", \"source_website\"], [\"A name of country\", \"An ISO code for the country\", \"A date for implementing vaccination\", \"A total number of vaccination in current date\", \"A total number of people vaccinations\", \"A total complete vaccinations (with rapel)\", \"A daily vaccinations (raw)\", \"A daily vaccinations\", \"A total vaccination percent\", \"A people vaccinated percent\", \"A people fully vaccinated percent\", \"A daily vaccination per million population\", \"A vaccines names\", \"A data source name\", \"A data source website name\"]]}, \"columnwidth\": [350, 700], \"header\": {\"align\": [\"center\", \"center\"], \"fill\": {\"color\": \"darkred\"}, \"font\": {\"color\": \"white\", \"size\": 12}, \"height\": 40, \"line\": {\"color\": \"firebrick\"}, \"values\": [[\"<b>COLUMN NAME</b>\"], [\"<b>DESCRIPTION</b>\"]]}, \"type\": \"table\"}],\n",
       "                        {\"height\": 720, \"legend\": {\"x\": 1.1, \"y\": 1.3}, \"template\": {\"data\": {\"bar\": [{\"error_x\": {\"color\": \"#2a3f5f\"}, \"error_y\": {\"color\": \"#2a3f5f\"}, \"marker\": {\"line\": {\"color\": \"#E5ECF6\", \"width\": 0.5}}, \"type\": \"bar\"}], \"barpolar\": [{\"marker\": {\"line\": {\"color\": \"#E5ECF6\", \"width\": 0.5}}, \"type\": \"barpolar\"}], \"carpet\": [{\"aaxis\": {\"endlinecolor\": \"#2a3f5f\", \"gridcolor\": \"white\", \"linecolor\": \"white\", \"minorgridcolor\": \"white\", \"startlinecolor\": \"#2a3f5f\"}, \"baxis\": {\"endlinecolor\": \"#2a3f5f\", \"gridcolor\": \"white\", \"linecolor\": \"white\", \"minorgridcolor\": \"white\", \"startlinecolor\": \"#2a3f5f\"}, \"type\": \"carpet\"}], \"choropleth\": [{\"colorbar\": {\"outlinewidth\": 0, \"ticks\": \"\"}, \"type\": \"choropleth\"}], \"contour\": [{\"colorbar\": {\"outlinewidth\": 0, \"ticks\": \"\"}, \"colorscale\": [[0.0, \"#0d0887\"], [0.1111111111111111, \"#46039f\"], [0.2222222222222222, \"#7201a8\"], [0.3333333333333333, \"#9c179e\"], [0.4444444444444444, \"#bd3786\"], [0.5555555555555556, \"#d8576b\"], [0.6666666666666666, \"#ed7953\"], [0.7777777777777778, \"#fb9f3a\"], [0.8888888888888888, \"#fdca26\"], [1.0, \"#f0f921\"]], \"type\": \"contour\"}], \"contourcarpet\": [{\"colorbar\": {\"outlinewidth\": 0, \"ticks\": \"\"}, \"type\": \"contourcarpet\"}], \"heatmap\": [{\"colorbar\": {\"outlinewidth\": 0, \"ticks\": \"\"}, \"colorscale\": [[0.0, \"#0d0887\"], [0.1111111111111111, \"#46039f\"], [0.2222222222222222, \"#7201a8\"], [0.3333333333333333, \"#9c179e\"], [0.4444444444444444, \"#bd3786\"], [0.5555555555555556, \"#d8576b\"], [0.6666666666666666, \"#ed7953\"], [0.7777777777777778, \"#fb9f3a\"], [0.8888888888888888, \"#fdca26\"], [1.0, \"#f0f921\"]], \"type\": \"heatmap\"}], \"heatmapgl\": [{\"colorbar\": {\"outlinewidth\": 0, \"ticks\": \"\"}, \"colorscale\": [[0.0, \"#0d0887\"], [0.1111111111111111, \"#46039f\"], [0.2222222222222222, \"#7201a8\"], [0.3333333333333333, \"#9c179e\"], [0.4444444444444444, \"#bd3786\"], [0.5555555555555556, \"#d8576b\"], [0.6666666666666666, \"#ed7953\"], [0.7777777777777778, \"#fb9f3a\"], [0.8888888888888888, \"#fdca26\"], [1.0, \"#f0f921\"]], \"type\": \"heatmapgl\"}], \"histogram\": [{\"marker\": {\"colorbar\": {\"outlinewidth\": 0, \"ticks\": \"\"}}, \"type\": \"histogram\"}], \"histogram2d\": [{\"colorbar\": {\"outlinewidth\": 0, \"ticks\": \"\"}, \"colorscale\": [[0.0, \"#0d0887\"], [0.1111111111111111, \"#46039f\"], [0.2222222222222222, \"#7201a8\"], [0.3333333333333333, \"#9c179e\"], [0.4444444444444444, \"#bd3786\"], [0.5555555555555556, \"#d8576b\"], [0.6666666666666666, \"#ed7953\"], [0.7777777777777778, \"#fb9f3a\"], [0.8888888888888888, \"#fdca26\"], [1.0, \"#f0f921\"]], \"type\": \"histogram2d\"}], \"histogram2dcontour\": [{\"colorbar\": {\"outlinewidth\": 0, \"ticks\": \"\"}, \"colorscale\": [[0.0, \"#0d0887\"], [0.1111111111111111, \"#46039f\"], [0.2222222222222222, \"#7201a8\"], [0.3333333333333333, \"#9c179e\"], [0.4444444444444444, \"#bd3786\"], [0.5555555555555556, \"#d8576b\"], [0.6666666666666666, \"#ed7953\"], [0.7777777777777778, \"#fb9f3a\"], [0.8888888888888888, \"#fdca26\"], [1.0, \"#f0f921\"]], \"type\": \"histogram2dcontour\"}], \"mesh3d\": [{\"colorbar\": {\"outlinewidth\": 0, \"ticks\": \"\"}, \"type\": \"mesh3d\"}], \"parcoords\": [{\"line\": {\"colorbar\": {\"outlinewidth\": 0, \"ticks\": \"\"}}, \"type\": \"parcoords\"}], \"pie\": [{\"automargin\": true, \"type\": \"pie\"}], \"scatter\": [{\"marker\": {\"colorbar\": {\"outlinewidth\": 0, \"ticks\": \"\"}}, \"type\": \"scatter\"}], \"scatter3d\": [{\"line\": {\"colorbar\": {\"outlinewidth\": 0, \"ticks\": \"\"}}, \"marker\": {\"colorbar\": {\"outlinewidth\": 0, \"ticks\": \"\"}}, \"type\": \"scatter3d\"}], \"scattercarpet\": [{\"marker\": {\"colorbar\": {\"outlinewidth\": 0, \"ticks\": \"\"}}, \"type\": \"scattercarpet\"}], \"scattergeo\": [{\"marker\": {\"colorbar\": {\"outlinewidth\": 0, \"ticks\": \"\"}}, \"type\": \"scattergeo\"}], \"scattergl\": [{\"marker\": {\"colorbar\": {\"outlinewidth\": 0, \"ticks\": \"\"}}, \"type\": \"scattergl\"}], \"scattermapbox\": [{\"marker\": {\"colorbar\": {\"outlinewidth\": 0, \"ticks\": \"\"}}, \"type\": \"scattermapbox\"}], \"scatterpolar\": [{\"marker\": {\"colorbar\": {\"outlinewidth\": 0, \"ticks\": \"\"}}, \"type\": \"scatterpolar\"}], \"scatterpolargl\": [{\"marker\": {\"colorbar\": {\"outlinewidth\": 0, \"ticks\": \"\"}}, \"type\": \"scatterpolargl\"}], \"scatterternary\": [{\"marker\": {\"colorbar\": {\"outlinewidth\": 0, \"ticks\": \"\"}}, \"type\": \"scatterternary\"}], \"surface\": [{\"colorbar\": {\"outlinewidth\": 0, \"ticks\": \"\"}, \"colorscale\": [[0.0, \"#0d0887\"], [0.1111111111111111, \"#46039f\"], [0.2222222222222222, \"#7201a8\"], [0.3333333333333333, \"#9c179e\"], [0.4444444444444444, \"#bd3786\"], [0.5555555555555556, \"#d8576b\"], [0.6666666666666666, \"#ed7953\"], [0.7777777777777778, \"#fb9f3a\"], [0.8888888888888888, \"#fdca26\"], [1.0, \"#f0f921\"]], \"type\": \"surface\"}], \"table\": [{\"cells\": {\"fill\": {\"color\": \"#EBF0F8\"}, \"line\": {\"color\": \"white\"}}, \"header\": {\"fill\": {\"color\": \"#C8D4E3\"}, \"line\": {\"color\": \"white\"}}, \"type\": \"table\"}]}, \"layout\": {\"annotationdefaults\": {\"arrowcolor\": \"#2a3f5f\", \"arrowhead\": 0, \"arrowwidth\": 1}, \"coloraxis\": {\"colorbar\": {\"outlinewidth\": 0, \"ticks\": \"\"}}, \"colorscale\": {\"diverging\": [[0, \"#8e0152\"], [0.1, \"#c51b7d\"], [0.2, \"#de77ae\"], [0.3, \"#f1b6da\"], [0.4, \"#fde0ef\"], [0.5, \"#f7f7f7\"], [0.6, \"#e6f5d0\"], [0.7, \"#b8e186\"], [0.8, \"#7fbc41\"], [0.9, \"#4d9221\"], [1, \"#276419\"]], \"sequential\": [[0.0, \"#0d0887\"], [0.1111111111111111, \"#46039f\"], [0.2222222222222222, \"#7201a8\"], [0.3333333333333333, \"#9c179e\"], [0.4444444444444444, \"#bd3786\"], [0.5555555555555556, \"#d8576b\"], [0.6666666666666666, \"#ed7953\"], [0.7777777777777778, \"#fb9f3a\"], [0.8888888888888888, \"#fdca26\"], [1.0, \"#f0f921\"]], \"sequentialminus\": [[0.0, \"#0d0887\"], [0.1111111111111111, \"#46039f\"], [0.2222222222222222, \"#7201a8\"], [0.3333333333333333, \"#9c179e\"], [0.4444444444444444, \"#bd3786\"], [0.5555555555555556, \"#d8576b\"], [0.6666666666666666, \"#ed7953\"], [0.7777777777777778, \"#fb9f3a\"], [0.8888888888888888, \"#fdca26\"], [1.0, \"#f0f921\"]]}, \"colorway\": [\"#636efa\", \"#EF553B\", \"#00cc96\", \"#ab63fa\", \"#FFA15A\", \"#19d3f3\", \"#FF6692\", \"#B6E880\", \"#FF97FF\", \"#FECB52\"], \"font\": {\"color\": \"#2a3f5f\"}, \"geo\": {\"bgcolor\": \"white\", \"lakecolor\": \"white\", \"landcolor\": \"#E5ECF6\", \"showlakes\": true, \"showland\": true, \"subunitcolor\": \"white\"}, \"hoverlabel\": {\"align\": \"left\"}, \"hovermode\": \"closest\", \"mapbox\": {\"style\": \"light\"}, \"paper_bgcolor\": \"white\", \"plot_bgcolor\": \"#E5ECF6\", \"polar\": {\"angularaxis\": {\"gridcolor\": \"white\", \"linecolor\": \"white\", \"ticks\": \"\"}, \"bgcolor\": \"#E5ECF6\", \"radialaxis\": {\"gridcolor\": \"white\", \"linecolor\": \"white\", \"ticks\": \"\"}}, \"scene\": {\"xaxis\": {\"backgroundcolor\": \"#E5ECF6\", \"gridcolor\": \"white\", \"gridwidth\": 2, \"linecolor\": \"white\", \"showbackground\": true, \"ticks\": \"\", \"zerolinecolor\": \"white\"}, \"yaxis\": {\"backgroundcolor\": \"#E5ECF6\", \"gridcolor\": \"white\", \"gridwidth\": 2, \"linecolor\": \"white\", \"showbackground\": true, \"ticks\": \"\", \"zerolinecolor\": \"white\"}, \"zaxis\": {\"backgroundcolor\": \"#E5ECF6\", \"gridcolor\": \"white\", \"gridwidth\": 2, \"linecolor\": \"white\", \"showbackground\": true, \"ticks\": \"\", \"zerolinecolor\": \"white\"}}, \"shapedefaults\": {\"line\": {\"color\": \"#2a3f5f\"}}, \"ternary\": {\"aaxis\": {\"gridcolor\": \"white\", \"linecolor\": \"white\", \"ticks\": \"\"}, \"baxis\": {\"gridcolor\": \"white\", \"linecolor\": \"white\", \"ticks\": \"\"}, \"bgcolor\": \"#E5ECF6\", \"caxis\": {\"gridcolor\": \"white\", \"linecolor\": \"white\", \"ticks\": \"\"}}, \"title\": {\"x\": 0.05}, \"xaxis\": {\"automargin\": true, \"gridcolor\": \"white\", \"linecolor\": \"white\", \"ticks\": \"\", \"title\": {\"standoff\": 15}, \"zerolinecolor\": \"white\", \"zerolinewidth\": 2}, \"yaxis\": {\"automargin\": true, \"gridcolor\": \"white\", \"linecolor\": \"white\", \"ticks\": \"\", \"title\": {\"standoff\": 15}, \"zerolinecolor\": \"white\", \"zerolinewidth\": 2}}}, \"title\": {\"text\": \"Description of Columns which I used in Dataframe\"}},\n",
       "                        {\"responsive\": true}\n",
       "                    ).then(function(){\n",
       "                            \n",
       "var gd = document.getElementById('61984601-a9c6-4277-b9a0-774cf5aa9806');\n",
       "var x = new MutationObserver(function (mutations, observer) {{\n",
       "        var display = window.getComputedStyle(gd).display;\n",
       "        if (!display || display === 'none') {{\n",
       "            console.log([gd, 'removed!']);\n",
       "            Plotly.purge(gd);\n",
       "            observer.disconnect();\n",
       "        }}\n",
       "}});\n",
       "\n",
       "// Listen for the removal of the full notebook cells\n",
       "var notebookContainer = gd.closest('#notebook-container');\n",
       "if (notebookContainer) {{\n",
       "    x.observe(notebookContainer, {childList: true});\n",
       "}}\n",
       "\n",
       "// Listen for the clearing of the current output cell\n",
       "var outputEl = gd.closest('.output');\n",
       "if (outputEl) {{\n",
       "    x.observe(outputEl, {childList: true});\n",
       "}}\n",
       "\n",
       "                        })\n",
       "                };\n",
       "                });\n",
       "            </script>\n",
       "        </div>"
      ]
     },
     "metadata": {},
     "output_type": "display_data"
    }
   ],
   "source": [
    "values = [\n",
    "  ['country', \n",
    "   'iso_code', \n",
    "   'date',\n",
    "   'total_vaccinations',\n",
    "   'people_vaccinated',\n",
    "   'people_fully_vaccinated',\n",
    "   'daily_vaccinations_raw',\n",
    "   'daily_vaccinations',\n",
    "   'total_vaccinations_per_hundred',\n",
    "   'people_vaccinated_per_hundred',\n",
    "   'people_fully_vaccinated_per_hundred',\n",
    "   'daily_vaccinations_per_million',\n",
    "   'vaccines',\n",
    "   'source_name ',\n",
    "   'source_website',\n",
    "  ],  #1st col\n",
    "  [\"A name of country\", \n",
    "   \"An ISO code for the country\",\n",
    "   \"A date for implementing vaccination\",  \n",
    "   \"A total number of vaccination in current date\",\n",
    "   \"A total number of people vaccinations\",\n",
    "   \"A total complete vaccinations (with rapel)\",\n",
    "   \"A daily vaccinations (raw)\",\n",
    "   \"A daily vaccinations\",\n",
    "   \"A total vaccination percent\",\n",
    "   \"A people vaccinated percent\",\n",
    "   \"A people fully vaccinated percent\",\n",
    "   \"A daily vaccination per million population\",\n",
    "   \"A vaccines names\",\n",
    "   \"A data source name\",\n",
    "   \"A data source website name\",\n",
    "  ] #2nd col\n",
    "] \n",
    "\n",
    "layout = go.Layout(title=\"Description of Columns which I used in Dataframe\", \n",
    "                   height=720, \n",
    "                   legend=dict(x=1.1, y=1.3)\n",
    "                  )\n",
    "\n",
    "fig = go.Figure(data=[go.Table(\n",
    "  columnwidth = [350,700],\n",
    "  header = dict(\n",
    "    values = [['<b>COLUMN NAME</b>'],\n",
    "              ['<b>DESCRIPTION</b>']\n",
    "             ],\n",
    "    line_color='firebrick',\n",
    "    fill_color='darkred',\n",
    "    align=['center','center'],\n",
    "    font=dict(color='white', size=12),\n",
    "    height=40\n",
    "  ),\n",
    "  cells=dict(\n",
    "    values=values,\n",
    "    line_color='darkslategray',\n",
    "    fill=dict(color=['red', 'tomato']),\n",
    "    align=['left', 'left'],\n",
    "    font_size=12,\n",
    "    height=30)\n",
    "    )\n",
    "], layout = layout)\n",
    "pio.write_image(fig, \"images/image1.png\")\n",
    "fig.show()"
   ]
  },
  {
   "cell_type": "markdown",
   "metadata": {},
   "source": [
    "<a id='part3'></a>\n",
    "## 3. Data Wrangling"
   ]
  },
  {
   "cell_type": "markdown",
   "metadata": {},
   "source": [
    "<a id='part3-1'></a>\n",
    "### 3.1 Filling missing ISO Code for countries which is part of United Kingdom"
   ]
  },
  {
   "cell_type": "code",
   "execution_count": 62,
   "metadata": {},
   "outputs": [
    {
     "data": {
      "text/plain": [
       "Scotland            44\n",
       "Northern Ireland    44\n",
       "Wales               44\n",
       "England             37\n",
       "Northern Cyprus      9\n",
       "Name: country, dtype: int64"
      ]
     },
     "execution_count": 62,
     "metadata": {},
     "output_type": "execute_result"
    }
   ],
   "source": [
    "covid19_vaccinations_df[covid19_vaccinations_df['iso_code'].isnull()]['country'].value_counts()"
   ]
  },
  {
   "cell_type": "code",
   "execution_count": 63,
   "metadata": {},
   "outputs": [],
   "source": [
    "covid19_vaccinations_df['iso_code'].fillna('GBR', inplace=True)"
   ]
  },
  {
   "cell_type": "markdown",
   "metadata": {},
   "source": [
    "<a id='part3-2'></a>\n",
    "### 3.2 Formatting date column as day-month-year"
   ]
  },
  {
   "cell_type": "code",
   "execution_count": 64,
   "metadata": {},
   "outputs": [],
   "source": [
    "covid19_vaccinations_df['date'] = pd.to_datetime(covid19_vaccinations_df['date'])\n",
    "covid19_vaccinations_df['date'] = covid19_vaccinations_df['date'].dt.strftime('%d-%m-%Y')"
   ]
  },
  {
   "cell_type": "markdown",
   "metadata": {},
   "source": [
    "<a id='part3-3'></a>\n",
    "### 3.3 Filling empty cells with with previous row value"
   ]
  },
  {
   "cell_type": "code",
   "execution_count": 65,
   "metadata": {},
   "outputs": [],
   "source": [
    "covid19_vaccinations_df.fillna(method='ffill', inplace=True)"
   ]
  },
  {
   "cell_type": "markdown",
   "metadata": {},
   "source": [
    "<a id='part3-4'></a>\n",
    "### 3.4 Replacing Pifzer/BioNTech to Pfizer/BioNTech"
   ]
  },
  {
   "cell_type": "code",
   "execution_count": 66,
   "metadata": {},
   "outputs": [],
   "source": [
    "covid19_vaccinations_df['vaccines'] = covid19_vaccinations_df['vaccines'].replace(['Pifzer/BioNTech'],'Pfizer/BioNTech')\n",
    "covid19_vaccinations_df['vaccines'] = covid19_vaccinations_df['vaccines'].replace(['Pfizer/BioNTech, Pifzer/BioNTech'],'Pfizer/BioNTech')"
   ]
  },
  {
   "cell_type": "markdown",
   "metadata": {},
   "source": [
    "<a id='part3-5'></a>\n",
    "### 3.5 Replacing England,Wales,Northern Ireland and Scotland and  to United Kingdom"
   ]
  },
  {
   "cell_type": "code",
   "execution_count": 67,
   "metadata": {},
   "outputs": [],
   "source": [
    "covid19_vaccinations_df['country'] = covid19_vaccinations_df['country'].replace([\"England\",\"Wales\",\"Northern Ireland\",\"Scotland\"],'United Kingdom')"
   ]
  },
  {
   "cell_type": "markdown",
   "metadata": {},
   "source": [
    "<a id='part4'></a>\n",
    "## 4. Data Visualization"
   ]
  },
  {
   "cell_type": "markdown",
   "metadata": {},
   "source": [
    "<a id='part4-1'></a>\n",
    "### 4.1 Showing which vaccination scheme is used most"
   ]
  },
  {
   "cell_type": "code",
   "execution_count": 68,
   "metadata": {},
   "outputs": [
    {
     "data": {
      "text/html": [
       "<div>\n",
       "<style scoped>\n",
       "    .dataframe tbody tr th:only-of-type {\n",
       "        vertical-align: middle;\n",
       "    }\n",
       "\n",
       "    .dataframe tbody tr th {\n",
       "        vertical-align: top;\n",
       "    }\n",
       "\n",
       "    .dataframe thead th {\n",
       "        text-align: right;\n",
       "    }\n",
       "</style>\n",
       "<table border=\"1\" class=\"dataframe\">\n",
       "  <thead>\n",
       "    <tr style=\"text-align: right;\">\n",
       "      <th></th>\n",
       "      <th>vaccines</th>\n",
       "      <th>total_vaccinations</th>\n",
       "    </tr>\n",
       "  </thead>\n",
       "  <tbody>\n",
       "    <tr>\n",
       "      <th>0</th>\n",
       "      <td>Moderna, Pfizer/BioNTech</td>\n",
       "      <td>444629339.0</td>\n",
       "    </tr>\n",
       "    <tr>\n",
       "      <th>1</th>\n",
       "      <td>Oxford/AstraZeneca, Pfizer/BioNTech</td>\n",
       "      <td>196862418.0</td>\n",
       "    </tr>\n",
       "    <tr>\n",
       "      <th>2</th>\n",
       "      <td>CNBG, Sinovac</td>\n",
       "      <td>185500000.0</td>\n",
       "    </tr>\n",
       "    <tr>\n",
       "      <th>3</th>\n",
       "      <td>Pfizer/BioNTech</td>\n",
       "      <td>80769478.0</td>\n",
       "    </tr>\n",
       "    <tr>\n",
       "      <th>4</th>\n",
       "      <td>Pfizer/BioNTech, Sinopharm</td>\n",
       "      <td>39650538.0</td>\n",
       "    </tr>\n",
       "    <tr>\n",
       "      <th>5</th>\n",
       "      <td>Sinovac</td>\n",
       "      <td>16558533.0</td>\n",
       "    </tr>\n",
       "    <tr>\n",
       "      <th>6</th>\n",
       "      <td>Sputnik V</td>\n",
       "      <td>14706131.0</td>\n",
       "    </tr>\n",
       "    <tr>\n",
       "      <th>7</th>\n",
       "      <td>Covaxin, Covishield</td>\n",
       "      <td>12035970.0</td>\n",
       "    </tr>\n",
       "    <tr>\n",
       "      <th>8</th>\n",
       "      <td>Pfizer/BioNTech, Sinopharm, Sputnik V</td>\n",
       "      <td>1357112.0</td>\n",
       "    </tr>\n",
       "    <tr>\n",
       "      <th>9</th>\n",
       "      <td>Sinopharm</td>\n",
       "      <td>139787.0</td>\n",
       "    </tr>\n",
       "    <tr>\n",
       "      <th>10</th>\n",
       "      <td>Pfizer/BioNTech, Sinovac</td>\n",
       "      <td>25904.0</td>\n",
       "    </tr>\n",
       "  </tbody>\n",
       "</table>\n",
       "</div>"
      ],
      "text/plain": [
       "                                 vaccines  total_vaccinations\n",
       "0                Moderna, Pfizer/BioNTech         444629339.0\n",
       "1     Oxford/AstraZeneca, Pfizer/BioNTech         196862418.0\n",
       "2                           CNBG, Sinovac         185500000.0\n",
       "3                         Pfizer/BioNTech          80769478.0\n",
       "4              Pfizer/BioNTech, Sinopharm          39650538.0\n",
       "5                                 Sinovac          16558533.0\n",
       "6                               Sputnik V          14706131.0\n",
       "7                     Covaxin, Covishield          12035970.0\n",
       "8   Pfizer/BioNTech, Sinopharm, Sputnik V           1357112.0\n",
       "9                               Sinopharm            139787.0\n",
       "10               Pfizer/BioNTech, Sinovac             25904.0"
      ]
     },
     "execution_count": 68,
     "metadata": {},
     "output_type": "execute_result"
    }
   ],
   "source": [
    "covid19_vaccinations_df_vaccine = covid19_vaccinations_df.groupby(['vaccines'])['total_vaccinations'].sum().reset_index()\n",
    "covid19_vaccinations_df_vaccine = covid19_vaccinations_df_vaccine.sort_values(['total_vaccinations'], ascending = False)\n",
    "covid19_vaccinations_df_vaccine.reset_index(drop=True, inplace=True)\n",
    "covid19_vaccinations_df_vaccine"
   ]
  },
  {
   "cell_type": "code",
   "execution_count": 69,
   "metadata": {},
   "outputs": [
    {
     "data": {
      "image/png": "[encoded data removed]",
      "text/plain": [
       "<Figure size 864x576 with 1 Axes>"
      ]
     },
     "metadata": {},
     "output_type": "display_data"
    }
   ],
   "source": [
    "plt.figure(figsize=(12,8))\n",
    "sns.barplot(data = covid19_vaccinations_df_vaccine, x= 'vaccines' , y = 'total_vaccinations', palette='viridis')\n",
    "plt.xticks(rotation=90)\n",
    "plt.ticklabel_format(style='plain',axis='y')\n",
    "plt.title(\"Which vaccination scheme is used most\", fontsize = 14)\n",
    "plt.tight_layout()\n",
    "plt.savefig('images/image2.png', bbox_inches = \"tight\")\n",
    "plt.show()"
   ]
  },
  {
   "cell_type": "markdown",
   "metadata": {},
   "source": [
    "<a id='part4-2'></a>\n",
    "### 4.2 Showing which country has vaccinated the most people against COVID-19"
   ]
  },
  {
   "cell_type": "code",
   "execution_count": 70,
   "metadata": {},
   "outputs": [
    {
     "data": {
      "text/html": [
       "<div>\n",
       "<style scoped>\n",
       "    .dataframe tbody tr th:only-of-type {\n",
       "        vertical-align: middle;\n",
       "    }\n",
       "\n",
       "    .dataframe tbody tr th {\n",
       "        vertical-align: top;\n",
       "    }\n",
       "\n",
       "    .dataframe thead th {\n",
       "        text-align: right;\n",
       "    }\n",
       "</style>\n",
       "<table border=\"1\" class=\"dataframe\">\n",
       "  <thead>\n",
       "    <tr style=\"text-align: right;\">\n",
       "      <th></th>\n",
       "      <th>country</th>\n",
       "      <th>total_vaccinations</th>\n",
       "    </tr>\n",
       "  </thead>\n",
       "  <tbody>\n",
       "    <tr>\n",
       "      <th>0</th>\n",
       "      <td>United States</td>\n",
       "      <td>316885603.0</td>\n",
       "    </tr>\n",
       "    <tr>\n",
       "      <th>1</th>\n",
       "      <td>United Kingdom</td>\n",
       "      <td>196862418.0</td>\n",
       "    </tr>\n",
       "    <tr>\n",
       "      <th>2</th>\n",
       "      <td>China</td>\n",
       "      <td>185500000.0</td>\n",
       "    </tr>\n",
       "    <tr>\n",
       "      <th>3</th>\n",
       "      <td>Israel</td>\n",
       "      <td>65596935.0</td>\n",
       "    </tr>\n",
       "    <tr>\n",
       "      <th>4</th>\n",
       "      <td>United Arab Emirates</td>\n",
       "      <td>37247322.0</td>\n",
       "    </tr>\n",
       "    <tr>\n",
       "      <th>5</th>\n",
       "      <td>Germany</td>\n",
       "      <td>24332685.0</td>\n",
       "    </tr>\n",
       "    <tr>\n",
       "      <th>6</th>\n",
       "      <td>Italy</td>\n",
       "      <td>22305123.0</td>\n",
       "    </tr>\n",
       "    <tr>\n",
       "      <th>7</th>\n",
       "      <td>Spain</td>\n",
       "      <td>15881211.0</td>\n",
       "    </tr>\n",
       "    <tr>\n",
       "      <th>8</th>\n",
       "      <td>Turkey</td>\n",
       "      <td>12622030.0</td>\n",
       "    </tr>\n",
       "    <tr>\n",
       "      <th>9</th>\n",
       "      <td>Canada</td>\n",
       "      <td>12591453.0</td>\n",
       "    </tr>\n",
       "    <tr>\n",
       "      <th>10</th>\n",
       "      <td>India</td>\n",
       "      <td>12035970.0</td>\n",
       "    </tr>\n",
       "    <tr>\n",
       "      <th>11</th>\n",
       "      <td>Russia</td>\n",
       "      <td>10571500.0</td>\n",
       "    </tr>\n",
       "    <tr>\n",
       "      <th>12</th>\n",
       "      <td>France</td>\n",
       "      <td>10328550.0</td>\n",
       "    </tr>\n",
       "    <tr>\n",
       "      <th>13</th>\n",
       "      <td>Poland</td>\n",
       "      <td>9278604.0</td>\n",
       "    </tr>\n",
       "    <tr>\n",
       "      <th>14</th>\n",
       "      <td>Mexico</td>\n",
       "      <td>7855933.0</td>\n",
       "    </tr>\n",
       "    <tr>\n",
       "      <th>15</th>\n",
       "      <td>Romania</td>\n",
       "      <td>5162881.0</td>\n",
       "    </tr>\n",
       "    <tr>\n",
       "      <th>16</th>\n",
       "      <td>Argentina</td>\n",
       "      <td>4134631.0</td>\n",
       "    </tr>\n",
       "    <tr>\n",
       "      <th>17</th>\n",
       "      <td>Denmark</td>\n",
       "      <td>3494361.0</td>\n",
       "    </tr>\n",
       "    <tr>\n",
       "      <th>18</th>\n",
       "      <td>Brazil</td>\n",
       "      <td>3115617.0</td>\n",
       "    </tr>\n",
       "    <tr>\n",
       "      <th>19</th>\n",
       "      <td>Portugal</td>\n",
       "      <td>2714673.0</td>\n",
       "    </tr>\n",
       "    <tr>\n",
       "      <th>20</th>\n",
       "      <td>Czechia</td>\n",
       "      <td>2619608.0</td>\n",
       "    </tr>\n",
       "    <tr>\n",
       "      <th>21</th>\n",
       "      <td>Bahrain</td>\n",
       "      <td>2403216.0</td>\n",
       "    </tr>\n",
       "    <tr>\n",
       "      <th>22</th>\n",
       "      <td>Hungary</td>\n",
       "      <td>2194041.0</td>\n",
       "    </tr>\n",
       "    <tr>\n",
       "      <th>23</th>\n",
       "      <td>Sweden</td>\n",
       "      <td>2169870.0</td>\n",
       "    </tr>\n",
       "    <tr>\n",
       "      <th>24</th>\n",
       "      <td>Belgium</td>\n",
       "      <td>2122557.0</td>\n",
       "    </tr>\n",
       "    <tr>\n",
       "      <th>25</th>\n",
       "      <td>Austria</td>\n",
       "      <td>2046716.0</td>\n",
       "    </tr>\n",
       "    <tr>\n",
       "      <th>26</th>\n",
       "      <td>Saudi Arabia</td>\n",
       "      <td>2017000.0</td>\n",
       "    </tr>\n",
       "    <tr>\n",
       "      <th>27</th>\n",
       "      <td>Greece</td>\n",
       "      <td>1920552.0</td>\n",
       "    </tr>\n",
       "    <tr>\n",
       "      <th>28</th>\n",
       "      <td>Netherlands</td>\n",
       "      <td>1581681.0</td>\n",
       "    </tr>\n",
       "    <tr>\n",
       "      <th>29</th>\n",
       "      <td>Ireland</td>\n",
       "      <td>1406954.0</td>\n",
       "    </tr>\n",
       "    <tr>\n",
       "      <th>30</th>\n",
       "      <td>Serbia</td>\n",
       "      <td>1357112.0</td>\n",
       "    </tr>\n",
       "    <tr>\n",
       "      <th>31</th>\n",
       "      <td>Switzerland</td>\n",
       "      <td>1256717.0</td>\n",
       "    </tr>\n",
       "    <tr>\n",
       "      <th>32</th>\n",
       "      <td>Slovakia</td>\n",
       "      <td>1163562.0</td>\n",
       "    </tr>\n",
       "    <tr>\n",
       "      <th>33</th>\n",
       "      <td>Lithuania</td>\n",
       "      <td>1057411.0</td>\n",
       "    </tr>\n",
       "    <tr>\n",
       "      <th>34</th>\n",
       "      <td>Finland</td>\n",
       "      <td>1032714.0</td>\n",
       "    </tr>\n",
       "    <tr>\n",
       "      <th>35</th>\n",
       "      <td>Norway</td>\n",
       "      <td>979960.0</td>\n",
       "    </tr>\n",
       "    <tr>\n",
       "      <th>36</th>\n",
       "      <td>Croatia</td>\n",
       "      <td>928762.0</td>\n",
       "    </tr>\n",
       "    <tr>\n",
       "      <th>37</th>\n",
       "      <td>Indonesia</td>\n",
       "      <td>820886.0</td>\n",
       "    </tr>\n",
       "    <tr>\n",
       "      <th>38</th>\n",
       "      <td>Chile</td>\n",
       "      <td>798422.0</td>\n",
       "    </tr>\n",
       "    <tr>\n",
       "      <th>39</th>\n",
       "      <td>Slovenia</td>\n",
       "      <td>756163.0</td>\n",
       "    </tr>\n",
       "    <tr>\n",
       "      <th>40</th>\n",
       "      <td>Oman</td>\n",
       "      <td>575532.0</td>\n",
       "    </tr>\n",
       "    <tr>\n",
       "      <th>41</th>\n",
       "      <td>Bulgaria</td>\n",
       "      <td>439771.0</td>\n",
       "    </tr>\n",
       "    <tr>\n",
       "      <th>42</th>\n",
       "      <td>Costa Rica</td>\n",
       "      <td>409510.0</td>\n",
       "    </tr>\n",
       "    <tr>\n",
       "      <th>43</th>\n",
       "      <td>Estonia</td>\n",
       "      <td>370554.0</td>\n",
       "    </tr>\n",
       "    <tr>\n",
       "      <th>44</th>\n",
       "      <td>Latvia</td>\n",
       "      <td>288118.0</td>\n",
       "    </tr>\n",
       "    <tr>\n",
       "      <th>45</th>\n",
       "      <td>Malta</td>\n",
       "      <td>201642.0</td>\n",
       "    </tr>\n",
       "    <tr>\n",
       "      <th>46</th>\n",
       "      <td>Iceland</td>\n",
       "      <td>148620.0</td>\n",
       "    </tr>\n",
       "    <tr>\n",
       "      <th>47</th>\n",
       "      <td>Seychelles</td>\n",
       "      <td>139787.0</td>\n",
       "    </tr>\n",
       "    <tr>\n",
       "      <th>48</th>\n",
       "      <td>Cyprus</td>\n",
       "      <td>134740.0</td>\n",
       "    </tr>\n",
       "    <tr>\n",
       "      <th>49</th>\n",
       "      <td>Singapore</td>\n",
       "      <td>125400.0</td>\n",
       "    </tr>\n",
       "    <tr>\n",
       "      <th>50</th>\n",
       "      <td>Gibraltar</td>\n",
       "      <td>94177.0</td>\n",
       "    </tr>\n",
       "    <tr>\n",
       "      <th>51</th>\n",
       "      <td>Luxembourg</td>\n",
       "      <td>87238.0</td>\n",
       "    </tr>\n",
       "    <tr>\n",
       "      <th>52</th>\n",
       "      <td>Northern Cyprus</td>\n",
       "      <td>25904.0</td>\n",
       "    </tr>\n",
       "    <tr>\n",
       "      <th>53</th>\n",
       "      <td>Panama</td>\n",
       "      <td>19829.0</td>\n",
       "    </tr>\n",
       "    <tr>\n",
       "      <th>54</th>\n",
       "      <td>Isle of Man</td>\n",
       "      <td>18711.0</td>\n",
       "    </tr>\n",
       "    <tr>\n",
       "      <th>55</th>\n",
       "      <td>Kuwait</td>\n",
       "      <td>2500.0</td>\n",
       "    </tr>\n",
       "    <tr>\n",
       "      <th>56</th>\n",
       "      <td>Bermuda</td>\n",
       "      <td>1665.0</td>\n",
       "    </tr>\n",
       "    <tr>\n",
       "      <th>57</th>\n",
       "      <td>Ecuador</td>\n",
       "      <td>108.0</td>\n",
       "    </tr>\n",
       "  </tbody>\n",
       "</table>\n",
       "</div>"
      ],
      "text/plain": [
       "                 country  total_vaccinations\n",
       "0          United States         316885603.0\n",
       "1         United Kingdom         196862418.0\n",
       "2                  China         185500000.0\n",
       "3                 Israel          65596935.0\n",
       "4   United Arab Emirates          37247322.0\n",
       "5                Germany          24332685.0\n",
       "6                  Italy          22305123.0\n",
       "7                  Spain          15881211.0\n",
       "8                 Turkey          12622030.0\n",
       "9                 Canada          12591453.0\n",
       "10                 India          12035970.0\n",
       "11                Russia          10571500.0\n",
       "12                France          10328550.0\n",
       "13                Poland           9278604.0\n",
       "14                Mexico           7855933.0\n",
       "15               Romania           5162881.0\n",
       "16             Argentina           4134631.0\n",
       "17               Denmark           3494361.0\n",
       "18                Brazil           3115617.0\n",
       "19              Portugal           2714673.0\n",
       "20               Czechia           2619608.0\n",
       "21               Bahrain           2403216.0\n",
       "22               Hungary           2194041.0\n",
       "23                Sweden           2169870.0\n",
       "24               Belgium           2122557.0\n",
       "25               Austria           2046716.0\n",
       "26          Saudi Arabia           2017000.0\n",
       "27                Greece           1920552.0\n",
       "28           Netherlands           1581681.0\n",
       "29               Ireland           1406954.0\n",
       "30                Serbia           1357112.0\n",
       "31           Switzerland           1256717.0\n",
       "32              Slovakia           1163562.0\n",
       "33             Lithuania           1057411.0\n",
       "34               Finland           1032714.0\n",
       "35                Norway            979960.0\n",
       "36               Croatia            928762.0\n",
       "37             Indonesia            820886.0\n",
       "38                 Chile            798422.0\n",
       "39              Slovenia            756163.0\n",
       "40                  Oman            575532.0\n",
       "41              Bulgaria            439771.0\n",
       "42            Costa Rica            409510.0\n",
       "43               Estonia            370554.0\n",
       "44                Latvia            288118.0\n",
       "45                 Malta            201642.0\n",
       "46               Iceland            148620.0\n",
       "47            Seychelles            139787.0\n",
       "48                Cyprus            134740.0\n",
       "49             Singapore            125400.0\n",
       "50             Gibraltar             94177.0\n",
       "51            Luxembourg             87238.0\n",
       "52       Northern Cyprus             25904.0\n",
       "53                Panama             19829.0\n",
       "54           Isle of Man             18711.0\n",
       "55                Kuwait              2500.0\n",
       "56               Bermuda              1665.0\n",
       "57               Ecuador               108.0"
      ]
     },
     "execution_count": 70,
     "metadata": {},
     "output_type": "execute_result"
    }
   ],
   "source": [
    "covid19_vaccinations_df_country = covid19_vaccinations_df.groupby(['country'])['total_vaccinations'].sum().reset_index()\n",
    "covid19_vaccinations_df_country = covid19_vaccinations_df_country.sort_values(['total_vaccinations'], ascending = False)\n",
    "covid19_vaccinations_df_country.reset_index(drop=True, inplace=True)\n",
    "covid19_vaccinations_df_country"
   ]
  },
  {
   "cell_type": "code",
   "execution_count": 71,
   "metadata": {},
   "outputs": [
    {
     "data": {
      "application/vnd.plotly.v1+json": {
       "config": {
        "plotlyServerURL": "https://plot.ly"
       },
       "data": [
        {
         "coloraxis": "coloraxis",
         "geo": "geo",
         "hoverlabel": {
          "namelength": 0
         },
         "hovertemplate": "<b>%{hovertext}</b><br><br>country=%{location}<br>total_vaccinations=%{z}",
         "hovertext": [
          "United States",
          "United Kingdom",
          "China",
          "Israel",
          "United Arab Emirates",
          "Germany",
          "Italy",
          "Spain",
          "Turkey",
          "Canada",
          "India",
          "Russia",
          "France",
          "Poland",
          "Mexico",
          "Romania",
          "Argentina",
          "Denmark",
          "Brazil",
          "Portugal",
          "Czechia",
          "Bahrain",
          "Hungary",
          "Sweden",
          "Belgium",
          "Austria",
          "Saudi Arabia",
          "Greece",
          "Netherlands",
          "Ireland",
          "Serbia",
          "Switzerland",
          "Slovakia",
          "Lithuania",
          "Finland",
          "Norway",
          "Croatia",
          "Indonesia",
          "Chile",
          "Slovenia",
          "Oman",
          "Bulgaria",
          "Costa Rica",
          "Estonia",
          "Latvia",
          "Malta",
          "Iceland",
          "Seychelles",
          "Cyprus",
          "Singapore",
          "Gibraltar",
          "Luxembourg",
          "Northern Cyprus",
          "Panama",
          "Isle of Man",
          "Kuwait",
          "Bermuda",
          "Ecuador"
         ],
         "locationmode": "country names",
         "locations": [
          "United States",
          "United Kingdom",
          "China",
          "Israel",
          "United Arab Emirates",
          "Germany",
          "Italy",
          "Spain",
          "Turkey",
          "Canada",
          "India",
          "Russia",
          "France",
          "Poland",
          "Mexico",
          "Romania",
          "Argentina",
          "Denmark",
          "Brazil",
          "Portugal",
          "Czechia",
          "Bahrain",
          "Hungary",
          "Sweden",
          "Belgium",
          "Austria",
          "Saudi Arabia",
          "Greece",
          "Netherlands",
          "Ireland",
          "Serbia",
          "Switzerland",
          "Slovakia",
          "Lithuania",
          "Finland",
          "Norway",
          "Croatia",
          "Indonesia",
          "Chile",
          "Slovenia",
          "Oman",
          "Bulgaria",
          "Costa Rica",
          "Estonia",
          "Latvia",
          "Malta",
          "Iceland",
          "Seychelles",
          "Cyprus",
          "Singapore",
          "Gibraltar",
          "Luxembourg",
          "Northern Cyprus",
          "Panama",
          "Isle of Man",
          "Kuwait",
          "Bermuda",
          "Ecuador"
         ],
         "name": "",
         "type": "choropleth",
         "z": [
          316885603,
          196862418,
          185500000,
          65596935,
          37247322,
          24332685,
          22305123,
          15881211,
          12622030,
          12591453,
          12035970,
          10571500,
          10328550,
          9278604,
          7855933,
          5162881,
          4134631,
          3494361,
          3115617,
          2714673,
          2619608,
          2403216,
          2194041,
          2169870,
          2122557,
          2046716,
          2017000,
          1920552,
          1581681,
          1406954,
          1357112,
          1256717,
          1163562,
          1057411,
          1032714,
          979960,
          928762,
          820886,
          798422,
          756163,
          575532,
          439771,
          409510,
          370554,
          288118,
          201642,
          148620,
          139787,
          134740,
          125400,
          94177,
          87238,
          25904,
          19829,
          18711,
          2500,
          1665,
          108
         ]
        }
       ],
       "layout": {
        "coloraxis": {
         "colorbar": {
          "title": {
           "text": "total_vaccinations"
          }
         },
         "colorscale": [
          [
           0,
           "rgb(255,255,204)"
          ],
          [
           0.125,
           "rgb(255,237,160)"
          ],
          [
           0.25,
           "rgb(254,217,118)"
          ],
          [
           0.375,
           "rgb(254,178,76)"
          ],
          [
           0.5,
           "rgb(253,141,60)"
          ],
          [
           0.625,
           "rgb(252,78,42)"
          ],
          [
           0.75,
           "rgb(227,26,28)"
          ],
          [
           0.875,
           "rgb(189,0,38)"
          ],
          [
           1,
           "rgb(128,0,38)"
          ]
         ]
        },
        "geo": {
         "center": {},
         "domain": {
          "x": [
           0,
           1
          ],
          "y": [
           0,
           1
          ]
         }
        },
        "legend": {
         "tracegroupgap": 0
        },
        "margin": {
         "b": 0,
         "l": 0,
         "r": 0,
         "t": 80
        },
        "template": {
         "data": {
          "bar": [
           {
            "error_x": {
             "color": "#2a3f5f"
            },
            "error_y": {
             "color": "#2a3f5f"
            },
            "marker": {
             "line": {
              "color": "#E5ECF6",
              "width": 0.5
             }
            },
            "type": "bar"
           }
          ],
          "barpolar": [
           {
            "marker": {
             "line": {
              "color": "#E5ECF6",
              "width": 0.5
             }
            },
            "type": "barpolar"
           }
          ],
          "carpet": [
           {
            "aaxis": {
             "endlinecolor": "#2a3f5f",
             "gridcolor": "white",
             "linecolor": "white",
             "minorgridcolor": "white",
             "startlinecolor": "#2a3f5f"
            },
            "baxis": {
             "endlinecolor": "#2a3f5f",
             "gridcolor": "white",
             "linecolor": "white",
             "minorgridcolor": "white",
             "startlinecolor": "#2a3f5f"
            },
            "type": "carpet"
           }
          ],
          "choropleth": [
           {
            "colorbar": {
             "outlinewidth": 0,
             "ticks": ""
            },
            "type": "choropleth"
           }
          ],
          "contour": [
           {
            "colorbar": {
             "outlinewidth": 0,
             "ticks": ""
            },
            "colorscale": [
             [
              0,
              "#0d0887"
             ],
             [
              0.1111111111111111,
              "#46039f"
             ],
             [
              0.2222222222222222,
              "#7201a8"
             ],
             [
              0.3333333333333333,
              "#9c179e"
             ],
             [
              0.4444444444444444,
              "#bd3786"
             ],
             [
              0.5555555555555556,
              "#d8576b"
             ],
             [
              0.6666666666666666,
              "#ed7953"
             ],
             [
              0.7777777777777778,
              "#fb9f3a"
             ],
             [
              0.8888888888888888,
              "#fdca26"
             ],
             [
              1,
              "#f0f921"
             ]
            ],
            "type": "contour"
           }
          ],
          "contourcarpet": [
           {
            "colorbar": {
             "outlinewidth": 0,
             "ticks": ""
            },
            "type": "contourcarpet"
           }
          ],
          "heatmap": [
           {
            "colorbar": {
             "outlinewidth": 0,
             "ticks": ""
            },
            "colorscale": [
             [
              0,
              "#0d0887"
             ],
             [
              0.1111111111111111,
              "#46039f"
             ],
             [
              0.2222222222222222,
              "#7201a8"
             ],
             [
              0.3333333333333333,
              "#9c179e"
             ],
             [
              0.4444444444444444,
              "#bd3786"
             ],
             [
              0.5555555555555556,
              "#d8576b"
             ],
             [
              0.6666666666666666,
              "#ed7953"
             ],
             [
              0.7777777777777778,
              "#fb9f3a"
             ],
             [
              0.8888888888888888,
              "#fdca26"
             ],
             [
              1,
              "#f0f921"
             ]
            ],
            "type": "heatmap"
           }
          ],
          "heatmapgl": [
           {
            "colorbar": {
             "outlinewidth": 0,
             "ticks": ""
            },
            "colorscale": [
             [
              0,
              "#0d0887"
             ],
             [
              0.1111111111111111,
              "#46039f"
             ],
             [
              0.2222222222222222,
              "#7201a8"
             ],
             [
              0.3333333333333333,
              "#9c179e"
             ],
             [
              0.4444444444444444,
              "#bd3786"
             ],
             [
              0.5555555555555556,
              "#d8576b"
             ],
             [
              0.6666666666666666,
              "#ed7953"
             ],
             [
              0.7777777777777778,
              "#fb9f3a"
             ],
             [
              0.8888888888888888,
              "#fdca26"
             ],
             [
              1,
              "#f0f921"
             ]
            ],
            "type": "heatmapgl"
           }
          ],
          "histogram": [
           {
            "marker": {
             "colorbar": {
              "outlinewidth": 0,
              "ticks": ""
             }
            },
            "type": "histogram"
           }
          ],
          "histogram2d": [
           {
            "colorbar": {
             "outlinewidth": 0,
             "ticks": ""
            },
            "colorscale": [
             [
              0,
              "#0d0887"
             ],
             [
              0.1111111111111111,
              "#46039f"
             ],
             [
              0.2222222222222222,
              "#7201a8"
             ],
             [
              0.3333333333333333,
              "#9c179e"
             ],
             [
              0.4444444444444444,
              "#bd3786"
             ],
             [
              0.5555555555555556,
              "#d8576b"
             ],
             [
              0.6666666666666666,
              "#ed7953"
             ],
             [
              0.7777777777777778,
              "#fb9f3a"
             ],
             [
              0.8888888888888888,
              "#fdca26"
             ],
             [
              1,
              "#f0f921"
             ]
            ],
            "type": "histogram2d"
           }
          ],
          "histogram2dcontour": [
           {
            "colorbar": {
             "outlinewidth": 0,
             "ticks": ""
            },
            "colorscale": [
             [
              0,
              "#0d0887"
             ],
             [
              0.1111111111111111,
              "#46039f"
             ],
             [
              0.2222222222222222,
              "#7201a8"
             ],
             [
              0.3333333333333333,
              "#9c179e"
             ],
             [
              0.4444444444444444,
              "#bd3786"
             ],
             [
              0.5555555555555556,
              "#d8576b"
             ],
             [
              0.6666666666666666,
              "#ed7953"
             ],
             [
              0.7777777777777778,
              "#fb9f3a"
             ],
             [
              0.8888888888888888,
              "#fdca26"
             ],
             [
              1,
              "#f0f921"
             ]
            ],
            "type": "histogram2dcontour"
           }
          ],
          "mesh3d": [
           {
            "colorbar": {
             "outlinewidth": 0,
             "ticks": ""
            },
            "type": "mesh3d"
           }
          ],
          "parcoords": [
           {
            "line": {
             "colorbar": {
              "outlinewidth": 0,
              "ticks": ""
             }
            },
            "type": "parcoords"
           }
          ],
          "pie": [
           {
            "automargin": true,
            "type": "pie"
           }
          ],
          "scatter": [
           {
            "marker": {
             "colorbar": {
              "outlinewidth": 0,
              "ticks": ""
             }
            },
            "type": "scatter"
           }
          ],
          "scatter3d": [
           {
            "line": {
             "colorbar": {
              "outlinewidth": 0,
              "ticks": ""
             }
            },
            "marker": {
             "colorbar": {
              "outlinewidth": 0,
              "ticks": ""
             }
            },
            "type": "scatter3d"
           }
          ],
          "scattercarpet": [
           {
            "marker": {
             "colorbar": {
              "outlinewidth": 0,
              "ticks": ""
             }
            },
            "type": "scattercarpet"
           }
          ],
          "scattergeo": [
           {
            "marker": {
             "colorbar": {
              "outlinewidth": 0,
              "ticks": ""
             }
            },
            "type": "scattergeo"
           }
          ],
          "scattergl": [
           {
            "marker": {
             "colorbar": {
              "outlinewidth": 0,
              "ticks": ""
             }
            },
            "type": "scattergl"
           }
          ],
          "scattermapbox": [
           {
            "marker": {
             "colorbar": {
              "outlinewidth": 0,
              "ticks": ""
             }
            },
            "type": "scattermapbox"
           }
          ],
          "scatterpolar": [
           {
            "marker": {
             "colorbar": {
              "outlinewidth": 0,
              "ticks": ""
             }
            },
            "type": "scatterpolar"
           }
          ],
          "scatterpolargl": [
           {
            "marker": {
             "colorbar": {
              "outlinewidth": 0,
              "ticks": ""
             }
            },
            "type": "scatterpolargl"
           }
          ],
          "scatterternary": [
           {
            "marker": {
             "colorbar": {
              "outlinewidth": 0,
              "ticks": ""
             }
            },
            "type": "scatterternary"
           }
          ],
          "surface": [
           {
            "colorbar": {
             "outlinewidth": 0,
             "ticks": ""
            },
            "colorscale": [
             [
              0,
              "#0d0887"
             ],
             [
              0.1111111111111111,
              "#46039f"
             ],
             [
              0.2222222222222222,
              "#7201a8"
             ],
             [
              0.3333333333333333,
              "#9c179e"
             ],
             [
              0.4444444444444444,
              "#bd3786"
             ],
             [
              0.5555555555555556,
              "#d8576b"
             ],
             [
              0.6666666666666666,
              "#ed7953"
             ],
             [
              0.7777777777777778,
              "#fb9f3a"
             ],
             [
              0.8888888888888888,
              "#fdca26"
             ],
             [
              1,
              "#f0f921"
             ]
            ],
            "type": "surface"
           }
          ],
          "table": [
           {
            "cells": {
             "fill": {
              "color": "#EBF0F8"
             },
             "line": {
              "color": "white"
             }
            },
            "header": {
             "fill": {
              "color": "#C8D4E3"
             },
             "line": {
              "color": "white"
             }
            },
            "type": "table"
           }
          ]
         },
         "layout": {
          "annotationdefaults": {
           "arrowcolor": "#2a3f5f",
           "arrowhead": 0,
           "arrowwidth": 1
          },
          "coloraxis": {
           "colorbar": {
            "outlinewidth": 0,
            "ticks": ""
           }
          },
          "colorscale": {
           "diverging": [
            [
             0,
             "#8e0152"
            ],
            [
             0.1,
             "#c51b7d"
            ],
            [
             0.2,
             "#de77ae"
            ],
            [
             0.3,
             "#f1b6da"
            ],
            [
             0.4,
             "#fde0ef"
            ],
            [
             0.5,
             "#f7f7f7"
            ],
            [
             0.6,
             "#e6f5d0"
            ],
            [
             0.7,
             "#b8e186"
            ],
            [
             0.8,
             "#7fbc41"
            ],
            [
             0.9,
             "#4d9221"
            ],
            [
             1,
             "#276419"
            ]
           ],
           "sequential": [
            [
             0,
             "#0d0887"
            ],
            [
             0.1111111111111111,
             "#46039f"
            ],
            [
             0.2222222222222222,
             "#7201a8"
            ],
            [
             0.3333333333333333,
             "#9c179e"
            ],
            [
             0.4444444444444444,
             "#bd3786"
            ],
            [
             0.5555555555555556,
             "#d8576b"
            ],
            [
             0.6666666666666666,
             "#ed7953"
            ],
            [
             0.7777777777777778,
             "#fb9f3a"
            ],
            [
             0.8888888888888888,
             "#fdca26"
            ],
            [
             1,
             "#f0f921"
            ]
           ],
           "sequentialminus": [
            [
             0,
             "#0d0887"
            ],
            [
             0.1111111111111111,
             "#46039f"
            ],
            [
             0.2222222222222222,
             "#7201a8"
            ],
            [
             0.3333333333333333,
             "#9c179e"
            ],
            [
             0.4444444444444444,
             "#bd3786"
            ],
            [
             0.5555555555555556,
             "#d8576b"
            ],
            [
             0.6666666666666666,
             "#ed7953"
            ],
            [
             0.7777777777777778,
             "#fb9f3a"
            ],
            [
             0.8888888888888888,
             "#fdca26"
            ],
            [
             1,
             "#f0f921"
            ]
           ]
          },
          "colorway": [
           "#636efa",
           "#EF553B",
           "#00cc96",
           "#ab63fa",
           "#FFA15A",
           "#19d3f3",
           "#FF6692",
           "#B6E880",
           "#FF97FF",
           "#FECB52"
          ],
          "font": {
           "color": "#2a3f5f"
          },
          "geo": {
           "bgcolor": "white",
           "lakecolor": "white",
           "landcolor": "#E5ECF6",
           "showlakes": true,
           "showland": true,
           "subunitcolor": "white"
          },
          "hoverlabel": {
           "align": "left"
          },
          "hovermode": "closest",
          "mapbox": {
           "style": "light"
          },
          "paper_bgcolor": "white",
          "plot_bgcolor": "#E5ECF6",
          "polar": {
           "angularaxis": {
            "gridcolor": "white",
            "linecolor": "white",
            "ticks": ""
           },
           "bgcolor": "#E5ECF6",
           "radialaxis": {
            "gridcolor": "white",
            "linecolor": "white",
            "ticks": ""
           }
          },
          "scene": {
           "xaxis": {
            "backgroundcolor": "#E5ECF6",
            "gridcolor": "white",
            "gridwidth": 2,
            "linecolor": "white",
            "showbackground": true,
            "ticks": "",
            "zerolinecolor": "white"
           },
           "yaxis": {
            "backgroundcolor": "#E5ECF6",
            "gridcolor": "white",
            "gridwidth": 2,
            "linecolor": "white",
            "showbackground": true,
            "ticks": "",
            "zerolinecolor": "white"
           },
           "zaxis": {
            "backgroundcolor": "#E5ECF6",
            "gridcolor": "white",
            "gridwidth": 2,
            "linecolor": "white",
            "showbackground": true,
            "ticks": "",
            "zerolinecolor": "white"
           }
          },
          "shapedefaults": {
           "line": {
            "color": "#2a3f5f"
           }
          },
          "ternary": {
           "aaxis": {
            "gridcolor": "white",
            "linecolor": "white",
            "ticks": ""
           },
           "baxis": {
            "gridcolor": "white",
            "linecolor": "white",
            "ticks": ""
           },
           "bgcolor": "#E5ECF6",
           "caxis": {
            "gridcolor": "white",
            "linecolor": "white",
            "ticks": ""
           }
          },
          "title": {
           "x": 0.05
          },
          "xaxis": {
           "automargin": true,
           "gridcolor": "white",
           "linecolor": "white",
           "ticks": "",
           "title": {
            "standoff": 15
           },
           "zerolinecolor": "white",
           "zerolinewidth": 2
          },
          "yaxis": {
           "automargin": true,
           "gridcolor": "white",
           "linecolor": "white",
           "ticks": "",
           "title": {
            "standoff": 15
           },
           "zerolinecolor": "white",
           "zerolinewidth": 2
          }
         }
        },
        "title": {
         "text": "Which country has vaccinated the most people against COVID-19"
        }
       }
      },
      "text/html": [
       "<div>\n",
       "        \n",
       "        \n",
       "            <div id=\"cf6a105d-302b-47a6-befd-2981c48d8f8d\" class=\"plotly-graph-div\" style=\"height:525px; width:100%;\"></div>\n",
       "            <script type=\"text/javascript\">\n",
       "                require([\"plotly\"], function(Plotly) {\n",
       "                    window.PLOTLYENV=window.PLOTLYENV || {};\n",
       "                    \n",
       "                if (document.getElementById(\"cf6a105d-302b-47a6-befd-2981c48d8f8d\")) {\n",
       "                    Plotly.newPlot(\n",
       "                        'cf6a105d-302b-47a6-befd-2981c48d8f8d',\n",
       "                        [{\"coloraxis\": \"coloraxis\", \"geo\": \"geo\", \"hoverlabel\": {\"namelength\": 0}, \"hovertemplate\": \"<b>%{hovertext}</b><br><br>country=%{location}<br>total_vaccinations=%{z}\", \"hovertext\": [\"United States\", \"United Kingdom\", \"China\", \"Israel\", \"United Arab Emirates\", \"Germany\", \"Italy\", \"Spain\", \"Turkey\", \"Canada\", \"India\", \"Russia\", \"France\", \"Poland\", \"Mexico\", \"Romania\", \"Argentina\", \"Denmark\", \"Brazil\", \"Portugal\", \"Czechia\", \"Bahrain\", \"Hungary\", \"Sweden\", \"Belgium\", \"Austria\", \"Saudi Arabia\", \"Greece\", \"Netherlands\", \"Ireland\", \"Serbia\", \"Switzerland\", \"Slovakia\", \"Lithuania\", \"Finland\", \"Norway\", \"Croatia\", \"Indonesia\", \"Chile\", \"Slovenia\", \"Oman\", \"Bulgaria\", \"Costa Rica\", \"Estonia\", \"Latvia\", \"Malta\", \"Iceland\", \"Seychelles\", \"Cyprus\", \"Singapore\", \"Gibraltar\", \"Luxembourg\", \"Northern Cyprus\", \"Panama\", \"Isle of Man\", \"Kuwait\", \"Bermuda\", \"Ecuador\"], \"locationmode\": \"country names\", \"locations\": [\"United States\", \"United Kingdom\", \"China\", \"Israel\", \"United Arab Emirates\", \"Germany\", \"Italy\", \"Spain\", \"Turkey\", \"Canada\", \"India\", \"Russia\", \"France\", \"Poland\", \"Mexico\", \"Romania\", \"Argentina\", \"Denmark\", \"Brazil\", \"Portugal\", \"Czechia\", \"Bahrain\", \"Hungary\", \"Sweden\", \"Belgium\", \"Austria\", \"Saudi Arabia\", \"Greece\", \"Netherlands\", \"Ireland\", \"Serbia\", \"Switzerland\", \"Slovakia\", \"Lithuania\", \"Finland\", \"Norway\", \"Croatia\", \"Indonesia\", \"Chile\", \"Slovenia\", \"Oman\", \"Bulgaria\", \"Costa Rica\", \"Estonia\", \"Latvia\", \"Malta\", \"Iceland\", \"Seychelles\", \"Cyprus\", \"Singapore\", \"Gibraltar\", \"Luxembourg\", \"Northern Cyprus\", \"Panama\", \"Isle of Man\", \"Kuwait\", \"Bermuda\", \"Ecuador\"], \"name\": \"\", \"type\": \"choropleth\", \"z\": [316885603.0, 196862418.0, 185500000.0, 65596935.0, 37247322.0, 24332685.0, 22305123.0, 15881211.0, 12622030.0, 12591453.0, 12035970.0, 10571500.0, 10328550.0, 9278604.0, 7855933.0, 5162881.0, 4134631.0, 3494361.0, 3115617.0, 2714673.0, 2619608.0, 2403216.0, 2194041.0, 2169870.0, 2122557.0, 2046716.0, 2017000.0, 1920552.0, 1581681.0, 1406954.0, 1357112.0, 1256717.0, 1163562.0, 1057411.0, 1032714.0, 979960.0, 928762.0, 820886.0, 798422.0, 756163.0, 575532.0, 439771.0, 409510.0, 370554.0, 288118.0, 201642.0, 148620.0, 139787.0, 134740.0, 125400.0, 94177.0, 87238.0, 25904.0, 19829.0, 18711.0, 2500.0, 1665.0, 108.0]}],\n",
       "                        {\"coloraxis\": {\"colorbar\": {\"title\": {\"text\": \"total_vaccinations\"}}, \"colorscale\": [[0.0, \"rgb(255,255,204)\"], [0.125, \"rgb(255,237,160)\"], [0.25, \"rgb(254,217,118)\"], [0.375, \"rgb(254,178,76)\"], [0.5, \"rgb(253,141,60)\"], [0.625, \"rgb(252,78,42)\"], [0.75, \"rgb(227,26,28)\"], [0.875, \"rgb(189,0,38)\"], [1.0, \"rgb(128,0,38)\"]]}, \"geo\": {\"center\": {}, \"domain\": {\"x\": [0.0, 1.0], \"y\": [0.0, 1.0]}}, \"legend\": {\"tracegroupgap\": 0}, \"margin\": {\"b\": 0, \"l\": 0, \"r\": 0, \"t\": 80}, \"template\": {\"data\": {\"bar\": [{\"error_x\": {\"color\": \"#2a3f5f\"}, \"error_y\": {\"color\": \"#2a3f5f\"}, \"marker\": {\"line\": {\"color\": \"#E5ECF6\", \"width\": 0.5}}, \"type\": \"bar\"}], \"barpolar\": [{\"marker\": {\"line\": {\"color\": \"#E5ECF6\", \"width\": 0.5}}, \"type\": \"barpolar\"}], \"carpet\": [{\"aaxis\": {\"endlinecolor\": \"#2a3f5f\", \"gridcolor\": \"white\", \"linecolor\": \"white\", \"minorgridcolor\": \"white\", \"startlinecolor\": \"#2a3f5f\"}, \"baxis\": {\"endlinecolor\": \"#2a3f5f\", \"gridcolor\": \"white\", \"linecolor\": \"white\", \"minorgridcolor\": \"white\", \"startlinecolor\": \"#2a3f5f\"}, \"type\": \"carpet\"}], \"choropleth\": [{\"colorbar\": {\"outlinewidth\": 0, \"ticks\": \"\"}, \"type\": \"choropleth\"}], \"contour\": [{\"colorbar\": {\"outlinewidth\": 0, \"ticks\": \"\"}, \"colorscale\": [[0.0, \"#0d0887\"], [0.1111111111111111, \"#46039f\"], [0.2222222222222222, \"#7201a8\"], [0.3333333333333333, \"#9c179e\"], [0.4444444444444444, \"#bd3786\"], [0.5555555555555556, \"#d8576b\"], [0.6666666666666666, \"#ed7953\"], [0.7777777777777778, \"#fb9f3a\"], [0.8888888888888888, \"#fdca26\"], [1.0, \"#f0f921\"]], \"type\": \"contour\"}], \"contourcarpet\": [{\"colorbar\": {\"outlinewidth\": 0, \"ticks\": \"\"}, \"type\": \"contourcarpet\"}], \"heatmap\": [{\"colorbar\": {\"outlinewidth\": 0, \"ticks\": \"\"}, \"colorscale\": [[0.0, \"#0d0887\"], [0.1111111111111111, \"#46039f\"], [0.2222222222222222, \"#7201a8\"], [0.3333333333333333, \"#9c179e\"], [0.4444444444444444, \"#bd3786\"], [0.5555555555555556, \"#d8576b\"], [0.6666666666666666, \"#ed7953\"], [0.7777777777777778, \"#fb9f3a\"], [0.8888888888888888, \"#fdca26\"], [1.0, \"#f0f921\"]], \"type\": \"heatmap\"}], \"heatmapgl\": [{\"colorbar\": {\"outlinewidth\": 0, \"ticks\": \"\"}, \"colorscale\": [[0.0, \"#0d0887\"], [0.1111111111111111, \"#46039f\"], [0.2222222222222222, \"#7201a8\"], [0.3333333333333333, \"#9c179e\"], [0.4444444444444444, \"#bd3786\"], [0.5555555555555556, \"#d8576b\"], [0.6666666666666666, \"#ed7953\"], [0.7777777777777778, \"#fb9f3a\"], [0.8888888888888888, \"#fdca26\"], [1.0, \"#f0f921\"]], \"type\": \"heatmapgl\"}], \"histogram\": [{\"marker\": {\"colorbar\": {\"outlinewidth\": 0, \"ticks\": \"\"}}, \"type\": \"histogram\"}], \"histogram2d\": [{\"colorbar\": {\"outlinewidth\": 0, \"ticks\": \"\"}, \"colorscale\": [[0.0, \"#0d0887\"], [0.1111111111111111, \"#46039f\"], [0.2222222222222222, \"#7201a8\"], [0.3333333333333333, \"#9c179e\"], [0.4444444444444444, \"#bd3786\"], [0.5555555555555556, \"#d8576b\"], [0.6666666666666666, \"#ed7953\"], [0.7777777777777778, \"#fb9f3a\"], [0.8888888888888888, \"#fdca26\"], [1.0, \"#f0f921\"]], \"type\": \"histogram2d\"}], \"histogram2dcontour\": [{\"colorbar\": {\"outlinewidth\": 0, \"ticks\": \"\"}, \"colorscale\": [[0.0, \"#0d0887\"], [0.1111111111111111, \"#46039f\"], [0.2222222222222222, \"#7201a8\"], [0.3333333333333333, \"#9c179e\"], [0.4444444444444444, \"#bd3786\"], [0.5555555555555556, \"#d8576b\"], [0.6666666666666666, \"#ed7953\"], [0.7777777777777778, \"#fb9f3a\"], [0.8888888888888888, \"#fdca26\"], [1.0, \"#f0f921\"]], \"type\": \"histogram2dcontour\"}], \"mesh3d\": [{\"colorbar\": {\"outlinewidth\": 0, \"ticks\": \"\"}, \"type\": \"mesh3d\"}], \"parcoords\": [{\"line\": {\"colorbar\": {\"outlinewidth\": 0, \"ticks\": \"\"}}, \"type\": \"parcoords\"}], \"pie\": [{\"automargin\": true, \"type\": \"pie\"}], \"scatter\": [{\"marker\": {\"colorbar\": {\"outlinewidth\": 0, \"ticks\": \"\"}}, \"type\": \"scatter\"}], \"scatter3d\": [{\"line\": {\"colorbar\": {\"outlinewidth\": 0, \"ticks\": \"\"}}, \"marker\": {\"colorbar\": {\"outlinewidth\": 0, \"ticks\": \"\"}}, \"type\": \"scatter3d\"}], \"scattercarpet\": [{\"marker\": {\"colorbar\": {\"outlinewidth\": 0, \"ticks\": \"\"}}, \"type\": \"scattercarpet\"}], \"scattergeo\": [{\"marker\": {\"colorbar\": {\"outlinewidth\": 0, \"ticks\": \"\"}}, \"type\": \"scattergeo\"}], \"scattergl\": [{\"marker\": {\"colorbar\": {\"outlinewidth\": 0, \"ticks\": \"\"}}, \"type\": \"scattergl\"}], \"scattermapbox\": [{\"marker\": {\"colorbar\": {\"outlinewidth\": 0, \"ticks\": \"\"}}, \"type\": \"scattermapbox\"}], \"scatterpolar\": [{\"marker\": {\"colorbar\": {\"outlinewidth\": 0, \"ticks\": \"\"}}, \"type\": \"scatterpolar\"}], \"scatterpolargl\": [{\"marker\": {\"colorbar\": {\"outlinewidth\": 0, \"ticks\": \"\"}}, \"type\": \"scatterpolargl\"}], \"scatterternary\": [{\"marker\": {\"colorbar\": {\"outlinewidth\": 0, \"ticks\": \"\"}}, \"type\": \"scatterternary\"}], \"surface\": [{\"colorbar\": {\"outlinewidth\": 0, \"ticks\": \"\"}, \"colorscale\": [[0.0, \"#0d0887\"], [0.1111111111111111, \"#46039f\"], [0.2222222222222222, \"#7201a8\"], [0.3333333333333333, \"#9c179e\"], [0.4444444444444444, \"#bd3786\"], [0.5555555555555556, \"#d8576b\"], [0.6666666666666666, \"#ed7953\"], [0.7777777777777778, \"#fb9f3a\"], [0.8888888888888888, \"#fdca26\"], [1.0, \"#f0f921\"]], \"type\": \"surface\"}], \"table\": [{\"cells\": {\"fill\": {\"color\": \"#EBF0F8\"}, \"line\": {\"color\": \"white\"}}, \"header\": {\"fill\": {\"color\": \"#C8D4E3\"}, \"line\": {\"color\": \"white\"}}, \"type\": \"table\"}]}, \"layout\": {\"annotationdefaults\": {\"arrowcolor\": \"#2a3f5f\", \"arrowhead\": 0, \"arrowwidth\": 1}, \"coloraxis\": {\"colorbar\": {\"outlinewidth\": 0, \"ticks\": \"\"}}, \"colorscale\": {\"diverging\": [[0, \"#8e0152\"], [0.1, \"#c51b7d\"], [0.2, \"#de77ae\"], [0.3, \"#f1b6da\"], [0.4, \"#fde0ef\"], [0.5, \"#f7f7f7\"], [0.6, \"#e6f5d0\"], [0.7, \"#b8e186\"], [0.8, \"#7fbc41\"], [0.9, \"#4d9221\"], [1, \"#276419\"]], \"sequential\": [[0.0, \"#0d0887\"], [0.1111111111111111, \"#46039f\"], [0.2222222222222222, \"#7201a8\"], [0.3333333333333333, \"#9c179e\"], [0.4444444444444444, \"#bd3786\"], [0.5555555555555556, \"#d8576b\"], [0.6666666666666666, \"#ed7953\"], [0.7777777777777778, \"#fb9f3a\"], [0.8888888888888888, \"#fdca26\"], [1.0, \"#f0f921\"]], \"sequentialminus\": [[0.0, \"#0d0887\"], [0.1111111111111111, \"#46039f\"], [0.2222222222222222, \"#7201a8\"], [0.3333333333333333, \"#9c179e\"], [0.4444444444444444, \"#bd3786\"], [0.5555555555555556, \"#d8576b\"], [0.6666666666666666, \"#ed7953\"], [0.7777777777777778, \"#fb9f3a\"], [0.8888888888888888, \"#fdca26\"], [1.0, \"#f0f921\"]]}, \"colorway\": [\"#636efa\", \"#EF553B\", \"#00cc96\", \"#ab63fa\", \"#FFA15A\", \"#19d3f3\", \"#FF6692\", \"#B6E880\", \"#FF97FF\", \"#FECB52\"], \"font\": {\"color\": \"#2a3f5f\"}, \"geo\": {\"bgcolor\": \"white\", \"lakecolor\": \"white\", \"landcolor\": \"#E5ECF6\", \"showlakes\": true, \"showland\": true, \"subunitcolor\": \"white\"}, \"hoverlabel\": {\"align\": \"left\"}, \"hovermode\": \"closest\", \"mapbox\": {\"style\": \"light\"}, \"paper_bgcolor\": \"white\", \"plot_bgcolor\": \"#E5ECF6\", \"polar\": {\"angularaxis\": {\"gridcolor\": \"white\", \"linecolor\": \"white\", \"ticks\": \"\"}, \"bgcolor\": \"#E5ECF6\", \"radialaxis\": {\"gridcolor\": \"white\", \"linecolor\": \"white\", \"ticks\": \"\"}}, \"scene\": {\"xaxis\": {\"backgroundcolor\": \"#E5ECF6\", \"gridcolor\": \"white\", \"gridwidth\": 2, \"linecolor\": \"white\", \"showbackground\": true, \"ticks\": \"\", \"zerolinecolor\": \"white\"}, \"yaxis\": {\"backgroundcolor\": \"#E5ECF6\", \"gridcolor\": \"white\", \"gridwidth\": 2, \"linecolor\": \"white\", \"showbackground\": true, \"ticks\": \"\", \"zerolinecolor\": \"white\"}, \"zaxis\": {\"backgroundcolor\": \"#E5ECF6\", \"gridcolor\": \"white\", \"gridwidth\": 2, \"linecolor\": \"white\", \"showbackground\": true, \"ticks\": \"\", \"zerolinecolor\": \"white\"}}, \"shapedefaults\": {\"line\": {\"color\": \"#2a3f5f\"}}, \"ternary\": {\"aaxis\": {\"gridcolor\": \"white\", \"linecolor\": \"white\", \"ticks\": \"\"}, \"baxis\": {\"gridcolor\": \"white\", \"linecolor\": \"white\", \"ticks\": \"\"}, \"bgcolor\": \"#E5ECF6\", \"caxis\": {\"gridcolor\": \"white\", \"linecolor\": \"white\", \"ticks\": \"\"}}, \"title\": {\"x\": 0.05}, \"xaxis\": {\"automargin\": true, \"gridcolor\": \"white\", \"linecolor\": \"white\", \"ticks\": \"\", \"title\": {\"standoff\": 15}, \"zerolinecolor\": \"white\", \"zerolinewidth\": 2}, \"yaxis\": {\"automargin\": true, \"gridcolor\": \"white\", \"linecolor\": \"white\", \"ticks\": \"\", \"title\": {\"standoff\": 15}, \"zerolinecolor\": \"white\", \"zerolinewidth\": 2}}}, \"title\": {\"text\": \"Which country has vaccinated the most people against COVID-19\"}},\n",
       "                        {\"responsive\": true}\n",
       "                    ).then(function(){\n",
       "                            \n",
       "var gd = document.getElementById('cf6a105d-302b-47a6-befd-2981c48d8f8d');\n",
       "var x = new MutationObserver(function (mutations, observer) {{\n",
       "        var display = window.getComputedStyle(gd).display;\n",
       "        if (!display || display === 'none') {{\n",
       "            console.log([gd, 'removed!']);\n",
       "            Plotly.purge(gd);\n",
       "            observer.disconnect();\n",
       "        }}\n",
       "}});\n",
       "\n",
       "// Listen for the removal of the full notebook cells\n",
       "var notebookContainer = gd.closest('#notebook-container');\n",
       "if (notebookContainer) {{\n",
       "    x.observe(notebookContainer, {childList: true});\n",
       "}}\n",
       "\n",
       "// Listen for the clearing of the current output cell\n",
       "var outputEl = gd.closest('.output');\n",
       "if (outputEl) {{\n",
       "    x.observe(outputEl, {childList: true});\n",
       "}}\n",
       "\n",
       "                        })\n",
       "                };\n",
       "                });\n",
       "            </script>\n",
       "        </div>"
      ]
     },
     "metadata": {},
     "output_type": "display_data"
    },
    {
     "data": {
      "text/plain": [
       "<Figure size 432x288 with 0 Axes>"
      ]
     },
     "metadata": {},
     "output_type": "display_data"
    }
   ],
   "source": [
    "fig = px.choropleth(covid19_vaccinations_df_country, \n",
    "                    locations=\"country\", \n",
    "                    locationmode='country names', \n",
    "                    color=\"total_vaccinations\", \n",
    "                    hover_name=\"country\", \n",
    "                    color_continuous_scale=\"YlOrRd\",                    \n",
    "                    title='Which country has vaccinated the most people against COVID-19')\n",
    "\n",
    "fig.update_layout(margin=dict(t=80,l=0,r=0,b=0))\n",
    "plt.tight_layout()\n",
    "pio.write_image(fig, \"images/image3.png\") \n",
    "fig.show()"
   ]
  },
  {
   "cell_type": "markdown",
   "metadata": {},
   "source": [
    "<a id='part4-3'></a>\n",
    "### 4.3 Showing which countries use different kinds of vaccine's name in total vacination count"
   ]
  },
  {
   "cell_type": "code",
   "execution_count": 72,
   "metadata": {},
   "outputs": [],
   "source": [
    "covid19_vaccinations_df_country_vaccine_type = covid19_vaccinations_df.groupby(['country','vaccines'])['total_vaccinations'].sum() \\\n",
    "                                               .reset_index() \\\n",
    "                                               .sort_values(['total_vaccinations'], ascending = False)\n",
    "\n",
    "covid19_vaccinations_df_country_vaccine_type.reset_index(drop=True, inplace=True)"
   ]
  },
  {
   "cell_type": "code",
   "execution_count": 73,
   "metadata": {},
   "outputs": [
    {
     "data": {
      "text/html": [
       "<div>\n",
       "<style scoped>\n",
       "    .dataframe tbody tr th:only-of-type {\n",
       "        vertical-align: middle;\n",
       "    }\n",
       "\n",
       "    .dataframe tbody tr th {\n",
       "        vertical-align: top;\n",
       "    }\n",
       "\n",
       "    .dataframe thead th {\n",
       "        text-align: right;\n",
       "    }\n",
       "</style>\n",
       "<table border=\"1\" class=\"dataframe\">\n",
       "  <thead>\n",
       "    <tr style=\"text-align: right;\">\n",
       "      <th></th>\n",
       "      <th>country</th>\n",
       "      <th>vaccines</th>\n",
       "      <th>total_vaccinations</th>\n",
       "    </tr>\n",
       "  </thead>\n",
       "  <tbody>\n",
       "    <tr>\n",
       "      <th>0</th>\n",
       "      <td>United States</td>\n",
       "      <td>Moderna, Pfizer/BioNTech</td>\n",
       "      <td>316885603.0</td>\n",
       "    </tr>\n",
       "    <tr>\n",
       "      <th>1</th>\n",
       "      <td>United Kingdom</td>\n",
       "      <td>Oxford/AstraZeneca, Pfizer/BioNTech</td>\n",
       "      <td>196862418.0</td>\n",
       "    </tr>\n",
       "    <tr>\n",
       "      <th>2</th>\n",
       "      <td>China</td>\n",
       "      <td>CNBG, Sinovac</td>\n",
       "      <td>185500000.0</td>\n",
       "    </tr>\n",
       "    <tr>\n",
       "      <th>3</th>\n",
       "      <td>Israel</td>\n",
       "      <td>Moderna, Pfizer/BioNTech</td>\n",
       "      <td>65596935.0</td>\n",
       "    </tr>\n",
       "    <tr>\n",
       "      <th>4</th>\n",
       "      <td>United Arab Emirates</td>\n",
       "      <td>Pfizer/BioNTech, Sinopharm</td>\n",
       "      <td>37247322.0</td>\n",
       "    </tr>\n",
       "    <tr>\n",
       "      <th>5</th>\n",
       "      <td>Germany</td>\n",
       "      <td>Moderna, Pfizer/BioNTech</td>\n",
       "      <td>24332685.0</td>\n",
       "    </tr>\n",
       "    <tr>\n",
       "      <th>6</th>\n",
       "      <td>Italy</td>\n",
       "      <td>Pfizer/BioNTech</td>\n",
       "      <td>22305123.0</td>\n",
       "    </tr>\n",
       "    <tr>\n",
       "      <th>7</th>\n",
       "      <td>Spain</td>\n",
       "      <td>Moderna, Pfizer/BioNTech</td>\n",
       "      <td>15881211.0</td>\n",
       "    </tr>\n",
       "    <tr>\n",
       "      <th>8</th>\n",
       "      <td>Turkey</td>\n",
       "      <td>Sinovac</td>\n",
       "      <td>12622030.0</td>\n",
       "    </tr>\n",
       "    <tr>\n",
       "      <th>9</th>\n",
       "      <td>Canada</td>\n",
       "      <td>Moderna, Pfizer/BioNTech</td>\n",
       "      <td>12591453.0</td>\n",
       "    </tr>\n",
       "    <tr>\n",
       "      <th>10</th>\n",
       "      <td>India</td>\n",
       "      <td>Covaxin, Covishield</td>\n",
       "      <td>12035970.0</td>\n",
       "    </tr>\n",
       "    <tr>\n",
       "      <th>11</th>\n",
       "      <td>Russia</td>\n",
       "      <td>Sputnik V</td>\n",
       "      <td>10571500.0</td>\n",
       "    </tr>\n",
       "    <tr>\n",
       "      <th>12</th>\n",
       "      <td>France</td>\n",
       "      <td>Pfizer/BioNTech</td>\n",
       "      <td>10328550.0</td>\n",
       "    </tr>\n",
       "    <tr>\n",
       "      <th>13</th>\n",
       "      <td>Poland</td>\n",
       "      <td>Pfizer/BioNTech</td>\n",
       "      <td>9278604.0</td>\n",
       "    </tr>\n",
       "    <tr>\n",
       "      <th>14</th>\n",
       "      <td>Mexico</td>\n",
       "      <td>Pfizer/BioNTech</td>\n",
       "      <td>7855933.0</td>\n",
       "    </tr>\n",
       "    <tr>\n",
       "      <th>15</th>\n",
       "      <td>Romania</td>\n",
       "      <td>Pfizer/BioNTech</td>\n",
       "      <td>5162881.0</td>\n",
       "    </tr>\n",
       "    <tr>\n",
       "      <th>16</th>\n",
       "      <td>Argentina</td>\n",
       "      <td>Sputnik V</td>\n",
       "      <td>4134631.0</td>\n",
       "    </tr>\n",
       "    <tr>\n",
       "      <th>17</th>\n",
       "      <td>Denmark</td>\n",
       "      <td>Moderna, Pfizer/BioNTech</td>\n",
       "      <td>3494361.0</td>\n",
       "    </tr>\n",
       "    <tr>\n",
       "      <th>18</th>\n",
       "      <td>Brazil</td>\n",
       "      <td>Sinovac</td>\n",
       "      <td>3115617.0</td>\n",
       "    </tr>\n",
       "    <tr>\n",
       "      <th>19</th>\n",
       "      <td>Portugal</td>\n",
       "      <td>Pfizer/BioNTech</td>\n",
       "      <td>2714673.0</td>\n",
       "    </tr>\n",
       "    <tr>\n",
       "      <th>20</th>\n",
       "      <td>Czechia</td>\n",
       "      <td>Moderna, Pfizer/BioNTech</td>\n",
       "      <td>2619608.0</td>\n",
       "    </tr>\n",
       "    <tr>\n",
       "      <th>21</th>\n",
       "      <td>Bahrain</td>\n",
       "      <td>Pfizer/BioNTech, Sinopharm</td>\n",
       "      <td>2403216.0</td>\n",
       "    </tr>\n",
       "    <tr>\n",
       "      <th>22</th>\n",
       "      <td>Hungary</td>\n",
       "      <td>Pfizer/BioNTech</td>\n",
       "      <td>2194041.0</td>\n",
       "    </tr>\n",
       "    <tr>\n",
       "      <th>23</th>\n",
       "      <td>Sweden</td>\n",
       "      <td>Pfizer/BioNTech</td>\n",
       "      <td>2169870.0</td>\n",
       "    </tr>\n",
       "    <tr>\n",
       "      <th>24</th>\n",
       "      <td>Belgium</td>\n",
       "      <td>Pfizer/BioNTech</td>\n",
       "      <td>2122557.0</td>\n",
       "    </tr>\n",
       "    <tr>\n",
       "      <th>25</th>\n",
       "      <td>Austria</td>\n",
       "      <td>Pfizer/BioNTech</td>\n",
       "      <td>2046716.0</td>\n",
       "    </tr>\n",
       "    <tr>\n",
       "      <th>26</th>\n",
       "      <td>Saudi Arabia</td>\n",
       "      <td>Pfizer/BioNTech</td>\n",
       "      <td>2017000.0</td>\n",
       "    </tr>\n",
       "    <tr>\n",
       "      <th>27</th>\n",
       "      <td>Greece</td>\n",
       "      <td>Pfizer/BioNTech</td>\n",
       "      <td>1920552.0</td>\n",
       "    </tr>\n",
       "    <tr>\n",
       "      <th>28</th>\n",
       "      <td>Netherlands</td>\n",
       "      <td>Moderna, Pfizer/BioNTech</td>\n",
       "      <td>1581681.0</td>\n",
       "    </tr>\n",
       "    <tr>\n",
       "      <th>29</th>\n",
       "      <td>Ireland</td>\n",
       "      <td>Pfizer/BioNTech</td>\n",
       "      <td>1406954.0</td>\n",
       "    </tr>\n",
       "    <tr>\n",
       "      <th>30</th>\n",
       "      <td>Serbia</td>\n",
       "      <td>Pfizer/BioNTech, Sinopharm, Sputnik V</td>\n",
       "      <td>1357112.0</td>\n",
       "    </tr>\n",
       "    <tr>\n",
       "      <th>31</th>\n",
       "      <td>Switzerland</td>\n",
       "      <td>Pfizer/BioNTech</td>\n",
       "      <td>1256717.0</td>\n",
       "    </tr>\n",
       "    <tr>\n",
       "      <th>32</th>\n",
       "      <td>Slovakia</td>\n",
       "      <td>Pfizer/BioNTech</td>\n",
       "      <td>1163562.0</td>\n",
       "    </tr>\n",
       "    <tr>\n",
       "      <th>33</th>\n",
       "      <td>Lithuania</td>\n",
       "      <td>Moderna, Pfizer/BioNTech</td>\n",
       "      <td>1057411.0</td>\n",
       "    </tr>\n",
       "    <tr>\n",
       "      <th>34</th>\n",
       "      <td>Finland</td>\n",
       "      <td>Pfizer/BioNTech</td>\n",
       "      <td>1032714.0</td>\n",
       "    </tr>\n",
       "    <tr>\n",
       "      <th>35</th>\n",
       "      <td>Norway</td>\n",
       "      <td>Pfizer/BioNTech</td>\n",
       "      <td>979960.0</td>\n",
       "    </tr>\n",
       "    <tr>\n",
       "      <th>36</th>\n",
       "      <td>Croatia</td>\n",
       "      <td>Pfizer/BioNTech</td>\n",
       "      <td>928762.0</td>\n",
       "    </tr>\n",
       "    <tr>\n",
       "      <th>37</th>\n",
       "      <td>Indonesia</td>\n",
       "      <td>Sinovac</td>\n",
       "      <td>820886.0</td>\n",
       "    </tr>\n",
       "    <tr>\n",
       "      <th>38</th>\n",
       "      <td>Chile</td>\n",
       "      <td>Pfizer/BioNTech</td>\n",
       "      <td>798422.0</td>\n",
       "    </tr>\n",
       "    <tr>\n",
       "      <th>39</th>\n",
       "      <td>Slovenia</td>\n",
       "      <td>Pfizer/BioNTech</td>\n",
       "      <td>756163.0</td>\n",
       "    </tr>\n",
       "    <tr>\n",
       "      <th>40</th>\n",
       "      <td>Oman</td>\n",
       "      <td>Pfizer/BioNTech</td>\n",
       "      <td>575532.0</td>\n",
       "    </tr>\n",
       "    <tr>\n",
       "      <th>41</th>\n",
       "      <td>Bulgaria</td>\n",
       "      <td>Moderna, Pfizer/BioNTech</td>\n",
       "      <td>439771.0</td>\n",
       "    </tr>\n",
       "    <tr>\n",
       "      <th>42</th>\n",
       "      <td>Costa Rica</td>\n",
       "      <td>Pfizer/BioNTech</td>\n",
       "      <td>409510.0</td>\n",
       "    </tr>\n",
       "    <tr>\n",
       "      <th>43</th>\n",
       "      <td>Estonia</td>\n",
       "      <td>Pfizer/BioNTech</td>\n",
       "      <td>370554.0</td>\n",
       "    </tr>\n",
       "    <tr>\n",
       "      <th>44</th>\n",
       "      <td>Latvia</td>\n",
       "      <td>Pfizer/BioNTech</td>\n",
       "      <td>288118.0</td>\n",
       "    </tr>\n",
       "    <tr>\n",
       "      <th>45</th>\n",
       "      <td>Malta</td>\n",
       "      <td>Pfizer/BioNTech</td>\n",
       "      <td>201642.0</td>\n",
       "    </tr>\n",
       "    <tr>\n",
       "      <th>46</th>\n",
       "      <td>Iceland</td>\n",
       "      <td>Moderna, Pfizer/BioNTech</td>\n",
       "      <td>148620.0</td>\n",
       "    </tr>\n",
       "    <tr>\n",
       "      <th>47</th>\n",
       "      <td>Seychelles</td>\n",
       "      <td>Sinopharm</td>\n",
       "      <td>139787.0</td>\n",
       "    </tr>\n",
       "    <tr>\n",
       "      <th>48</th>\n",
       "      <td>Cyprus</td>\n",
       "      <td>Pfizer/BioNTech</td>\n",
       "      <td>134740.0</td>\n",
       "    </tr>\n",
       "    <tr>\n",
       "      <th>49</th>\n",
       "      <td>Singapore</td>\n",
       "      <td>Pfizer/BioNTech</td>\n",
       "      <td>125400.0</td>\n",
       "    </tr>\n",
       "    <tr>\n",
       "      <th>50</th>\n",
       "      <td>Gibraltar</td>\n",
       "      <td>Pfizer/BioNTech</td>\n",
       "      <td>94177.0</td>\n",
       "    </tr>\n",
       "    <tr>\n",
       "      <th>51</th>\n",
       "      <td>Luxembourg</td>\n",
       "      <td>Pfizer/BioNTech</td>\n",
       "      <td>87238.0</td>\n",
       "    </tr>\n",
       "    <tr>\n",
       "      <th>52</th>\n",
       "      <td>Northern Cyprus</td>\n",
       "      <td>Pfizer/BioNTech, Sinovac</td>\n",
       "      <td>25904.0</td>\n",
       "    </tr>\n",
       "    <tr>\n",
       "      <th>53</th>\n",
       "      <td>Panama</td>\n",
       "      <td>Pfizer/BioNTech</td>\n",
       "      <td>19829.0</td>\n",
       "    </tr>\n",
       "    <tr>\n",
       "      <th>54</th>\n",
       "      <td>Isle of Man</td>\n",
       "      <td>Pfizer/BioNTech</td>\n",
       "      <td>18711.0</td>\n",
       "    </tr>\n",
       "    <tr>\n",
       "      <th>55</th>\n",
       "      <td>Kuwait</td>\n",
       "      <td>Pfizer/BioNTech</td>\n",
       "      <td>2500.0</td>\n",
       "    </tr>\n",
       "    <tr>\n",
       "      <th>56</th>\n",
       "      <td>Bermuda</td>\n",
       "      <td>Pfizer/BioNTech</td>\n",
       "      <td>1665.0</td>\n",
       "    </tr>\n",
       "    <tr>\n",
       "      <th>57</th>\n",
       "      <td>Ecuador</td>\n",
       "      <td>Pfizer/BioNTech</td>\n",
       "      <td>108.0</td>\n",
       "    </tr>\n",
       "  </tbody>\n",
       "</table>\n",
       "</div>"
      ],
      "text/plain": [
       "                 country                               vaccines  \\\n",
       "0          United States               Moderna, Pfizer/BioNTech   \n",
       "1         United Kingdom    Oxford/AstraZeneca, Pfizer/BioNTech   \n",
       "2                  China                          CNBG, Sinovac   \n",
       "3                 Israel               Moderna, Pfizer/BioNTech   \n",
       "4   United Arab Emirates             Pfizer/BioNTech, Sinopharm   \n",
       "5                Germany               Moderna, Pfizer/BioNTech   \n",
       "6                  Italy                        Pfizer/BioNTech   \n",
       "7                  Spain               Moderna, Pfizer/BioNTech   \n",
       "8                 Turkey                                Sinovac   \n",
       "9                 Canada               Moderna, Pfizer/BioNTech   \n",
       "10                 India                    Covaxin, Covishield   \n",
       "11                Russia                              Sputnik V   \n",
       "12                France                        Pfizer/BioNTech   \n",
       "13                Poland                        Pfizer/BioNTech   \n",
       "14                Mexico                        Pfizer/BioNTech   \n",
       "15               Romania                        Pfizer/BioNTech   \n",
       "16             Argentina                              Sputnik V   \n",
       "17               Denmark               Moderna, Pfizer/BioNTech   \n",
       "18                Brazil                                Sinovac   \n",
       "19              Portugal                        Pfizer/BioNTech   \n",
       "20               Czechia               Moderna, Pfizer/BioNTech   \n",
       "21               Bahrain             Pfizer/BioNTech, Sinopharm   \n",
       "22               Hungary                        Pfizer/BioNTech   \n",
       "23                Sweden                        Pfizer/BioNTech   \n",
       "24               Belgium                        Pfizer/BioNTech   \n",
       "25               Austria                        Pfizer/BioNTech   \n",
       "26          Saudi Arabia                        Pfizer/BioNTech   \n",
       "27                Greece                        Pfizer/BioNTech   \n",
       "28           Netherlands               Moderna, Pfizer/BioNTech   \n",
       "29               Ireland                        Pfizer/BioNTech   \n",
       "30                Serbia  Pfizer/BioNTech, Sinopharm, Sputnik V   \n",
       "31           Switzerland                        Pfizer/BioNTech   \n",
       "32              Slovakia                        Pfizer/BioNTech   \n",
       "33             Lithuania               Moderna, Pfizer/BioNTech   \n",
       "34               Finland                        Pfizer/BioNTech   \n",
       "35                Norway                        Pfizer/BioNTech   \n",
       "36               Croatia                        Pfizer/BioNTech   \n",
       "37             Indonesia                                Sinovac   \n",
       "38                 Chile                        Pfizer/BioNTech   \n",
       "39              Slovenia                        Pfizer/BioNTech   \n",
       "40                  Oman                        Pfizer/BioNTech   \n",
       "41              Bulgaria               Moderna, Pfizer/BioNTech   \n",
       "42            Costa Rica                        Pfizer/BioNTech   \n",
       "43               Estonia                        Pfizer/BioNTech   \n",
       "44                Latvia                        Pfizer/BioNTech   \n",
       "45                 Malta                        Pfizer/BioNTech   \n",
       "46               Iceland               Moderna, Pfizer/BioNTech   \n",
       "47            Seychelles                              Sinopharm   \n",
       "48                Cyprus                        Pfizer/BioNTech   \n",
       "49             Singapore                        Pfizer/BioNTech   \n",
       "50             Gibraltar                        Pfizer/BioNTech   \n",
       "51            Luxembourg                        Pfizer/BioNTech   \n",
       "52       Northern Cyprus               Pfizer/BioNTech, Sinovac   \n",
       "53                Panama                        Pfizer/BioNTech   \n",
       "54           Isle of Man                        Pfizer/BioNTech   \n",
       "55                Kuwait                        Pfizer/BioNTech   \n",
       "56               Bermuda                        Pfizer/BioNTech   \n",
       "57               Ecuador                        Pfizer/BioNTech   \n",
       "\n",
       "    total_vaccinations  \n",
       "0          316885603.0  \n",
       "1          196862418.0  \n",
       "2          185500000.0  \n",
       "3           65596935.0  \n",
       "4           37247322.0  \n",
       "5           24332685.0  \n",
       "6           22305123.0  \n",
       "7           15881211.0  \n",
       "8           12622030.0  \n",
       "9           12591453.0  \n",
       "10          12035970.0  \n",
       "11          10571500.0  \n",
       "12          10328550.0  \n",
       "13           9278604.0  \n",
       "14           7855933.0  \n",
       "15           5162881.0  \n",
       "16           4134631.0  \n",
       "17           3494361.0  \n",
       "18           3115617.0  \n",
       "19           2714673.0  \n",
       "20           2619608.0  \n",
       "21           2403216.0  \n",
       "22           2194041.0  \n",
       "23           2169870.0  \n",
       "24           2122557.0  \n",
       "25           2046716.0  \n",
       "26           2017000.0  \n",
       "27           1920552.0  \n",
       "28           1581681.0  \n",
       "29           1406954.0  \n",
       "30           1357112.0  \n",
       "31           1256717.0  \n",
       "32           1163562.0  \n",
       "33           1057411.0  \n",
       "34           1032714.0  \n",
       "35            979960.0  \n",
       "36            928762.0  \n",
       "37            820886.0  \n",
       "38            798422.0  \n",
       "39            756163.0  \n",
       "40            575532.0  \n",
       "41            439771.0  \n",
       "42            409510.0  \n",
       "43            370554.0  \n",
       "44            288118.0  \n",
       "45            201642.0  \n",
       "46            148620.0  \n",
       "47            139787.0  \n",
       "48            134740.0  \n",
       "49            125400.0  \n",
       "50             94177.0  \n",
       "51             87238.0  \n",
       "52             25904.0  \n",
       "53             19829.0  \n",
       "54             18711.0  \n",
       "55              2500.0  \n",
       "56              1665.0  \n",
       "57               108.0  "
      ]
     },
     "execution_count": 73,
     "metadata": {},
     "output_type": "execute_result"
    }
   ],
   "source": [
    "covid19_vaccinations_df_country_vaccine_type"
   ]
  },
  {
   "cell_type": "code",
   "execution_count": 74,
   "metadata": {},
   "outputs": [
    {
     "data": {
      "application/vnd.plotly.v1+json": {
       "config": {
        "plotlyServerURL": "https://plot.ly"
       },
       "data": [
        {
         "alignmentgroup": "True",
         "hoverlabel": {
          "namelength": 0
         },
         "hovertemplate": "country=United States<br>vaccines=%{x}<br>total_vaccinations=%{y}",
         "legendgroup": "United States",
         "marker": {
          "color": "#AA0DFE"
         },
         "name": "United States",
         "offsetgroup": "United States",
         "orientation": "v",
         "showlegend": true,
         "textposition": "auto",
         "type": "bar",
         "x": [
          "Moderna, Pfizer/BioNTech"
         ],
         "xaxis": "x",
         "y": [
          316885603
         ],
         "yaxis": "y"
        },
        {
         "alignmentgroup": "True",
         "hoverlabel": {
          "namelength": 0
         },
         "hovertemplate": "country=United Kingdom<br>vaccines=%{x}<br>total_vaccinations=%{y}",
         "legendgroup": "United Kingdom",
         "marker": {
          "color": "#3283FE"
         },
         "name": "United Kingdom",
         "offsetgroup": "United Kingdom",
         "orientation": "v",
         "showlegend": true,
         "textposition": "auto",
         "type": "bar",
         "x": [
          "Oxford/AstraZeneca, Pfizer/BioNTech"
         ],
         "xaxis": "x",
         "y": [
          196862418
         ],
         "yaxis": "y"
        },
        {
         "alignmentgroup": "True",
         "hoverlabel": {
          "namelength": 0
         },
         "hovertemplate": "country=China<br>vaccines=%{x}<br>total_vaccinations=%{y}",
         "legendgroup": "China",
         "marker": {
          "color": "#85660D"
         },
         "name": "China",
         "offsetgroup": "China",
         "orientation": "v",
         "showlegend": true,
         "textposition": "auto",
         "type": "bar",
         "x": [
          "CNBG, Sinovac"
         ],
         "xaxis": "x",
         "y": [
          185500000
         ],
         "yaxis": "y"
        },
        {
         "alignmentgroup": "True",
         "hoverlabel": {
          "namelength": 0
         },
         "hovertemplate": "country=Israel<br>vaccines=%{x}<br>total_vaccinations=%{y}",
         "legendgroup": "Israel",
         "marker": {
          "color": "#782AB6"
         },
         "name": "Israel",
         "offsetgroup": "Israel",
         "orientation": "v",
         "showlegend": true,
         "textposition": "auto",
         "type": "bar",
         "x": [
          "Moderna, Pfizer/BioNTech"
         ],
         "xaxis": "x",
         "y": [
          65596935
         ],
         "yaxis": "y"
        },
        {
         "alignmentgroup": "True",
         "hoverlabel": {
          "namelength": 0
         },
         "hovertemplate": "country=United Arab Emirates<br>vaccines=%{x}<br>total_vaccinations=%{y}",
         "legendgroup": "United Arab Emirates",
         "marker": {
          "color": "#565656"
         },
         "name": "United Arab Emirates",
         "offsetgroup": "United Arab Emirates",
         "orientation": "v",
         "showlegend": true,
         "textposition": "auto",
         "type": "bar",
         "x": [
          "Pfizer/BioNTech, Sinopharm"
         ],
         "xaxis": "x",
         "y": [
          37247322
         ],
         "yaxis": "y"
        },
        {
         "alignmentgroup": "True",
         "hoverlabel": {
          "namelength": 0
         },
         "hovertemplate": "country=Germany<br>vaccines=%{x}<br>total_vaccinations=%{y}",
         "legendgroup": "Germany",
         "marker": {
          "color": "#1C8356"
         },
         "name": "Germany",
         "offsetgroup": "Germany",
         "orientation": "v",
         "showlegend": true,
         "textposition": "auto",
         "type": "bar",
         "x": [
          "Moderna, Pfizer/BioNTech"
         ],
         "xaxis": "x",
         "y": [
          24332685
         ],
         "yaxis": "y"
        },
        {
         "alignmentgroup": "True",
         "hoverlabel": {
          "namelength": 0
         },
         "hovertemplate": "country=Italy<br>vaccines=%{x}<br>total_vaccinations=%{y}",
         "legendgroup": "Italy",
         "marker": {
          "color": "#16FF32"
         },
         "name": "Italy",
         "offsetgroup": "Italy",
         "orientation": "v",
         "showlegend": true,
         "textposition": "auto",
         "type": "bar",
         "x": [
          "Pfizer/BioNTech"
         ],
         "xaxis": "x",
         "y": [
          22305123
         ],
         "yaxis": "y"
        },
        {
         "alignmentgroup": "True",
         "hoverlabel": {
          "namelength": 0
         },
         "hovertemplate": "country=Spain<br>vaccines=%{x}<br>total_vaccinations=%{y}",
         "legendgroup": "Spain",
         "marker": {
          "color": "#F7E1A0"
         },
         "name": "Spain",
         "offsetgroup": "Spain",
         "orientation": "v",
         "showlegend": true,
         "textposition": "auto",
         "type": "bar",
         "x": [
          "Moderna, Pfizer/BioNTech"
         ],
         "xaxis": "x",
         "y": [
          15881211
         ],
         "yaxis": "y"
        },
        {
         "alignmentgroup": "True",
         "hoverlabel": {
          "namelength": 0
         },
         "hovertemplate": "country=Turkey<br>vaccines=%{x}<br>total_vaccinations=%{y}",
         "legendgroup": "Turkey",
         "marker": {
          "color": "#E2E2E2"
         },
         "name": "Turkey",
         "offsetgroup": "Turkey",
         "orientation": "v",
         "showlegend": true,
         "textposition": "auto",
         "type": "bar",
         "x": [
          "Sinovac"
         ],
         "xaxis": "x",
         "y": [
          12622030
         ],
         "yaxis": "y"
        },
        {
         "alignmentgroup": "True",
         "hoverlabel": {
          "namelength": 0
         },
         "hovertemplate": "country=Canada<br>vaccines=%{x}<br>total_vaccinations=%{y}",
         "legendgroup": "Canada",
         "marker": {
          "color": "#1CBE4F"
         },
         "name": "Canada",
         "offsetgroup": "Canada",
         "orientation": "v",
         "showlegend": true,
         "textposition": "auto",
         "type": "bar",
         "x": [
          "Moderna, Pfizer/BioNTech"
         ],
         "xaxis": "x",
         "y": [
          12591453
         ],
         "yaxis": "y"
        },
        {
         "alignmentgroup": "True",
         "hoverlabel": {
          "namelength": 0
         },
         "hovertemplate": "country=India<br>vaccines=%{x}<br>total_vaccinations=%{y}",
         "legendgroup": "India",
         "marker": {
          "color": "#C4451C"
         },
         "name": "India",
         "offsetgroup": "India",
         "orientation": "v",
         "showlegend": true,
         "textposition": "auto",
         "type": "bar",
         "x": [
          "Covaxin, Covishield"
         ],
         "xaxis": "x",
         "y": [
          12035970
         ],
         "yaxis": "y"
        },
        {
         "alignmentgroup": "True",
         "hoverlabel": {
          "namelength": 0
         },
         "hovertemplate": "country=Russia<br>vaccines=%{x}<br>total_vaccinations=%{y}",
         "legendgroup": "Russia",
         "marker": {
          "color": "#DEA0FD"
         },
         "name": "Russia",
         "offsetgroup": "Russia",
         "orientation": "v",
         "showlegend": true,
         "textposition": "auto",
         "type": "bar",
         "x": [
          "Sputnik V"
         ],
         "xaxis": "x",
         "y": [
          10571500
         ],
         "yaxis": "y"
        },
        {
         "alignmentgroup": "True",
         "hoverlabel": {
          "namelength": 0
         },
         "hovertemplate": "country=France<br>vaccines=%{x}<br>total_vaccinations=%{y}",
         "legendgroup": "France",
         "marker": {
          "color": "#FE00FA"
         },
         "name": "France",
         "offsetgroup": "France",
         "orientation": "v",
         "showlegend": true,
         "textposition": "auto",
         "type": "bar",
         "x": [
          "Pfizer/BioNTech"
         ],
         "xaxis": "x",
         "y": [
          10328550
         ],
         "yaxis": "y"
        },
        {
         "alignmentgroup": "True",
         "hoverlabel": {
          "namelength": 0
         },
         "hovertemplate": "country=Poland<br>vaccines=%{x}<br>total_vaccinations=%{y}",
         "legendgroup": "Poland",
         "marker": {
          "color": "#325A9B"
         },
         "name": "Poland",
         "offsetgroup": "Poland",
         "orientation": "v",
         "showlegend": true,
         "textposition": "auto",
         "type": "bar",
         "x": [
          "Pfizer/BioNTech"
         ],
         "xaxis": "x",
         "y": [
          9278604
         ],
         "yaxis": "y"
        },
        {
         "alignmentgroup": "True",
         "hoverlabel": {
          "namelength": 0
         },
         "hovertemplate": "country=Mexico<br>vaccines=%{x}<br>total_vaccinations=%{y}",
         "legendgroup": "Mexico",
         "marker": {
          "color": "#FEAF16"
         },
         "name": "Mexico",
         "offsetgroup": "Mexico",
         "orientation": "v",
         "showlegend": true,
         "textposition": "auto",
         "type": "bar",
         "x": [
          "Pfizer/BioNTech"
         ],
         "xaxis": "x",
         "y": [
          7855933
         ],
         "yaxis": "y"
        },
        {
         "alignmentgroup": "True",
         "hoverlabel": {
          "namelength": 0
         },
         "hovertemplate": "country=Romania<br>vaccines=%{x}<br>total_vaccinations=%{y}",
         "legendgroup": "Romania",
         "marker": {
          "color": "#F8A19F"
         },
         "name": "Romania",
         "offsetgroup": "Romania",
         "orientation": "v",
         "showlegend": true,
         "textposition": "auto",
         "type": "bar",
         "x": [
          "Pfizer/BioNTech"
         ],
         "xaxis": "x",
         "y": [
          5162881
         ],
         "yaxis": "y"
        },
        {
         "alignmentgroup": "True",
         "hoverlabel": {
          "namelength": 0
         },
         "hovertemplate": "country=Argentina<br>vaccines=%{x}<br>total_vaccinations=%{y}",
         "legendgroup": "Argentina",
         "marker": {
          "color": "#90AD1C"
         },
         "name": "Argentina",
         "offsetgroup": "Argentina",
         "orientation": "v",
         "showlegend": true,
         "textposition": "auto",
         "type": "bar",
         "x": [
          "Sputnik V"
         ],
         "xaxis": "x",
         "y": [
          4134631
         ],
         "yaxis": "y"
        },
        {
         "alignmentgroup": "True",
         "hoverlabel": {
          "namelength": 0
         },
         "hovertemplate": "country=Denmark<br>vaccines=%{x}<br>total_vaccinations=%{y}",
         "legendgroup": "Denmark",
         "marker": {
          "color": "#F6222E"
         },
         "name": "Denmark",
         "offsetgroup": "Denmark",
         "orientation": "v",
         "showlegend": true,
         "textposition": "auto",
         "type": "bar",
         "x": [
          "Moderna, Pfizer/BioNTech"
         ],
         "xaxis": "x",
         "y": [
          3494361
         ],
         "yaxis": "y"
        },
        {
         "alignmentgroup": "True",
         "hoverlabel": {
          "namelength": 0
         },
         "hovertemplate": "country=Brazil<br>vaccines=%{x}<br>total_vaccinations=%{y}",
         "legendgroup": "Brazil",
         "marker": {
          "color": "#1CFFCE"
         },
         "name": "Brazil",
         "offsetgroup": "Brazil",
         "orientation": "v",
         "showlegend": true,
         "textposition": "auto",
         "type": "bar",
         "x": [
          "Sinovac"
         ],
         "xaxis": "x",
         "y": [
          3115617
         ],
         "yaxis": "y"
        },
        {
         "alignmentgroup": "True",
         "hoverlabel": {
          "namelength": 0
         },
         "hovertemplate": "country=Portugal<br>vaccines=%{x}<br>total_vaccinations=%{y}",
         "legendgroup": "Portugal",
         "marker": {
          "color": "#2ED9FF"
         },
         "name": "Portugal",
         "offsetgroup": "Portugal",
         "orientation": "v",
         "showlegend": true,
         "textposition": "auto",
         "type": "bar",
         "x": [
          "Pfizer/BioNTech"
         ],
         "xaxis": "x",
         "y": [
          2714673
         ],
         "yaxis": "y"
        },
        {
         "alignmentgroup": "True",
         "hoverlabel": {
          "namelength": 0
         },
         "hovertemplate": "country=Czechia<br>vaccines=%{x}<br>total_vaccinations=%{y}",
         "legendgroup": "Czechia",
         "marker": {
          "color": "#B10DA1"
         },
         "name": "Czechia",
         "offsetgroup": "Czechia",
         "orientation": "v",
         "showlegend": true,
         "textposition": "auto",
         "type": "bar",
         "x": [
          "Moderna, Pfizer/BioNTech"
         ],
         "xaxis": "x",
         "y": [
          2619608
         ],
         "yaxis": "y"
        },
        {
         "alignmentgroup": "True",
         "hoverlabel": {
          "namelength": 0
         },
         "hovertemplate": "country=Bahrain<br>vaccines=%{x}<br>total_vaccinations=%{y}",
         "legendgroup": "Bahrain",
         "marker": {
          "color": "#C075A6"
         },
         "name": "Bahrain",
         "offsetgroup": "Bahrain",
         "orientation": "v",
         "showlegend": true,
         "textposition": "auto",
         "type": "bar",
         "x": [
          "Pfizer/BioNTech, Sinopharm"
         ],
         "xaxis": "x",
         "y": [
          2403216
         ],
         "yaxis": "y"
        },
        {
         "alignmentgroup": "True",
         "hoverlabel": {
          "namelength": 0
         },
         "hovertemplate": "country=Hungary<br>vaccines=%{x}<br>total_vaccinations=%{y}",
         "legendgroup": "Hungary",
         "marker": {
          "color": "#FC1CBF"
         },
         "name": "Hungary",
         "offsetgroup": "Hungary",
         "orientation": "v",
         "showlegend": true,
         "textposition": "auto",
         "type": "bar",
         "x": [
          "Pfizer/BioNTech"
         ],
         "xaxis": "x",
         "y": [
          2194041
         ],
         "yaxis": "y"
        },
        {
         "alignmentgroup": "True",
         "hoverlabel": {
          "namelength": 0
         },
         "hovertemplate": "country=Sweden<br>vaccines=%{x}<br>total_vaccinations=%{y}",
         "legendgroup": "Sweden",
         "marker": {
          "color": "#B00068"
         },
         "name": "Sweden",
         "offsetgroup": "Sweden",
         "orientation": "v",
         "showlegend": true,
         "textposition": "auto",
         "type": "bar",
         "x": [
          "Pfizer/BioNTech"
         ],
         "xaxis": "x",
         "y": [
          2169870
         ],
         "yaxis": "y"
        },
        {
         "alignmentgroup": "True",
         "hoverlabel": {
          "namelength": 0
         },
         "hovertemplate": "country=Belgium<br>vaccines=%{x}<br>total_vaccinations=%{y}",
         "legendgroup": "Belgium",
         "marker": {
          "color": "#FBE426"
         },
         "name": "Belgium",
         "offsetgroup": "Belgium",
         "orientation": "v",
         "showlegend": true,
         "textposition": "auto",
         "type": "bar",
         "x": [
          "Pfizer/BioNTech"
         ],
         "xaxis": "x",
         "y": [
          2122557
         ],
         "yaxis": "y"
        },
        {
         "alignmentgroup": "True",
         "hoverlabel": {
          "namelength": 0
         },
         "hovertemplate": "country=Austria<br>vaccines=%{x}<br>total_vaccinations=%{y}",
         "legendgroup": "Austria",
         "marker": {
          "color": "#FA0087"
         },
         "name": "Austria",
         "offsetgroup": "Austria",
         "orientation": "v",
         "showlegend": true,
         "textposition": "auto",
         "type": "bar",
         "x": [
          "Pfizer/BioNTech"
         ],
         "xaxis": "x",
         "y": [
          2046716
         ],
         "yaxis": "y"
        },
        {
         "alignmentgroup": "True",
         "hoverlabel": {
          "namelength": 0
         },
         "hovertemplate": "country=Saudi Arabia<br>vaccines=%{x}<br>total_vaccinations=%{y}",
         "legendgroup": "Saudi Arabia",
         "marker": {
          "color": "#AA0DFE"
         },
         "name": "Saudi Arabia",
         "offsetgroup": "Saudi Arabia",
         "orientation": "v",
         "showlegend": true,
         "textposition": "auto",
         "type": "bar",
         "x": [
          "Pfizer/BioNTech"
         ],
         "xaxis": "x",
         "y": [
          2017000
         ],
         "yaxis": "y"
        },
        {
         "alignmentgroup": "True",
         "hoverlabel": {
          "namelength": 0
         },
         "hovertemplate": "country=Greece<br>vaccines=%{x}<br>total_vaccinations=%{y}",
         "legendgroup": "Greece",
         "marker": {
          "color": "#3283FE"
         },
         "name": "Greece",
         "offsetgroup": "Greece",
         "orientation": "v",
         "showlegend": true,
         "textposition": "auto",
         "type": "bar",
         "x": [
          "Pfizer/BioNTech"
         ],
         "xaxis": "x",
         "y": [
          1920552
         ],
         "yaxis": "y"
        },
        {
         "alignmentgroup": "True",
         "hoverlabel": {
          "namelength": 0
         },
         "hovertemplate": "country=Netherlands<br>vaccines=%{x}<br>total_vaccinations=%{y}",
         "legendgroup": "Netherlands",
         "marker": {
          "color": "#85660D"
         },
         "name": "Netherlands",
         "offsetgroup": "Netherlands",
         "orientation": "v",
         "showlegend": true,
         "textposition": "auto",
         "type": "bar",
         "x": [
          "Moderna, Pfizer/BioNTech"
         ],
         "xaxis": "x",
         "y": [
          1581681
         ],
         "yaxis": "y"
        },
        {
         "alignmentgroup": "True",
         "hoverlabel": {
          "namelength": 0
         },
         "hovertemplate": "country=Ireland<br>vaccines=%{x}<br>total_vaccinations=%{y}",
         "legendgroup": "Ireland",
         "marker": {
          "color": "#782AB6"
         },
         "name": "Ireland",
         "offsetgroup": "Ireland",
         "orientation": "v",
         "showlegend": true,
         "textposition": "auto",
         "type": "bar",
         "x": [
          "Pfizer/BioNTech"
         ],
         "xaxis": "x",
         "y": [
          1406954
         ],
         "yaxis": "y"
        },
        {
         "alignmentgroup": "True",
         "hoverlabel": {
          "namelength": 0
         },
         "hovertemplate": "country=Serbia<br>vaccines=%{x}<br>total_vaccinations=%{y}",
         "legendgroup": "Serbia",
         "marker": {
          "color": "#565656"
         },
         "name": "Serbia",
         "offsetgroup": "Serbia",
         "orientation": "v",
         "showlegend": true,
         "textposition": "auto",
         "type": "bar",
         "x": [
          "Pfizer/BioNTech, Sinopharm, Sputnik V"
         ],
         "xaxis": "x",
         "y": [
          1357112
         ],
         "yaxis": "y"
        },
        {
         "alignmentgroup": "True",
         "hoverlabel": {
          "namelength": 0
         },
         "hovertemplate": "country=Switzerland<br>vaccines=%{x}<br>total_vaccinations=%{y}",
         "legendgroup": "Switzerland",
         "marker": {
          "color": "#1C8356"
         },
         "name": "Switzerland",
         "offsetgroup": "Switzerland",
         "orientation": "v",
         "showlegend": true,
         "textposition": "auto",
         "type": "bar",
         "x": [
          "Pfizer/BioNTech"
         ],
         "xaxis": "x",
         "y": [
          1256717
         ],
         "yaxis": "y"
        },
        {
         "alignmentgroup": "True",
         "hoverlabel": {
          "namelength": 0
         },
         "hovertemplate": "country=Slovakia<br>vaccines=%{x}<br>total_vaccinations=%{y}",
         "legendgroup": "Slovakia",
         "marker": {
          "color": "#16FF32"
         },
         "name": "Slovakia",
         "offsetgroup": "Slovakia",
         "orientation": "v",
         "showlegend": true,
         "textposition": "auto",
         "type": "bar",
         "x": [
          "Pfizer/BioNTech"
         ],
         "xaxis": "x",
         "y": [
          1163562
         ],
         "yaxis": "y"
        },
        {
         "alignmentgroup": "True",
         "hoverlabel": {
          "namelength": 0
         },
         "hovertemplate": "country=Lithuania<br>vaccines=%{x}<br>total_vaccinations=%{y}",
         "legendgroup": "Lithuania",
         "marker": {
          "color": "#F7E1A0"
         },
         "name": "Lithuania",
         "offsetgroup": "Lithuania",
         "orientation": "v",
         "showlegend": true,
         "textposition": "auto",
         "type": "bar",
         "x": [
          "Moderna, Pfizer/BioNTech"
         ],
         "xaxis": "x",
         "y": [
          1057411
         ],
         "yaxis": "y"
        },
        {
         "alignmentgroup": "True",
         "hoverlabel": {
          "namelength": 0
         },
         "hovertemplate": "country=Finland<br>vaccines=%{x}<br>total_vaccinations=%{y}",
         "legendgroup": "Finland",
         "marker": {
          "color": "#E2E2E2"
         },
         "name": "Finland",
         "offsetgroup": "Finland",
         "orientation": "v",
         "showlegend": true,
         "textposition": "auto",
         "type": "bar",
         "x": [
          "Pfizer/BioNTech"
         ],
         "xaxis": "x",
         "y": [
          1032714
         ],
         "yaxis": "y"
        },
        {
         "alignmentgroup": "True",
         "hoverlabel": {
          "namelength": 0
         },
         "hovertemplate": "country=Norway<br>vaccines=%{x}<br>total_vaccinations=%{y}",
         "legendgroup": "Norway",
         "marker": {
          "color": "#1CBE4F"
         },
         "name": "Norway",
         "offsetgroup": "Norway",
         "orientation": "v",
         "showlegend": true,
         "textposition": "auto",
         "type": "bar",
         "x": [
          "Pfizer/BioNTech"
         ],
         "xaxis": "x",
         "y": [
          979960
         ],
         "yaxis": "y"
        },
        {
         "alignmentgroup": "True",
         "hoverlabel": {
          "namelength": 0
         },
         "hovertemplate": "country=Croatia<br>vaccines=%{x}<br>total_vaccinations=%{y}",
         "legendgroup": "Croatia",
         "marker": {
          "color": "#C4451C"
         },
         "name": "Croatia",
         "offsetgroup": "Croatia",
         "orientation": "v",
         "showlegend": true,
         "textposition": "auto",
         "type": "bar",
         "x": [
          "Pfizer/BioNTech"
         ],
         "xaxis": "x",
         "y": [
          928762
         ],
         "yaxis": "y"
        },
        {
         "alignmentgroup": "True",
         "hoverlabel": {
          "namelength": 0
         },
         "hovertemplate": "country=Indonesia<br>vaccines=%{x}<br>total_vaccinations=%{y}",
         "legendgroup": "Indonesia",
         "marker": {
          "color": "#DEA0FD"
         },
         "name": "Indonesia",
         "offsetgroup": "Indonesia",
         "orientation": "v",
         "showlegend": true,
         "textposition": "auto",
         "type": "bar",
         "x": [
          "Sinovac"
         ],
         "xaxis": "x",
         "y": [
          820886
         ],
         "yaxis": "y"
        },
        {
         "alignmentgroup": "True",
         "hoverlabel": {
          "namelength": 0
         },
         "hovertemplate": "country=Chile<br>vaccines=%{x}<br>total_vaccinations=%{y}",
         "legendgroup": "Chile",
         "marker": {
          "color": "#FE00FA"
         },
         "name": "Chile",
         "offsetgroup": "Chile",
         "orientation": "v",
         "showlegend": true,
         "textposition": "auto",
         "type": "bar",
         "x": [
          "Pfizer/BioNTech"
         ],
         "xaxis": "x",
         "y": [
          798422
         ],
         "yaxis": "y"
        },
        {
         "alignmentgroup": "True",
         "hoverlabel": {
          "namelength": 0
         },
         "hovertemplate": "country=Slovenia<br>vaccines=%{x}<br>total_vaccinations=%{y}",
         "legendgroup": "Slovenia",
         "marker": {
          "color": "#325A9B"
         },
         "name": "Slovenia",
         "offsetgroup": "Slovenia",
         "orientation": "v",
         "showlegend": true,
         "textposition": "auto",
         "type": "bar",
         "x": [
          "Pfizer/BioNTech"
         ],
         "xaxis": "x",
         "y": [
          756163
         ],
         "yaxis": "y"
        },
        {
         "alignmentgroup": "True",
         "hoverlabel": {
          "namelength": 0
         },
         "hovertemplate": "country=Oman<br>vaccines=%{x}<br>total_vaccinations=%{y}",
         "legendgroup": "Oman",
         "marker": {
          "color": "#FEAF16"
         },
         "name": "Oman",
         "offsetgroup": "Oman",
         "orientation": "v",
         "showlegend": true,
         "textposition": "auto",
         "type": "bar",
         "x": [
          "Pfizer/BioNTech"
         ],
         "xaxis": "x",
         "y": [
          575532
         ],
         "yaxis": "y"
        },
        {
         "alignmentgroup": "True",
         "hoverlabel": {
          "namelength": 0
         },
         "hovertemplate": "country=Bulgaria<br>vaccines=%{x}<br>total_vaccinations=%{y}",
         "legendgroup": "Bulgaria",
         "marker": {
          "color": "#F8A19F"
         },
         "name": "Bulgaria",
         "offsetgroup": "Bulgaria",
         "orientation": "v",
         "showlegend": true,
         "textposition": "auto",
         "type": "bar",
         "x": [
          "Moderna, Pfizer/BioNTech"
         ],
         "xaxis": "x",
         "y": [
          439771
         ],
         "yaxis": "y"
        },
        {
         "alignmentgroup": "True",
         "hoverlabel": {
          "namelength": 0
         },
         "hovertemplate": "country=Costa Rica<br>vaccines=%{x}<br>total_vaccinations=%{y}",
         "legendgroup": "Costa Rica",
         "marker": {
          "color": "#90AD1C"
         },
         "name": "Costa Rica",
         "offsetgroup": "Costa Rica",
         "orientation": "v",
         "showlegend": true,
         "textposition": "auto",
         "type": "bar",
         "x": [
          "Pfizer/BioNTech"
         ],
         "xaxis": "x",
         "y": [
          409510
         ],
         "yaxis": "y"
        },
        {
         "alignmentgroup": "True",
         "hoverlabel": {
          "namelength": 0
         },
         "hovertemplate": "country=Estonia<br>vaccines=%{x}<br>total_vaccinations=%{y}",
         "legendgroup": "Estonia",
         "marker": {
          "color": "#F6222E"
         },
         "name": "Estonia",
         "offsetgroup": "Estonia",
         "orientation": "v",
         "showlegend": true,
         "textposition": "auto",
         "type": "bar",
         "x": [
          "Pfizer/BioNTech"
         ],
         "xaxis": "x",
         "y": [
          370554
         ],
         "yaxis": "y"
        },
        {
         "alignmentgroup": "True",
         "hoverlabel": {
          "namelength": 0
         },
         "hovertemplate": "country=Latvia<br>vaccines=%{x}<br>total_vaccinations=%{y}",
         "legendgroup": "Latvia",
         "marker": {
          "color": "#1CFFCE"
         },
         "name": "Latvia",
         "offsetgroup": "Latvia",
         "orientation": "v",
         "showlegend": true,
         "textposition": "auto",
         "type": "bar",
         "x": [
          "Pfizer/BioNTech"
         ],
         "xaxis": "x",
         "y": [
          288118
         ],
         "yaxis": "y"
        },
        {
         "alignmentgroup": "True",
         "hoverlabel": {
          "namelength": 0
         },
         "hovertemplate": "country=Malta<br>vaccines=%{x}<br>total_vaccinations=%{y}",
         "legendgroup": "Malta",
         "marker": {
          "color": "#2ED9FF"
         },
         "name": "Malta",
         "offsetgroup": "Malta",
         "orientation": "v",
         "showlegend": true,
         "textposition": "auto",
         "type": "bar",
         "x": [
          "Pfizer/BioNTech"
         ],
         "xaxis": "x",
         "y": [
          201642
         ],
         "yaxis": "y"
        },
        {
         "alignmentgroup": "True",
         "hoverlabel": {
          "namelength": 0
         },
         "hovertemplate": "country=Iceland<br>vaccines=%{x}<br>total_vaccinations=%{y}",
         "legendgroup": "Iceland",
         "marker": {
          "color": "#B10DA1"
         },
         "name": "Iceland",
         "offsetgroup": "Iceland",
         "orientation": "v",
         "showlegend": true,
         "textposition": "auto",
         "type": "bar",
         "x": [
          "Moderna, Pfizer/BioNTech"
         ],
         "xaxis": "x",
         "y": [
          148620
         ],
         "yaxis": "y"
        },
        {
         "alignmentgroup": "True",
         "hoverlabel": {
          "namelength": 0
         },
         "hovertemplate": "country=Seychelles<br>vaccines=%{x}<br>total_vaccinations=%{y}",
         "legendgroup": "Seychelles",
         "marker": {
          "color": "#C075A6"
         },
         "name": "Seychelles",
         "offsetgroup": "Seychelles",
         "orientation": "v",
         "showlegend": true,
         "textposition": "auto",
         "type": "bar",
         "x": [
          "Sinopharm"
         ],
         "xaxis": "x",
         "y": [
          139787
         ],
         "yaxis": "y"
        },
        {
         "alignmentgroup": "True",
         "hoverlabel": {
          "namelength": 0
         },
         "hovertemplate": "country=Cyprus<br>vaccines=%{x}<br>total_vaccinations=%{y}",
         "legendgroup": "Cyprus",
         "marker": {
          "color": "#FC1CBF"
         },
         "name": "Cyprus",
         "offsetgroup": "Cyprus",
         "orientation": "v",
         "showlegend": true,
         "textposition": "auto",
         "type": "bar",
         "x": [
          "Pfizer/BioNTech"
         ],
         "xaxis": "x",
         "y": [
          134740
         ],
         "yaxis": "y"
        },
        {
         "alignmentgroup": "True",
         "hoverlabel": {
          "namelength": 0
         },
         "hovertemplate": "country=Singapore<br>vaccines=%{x}<br>total_vaccinations=%{y}",
         "legendgroup": "Singapore",
         "marker": {
          "color": "#B00068"
         },
         "name": "Singapore",
         "offsetgroup": "Singapore",
         "orientation": "v",
         "showlegend": true,
         "textposition": "auto",
         "type": "bar",
         "x": [
          "Pfizer/BioNTech"
         ],
         "xaxis": "x",
         "y": [
          125400
         ],
         "yaxis": "y"
        },
        {
         "alignmentgroup": "True",
         "hoverlabel": {
          "namelength": 0
         },
         "hovertemplate": "country=Gibraltar<br>vaccines=%{x}<br>total_vaccinations=%{y}",
         "legendgroup": "Gibraltar",
         "marker": {
          "color": "#FBE426"
         },
         "name": "Gibraltar",
         "offsetgroup": "Gibraltar",
         "orientation": "v",
         "showlegend": true,
         "textposition": "auto",
         "type": "bar",
         "x": [
          "Pfizer/BioNTech"
         ],
         "xaxis": "x",
         "y": [
          94177
         ],
         "yaxis": "y"
        },
        {
         "alignmentgroup": "True",
         "hoverlabel": {
          "namelength": 0
         },
         "hovertemplate": "country=Luxembourg<br>vaccines=%{x}<br>total_vaccinations=%{y}",
         "legendgroup": "Luxembourg",
         "marker": {
          "color": "#FA0087"
         },
         "name": "Luxembourg",
         "offsetgroup": "Luxembourg",
         "orientation": "v",
         "showlegend": true,
         "textposition": "auto",
         "type": "bar",
         "x": [
          "Pfizer/BioNTech"
         ],
         "xaxis": "x",
         "y": [
          87238
         ],
         "yaxis": "y"
        },
        {
         "alignmentgroup": "True",
         "hoverlabel": {
          "namelength": 0
         },
         "hovertemplate": "country=Northern Cyprus<br>vaccines=%{x}<br>total_vaccinations=%{y}",
         "legendgroup": "Northern Cyprus",
         "marker": {
          "color": "#AA0DFE"
         },
         "name": "Northern Cyprus",
         "offsetgroup": "Northern Cyprus",
         "orientation": "v",
         "showlegend": true,
         "textposition": "auto",
         "type": "bar",
         "x": [
          "Pfizer/BioNTech, Sinovac"
         ],
         "xaxis": "x",
         "y": [
          25904
         ],
         "yaxis": "y"
        },
        {
         "alignmentgroup": "True",
         "hoverlabel": {
          "namelength": 0
         },
         "hovertemplate": "country=Panama<br>vaccines=%{x}<br>total_vaccinations=%{y}",
         "legendgroup": "Panama",
         "marker": {
          "color": "#3283FE"
         },
         "name": "Panama",
         "offsetgroup": "Panama",
         "orientation": "v",
         "showlegend": true,
         "textposition": "auto",
         "type": "bar",
         "x": [
          "Pfizer/BioNTech"
         ],
         "xaxis": "x",
         "y": [
          19829
         ],
         "yaxis": "y"
        },
        {
         "alignmentgroup": "True",
         "hoverlabel": {
          "namelength": 0
         },
         "hovertemplate": "country=Isle of Man<br>vaccines=%{x}<br>total_vaccinations=%{y}",
         "legendgroup": "Isle of Man",
         "marker": {
          "color": "#85660D"
         },
         "name": "Isle of Man",
         "offsetgroup": "Isle of Man",
         "orientation": "v",
         "showlegend": true,
         "textposition": "auto",
         "type": "bar",
         "x": [
          "Pfizer/BioNTech"
         ],
         "xaxis": "x",
         "y": [
          18711
         ],
         "yaxis": "y"
        },
        {
         "alignmentgroup": "True",
         "hoverlabel": {
          "namelength": 0
         },
         "hovertemplate": "country=Kuwait<br>vaccines=%{x}<br>total_vaccinations=%{y}",
         "legendgroup": "Kuwait",
         "marker": {
          "color": "#782AB6"
         },
         "name": "Kuwait",
         "offsetgroup": "Kuwait",
         "orientation": "v",
         "showlegend": true,
         "textposition": "auto",
         "type": "bar",
         "x": [
          "Pfizer/BioNTech"
         ],
         "xaxis": "x",
         "y": [
          2500
         ],
         "yaxis": "y"
        },
        {
         "alignmentgroup": "True",
         "hoverlabel": {
          "namelength": 0
         },
         "hovertemplate": "country=Bermuda<br>vaccines=%{x}<br>total_vaccinations=%{y}",
         "legendgroup": "Bermuda",
         "marker": {
          "color": "#565656"
         },
         "name": "Bermuda",
         "offsetgroup": "Bermuda",
         "orientation": "v",
         "showlegend": true,
         "textposition": "auto",
         "type": "bar",
         "x": [
          "Pfizer/BioNTech"
         ],
         "xaxis": "x",
         "y": [
          1665
         ],
         "yaxis": "y"
        },
        {
         "alignmentgroup": "True",
         "hoverlabel": {
          "namelength": 0
         },
         "hovertemplate": "country=Ecuador<br>vaccines=%{x}<br>total_vaccinations=%{y}",
         "legendgroup": "Ecuador",
         "marker": {
          "color": "#1C8356"
         },
         "name": "Ecuador",
         "offsetgroup": "Ecuador",
         "orientation": "v",
         "showlegend": true,
         "textposition": "auto",
         "type": "bar",
         "x": [
          "Pfizer/BioNTech"
         ],
         "xaxis": "x",
         "y": [
          108
         ],
         "yaxis": "y"
        }
       ],
       "layout": {
        "barmode": "relative",
        "height": 650,
        "legend": {
         "title": {
          "text": "country"
         },
         "tracegroupgap": 0
        },
        "template": {
         "data": {
          "bar": [
           {
            "error_x": {
             "color": "#2a3f5f"
            },
            "error_y": {
             "color": "#2a3f5f"
            },
            "marker": {
             "line": {
              "color": "#E5ECF6",
              "width": 0.5
             }
            },
            "type": "bar"
           }
          ],
          "barpolar": [
           {
            "marker": {
             "line": {
              "color": "#E5ECF6",
              "width": 0.5
             }
            },
            "type": "barpolar"
           }
          ],
          "carpet": [
           {
            "aaxis": {
             "endlinecolor": "#2a3f5f",
             "gridcolor": "white",
             "linecolor": "white",
             "minorgridcolor": "white",
             "startlinecolor": "#2a3f5f"
            },
            "baxis": {
             "endlinecolor": "#2a3f5f",
             "gridcolor": "white",
             "linecolor": "white",
             "minorgridcolor": "white",
             "startlinecolor": "#2a3f5f"
            },
            "type": "carpet"
           }
          ],
          "choropleth": [
           {
            "colorbar": {
             "outlinewidth": 0,
             "ticks": ""
            },
            "type": "choropleth"
           }
          ],
          "contour": [
           {
            "colorbar": {
             "outlinewidth": 0,
             "ticks": ""
            },
            "colorscale": [
             [
              0,
              "#0d0887"
             ],
             [
              0.1111111111111111,
              "#46039f"
             ],
             [
              0.2222222222222222,
              "#7201a8"
             ],
             [
              0.3333333333333333,
              "#9c179e"
             ],
             [
              0.4444444444444444,
              "#bd3786"
             ],
             [
              0.5555555555555556,
              "#d8576b"
             ],
             [
              0.6666666666666666,
              "#ed7953"
             ],
             [
              0.7777777777777778,
              "#fb9f3a"
             ],
             [
              0.8888888888888888,
              "#fdca26"
             ],
             [
              1,
              "#f0f921"
             ]
            ],
            "type": "contour"
           }
          ],
          "contourcarpet": [
           {
            "colorbar": {
             "outlinewidth": 0,
             "ticks": ""
            },
            "type": "contourcarpet"
           }
          ],
          "heatmap": [
           {
            "colorbar": {
             "outlinewidth": 0,
             "ticks": ""
            },
            "colorscale": [
             [
              0,
              "#0d0887"
             ],
             [
              0.1111111111111111,
              "#46039f"
             ],
             [
              0.2222222222222222,
              "#7201a8"
             ],
             [
              0.3333333333333333,
              "#9c179e"
             ],
             [
              0.4444444444444444,
              "#bd3786"
             ],
             [
              0.5555555555555556,
              "#d8576b"
             ],
             [
              0.6666666666666666,
              "#ed7953"
             ],
             [
              0.7777777777777778,
              "#fb9f3a"
             ],
             [
              0.8888888888888888,
              "#fdca26"
             ],
             [
              1,
              "#f0f921"
             ]
            ],
            "type": "heatmap"
           }
          ],
          "heatmapgl": [
           {
            "colorbar": {
             "outlinewidth": 0,
             "ticks": ""
            },
            "colorscale": [
             [
              0,
              "#0d0887"
             ],
             [
              0.1111111111111111,
              "#46039f"
             ],
             [
              0.2222222222222222,
              "#7201a8"
             ],
             [
              0.3333333333333333,
              "#9c179e"
             ],
             [
              0.4444444444444444,
              "#bd3786"
             ],
             [
              0.5555555555555556,
              "#d8576b"
             ],
             [
              0.6666666666666666,
              "#ed7953"
             ],
             [
              0.7777777777777778,
              "#fb9f3a"
             ],
             [
              0.8888888888888888,
              "#fdca26"
             ],
             [
              1,
              "#f0f921"
             ]
            ],
            "type": "heatmapgl"
           }
          ],
          "histogram": [
           {
            "marker": {
             "colorbar": {
              "outlinewidth": 0,
              "ticks": ""
             }
            },
            "type": "histogram"
           }
          ],
          "histogram2d": [
           {
            "colorbar": {
             "outlinewidth": 0,
             "ticks": ""
            },
            "colorscale": [
             [
              0,
              "#0d0887"
             ],
             [
              0.1111111111111111,
              "#46039f"
             ],
             [
              0.2222222222222222,
              "#7201a8"
             ],
             [
              0.3333333333333333,
              "#9c179e"
             ],
             [
              0.4444444444444444,
              "#bd3786"
             ],
             [
              0.5555555555555556,
              "#d8576b"
             ],
             [
              0.6666666666666666,
              "#ed7953"
             ],
             [
              0.7777777777777778,
              "#fb9f3a"
             ],
             [
              0.8888888888888888,
              "#fdca26"
             ],
             [
              1,
              "#f0f921"
             ]
            ],
            "type": "histogram2d"
           }
          ],
          "histogram2dcontour": [
           {
            "colorbar": {
             "outlinewidth": 0,
             "ticks": ""
            },
            "colorscale": [
             [
              0,
              "#0d0887"
             ],
             [
              0.1111111111111111,
              "#46039f"
             ],
             [
              0.2222222222222222,
              "#7201a8"
             ],
             [
              0.3333333333333333,
              "#9c179e"
             ],
             [
              0.4444444444444444,
              "#bd3786"
             ],
             [
              0.5555555555555556,
              "#d8576b"
             ],
             [
              0.6666666666666666,
              "#ed7953"
             ],
             [
              0.7777777777777778,
              "#fb9f3a"
             ],
             [
              0.8888888888888888,
              "#fdca26"
             ],
             [
              1,
              "#f0f921"
             ]
            ],
            "type": "histogram2dcontour"
           }
          ],
          "mesh3d": [
           {
            "colorbar": {
             "outlinewidth": 0,
             "ticks": ""
            },
            "type": "mesh3d"
           }
          ],
          "parcoords": [
           {
            "line": {
             "colorbar": {
              "outlinewidth": 0,
              "ticks": ""
             }
            },
            "type": "parcoords"
           }
          ],
          "pie": [
           {
            "automargin": true,
            "type": "pie"
           }
          ],
          "scatter": [
           {
            "marker": {
             "colorbar": {
              "outlinewidth": 0,
              "ticks": ""
             }
            },
            "type": "scatter"
           }
          ],
          "scatter3d": [
           {
            "line": {
             "colorbar": {
              "outlinewidth": 0,
              "ticks": ""
             }
            },
            "marker": {
             "colorbar": {
              "outlinewidth": 0,
              "ticks": ""
             }
            },
            "type": "scatter3d"
           }
          ],
          "scattercarpet": [
           {
            "marker": {
             "colorbar": {
              "outlinewidth": 0,
              "ticks": ""
             }
            },
            "type": "scattercarpet"
           }
          ],
          "scattergeo": [
           {
            "marker": {
             "colorbar": {
              "outlinewidth": 0,
              "ticks": ""
             }
            },
            "type": "scattergeo"
           }
          ],
          "scattergl": [
           {
            "marker": {
             "colorbar": {
              "outlinewidth": 0,
              "ticks": ""
             }
            },
            "type": "scattergl"
           }
          ],
          "scattermapbox": [
           {
            "marker": {
             "colorbar": {
              "outlinewidth": 0,
              "ticks": ""
             }
            },
            "type": "scattermapbox"
           }
          ],
          "scatterpolar": [
           {
            "marker": {
             "colorbar": {
              "outlinewidth": 0,
              "ticks": ""
             }
            },
            "type": "scatterpolar"
           }
          ],
          "scatterpolargl": [
           {
            "marker": {
             "colorbar": {
              "outlinewidth": 0,
              "ticks": ""
             }
            },
            "type": "scatterpolargl"
           }
          ],
          "scatterternary": [
           {
            "marker": {
             "colorbar": {
              "outlinewidth": 0,
              "ticks": ""
             }
            },
            "type": "scatterternary"
           }
          ],
          "surface": [
           {
            "colorbar": {
             "outlinewidth": 0,
             "ticks": ""
            },
            "colorscale": [
             [
              0,
              "#0d0887"
             ],
             [
              0.1111111111111111,
              "#46039f"
             ],
             [
              0.2222222222222222,
              "#7201a8"
             ],
             [
              0.3333333333333333,
              "#9c179e"
             ],
             [
              0.4444444444444444,
              "#bd3786"
             ],
             [
              0.5555555555555556,
              "#d8576b"
             ],
             [
              0.6666666666666666,
              "#ed7953"
             ],
             [
              0.7777777777777778,
              "#fb9f3a"
             ],
             [
              0.8888888888888888,
              "#fdca26"
             ],
             [
              1,
              "#f0f921"
             ]
            ],
            "type": "surface"
           }
          ],
          "table": [
           {
            "cells": {
             "fill": {
              "color": "#EBF0F8"
             },
             "line": {
              "color": "white"
             }
            },
            "header": {
             "fill": {
              "color": "#C8D4E3"
             },
             "line": {
              "color": "white"
             }
            },
            "type": "table"
           }
          ]
         },
         "layout": {
          "annotationdefaults": {
           "arrowcolor": "#2a3f5f",
           "arrowhead": 0,
           "arrowwidth": 1
          },
          "coloraxis": {
           "colorbar": {
            "outlinewidth": 0,
            "ticks": ""
           }
          },
          "colorscale": {
           "diverging": [
            [
             0,
             "#8e0152"
            ],
            [
             0.1,
             "#c51b7d"
            ],
            [
             0.2,
             "#de77ae"
            ],
            [
             0.3,
             "#f1b6da"
            ],
            [
             0.4,
             "#fde0ef"
            ],
            [
             0.5,
             "#f7f7f7"
            ],
            [
             0.6,
             "#e6f5d0"
            ],
            [
             0.7,
             "#b8e186"
            ],
            [
             0.8,
             "#7fbc41"
            ],
            [
             0.9,
             "#4d9221"
            ],
            [
             1,
             "#276419"
            ]
           ],
           "sequential": [
            [
             0,
             "#0d0887"
            ],
            [
             0.1111111111111111,
             "#46039f"
            ],
            [
             0.2222222222222222,
             "#7201a8"
            ],
            [
             0.3333333333333333,
             "#9c179e"
            ],
            [
             0.4444444444444444,
             "#bd3786"
            ],
            [
             0.5555555555555556,
             "#d8576b"
            ],
            [
             0.6666666666666666,
             "#ed7953"
            ],
            [
             0.7777777777777778,
             "#fb9f3a"
            ],
            [
             0.8888888888888888,
             "#fdca26"
            ],
            [
             1,
             "#f0f921"
            ]
           ],
           "sequentialminus": [
            [
             0,
             "#0d0887"
            ],
            [
             0.1111111111111111,
             "#46039f"
            ],
            [
             0.2222222222222222,
             "#7201a8"
            ],
            [
             0.3333333333333333,
             "#9c179e"
            ],
            [
             0.4444444444444444,
             "#bd3786"
            ],
            [
             0.5555555555555556,
             "#d8576b"
            ],
            [
             0.6666666666666666,
             "#ed7953"
            ],
            [
             0.7777777777777778,
             "#fb9f3a"
            ],
            [
             0.8888888888888888,
             "#fdca26"
            ],
            [
             1,
             "#f0f921"
            ]
           ]
          },
          "colorway": [
           "#636efa",
           "#EF553B",
           "#00cc96",
           "#ab63fa",
           "#FFA15A",
           "#19d3f3",
           "#FF6692",
           "#B6E880",
           "#FF97FF",
           "#FECB52"
          ],
          "font": {
           "color": "#2a3f5f"
          },
          "geo": {
           "bgcolor": "white",
           "lakecolor": "white",
           "landcolor": "#E5ECF6",
           "showlakes": true,
           "showland": true,
           "subunitcolor": "white"
          },
          "hoverlabel": {
           "align": "left"
          },
          "hovermode": "closest",
          "mapbox": {
           "style": "light"
          },
          "paper_bgcolor": "white",
          "plot_bgcolor": "#E5ECF6",
          "polar": {
           "angularaxis": {
            "gridcolor": "white",
            "linecolor": "white",
            "ticks": ""
           },
           "bgcolor": "#E5ECF6",
           "radialaxis": {
            "gridcolor": "white",
            "linecolor": "white",
            "ticks": ""
           }
          },
          "scene": {
           "xaxis": {
            "backgroundcolor": "#E5ECF6",
            "gridcolor": "white",
            "gridwidth": 2,
            "linecolor": "white",
            "showbackground": true,
            "ticks": "",
            "zerolinecolor": "white"
           },
           "yaxis": {
            "backgroundcolor": "#E5ECF6",
            "gridcolor": "white",
            "gridwidth": 2,
            "linecolor": "white",
            "showbackground": true,
            "ticks": "",
            "zerolinecolor": "white"
           },
           "zaxis": {
            "backgroundcolor": "#E5ECF6",
            "gridcolor": "white",
            "gridwidth": 2,
            "linecolor": "white",
            "showbackground": true,
            "ticks": "",
            "zerolinecolor": "white"
           }
          },
          "shapedefaults": {
           "line": {
            "color": "#2a3f5f"
           }
          },
          "ternary": {
           "aaxis": {
            "gridcolor": "white",
            "linecolor": "white",
            "ticks": ""
           },
           "baxis": {
            "gridcolor": "white",
            "linecolor": "white",
            "ticks": ""
           },
           "bgcolor": "#E5ECF6",
           "caxis": {
            "gridcolor": "white",
            "linecolor": "white",
            "ticks": ""
           }
          },
          "title": {
           "x": 0.05
          },
          "xaxis": {
           "automargin": true,
           "gridcolor": "white",
           "linecolor": "white",
           "ticks": "",
           "title": {
            "standoff": 15
           },
           "zerolinecolor": "white",
           "zerolinewidth": 2
          },
          "yaxis": {
           "automargin": true,
           "gridcolor": "white",
           "linecolor": "white",
           "ticks": "",
           "title": {
            "standoff": 15
           },
           "zerolinecolor": "white",
           "zerolinewidth": 2
          }
         }
        },
        "title": {
         "text": "Which countries use different kinds of vaccine's name in total vacination count"
        },
        "width": 1000,
        "xaxis": {
         "anchor": "y",
         "categoryorder": "total descending",
         "domain": [
          0,
          1
         ],
         "title": {
          "text": "vaccines"
         }
        },
        "yaxis": {
         "anchor": "x",
         "domain": [
          0,
          1
         ],
         "title": {
          "text": "total_vaccinations"
         }
        }
       }
      },
      "text/html": [
       "<div>\n",
       "        \n",
       "        \n",
       "            <div id=\"bde5d592-a012-4a6c-85ff-7a2a6735c31d\" class=\"plotly-graph-div\" style=\"height:650px; width:1000px;\"></div>\n",
       "            <script type=\"text/javascript\">\n",
       "                require([\"plotly\"], function(Plotly) {\n",
       "                    window.PLOTLYENV=window.PLOTLYENV || {};\n",
       "                    \n",
       "                if (document.getElementById(\"bde5d592-a012-4a6c-85ff-7a2a6735c31d\")) {\n",
       "                    Plotly.newPlot(\n",
       "                        'bde5d592-a012-4a6c-85ff-7a2a6735c31d',\n",
       "                        [{\"alignmentgroup\": \"True\", \"hoverlabel\": {\"namelength\": 0}, \"hovertemplate\": \"country=United States<br>vaccines=%{x}<br>total_vaccinations=%{y}\", \"legendgroup\": \"United States\", \"marker\": {\"color\": \"#AA0DFE\"}, \"name\": \"United States\", \"offsetgroup\": \"United States\", \"orientation\": \"v\", \"showlegend\": true, \"textposition\": \"auto\", \"type\": \"bar\", \"x\": [\"Moderna, Pfizer/BioNTech\"], \"xaxis\": \"x\", \"y\": [316885603.0], \"yaxis\": \"y\"}, {\"alignmentgroup\": \"True\", \"hoverlabel\": {\"namelength\": 0}, \"hovertemplate\": \"country=United Kingdom<br>vaccines=%{x}<br>total_vaccinations=%{y}\", \"legendgroup\": \"United Kingdom\", \"marker\": {\"color\": \"#3283FE\"}, \"name\": \"United Kingdom\", \"offsetgroup\": \"United Kingdom\", \"orientation\": \"v\", \"showlegend\": true, \"textposition\": \"auto\", \"type\": \"bar\", \"x\": [\"Oxford/AstraZeneca, Pfizer/BioNTech\"], \"xaxis\": \"x\", \"y\": [196862418.0], \"yaxis\": \"y\"}, {\"alignmentgroup\": \"True\", \"hoverlabel\": {\"namelength\": 0}, \"hovertemplate\": \"country=China<br>vaccines=%{x}<br>total_vaccinations=%{y}\", \"legendgroup\": \"China\", \"marker\": {\"color\": \"#85660D\"}, \"name\": \"China\", \"offsetgroup\": \"China\", \"orientation\": \"v\", \"showlegend\": true, \"textposition\": \"auto\", \"type\": \"bar\", \"x\": [\"CNBG, Sinovac\"], \"xaxis\": \"x\", \"y\": [185500000.0], \"yaxis\": \"y\"}, {\"alignmentgroup\": \"True\", \"hoverlabel\": {\"namelength\": 0}, \"hovertemplate\": \"country=Israel<br>vaccines=%{x}<br>total_vaccinations=%{y}\", \"legendgroup\": \"Israel\", \"marker\": {\"color\": \"#782AB6\"}, \"name\": \"Israel\", \"offsetgroup\": \"Israel\", \"orientation\": \"v\", \"showlegend\": true, \"textposition\": \"auto\", \"type\": \"bar\", \"x\": [\"Moderna, Pfizer/BioNTech\"], \"xaxis\": \"x\", \"y\": [65596935.0], \"yaxis\": \"y\"}, {\"alignmentgroup\": \"True\", \"hoverlabel\": {\"namelength\": 0}, \"hovertemplate\": \"country=United Arab Emirates<br>vaccines=%{x}<br>total_vaccinations=%{y}\", \"legendgroup\": \"United Arab Emirates\", \"marker\": {\"color\": \"#565656\"}, \"name\": \"United Arab Emirates\", \"offsetgroup\": \"United Arab Emirates\", \"orientation\": \"v\", \"showlegend\": true, \"textposition\": \"auto\", \"type\": \"bar\", \"x\": [\"Pfizer/BioNTech, Sinopharm\"], \"xaxis\": \"x\", \"y\": [37247322.0], \"yaxis\": \"y\"}, {\"alignmentgroup\": \"True\", \"hoverlabel\": {\"namelength\": 0}, \"hovertemplate\": \"country=Germany<br>vaccines=%{x}<br>total_vaccinations=%{y}\", \"legendgroup\": \"Germany\", \"marker\": {\"color\": \"#1C8356\"}, \"name\": \"Germany\", \"offsetgroup\": \"Germany\", \"orientation\": \"v\", \"showlegend\": true, \"textposition\": \"auto\", \"type\": \"bar\", \"x\": [\"Moderna, Pfizer/BioNTech\"], \"xaxis\": \"x\", \"y\": [24332685.0], \"yaxis\": \"y\"}, {\"alignmentgroup\": \"True\", \"hoverlabel\": {\"namelength\": 0}, \"hovertemplate\": \"country=Italy<br>vaccines=%{x}<br>total_vaccinations=%{y}\", \"legendgroup\": \"Italy\", \"marker\": {\"color\": \"#16FF32\"}, \"name\": \"Italy\", \"offsetgroup\": \"Italy\", \"orientation\": \"v\", \"showlegend\": true, \"textposition\": \"auto\", \"type\": \"bar\", \"x\": [\"Pfizer/BioNTech\"], \"xaxis\": \"x\", \"y\": [22305123.0], \"yaxis\": \"y\"}, {\"alignmentgroup\": \"True\", \"hoverlabel\": {\"namelength\": 0}, \"hovertemplate\": \"country=Spain<br>vaccines=%{x}<br>total_vaccinations=%{y}\", \"legendgroup\": \"Spain\", \"marker\": {\"color\": \"#F7E1A0\"}, \"name\": \"Spain\", \"offsetgroup\": \"Spain\", \"orientation\": \"v\", \"showlegend\": true, \"textposition\": \"auto\", \"type\": \"bar\", \"x\": [\"Moderna, Pfizer/BioNTech\"], \"xaxis\": \"x\", \"y\": [15881211.0], \"yaxis\": \"y\"}, {\"alignmentgroup\": \"True\", \"hoverlabel\": {\"namelength\": 0}, \"hovertemplate\": \"country=Turkey<br>vaccines=%{x}<br>total_vaccinations=%{y}\", \"legendgroup\": \"Turkey\", \"marker\": {\"color\": \"#E2E2E2\"}, \"name\": \"Turkey\", \"offsetgroup\": \"Turkey\", \"orientation\": \"v\", \"showlegend\": true, \"textposition\": \"auto\", \"type\": \"bar\", \"x\": [\"Sinovac\"], \"xaxis\": \"x\", \"y\": [12622030.0], \"yaxis\": \"y\"}, {\"alignmentgroup\": \"True\", \"hoverlabel\": {\"namelength\": 0}, \"hovertemplate\": \"country=Canada<br>vaccines=%{x}<br>total_vaccinations=%{y}\", \"legendgroup\": \"Canada\", \"marker\": {\"color\": \"#1CBE4F\"}, \"name\": \"Canada\", \"offsetgroup\": \"Canada\", \"orientation\": \"v\", \"showlegend\": true, \"textposition\": \"auto\", \"type\": \"bar\", \"x\": [\"Moderna, Pfizer/BioNTech\"], \"xaxis\": \"x\", \"y\": [12591453.0], \"yaxis\": \"y\"}, {\"alignmentgroup\": \"True\", \"hoverlabel\": {\"namelength\": 0}, \"hovertemplate\": \"country=India<br>vaccines=%{x}<br>total_vaccinations=%{y}\", \"legendgroup\": \"India\", \"marker\": {\"color\": \"#C4451C\"}, \"name\": \"India\", \"offsetgroup\": \"India\", \"orientation\": \"v\", \"showlegend\": true, \"textposition\": \"auto\", \"type\": \"bar\", \"x\": [\"Covaxin, Covishield\"], \"xaxis\": \"x\", \"y\": [12035970.0], \"yaxis\": \"y\"}, {\"alignmentgroup\": \"True\", \"hoverlabel\": {\"namelength\": 0}, \"hovertemplate\": \"country=Russia<br>vaccines=%{x}<br>total_vaccinations=%{y}\", \"legendgroup\": \"Russia\", \"marker\": {\"color\": \"#DEA0FD\"}, \"name\": \"Russia\", \"offsetgroup\": \"Russia\", \"orientation\": \"v\", \"showlegend\": true, \"textposition\": \"auto\", \"type\": \"bar\", \"x\": [\"Sputnik V\"], \"xaxis\": \"x\", \"y\": [10571500.0], \"yaxis\": \"y\"}, {\"alignmentgroup\": \"True\", \"hoverlabel\": {\"namelength\": 0}, \"hovertemplate\": \"country=France<br>vaccines=%{x}<br>total_vaccinations=%{y}\", \"legendgroup\": \"France\", \"marker\": {\"color\": \"#FE00FA\"}, \"name\": \"France\", \"offsetgroup\": \"France\", \"orientation\": \"v\", \"showlegend\": true, \"textposition\": \"auto\", \"type\": \"bar\", \"x\": [\"Pfizer/BioNTech\"], \"xaxis\": \"x\", \"y\": [10328550.0], \"yaxis\": \"y\"}, {\"alignmentgroup\": \"True\", \"hoverlabel\": {\"namelength\": 0}, \"hovertemplate\": \"country=Poland<br>vaccines=%{x}<br>total_vaccinations=%{y}\", \"legendgroup\": \"Poland\", \"marker\": {\"color\": \"#325A9B\"}, \"name\": \"Poland\", \"offsetgroup\": \"Poland\", \"orientation\": \"v\", \"showlegend\": true, \"textposition\": \"auto\", \"type\": \"bar\", \"x\": [\"Pfizer/BioNTech\"], \"xaxis\": \"x\", \"y\": [9278604.0], \"yaxis\": \"y\"}, {\"alignmentgroup\": \"True\", \"hoverlabel\": {\"namelength\": 0}, \"hovertemplate\": \"country=Mexico<br>vaccines=%{x}<br>total_vaccinations=%{y}\", \"legendgroup\": \"Mexico\", \"marker\": {\"color\": \"#FEAF16\"}, \"name\": \"Mexico\", \"offsetgroup\": \"Mexico\", \"orientation\": \"v\", \"showlegend\": true, \"textposition\": \"auto\", \"type\": \"bar\", \"x\": [\"Pfizer/BioNTech\"], \"xaxis\": \"x\", \"y\": [7855933.0], \"yaxis\": \"y\"}, {\"alignmentgroup\": \"True\", \"hoverlabel\": {\"namelength\": 0}, \"hovertemplate\": \"country=Romania<br>vaccines=%{x}<br>total_vaccinations=%{y}\", \"legendgroup\": \"Romania\", \"marker\": {\"color\": \"#F8A19F\"}, \"name\": \"Romania\", \"offsetgroup\": \"Romania\", \"orientation\": \"v\", \"showlegend\": true, \"textposition\": \"auto\", \"type\": \"bar\", \"x\": [\"Pfizer/BioNTech\"], \"xaxis\": \"x\", \"y\": [5162881.0], \"yaxis\": \"y\"}, {\"alignmentgroup\": \"True\", \"hoverlabel\": {\"namelength\": 0}, \"hovertemplate\": \"country=Argentina<br>vaccines=%{x}<br>total_vaccinations=%{y}\", \"legendgroup\": \"Argentina\", \"marker\": {\"color\": \"#90AD1C\"}, \"name\": \"Argentina\", \"offsetgroup\": \"Argentina\", \"orientation\": \"v\", \"showlegend\": true, \"textposition\": \"auto\", \"type\": \"bar\", \"x\": [\"Sputnik V\"], \"xaxis\": \"x\", \"y\": [4134631.0], \"yaxis\": \"y\"}, {\"alignmentgroup\": \"True\", \"hoverlabel\": {\"namelength\": 0}, \"hovertemplate\": \"country=Denmark<br>vaccines=%{x}<br>total_vaccinations=%{y}\", \"legendgroup\": \"Denmark\", \"marker\": {\"color\": \"#F6222E\"}, \"name\": \"Denmark\", \"offsetgroup\": \"Denmark\", \"orientation\": \"v\", \"showlegend\": true, \"textposition\": \"auto\", \"type\": \"bar\", \"x\": [\"Moderna, Pfizer/BioNTech\"], \"xaxis\": \"x\", \"y\": [3494361.0], \"yaxis\": \"y\"}, {\"alignmentgroup\": \"True\", \"hoverlabel\": {\"namelength\": 0}, \"hovertemplate\": \"country=Brazil<br>vaccines=%{x}<br>total_vaccinations=%{y}\", \"legendgroup\": \"Brazil\", \"marker\": {\"color\": \"#1CFFCE\"}, \"name\": \"Brazil\", \"offsetgroup\": \"Brazil\", \"orientation\": \"v\", \"showlegend\": true, \"textposition\": \"auto\", \"type\": \"bar\", \"x\": [\"Sinovac\"], \"xaxis\": \"x\", \"y\": [3115617.0], \"yaxis\": \"y\"}, {\"alignmentgroup\": \"True\", \"hoverlabel\": {\"namelength\": 0}, \"hovertemplate\": \"country=Portugal<br>vaccines=%{x}<br>total_vaccinations=%{y}\", \"legendgroup\": \"Portugal\", \"marker\": {\"color\": \"#2ED9FF\"}, \"name\": \"Portugal\", \"offsetgroup\": \"Portugal\", \"orientation\": \"v\", \"showlegend\": true, \"textposition\": \"auto\", \"type\": \"bar\", \"x\": [\"Pfizer/BioNTech\"], \"xaxis\": \"x\", \"y\": [2714673.0], \"yaxis\": \"y\"}, {\"alignmentgroup\": \"True\", \"hoverlabel\": {\"namelength\": 0}, \"hovertemplate\": \"country=Czechia<br>vaccines=%{x}<br>total_vaccinations=%{y}\", \"legendgroup\": \"Czechia\", \"marker\": {\"color\": \"#B10DA1\"}, \"name\": \"Czechia\", \"offsetgroup\": \"Czechia\", \"orientation\": \"v\", \"showlegend\": true, \"textposition\": \"auto\", \"type\": \"bar\", \"x\": [\"Moderna, Pfizer/BioNTech\"], \"xaxis\": \"x\", \"y\": [2619608.0], \"yaxis\": \"y\"}, {\"alignmentgroup\": \"True\", \"hoverlabel\": {\"namelength\": 0}, \"hovertemplate\": \"country=Bahrain<br>vaccines=%{x}<br>total_vaccinations=%{y}\", \"legendgroup\": \"Bahrain\", \"marker\": {\"color\": \"#C075A6\"}, \"name\": \"Bahrain\", \"offsetgroup\": \"Bahrain\", \"orientation\": \"v\", \"showlegend\": true, \"textposition\": \"auto\", \"type\": \"bar\", \"x\": [\"Pfizer/BioNTech, Sinopharm\"], \"xaxis\": \"x\", \"y\": [2403216.0], \"yaxis\": \"y\"}, {\"alignmentgroup\": \"True\", \"hoverlabel\": {\"namelength\": 0}, \"hovertemplate\": \"country=Hungary<br>vaccines=%{x}<br>total_vaccinations=%{y}\", \"legendgroup\": \"Hungary\", \"marker\": {\"color\": \"#FC1CBF\"}, \"name\": \"Hungary\", \"offsetgroup\": \"Hungary\", \"orientation\": \"v\", \"showlegend\": true, \"textposition\": \"auto\", \"type\": \"bar\", \"x\": [\"Pfizer/BioNTech\"], \"xaxis\": \"x\", \"y\": [2194041.0], \"yaxis\": \"y\"}, {\"alignmentgroup\": \"True\", \"hoverlabel\": {\"namelength\": 0}, \"hovertemplate\": \"country=Sweden<br>vaccines=%{x}<br>total_vaccinations=%{y}\", \"legendgroup\": \"Sweden\", \"marker\": {\"color\": \"#B00068\"}, \"name\": \"Sweden\", \"offsetgroup\": \"Sweden\", \"orientation\": \"v\", \"showlegend\": true, \"textposition\": \"auto\", \"type\": \"bar\", \"x\": [\"Pfizer/BioNTech\"], \"xaxis\": \"x\", \"y\": [2169870.0], \"yaxis\": \"y\"}, {\"alignmentgroup\": \"True\", \"hoverlabel\": {\"namelength\": 0}, \"hovertemplate\": \"country=Belgium<br>vaccines=%{x}<br>total_vaccinations=%{y}\", \"legendgroup\": \"Belgium\", \"marker\": {\"color\": \"#FBE426\"}, \"name\": \"Belgium\", \"offsetgroup\": \"Belgium\", \"orientation\": \"v\", \"showlegend\": true, \"textposition\": \"auto\", \"type\": \"bar\", \"x\": [\"Pfizer/BioNTech\"], \"xaxis\": \"x\", \"y\": [2122557.0], \"yaxis\": \"y\"}, {\"alignmentgroup\": \"True\", \"hoverlabel\": {\"namelength\": 0}, \"hovertemplate\": \"country=Austria<br>vaccines=%{x}<br>total_vaccinations=%{y}\", \"legendgroup\": \"Austria\", \"marker\": {\"color\": \"#FA0087\"}, \"name\": \"Austria\", \"offsetgroup\": \"Austria\", \"orientation\": \"v\", \"showlegend\": true, \"textposition\": \"auto\", \"type\": \"bar\", \"x\": [\"Pfizer/BioNTech\"], \"xaxis\": \"x\", \"y\": [2046716.0], \"yaxis\": \"y\"}, {\"alignmentgroup\": \"True\", \"hoverlabel\": {\"namelength\": 0}, \"hovertemplate\": \"country=Saudi Arabia<br>vaccines=%{x}<br>total_vaccinations=%{y}\", \"legendgroup\": \"Saudi Arabia\", \"marker\": {\"color\": \"#AA0DFE\"}, \"name\": \"Saudi Arabia\", \"offsetgroup\": \"Saudi Arabia\", \"orientation\": \"v\", \"showlegend\": true, \"textposition\": \"auto\", \"type\": \"bar\", \"x\": [\"Pfizer/BioNTech\"], \"xaxis\": \"x\", \"y\": [2017000.0], \"yaxis\": \"y\"}, {\"alignmentgroup\": \"True\", \"hoverlabel\": {\"namelength\": 0}, \"hovertemplate\": \"country=Greece<br>vaccines=%{x}<br>total_vaccinations=%{y}\", \"legendgroup\": \"Greece\", \"marker\": {\"color\": \"#3283FE\"}, \"name\": \"Greece\", \"offsetgroup\": \"Greece\", \"orientation\": \"v\", \"showlegend\": true, \"textposition\": \"auto\", \"type\": \"bar\", \"x\": [\"Pfizer/BioNTech\"], \"xaxis\": \"x\", \"y\": [1920552.0], \"yaxis\": \"y\"}, {\"alignmentgroup\": \"True\", \"hoverlabel\": {\"namelength\": 0}, \"hovertemplate\": \"country=Netherlands<br>vaccines=%{x}<br>total_vaccinations=%{y}\", \"legendgroup\": \"Netherlands\", \"marker\": {\"color\": \"#85660D\"}, \"name\": \"Netherlands\", \"offsetgroup\": \"Netherlands\", \"orientation\": \"v\", \"showlegend\": true, \"textposition\": \"auto\", \"type\": \"bar\", \"x\": [\"Moderna, Pfizer/BioNTech\"], \"xaxis\": \"x\", \"y\": [1581681.0], \"yaxis\": \"y\"}, {\"alignmentgroup\": \"True\", \"hoverlabel\": {\"namelength\": 0}, \"hovertemplate\": \"country=Ireland<br>vaccines=%{x}<br>total_vaccinations=%{y}\", \"legendgroup\": \"Ireland\", \"marker\": {\"color\": \"#782AB6\"}, \"name\": \"Ireland\", \"offsetgroup\": \"Ireland\", \"orientation\": \"v\", \"showlegend\": true, \"textposition\": \"auto\", \"type\": \"bar\", \"x\": [\"Pfizer/BioNTech\"], \"xaxis\": \"x\", \"y\": [1406954.0], \"yaxis\": \"y\"}, {\"alignmentgroup\": \"True\", \"hoverlabel\": {\"namelength\": 0}, \"hovertemplate\": \"country=Serbia<br>vaccines=%{x}<br>total_vaccinations=%{y}\", \"legendgroup\": \"Serbia\", \"marker\": {\"color\": \"#565656\"}, \"name\": \"Serbia\", \"offsetgroup\": \"Serbia\", \"orientation\": \"v\", \"showlegend\": true, \"textposition\": \"auto\", \"type\": \"bar\", \"x\": [\"Pfizer/BioNTech, Sinopharm, Sputnik V\"], \"xaxis\": \"x\", \"y\": [1357112.0], \"yaxis\": \"y\"}, {\"alignmentgroup\": \"True\", \"hoverlabel\": {\"namelength\": 0}, \"hovertemplate\": \"country=Switzerland<br>vaccines=%{x}<br>total_vaccinations=%{y}\", \"legendgroup\": \"Switzerland\", \"marker\": {\"color\": \"#1C8356\"}, \"name\": \"Switzerland\", \"offsetgroup\": \"Switzerland\", \"orientation\": \"v\", \"showlegend\": true, \"textposition\": \"auto\", \"type\": \"bar\", \"x\": [\"Pfizer/BioNTech\"], \"xaxis\": \"x\", \"y\": [1256717.0], \"yaxis\": \"y\"}, {\"alignmentgroup\": \"True\", \"hoverlabel\": {\"namelength\": 0}, \"hovertemplate\": \"country=Slovakia<br>vaccines=%{x}<br>total_vaccinations=%{y}\", \"legendgroup\": \"Slovakia\", \"marker\": {\"color\": \"#16FF32\"}, \"name\": \"Slovakia\", \"offsetgroup\": \"Slovakia\", \"orientation\": \"v\", \"showlegend\": true, \"textposition\": \"auto\", \"type\": \"bar\", \"x\": [\"Pfizer/BioNTech\"], \"xaxis\": \"x\", \"y\": [1163562.0], \"yaxis\": \"y\"}, {\"alignmentgroup\": \"True\", \"hoverlabel\": {\"namelength\": 0}, \"hovertemplate\": \"country=Lithuania<br>vaccines=%{x}<br>total_vaccinations=%{y}\", \"legendgroup\": \"Lithuania\", \"marker\": {\"color\": \"#F7E1A0\"}, \"name\": \"Lithuania\", \"offsetgroup\": \"Lithuania\", \"orientation\": \"v\", \"showlegend\": true, \"textposition\": \"auto\", \"type\": \"bar\", \"x\": [\"Moderna, Pfizer/BioNTech\"], \"xaxis\": \"x\", \"y\": [1057411.0], \"yaxis\": \"y\"}, {\"alignmentgroup\": \"True\", \"hoverlabel\": {\"namelength\": 0}, \"hovertemplate\": \"country=Finland<br>vaccines=%{x}<br>total_vaccinations=%{y}\", \"legendgroup\": \"Finland\", \"marker\": {\"color\": \"#E2E2E2\"}, \"name\": \"Finland\", \"offsetgroup\": \"Finland\", \"orientation\": \"v\", \"showlegend\": true, \"textposition\": \"auto\", \"type\": \"bar\", \"x\": [\"Pfizer/BioNTech\"], \"xaxis\": \"x\", \"y\": [1032714.0], \"yaxis\": \"y\"}, {\"alignmentgroup\": \"True\", \"hoverlabel\": {\"namelength\": 0}, \"hovertemplate\": \"country=Norway<br>vaccines=%{x}<br>total_vaccinations=%{y}\", \"legendgroup\": \"Norway\", \"marker\": {\"color\": \"#1CBE4F\"}, \"name\": \"Norway\", \"offsetgroup\": \"Norway\", \"orientation\": \"v\", \"showlegend\": true, \"textposition\": \"auto\", \"type\": \"bar\", \"x\": [\"Pfizer/BioNTech\"], \"xaxis\": \"x\", \"y\": [979960.0], \"yaxis\": \"y\"}, {\"alignmentgroup\": \"True\", \"hoverlabel\": {\"namelength\": 0}, \"hovertemplate\": \"country=Croatia<br>vaccines=%{x}<br>total_vaccinations=%{y}\", \"legendgroup\": \"Croatia\", \"marker\": {\"color\": \"#C4451C\"}, \"name\": \"Croatia\", \"offsetgroup\": \"Croatia\", \"orientation\": \"v\", \"showlegend\": true, \"textposition\": \"auto\", \"type\": \"bar\", \"x\": [\"Pfizer/BioNTech\"], \"xaxis\": \"x\", \"y\": [928762.0], \"yaxis\": \"y\"}, {\"alignmentgroup\": \"True\", \"hoverlabel\": {\"namelength\": 0}, \"hovertemplate\": \"country=Indonesia<br>vaccines=%{x}<br>total_vaccinations=%{y}\", \"legendgroup\": \"Indonesia\", \"marker\": {\"color\": \"#DEA0FD\"}, \"name\": \"Indonesia\", \"offsetgroup\": \"Indonesia\", \"orientation\": \"v\", \"showlegend\": true, \"textposition\": \"auto\", \"type\": \"bar\", \"x\": [\"Sinovac\"], \"xaxis\": \"x\", \"y\": [820886.0], \"yaxis\": \"y\"}, {\"alignmentgroup\": \"True\", \"hoverlabel\": {\"namelength\": 0}, \"hovertemplate\": \"country=Chile<br>vaccines=%{x}<br>total_vaccinations=%{y}\", \"legendgroup\": \"Chile\", \"marker\": {\"color\": \"#FE00FA\"}, \"name\": \"Chile\", \"offsetgroup\": \"Chile\", \"orientation\": \"v\", \"showlegend\": true, \"textposition\": \"auto\", \"type\": \"bar\", \"x\": [\"Pfizer/BioNTech\"], \"xaxis\": \"x\", \"y\": [798422.0], \"yaxis\": \"y\"}, {\"alignmentgroup\": \"True\", \"hoverlabel\": {\"namelength\": 0}, \"hovertemplate\": \"country=Slovenia<br>vaccines=%{x}<br>total_vaccinations=%{y}\", \"legendgroup\": \"Slovenia\", \"marker\": {\"color\": \"#325A9B\"}, \"name\": \"Slovenia\", \"offsetgroup\": \"Slovenia\", \"orientation\": \"v\", \"showlegend\": true, \"textposition\": \"auto\", \"type\": \"bar\", \"x\": [\"Pfizer/BioNTech\"], \"xaxis\": \"x\", \"y\": [756163.0], \"yaxis\": \"y\"}, {\"alignmentgroup\": \"True\", \"hoverlabel\": {\"namelength\": 0}, \"hovertemplate\": \"country=Oman<br>vaccines=%{x}<br>total_vaccinations=%{y}\", \"legendgroup\": \"Oman\", \"marker\": {\"color\": \"#FEAF16\"}, \"name\": \"Oman\", \"offsetgroup\": \"Oman\", \"orientation\": \"v\", \"showlegend\": true, \"textposition\": \"auto\", \"type\": \"bar\", \"x\": [\"Pfizer/BioNTech\"], \"xaxis\": \"x\", \"y\": [575532.0], \"yaxis\": \"y\"}, {\"alignmentgroup\": \"True\", \"hoverlabel\": {\"namelength\": 0}, \"hovertemplate\": \"country=Bulgaria<br>vaccines=%{x}<br>total_vaccinations=%{y}\", \"legendgroup\": \"Bulgaria\", \"marker\": {\"color\": \"#F8A19F\"}, \"name\": \"Bulgaria\", \"offsetgroup\": \"Bulgaria\", \"orientation\": \"v\", \"showlegend\": true, \"textposition\": \"auto\", \"type\": \"bar\", \"x\": [\"Moderna, Pfizer/BioNTech\"], \"xaxis\": \"x\", \"y\": [439771.0], \"yaxis\": \"y\"}, {\"alignmentgroup\": \"True\", \"hoverlabel\": {\"namelength\": 0}, \"hovertemplate\": \"country=Costa Rica<br>vaccines=%{x}<br>total_vaccinations=%{y}\", \"legendgroup\": \"Costa Rica\", \"marker\": {\"color\": \"#90AD1C\"}, \"name\": \"Costa Rica\", \"offsetgroup\": \"Costa Rica\", \"orientation\": \"v\", \"showlegend\": true, \"textposition\": \"auto\", \"type\": \"bar\", \"x\": [\"Pfizer/BioNTech\"], \"xaxis\": \"x\", \"y\": [409510.0], \"yaxis\": \"y\"}, {\"alignmentgroup\": \"True\", \"hoverlabel\": {\"namelength\": 0}, \"hovertemplate\": \"country=Estonia<br>vaccines=%{x}<br>total_vaccinations=%{y}\", \"legendgroup\": \"Estonia\", \"marker\": {\"color\": \"#F6222E\"}, \"name\": \"Estonia\", \"offsetgroup\": \"Estonia\", \"orientation\": \"v\", \"showlegend\": true, \"textposition\": \"auto\", \"type\": \"bar\", \"x\": [\"Pfizer/BioNTech\"], \"xaxis\": \"x\", \"y\": [370554.0], \"yaxis\": \"y\"}, {\"alignmentgroup\": \"True\", \"hoverlabel\": {\"namelength\": 0}, \"hovertemplate\": \"country=Latvia<br>vaccines=%{x}<br>total_vaccinations=%{y}\", \"legendgroup\": \"Latvia\", \"marker\": {\"color\": \"#1CFFCE\"}, \"name\": \"Latvia\", \"offsetgroup\": \"Latvia\", \"orientation\": \"v\", \"showlegend\": true, \"textposition\": \"auto\", \"type\": \"bar\", \"x\": [\"Pfizer/BioNTech\"], \"xaxis\": \"x\", \"y\": [288118.0], \"yaxis\": \"y\"}, {\"alignmentgroup\": \"True\", \"hoverlabel\": {\"namelength\": 0}, \"hovertemplate\": \"country=Malta<br>vaccines=%{x}<br>total_vaccinations=%{y}\", \"legendgroup\": \"Malta\", \"marker\": {\"color\": \"#2ED9FF\"}, \"name\": \"Malta\", \"offsetgroup\": \"Malta\", \"orientation\": \"v\", \"showlegend\": true, \"textposition\": \"auto\", \"type\": \"bar\", \"x\": [\"Pfizer/BioNTech\"], \"xaxis\": \"x\", \"y\": [201642.0], \"yaxis\": \"y\"}, {\"alignmentgroup\": \"True\", \"hoverlabel\": {\"namelength\": 0}, \"hovertemplate\": \"country=Iceland<br>vaccines=%{x}<br>total_vaccinations=%{y}\", \"legendgroup\": \"Iceland\", \"marker\": {\"color\": \"#B10DA1\"}, \"name\": \"Iceland\", \"offsetgroup\": \"Iceland\", \"orientation\": \"v\", \"showlegend\": true, \"textposition\": \"auto\", \"type\": \"bar\", \"x\": [\"Moderna, Pfizer/BioNTech\"], \"xaxis\": \"x\", \"y\": [148620.0], \"yaxis\": \"y\"}, {\"alignmentgroup\": \"True\", \"hoverlabel\": {\"namelength\": 0}, \"hovertemplate\": \"country=Seychelles<br>vaccines=%{x}<br>total_vaccinations=%{y}\", \"legendgroup\": \"Seychelles\", \"marker\": {\"color\": \"#C075A6\"}, \"name\": \"Seychelles\", \"offsetgroup\": \"Seychelles\", \"orientation\": \"v\", \"showlegend\": true, \"textposition\": \"auto\", \"type\": \"bar\", \"x\": [\"Sinopharm\"], \"xaxis\": \"x\", \"y\": [139787.0], \"yaxis\": \"y\"}, {\"alignmentgroup\": \"True\", \"hoverlabel\": {\"namelength\": 0}, \"hovertemplate\": \"country=Cyprus<br>vaccines=%{x}<br>total_vaccinations=%{y}\", \"legendgroup\": \"Cyprus\", \"marker\": {\"color\": \"#FC1CBF\"}, \"name\": \"Cyprus\", \"offsetgroup\": \"Cyprus\", \"orientation\": \"v\", \"showlegend\": true, \"textposition\": \"auto\", \"type\": \"bar\", \"x\": [\"Pfizer/BioNTech\"], \"xaxis\": \"x\", \"y\": [134740.0], \"yaxis\": \"y\"}, {\"alignmentgroup\": \"True\", \"hoverlabel\": {\"namelength\": 0}, \"hovertemplate\": \"country=Singapore<br>vaccines=%{x}<br>total_vaccinations=%{y}\", \"legendgroup\": \"Singapore\", \"marker\": {\"color\": \"#B00068\"}, \"name\": \"Singapore\", \"offsetgroup\": \"Singapore\", \"orientation\": \"v\", \"showlegend\": true, \"textposition\": \"auto\", \"type\": \"bar\", \"x\": [\"Pfizer/BioNTech\"], \"xaxis\": \"x\", \"y\": [125400.0], \"yaxis\": \"y\"}, {\"alignmentgroup\": \"True\", \"hoverlabel\": {\"namelength\": 0}, \"hovertemplate\": \"country=Gibraltar<br>vaccines=%{x}<br>total_vaccinations=%{y}\", \"legendgroup\": \"Gibraltar\", \"marker\": {\"color\": \"#FBE426\"}, \"name\": \"Gibraltar\", \"offsetgroup\": \"Gibraltar\", \"orientation\": \"v\", \"showlegend\": true, \"textposition\": \"auto\", \"type\": \"bar\", \"x\": [\"Pfizer/BioNTech\"], \"xaxis\": \"x\", \"y\": [94177.0], \"yaxis\": \"y\"}, {\"alignmentgroup\": \"True\", \"hoverlabel\": {\"namelength\": 0}, \"hovertemplate\": \"country=Luxembourg<br>vaccines=%{x}<br>total_vaccinations=%{y}\", \"legendgroup\": \"Luxembourg\", \"marker\": {\"color\": \"#FA0087\"}, \"name\": \"Luxembourg\", \"offsetgroup\": \"Luxembourg\", \"orientation\": \"v\", \"showlegend\": true, \"textposition\": \"auto\", \"type\": \"bar\", \"x\": [\"Pfizer/BioNTech\"], \"xaxis\": \"x\", \"y\": [87238.0], \"yaxis\": \"y\"}, {\"alignmentgroup\": \"True\", \"hoverlabel\": {\"namelength\": 0}, \"hovertemplate\": \"country=Northern Cyprus<br>vaccines=%{x}<br>total_vaccinations=%{y}\", \"legendgroup\": \"Northern Cyprus\", \"marker\": {\"color\": \"#AA0DFE\"}, \"name\": \"Northern Cyprus\", \"offsetgroup\": \"Northern Cyprus\", \"orientation\": \"v\", \"showlegend\": true, \"textposition\": \"auto\", \"type\": \"bar\", \"x\": [\"Pfizer/BioNTech, Sinovac\"], \"xaxis\": \"x\", \"y\": [25904.0], \"yaxis\": \"y\"}, {\"alignmentgroup\": \"True\", \"hoverlabel\": {\"namelength\": 0}, \"hovertemplate\": \"country=Panama<br>vaccines=%{x}<br>total_vaccinations=%{y}\", \"legendgroup\": \"Panama\", \"marker\": {\"color\": \"#3283FE\"}, \"name\": \"Panama\", \"offsetgroup\": \"Panama\", \"orientation\": \"v\", \"showlegend\": true, \"textposition\": \"auto\", \"type\": \"bar\", \"x\": [\"Pfizer/BioNTech\"], \"xaxis\": \"x\", \"y\": [19829.0], \"yaxis\": \"y\"}, {\"alignmentgroup\": \"True\", \"hoverlabel\": {\"namelength\": 0}, \"hovertemplate\": \"country=Isle of Man<br>vaccines=%{x}<br>total_vaccinations=%{y}\", \"legendgroup\": \"Isle of Man\", \"marker\": {\"color\": \"#85660D\"}, \"name\": \"Isle of Man\", \"offsetgroup\": \"Isle of Man\", \"orientation\": \"v\", \"showlegend\": true, \"textposition\": \"auto\", \"type\": \"bar\", \"x\": [\"Pfizer/BioNTech\"], \"xaxis\": \"x\", \"y\": [18711.0], \"yaxis\": \"y\"}, {\"alignmentgroup\": \"True\", \"hoverlabel\": {\"namelength\": 0}, \"hovertemplate\": \"country=Kuwait<br>vaccines=%{x}<br>total_vaccinations=%{y}\", \"legendgroup\": \"Kuwait\", \"marker\": {\"color\": \"#782AB6\"}, \"name\": \"Kuwait\", \"offsetgroup\": \"Kuwait\", \"orientation\": \"v\", \"showlegend\": true, \"textposition\": \"auto\", \"type\": \"bar\", \"x\": [\"Pfizer/BioNTech\"], \"xaxis\": \"x\", \"y\": [2500.0], \"yaxis\": \"y\"}, {\"alignmentgroup\": \"True\", \"hoverlabel\": {\"namelength\": 0}, \"hovertemplate\": \"country=Bermuda<br>vaccines=%{x}<br>total_vaccinations=%{y}\", \"legendgroup\": \"Bermuda\", \"marker\": {\"color\": \"#565656\"}, \"name\": \"Bermuda\", \"offsetgroup\": \"Bermuda\", \"orientation\": \"v\", \"showlegend\": true, \"textposition\": \"auto\", \"type\": \"bar\", \"x\": [\"Pfizer/BioNTech\"], \"xaxis\": \"x\", \"y\": [1665.0], \"yaxis\": \"y\"}, {\"alignmentgroup\": \"True\", \"hoverlabel\": {\"namelength\": 0}, \"hovertemplate\": \"country=Ecuador<br>vaccines=%{x}<br>total_vaccinations=%{y}\", \"legendgroup\": \"Ecuador\", \"marker\": {\"color\": \"#1C8356\"}, \"name\": \"Ecuador\", \"offsetgroup\": \"Ecuador\", \"orientation\": \"v\", \"showlegend\": true, \"textposition\": \"auto\", \"type\": \"bar\", \"x\": [\"Pfizer/BioNTech\"], \"xaxis\": \"x\", \"y\": [108.0], \"yaxis\": \"y\"}],\n",
       "                        {\"barmode\": \"relative\", \"height\": 650, \"legend\": {\"title\": {\"text\": \"country\"}, \"tracegroupgap\": 0}, \"template\": {\"data\": {\"bar\": [{\"error_x\": {\"color\": \"#2a3f5f\"}, \"error_y\": {\"color\": \"#2a3f5f\"}, \"marker\": {\"line\": {\"color\": \"#E5ECF6\", \"width\": 0.5}}, \"type\": \"bar\"}], \"barpolar\": [{\"marker\": {\"line\": {\"color\": \"#E5ECF6\", \"width\": 0.5}}, \"type\": \"barpolar\"}], \"carpet\": [{\"aaxis\": {\"endlinecolor\": \"#2a3f5f\", \"gridcolor\": \"white\", \"linecolor\": \"white\", \"minorgridcolor\": \"white\", \"startlinecolor\": \"#2a3f5f\"}, \"baxis\": {\"endlinecolor\": \"#2a3f5f\", \"gridcolor\": \"white\", \"linecolor\": \"white\", \"minorgridcolor\": \"white\", \"startlinecolor\": \"#2a3f5f\"}, \"type\": \"carpet\"}], \"choropleth\": [{\"colorbar\": {\"outlinewidth\": 0, \"ticks\": \"\"}, \"type\": \"choropleth\"}], \"contour\": [{\"colorbar\": {\"outlinewidth\": 0, \"ticks\": \"\"}, \"colorscale\": [[0.0, \"#0d0887\"], [0.1111111111111111, \"#46039f\"], [0.2222222222222222, \"#7201a8\"], [0.3333333333333333, \"#9c179e\"], [0.4444444444444444, \"#bd3786\"], [0.5555555555555556, \"#d8576b\"], [0.6666666666666666, \"#ed7953\"], [0.7777777777777778, \"#fb9f3a\"], [0.8888888888888888, \"#fdca26\"], [1.0, \"#f0f921\"]], \"type\": \"contour\"}], \"contourcarpet\": [{\"colorbar\": {\"outlinewidth\": 0, \"ticks\": \"\"}, \"type\": \"contourcarpet\"}], \"heatmap\": [{\"colorbar\": {\"outlinewidth\": 0, \"ticks\": \"\"}, \"colorscale\": [[0.0, \"#0d0887\"], [0.1111111111111111, \"#46039f\"], [0.2222222222222222, \"#7201a8\"], [0.3333333333333333, \"#9c179e\"], [0.4444444444444444, \"#bd3786\"], [0.5555555555555556, \"#d8576b\"], [0.6666666666666666, \"#ed7953\"], [0.7777777777777778, \"#fb9f3a\"], [0.8888888888888888, \"#fdca26\"], [1.0, \"#f0f921\"]], \"type\": \"heatmap\"}], \"heatmapgl\": [{\"colorbar\": {\"outlinewidth\": 0, \"ticks\": \"\"}, \"colorscale\": [[0.0, \"#0d0887\"], [0.1111111111111111, \"#46039f\"], [0.2222222222222222, \"#7201a8\"], [0.3333333333333333, \"#9c179e\"], [0.4444444444444444, \"#bd3786\"], [0.5555555555555556, \"#d8576b\"], [0.6666666666666666, \"#ed7953\"], [0.7777777777777778, \"#fb9f3a\"], [0.8888888888888888, \"#fdca26\"], [1.0, \"#f0f921\"]], \"type\": \"heatmapgl\"}], \"histogram\": [{\"marker\": {\"colorbar\": {\"outlinewidth\": 0, \"ticks\": \"\"}}, \"type\": \"histogram\"}], \"histogram2d\": [{\"colorbar\": {\"outlinewidth\": 0, \"ticks\": \"\"}, \"colorscale\": [[0.0, \"#0d0887\"], [0.1111111111111111, \"#46039f\"], [0.2222222222222222, \"#7201a8\"], [0.3333333333333333, \"#9c179e\"], [0.4444444444444444, \"#bd3786\"], [0.5555555555555556, \"#d8576b\"], [0.6666666666666666, \"#ed7953\"], [0.7777777777777778, \"#fb9f3a\"], [0.8888888888888888, \"#fdca26\"], [1.0, \"#f0f921\"]], \"type\": \"histogram2d\"}], \"histogram2dcontour\": [{\"colorbar\": {\"outlinewidth\": 0, \"ticks\": \"\"}, \"colorscale\": [[0.0, \"#0d0887\"], [0.1111111111111111, \"#46039f\"], [0.2222222222222222, \"#7201a8\"], [0.3333333333333333, \"#9c179e\"], [0.4444444444444444, \"#bd3786\"], [0.5555555555555556, \"#d8576b\"], [0.6666666666666666, \"#ed7953\"], [0.7777777777777778, \"#fb9f3a\"], [0.8888888888888888, \"#fdca26\"], [1.0, \"#f0f921\"]], \"type\": \"histogram2dcontour\"}], \"mesh3d\": [{\"colorbar\": {\"outlinewidth\": 0, \"ticks\": \"\"}, \"type\": \"mesh3d\"}], \"parcoords\": [{\"line\": {\"colorbar\": {\"outlinewidth\": 0, \"ticks\": \"\"}}, \"type\": \"parcoords\"}], \"pie\": [{\"automargin\": true, \"type\": \"pie\"}], \"scatter\": [{\"marker\": {\"colorbar\": {\"outlinewidth\": 0, \"ticks\": \"\"}}, \"type\": \"scatter\"}], \"scatter3d\": [{\"line\": {\"colorbar\": {\"outlinewidth\": 0, \"ticks\": \"\"}}, \"marker\": {\"colorbar\": {\"outlinewidth\": 0, \"ticks\": \"\"}}, \"type\": \"scatter3d\"}], \"scattercarpet\": [{\"marker\": {\"colorbar\": {\"outlinewidth\": 0, \"ticks\": \"\"}}, \"type\": \"scattercarpet\"}], \"scattergeo\": [{\"marker\": {\"colorbar\": {\"outlinewidth\": 0, \"ticks\": \"\"}}, \"type\": \"scattergeo\"}], \"scattergl\": [{\"marker\": {\"colorbar\": {\"outlinewidth\": 0, \"ticks\": \"\"}}, \"type\": \"scattergl\"}], \"scattermapbox\": [{\"marker\": {\"colorbar\": {\"outlinewidth\": 0, \"ticks\": \"\"}}, \"type\": \"scattermapbox\"}], \"scatterpolar\": [{\"marker\": {\"colorbar\": {\"outlinewidth\": 0, \"ticks\": \"\"}}, \"type\": \"scatterpolar\"}], \"scatterpolargl\": [{\"marker\": {\"colorbar\": {\"outlinewidth\": 0, \"ticks\": \"\"}}, \"type\": \"scatterpolargl\"}], \"scatterternary\": [{\"marker\": {\"colorbar\": {\"outlinewidth\": 0, \"ticks\": \"\"}}, \"type\": \"scatterternary\"}], \"surface\": [{\"colorbar\": {\"outlinewidth\": 0, \"ticks\": \"\"}, \"colorscale\": [[0.0, \"#0d0887\"], [0.1111111111111111, \"#46039f\"], [0.2222222222222222, \"#7201a8\"], [0.3333333333333333, \"#9c179e\"], [0.4444444444444444, \"#bd3786\"], [0.5555555555555556, \"#d8576b\"], [0.6666666666666666, \"#ed7953\"], [0.7777777777777778, \"#fb9f3a\"], [0.8888888888888888, \"#fdca26\"], [1.0, \"#f0f921\"]], \"type\": \"surface\"}], \"table\": [{\"cells\": {\"fill\": {\"color\": \"#EBF0F8\"}, \"line\": {\"color\": \"white\"}}, \"header\": {\"fill\": {\"color\": \"#C8D4E3\"}, \"line\": {\"color\": \"white\"}}, \"type\": \"table\"}]}, \"layout\": {\"annotationdefaults\": {\"arrowcolor\": \"#2a3f5f\", \"arrowhead\": 0, \"arrowwidth\": 1}, \"coloraxis\": {\"colorbar\": {\"outlinewidth\": 0, \"ticks\": \"\"}}, \"colorscale\": {\"diverging\": [[0, \"#8e0152\"], [0.1, \"#c51b7d\"], [0.2, \"#de77ae\"], [0.3, \"#f1b6da\"], [0.4, \"#fde0ef\"], [0.5, \"#f7f7f7\"], [0.6, \"#e6f5d0\"], [0.7, \"#b8e186\"], [0.8, \"#7fbc41\"], [0.9, \"#4d9221\"], [1, \"#276419\"]], \"sequential\": [[0.0, \"#0d0887\"], [0.1111111111111111, \"#46039f\"], [0.2222222222222222, \"#7201a8\"], [0.3333333333333333, \"#9c179e\"], [0.4444444444444444, \"#bd3786\"], [0.5555555555555556, \"#d8576b\"], [0.6666666666666666, \"#ed7953\"], [0.7777777777777778, \"#fb9f3a\"], [0.8888888888888888, \"#fdca26\"], [1.0, \"#f0f921\"]], \"sequentialminus\": [[0.0, \"#0d0887\"], [0.1111111111111111, \"#46039f\"], [0.2222222222222222, \"#7201a8\"], [0.3333333333333333, \"#9c179e\"], [0.4444444444444444, \"#bd3786\"], [0.5555555555555556, \"#d8576b\"], [0.6666666666666666, \"#ed7953\"], [0.7777777777777778, \"#fb9f3a\"], [0.8888888888888888, \"#fdca26\"], [1.0, \"#f0f921\"]]}, \"colorway\": [\"#636efa\", \"#EF553B\", \"#00cc96\", \"#ab63fa\", \"#FFA15A\", \"#19d3f3\", \"#FF6692\", \"#B6E880\", \"#FF97FF\", \"#FECB52\"], \"font\": {\"color\": \"#2a3f5f\"}, \"geo\": {\"bgcolor\": \"white\", \"lakecolor\": \"white\", \"landcolor\": \"#E5ECF6\", \"showlakes\": true, \"showland\": true, \"subunitcolor\": \"white\"}, \"hoverlabel\": {\"align\": \"left\"}, \"hovermode\": \"closest\", \"mapbox\": {\"style\": \"light\"}, \"paper_bgcolor\": \"white\", \"plot_bgcolor\": \"#E5ECF6\", \"polar\": {\"angularaxis\": {\"gridcolor\": \"white\", \"linecolor\": \"white\", \"ticks\": \"\"}, \"bgcolor\": \"#E5ECF6\", \"radialaxis\": {\"gridcolor\": \"white\", \"linecolor\": \"white\", \"ticks\": \"\"}}, \"scene\": {\"xaxis\": {\"backgroundcolor\": \"#E5ECF6\", \"gridcolor\": \"white\", \"gridwidth\": 2, \"linecolor\": \"white\", \"showbackground\": true, \"ticks\": \"\", \"zerolinecolor\": \"white\"}, \"yaxis\": {\"backgroundcolor\": \"#E5ECF6\", \"gridcolor\": \"white\", \"gridwidth\": 2, \"linecolor\": \"white\", \"showbackground\": true, \"ticks\": \"\", \"zerolinecolor\": \"white\"}, \"zaxis\": {\"backgroundcolor\": \"#E5ECF6\", \"gridcolor\": \"white\", \"gridwidth\": 2, \"linecolor\": \"white\", \"showbackground\": true, \"ticks\": \"\", \"zerolinecolor\": \"white\"}}, \"shapedefaults\": {\"line\": {\"color\": \"#2a3f5f\"}}, \"ternary\": {\"aaxis\": {\"gridcolor\": \"white\", \"linecolor\": \"white\", \"ticks\": \"\"}, \"baxis\": {\"gridcolor\": \"white\", \"linecolor\": \"white\", \"ticks\": \"\"}, \"bgcolor\": \"#E5ECF6\", \"caxis\": {\"gridcolor\": \"white\", \"linecolor\": \"white\", \"ticks\": \"\"}}, \"title\": {\"x\": 0.05}, \"xaxis\": {\"automargin\": true, \"gridcolor\": \"white\", \"linecolor\": \"white\", \"ticks\": \"\", \"title\": {\"standoff\": 15}, \"zerolinecolor\": \"white\", \"zerolinewidth\": 2}, \"yaxis\": {\"automargin\": true, \"gridcolor\": \"white\", \"linecolor\": \"white\", \"ticks\": \"\", \"title\": {\"standoff\": 15}, \"zerolinecolor\": \"white\", \"zerolinewidth\": 2}}}, \"title\": {\"text\": \"Which countries use different kinds of vaccine's name in total vacination count\"}, \"width\": 1000, \"xaxis\": {\"anchor\": \"y\", \"categoryorder\": \"total descending\", \"domain\": [0.0, 1.0], \"title\": {\"text\": \"vaccines\"}}, \"yaxis\": {\"anchor\": \"x\", \"domain\": [0.0, 1.0], \"title\": {\"text\": \"total_vaccinations\"}}},\n",
       "                        {\"responsive\": true}\n",
       "                    ).then(function(){\n",
       "                            \n",
       "var gd = document.getElementById('bde5d592-a012-4a6c-85ff-7a2a6735c31d');\n",
       "var x = new MutationObserver(function (mutations, observer) {{\n",
       "        var display = window.getComputedStyle(gd).display;\n",
       "        if (!display || display === 'none') {{\n",
       "            console.log([gd, 'removed!']);\n",
       "            Plotly.purge(gd);\n",
       "            observer.disconnect();\n",
       "        }}\n",
       "}});\n",
       "\n",
       "// Listen for the removal of the full notebook cells\n",
       "var notebookContainer = gd.closest('#notebook-container');\n",
       "if (notebookContainer) {{\n",
       "    x.observe(notebookContainer, {childList: true});\n",
       "}}\n",
       "\n",
       "// Listen for the clearing of the current output cell\n",
       "var outputEl = gd.closest('.output');\n",
       "if (outputEl) {{\n",
       "    x.observe(outputEl, {childList: true});\n",
       "}}\n",
       "\n",
       "                        })\n",
       "                };\n",
       "                });\n",
       "            </script>\n",
       "        </div>"
      ]
     },
     "metadata": {},
     "output_type": "display_data"
    }
   ],
   "source": [
    "fig = px.bar(covid19_vaccinations_df_country_vaccine_type, \n",
    "             x='vaccines', \n",
    "             y='total_vaccinations', \n",
    "             color ='country',\n",
    "             title=\"Which countries use different kinds of vaccine's name in total vacination count\",\n",
    "             color_discrete_sequence=px.colors.qualitative.Alphabet,\n",
    "             height = 650,\n",
    "             width = 1000\n",
    "            )\n",
    "fig.update_layout(xaxis_categoryorder = 'total descending')\n",
    "pio.write_image(fig, \"images/image4.png\") \n",
    "fig.show()"
   ]
  },
  {
   "cell_type": "markdown",
   "metadata": {},
   "source": [
    "<a id='part4-4'></a>\n",
    "### 4.4 Total vaccinations per country, grouped by vaccine scheme"
   ]
  },
  {
   "cell_type": "code",
   "execution_count": 75,
   "metadata": {},
   "outputs": [
    {
     "data": {
      "application/vnd.plotly.v1+json": {
       "config": {
        "plotlyServerURL": "https://plot.ly"
       },
       "data": [
        {
         "branchvalues": "total",
         "domain": {
          "x": [
           0,
           1
          ],
          "y": [
           0,
           1
          ]
         },
         "hoverlabel": {
          "namelength": 0
         },
         "hovertemplate": "labels=%{label}<br>total_vaccinations=%{value}<br>parent=%{parent}<br>id=%{id}",
         "ids": [
          "Sputnik V/Argentina",
          "Pfizer/BioNTech/Austria",
          "Pfizer/BioNTech, Sinopharm/Bahrain",
          "Pfizer/BioNTech/Belgium",
          "Pfizer/BioNTech/Bermuda",
          "Sinovac/Brazil",
          "Moderna, Pfizer/BioNTech/Bulgaria",
          "Moderna, Pfizer/BioNTech/Canada",
          "Pfizer/BioNTech/Chile",
          "CNBG, Sinovac/China",
          "Pfizer/BioNTech/Costa Rica",
          "Pfizer/BioNTech/Croatia",
          "Pfizer/BioNTech/Cyprus",
          "Moderna, Pfizer/BioNTech/Czechia",
          "Moderna, Pfizer/BioNTech/Denmark",
          "Pfizer/BioNTech/Ecuador",
          "Pfizer/BioNTech/Estonia",
          "Pfizer/BioNTech/Finland",
          "Pfizer/BioNTech/France",
          "Moderna, Pfizer/BioNTech/Germany",
          "Pfizer/BioNTech/Gibraltar",
          "Pfizer/BioNTech/Greece",
          "Pfizer/BioNTech/Hungary",
          "Moderna, Pfizer/BioNTech/Iceland",
          "Covaxin, Covishield/India",
          "Sinovac/Indonesia",
          "Pfizer/BioNTech/Ireland",
          "Pfizer/BioNTech/Isle of Man",
          "Moderna, Pfizer/BioNTech/Israel",
          "Pfizer/BioNTech/Italy",
          "Pfizer/BioNTech/Kuwait",
          "Pfizer/BioNTech/Latvia",
          "Moderna, Pfizer/BioNTech/Lithuania",
          "Pfizer/BioNTech/Luxembourg",
          "Pfizer/BioNTech/Malta",
          "Pfizer/BioNTech/Mexico",
          "Moderna, Pfizer/BioNTech/Netherlands",
          "Pfizer/BioNTech, Sinovac/Northern Cyprus",
          "Pfizer/BioNTech/Norway",
          "Pfizer/BioNTech/Oman",
          "Pfizer/BioNTech/Panama",
          "Pfizer/BioNTech/Poland",
          "Pfizer/BioNTech/Portugal",
          "Pfizer/BioNTech/Romania",
          "Sputnik V/Russia",
          "Pfizer/BioNTech/Saudi Arabia",
          "Pfizer/BioNTech, Sinopharm, Sputnik V/Serbia",
          "Sinopharm/Seychelles",
          "Pfizer/BioNTech/Singapore",
          "Pfizer/BioNTech/Slovakia",
          "Pfizer/BioNTech/Slovenia",
          "Moderna, Pfizer/BioNTech/Spain",
          "Pfizer/BioNTech/Sweden",
          "Pfizer/BioNTech/Switzerland",
          "Sinovac/Turkey",
          "Pfizer/BioNTech, Sinopharm/United Arab Emirates",
          "Oxford/AstraZeneca, Pfizer/BioNTech/United Kingdom",
          "Moderna, Pfizer/BioNTech/United States",
          "CNBG, Sinovac",
          "Covaxin, Covishield",
          "Moderna, Pfizer/BioNTech",
          "Oxford/AstraZeneca, Pfizer/BioNTech",
          "Pfizer/BioNTech",
          "Pfizer/BioNTech, Sinopharm",
          "Pfizer/BioNTech, Sinopharm, Sputnik V",
          "Pfizer/BioNTech, Sinovac",
          "Sinopharm",
          "Sinovac",
          "Sputnik V"
         ],
         "labels": [
          "Argentina",
          "Austria",
          "Bahrain",
          "Belgium",
          "Bermuda",
          "Brazil",
          "Bulgaria",
          "Canada",
          "Chile",
          "China",
          "Costa Rica",
          "Croatia",
          "Cyprus",
          "Czechia",
          "Denmark",
          "Ecuador",
          "Estonia",
          "Finland",
          "France",
          "Germany",
          "Gibraltar",
          "Greece",
          "Hungary",
          "Iceland",
          "India",
          "Indonesia",
          "Ireland",
          "Isle of Man",
          "Israel",
          "Italy",
          "Kuwait",
          "Latvia",
          "Lithuania",
          "Luxembourg",
          "Malta",
          "Mexico",
          "Netherlands",
          "Northern Cyprus",
          "Norway",
          "Oman",
          "Panama",
          "Poland",
          "Portugal",
          "Romania",
          "Russia",
          "Saudi Arabia",
          "Serbia",
          "Seychelles",
          "Singapore",
          "Slovakia",
          "Slovenia",
          "Spain",
          "Sweden",
          "Switzerland",
          "Turkey",
          "United Arab Emirates",
          "United Kingdom",
          "United States",
          "CNBG, Sinovac",
          "Covaxin, Covishield",
          "Moderna, Pfizer/BioNTech",
          "Oxford/AstraZeneca, Pfizer/BioNTech",
          "Pfizer/BioNTech",
          "Pfizer/BioNTech, Sinopharm",
          "Pfizer/BioNTech, Sinopharm, Sputnik V",
          "Pfizer/BioNTech, Sinovac",
          "Sinopharm",
          "Sinovac",
          "Sputnik V"
         ],
         "name": "",
         "parents": [
          "Sputnik V",
          "Pfizer/BioNTech",
          "Pfizer/BioNTech, Sinopharm",
          "Pfizer/BioNTech",
          "Pfizer/BioNTech",
          "Sinovac",
          "Moderna, Pfizer/BioNTech",
          "Moderna, Pfizer/BioNTech",
          "Pfizer/BioNTech",
          "CNBG, Sinovac",
          "Pfizer/BioNTech",
          "Pfizer/BioNTech",
          "Pfizer/BioNTech",
          "Moderna, Pfizer/BioNTech",
          "Moderna, Pfizer/BioNTech",
          "Pfizer/BioNTech",
          "Pfizer/BioNTech",
          "Pfizer/BioNTech",
          "Pfizer/BioNTech",
          "Moderna, Pfizer/BioNTech",
          "Pfizer/BioNTech",
          "Pfizer/BioNTech",
          "Pfizer/BioNTech",
          "Moderna, Pfizer/BioNTech",
          "Covaxin, Covishield",
          "Sinovac",
          "Pfizer/BioNTech",
          "Pfizer/BioNTech",
          "Moderna, Pfizer/BioNTech",
          "Pfizer/BioNTech",
          "Pfizer/BioNTech",
          "Pfizer/BioNTech",
          "Moderna, Pfizer/BioNTech",
          "Pfizer/BioNTech",
          "Pfizer/BioNTech",
          "Pfizer/BioNTech",
          "Moderna, Pfizer/BioNTech",
          "Pfizer/BioNTech, Sinovac",
          "Pfizer/BioNTech",
          "Pfizer/BioNTech",
          "Pfizer/BioNTech",
          "Pfizer/BioNTech",
          "Pfizer/BioNTech",
          "Pfizer/BioNTech",
          "Sputnik V",
          "Pfizer/BioNTech",
          "Pfizer/BioNTech, Sinopharm, Sputnik V",
          "Sinopharm",
          "Pfizer/BioNTech",
          "Pfizer/BioNTech",
          "Pfizer/BioNTech",
          "Moderna, Pfizer/BioNTech",
          "Pfizer/BioNTech",
          "Pfizer/BioNTech",
          "Sinovac",
          "Pfizer/BioNTech, Sinopharm",
          "Oxford/AstraZeneca, Pfizer/BioNTech",
          "Moderna, Pfizer/BioNTech",
          "",
          "",
          "",
          "",
          "",
          "",
          "",
          "",
          "",
          "",
          ""
         ],
         "type": "treemap",
         "values": [
          4134631,
          2046716,
          2403216,
          2122557,
          1665,
          3115617,
          439771,
          12591453,
          798422,
          185500000,
          409510,
          928762,
          134740,
          2619608,
          3494361,
          108,
          370554,
          1032714,
          10328550,
          24332685,
          94177,
          1920552,
          2194041,
          148620,
          12035970,
          820886,
          1406954,
          18711,
          65596935,
          22305123,
          2500,
          288118,
          1057411,
          87238,
          201642,
          7855933,
          1581681,
          25904,
          979960,
          575532,
          19829,
          9278604,
          2714673,
          5162881,
          10571500,
          2017000,
          1357112,
          139787,
          125400,
          1163562,
          756163,
          15881211,
          2169870,
          1256717,
          12622030,
          37247322,
          196862418,
          316885603,
          185500000,
          12035970,
          444629339,
          196862418,
          80769478,
          39650538,
          1357112,
          25904,
          139787,
          16558533,
          14706131
         ]
        }
       ],
       "layout": {
        "legend": {
         "tracegroupgap": 0
        },
        "template": {
         "data": {
          "bar": [
           {
            "error_x": {
             "color": "#2a3f5f"
            },
            "error_y": {
             "color": "#2a3f5f"
            },
            "marker": {
             "line": {
              "color": "#E5ECF6",
              "width": 0.5
             }
            },
            "type": "bar"
           }
          ],
          "barpolar": [
           {
            "marker": {
             "line": {
              "color": "#E5ECF6",
              "width": 0.5
             }
            },
            "type": "barpolar"
           }
          ],
          "carpet": [
           {
            "aaxis": {
             "endlinecolor": "#2a3f5f",
             "gridcolor": "white",
             "linecolor": "white",
             "minorgridcolor": "white",
             "startlinecolor": "#2a3f5f"
            },
            "baxis": {
             "endlinecolor": "#2a3f5f",
             "gridcolor": "white",
             "linecolor": "white",
             "minorgridcolor": "white",
             "startlinecolor": "#2a3f5f"
            },
            "type": "carpet"
           }
          ],
          "choropleth": [
           {
            "colorbar": {
             "outlinewidth": 0,
             "ticks": ""
            },
            "type": "choropleth"
           }
          ],
          "contour": [
           {
            "colorbar": {
             "outlinewidth": 0,
             "ticks": ""
            },
            "colorscale": [
             [
              0,
              "#0d0887"
             ],
             [
              0.1111111111111111,
              "#46039f"
             ],
             [
              0.2222222222222222,
              "#7201a8"
             ],
             [
              0.3333333333333333,
              "#9c179e"
             ],
             [
              0.4444444444444444,
              "#bd3786"
             ],
             [
              0.5555555555555556,
              "#d8576b"
             ],
             [
              0.6666666666666666,
              "#ed7953"
             ],
             [
              0.7777777777777778,
              "#fb9f3a"
             ],
             [
              0.8888888888888888,
              "#fdca26"
             ],
             [
              1,
              "#f0f921"
             ]
            ],
            "type": "contour"
           }
          ],
          "contourcarpet": [
           {
            "colorbar": {
             "outlinewidth": 0,
             "ticks": ""
            },
            "type": "contourcarpet"
           }
          ],
          "heatmap": [
           {
            "colorbar": {
             "outlinewidth": 0,
             "ticks": ""
            },
            "colorscale": [
             [
              0,
              "#0d0887"
             ],
             [
              0.1111111111111111,
              "#46039f"
             ],
             [
              0.2222222222222222,
              "#7201a8"
             ],
             [
              0.3333333333333333,
              "#9c179e"
             ],
             [
              0.4444444444444444,
              "#bd3786"
             ],
             [
              0.5555555555555556,
              "#d8576b"
             ],
             [
              0.6666666666666666,
              "#ed7953"
             ],
             [
              0.7777777777777778,
              "#fb9f3a"
             ],
             [
              0.8888888888888888,
              "#fdca26"
             ],
             [
              1,
              "#f0f921"
             ]
            ],
            "type": "heatmap"
           }
          ],
          "heatmapgl": [
           {
            "colorbar": {
             "outlinewidth": 0,
             "ticks": ""
            },
            "colorscale": [
             [
              0,
              "#0d0887"
             ],
             [
              0.1111111111111111,
              "#46039f"
             ],
             [
              0.2222222222222222,
              "#7201a8"
             ],
             [
              0.3333333333333333,
              "#9c179e"
             ],
             [
              0.4444444444444444,
              "#bd3786"
             ],
             [
              0.5555555555555556,
              "#d8576b"
             ],
             [
              0.6666666666666666,
              "#ed7953"
             ],
             [
              0.7777777777777778,
              "#fb9f3a"
             ],
             [
              0.8888888888888888,
              "#fdca26"
             ],
             [
              1,
              "#f0f921"
             ]
            ],
            "type": "heatmapgl"
           }
          ],
          "histogram": [
           {
            "marker": {
             "colorbar": {
              "outlinewidth": 0,
              "ticks": ""
             }
            },
            "type": "histogram"
           }
          ],
          "histogram2d": [
           {
            "colorbar": {
             "outlinewidth": 0,
             "ticks": ""
            },
            "colorscale": [
             [
              0,
              "#0d0887"
             ],
             [
              0.1111111111111111,
              "#46039f"
             ],
             [
              0.2222222222222222,
              "#7201a8"
             ],
             [
              0.3333333333333333,
              "#9c179e"
             ],
             [
              0.4444444444444444,
              "#bd3786"
             ],
             [
              0.5555555555555556,
              "#d8576b"
             ],
             [
              0.6666666666666666,
              "#ed7953"
             ],
             [
              0.7777777777777778,
              "#fb9f3a"
             ],
             [
              0.8888888888888888,
              "#fdca26"
             ],
             [
              1,
              "#f0f921"
             ]
            ],
            "type": "histogram2d"
           }
          ],
          "histogram2dcontour": [
           {
            "colorbar": {
             "outlinewidth": 0,
             "ticks": ""
            },
            "colorscale": [
             [
              0,
              "#0d0887"
             ],
             [
              0.1111111111111111,
              "#46039f"
             ],
             [
              0.2222222222222222,
              "#7201a8"
             ],
             [
              0.3333333333333333,
              "#9c179e"
             ],
             [
              0.4444444444444444,
              "#bd3786"
             ],
             [
              0.5555555555555556,
              "#d8576b"
             ],
             [
              0.6666666666666666,
              "#ed7953"
             ],
             [
              0.7777777777777778,
              "#fb9f3a"
             ],
             [
              0.8888888888888888,
              "#fdca26"
             ],
             [
              1,
              "#f0f921"
             ]
            ],
            "type": "histogram2dcontour"
           }
          ],
          "mesh3d": [
           {
            "colorbar": {
             "outlinewidth": 0,
             "ticks": ""
            },
            "type": "mesh3d"
           }
          ],
          "parcoords": [
           {
            "line": {
             "colorbar": {
              "outlinewidth": 0,
              "ticks": ""
             }
            },
            "type": "parcoords"
           }
          ],
          "pie": [
           {
            "automargin": true,
            "type": "pie"
           }
          ],
          "scatter": [
           {
            "marker": {
             "colorbar": {
              "outlinewidth": 0,
              "ticks": ""
             }
            },
            "type": "scatter"
           }
          ],
          "scatter3d": [
           {
            "line": {
             "colorbar": {
              "outlinewidth": 0,
              "ticks": ""
             }
            },
            "marker": {
             "colorbar": {
              "outlinewidth": 0,
              "ticks": ""
             }
            },
            "type": "scatter3d"
           }
          ],
          "scattercarpet": [
           {
            "marker": {
             "colorbar": {
              "outlinewidth": 0,
              "ticks": ""
             }
            },
            "type": "scattercarpet"
           }
          ],
          "scattergeo": [
           {
            "marker": {
             "colorbar": {
              "outlinewidth": 0,
              "ticks": ""
             }
            },
            "type": "scattergeo"
           }
          ],
          "scattergl": [
           {
            "marker": {
             "colorbar": {
              "outlinewidth": 0,
              "ticks": ""
             }
            },
            "type": "scattergl"
           }
          ],
          "scattermapbox": [
           {
            "marker": {
             "colorbar": {
              "outlinewidth": 0,
              "ticks": ""
             }
            },
            "type": "scattermapbox"
           }
          ],
          "scatterpolar": [
           {
            "marker": {
             "colorbar": {
              "outlinewidth": 0,
              "ticks": ""
             }
            },
            "type": "scatterpolar"
           }
          ],
          "scatterpolargl": [
           {
            "marker": {
             "colorbar": {
              "outlinewidth": 0,
              "ticks": ""
             }
            },
            "type": "scatterpolargl"
           }
          ],
          "scatterternary": [
           {
            "marker": {
             "colorbar": {
              "outlinewidth": 0,
              "ticks": ""
             }
            },
            "type": "scatterternary"
           }
          ],
          "surface": [
           {
            "colorbar": {
             "outlinewidth": 0,
             "ticks": ""
            },
            "colorscale": [
             [
              0,
              "#0d0887"
             ],
             [
              0.1111111111111111,
              "#46039f"
             ],
             [
              0.2222222222222222,
              "#7201a8"
             ],
             [
              0.3333333333333333,
              "#9c179e"
             ],
             [
              0.4444444444444444,
              "#bd3786"
             ],
             [
              0.5555555555555556,
              "#d8576b"
             ],
             [
              0.6666666666666666,
              "#ed7953"
             ],
             [
              0.7777777777777778,
              "#fb9f3a"
             ],
             [
              0.8888888888888888,
              "#fdca26"
             ],
             [
              1,
              "#f0f921"
             ]
            ],
            "type": "surface"
           }
          ],
          "table": [
           {
            "cells": {
             "fill": {
              "color": "#EBF0F8"
             },
             "line": {
              "color": "white"
             }
            },
            "header": {
             "fill": {
              "color": "#C8D4E3"
             },
             "line": {
              "color": "white"
             }
            },
            "type": "table"
           }
          ]
         },
         "layout": {
          "annotationdefaults": {
           "arrowcolor": "#2a3f5f",
           "arrowhead": 0,
           "arrowwidth": 1
          },
          "coloraxis": {
           "colorbar": {
            "outlinewidth": 0,
            "ticks": ""
           }
          },
          "colorscale": {
           "diverging": [
            [
             0,
             "#8e0152"
            ],
            [
             0.1,
             "#c51b7d"
            ],
            [
             0.2,
             "#de77ae"
            ],
            [
             0.3,
             "#f1b6da"
            ],
            [
             0.4,
             "#fde0ef"
            ],
            [
             0.5,
             "#f7f7f7"
            ],
            [
             0.6,
             "#e6f5d0"
            ],
            [
             0.7,
             "#b8e186"
            ],
            [
             0.8,
             "#7fbc41"
            ],
            [
             0.9,
             "#4d9221"
            ],
            [
             1,
             "#276419"
            ]
           ],
           "sequential": [
            [
             0,
             "#0d0887"
            ],
            [
             0.1111111111111111,
             "#46039f"
            ],
            [
             0.2222222222222222,
             "#7201a8"
            ],
            [
             0.3333333333333333,
             "#9c179e"
            ],
            [
             0.4444444444444444,
             "#bd3786"
            ],
            [
             0.5555555555555556,
             "#d8576b"
            ],
            [
             0.6666666666666666,
             "#ed7953"
            ],
            [
             0.7777777777777778,
             "#fb9f3a"
            ],
            [
             0.8888888888888888,
             "#fdca26"
            ],
            [
             1,
             "#f0f921"
            ]
           ],
           "sequentialminus": [
            [
             0,
             "#0d0887"
            ],
            [
             0.1111111111111111,
             "#46039f"
            ],
            [
             0.2222222222222222,
             "#7201a8"
            ],
            [
             0.3333333333333333,
             "#9c179e"
            ],
            [
             0.4444444444444444,
             "#bd3786"
            ],
            [
             0.5555555555555556,
             "#d8576b"
            ],
            [
             0.6666666666666666,
             "#ed7953"
            ],
            [
             0.7777777777777778,
             "#fb9f3a"
            ],
            [
             0.8888888888888888,
             "#fdca26"
            ],
            [
             1,
             "#f0f921"
            ]
           ]
          },
          "colorway": [
           "#636efa",
           "#EF553B",
           "#00cc96",
           "#ab63fa",
           "#FFA15A",
           "#19d3f3",
           "#FF6692",
           "#B6E880",
           "#FF97FF",
           "#FECB52"
          ],
          "font": {
           "color": "#2a3f5f"
          },
          "geo": {
           "bgcolor": "white",
           "lakecolor": "white",
           "landcolor": "#E5ECF6",
           "showlakes": true,
           "showland": true,
           "subunitcolor": "white"
          },
          "hoverlabel": {
           "align": "left"
          },
          "hovermode": "closest",
          "mapbox": {
           "style": "light"
          },
          "paper_bgcolor": "white",
          "plot_bgcolor": "#E5ECF6",
          "polar": {
           "angularaxis": {
            "gridcolor": "white",
            "linecolor": "white",
            "ticks": ""
           },
           "bgcolor": "#E5ECF6",
           "radialaxis": {
            "gridcolor": "white",
            "linecolor": "white",
            "ticks": ""
           }
          },
          "scene": {
           "xaxis": {
            "backgroundcolor": "#E5ECF6",
            "gridcolor": "white",
            "gridwidth": 2,
            "linecolor": "white",
            "showbackground": true,
            "ticks": "",
            "zerolinecolor": "white"
           },
           "yaxis": {
            "backgroundcolor": "#E5ECF6",
            "gridcolor": "white",
            "gridwidth": 2,
            "linecolor": "white",
            "showbackground": true,
            "ticks": "",
            "zerolinecolor": "white"
           },
           "zaxis": {
            "backgroundcolor": "#E5ECF6",
            "gridcolor": "white",
            "gridwidth": 2,
            "linecolor": "white",
            "showbackground": true,
            "ticks": "",
            "zerolinecolor": "white"
           }
          },
          "shapedefaults": {
           "line": {
            "color": "#2a3f5f"
           }
          },
          "ternary": {
           "aaxis": {
            "gridcolor": "white",
            "linecolor": "white",
            "ticks": ""
           },
           "baxis": {
            "gridcolor": "white",
            "linecolor": "white",
            "ticks": ""
           },
           "bgcolor": "#E5ECF6",
           "caxis": {
            "gridcolor": "white",
            "linecolor": "white",
            "ticks": ""
           }
          },
          "title": {
           "x": 0.05
          },
          "xaxis": {
           "automargin": true,
           "gridcolor": "white",
           "linecolor": "white",
           "ticks": "",
           "title": {
            "standoff": 15
           },
           "zerolinecolor": "white",
           "zerolinewidth": 2
          },
          "yaxis": {
           "automargin": true,
           "gridcolor": "white",
           "linecolor": "white",
           "ticks": "",
           "title": {
            "standoff": 15
           },
           "zerolinecolor": "white",
           "zerolinewidth": 2
          }
         }
        },
        "title": {
         "text": "Total vaccinations per country, grouped by vaccine scheme"
        }
       }
      },
      "text/html": [
       "<div>\n",
       "        \n",
       "        \n",
       "            <div id=\"ab53b2b8-b225-4e0f-98cc-36adda6758c6\" class=\"plotly-graph-div\" style=\"height:525px; width:100%;\"></div>\n",
       "            <script type=\"text/javascript\">\n",
       "                require([\"plotly\"], function(Plotly) {\n",
       "                    window.PLOTLYENV=window.PLOTLYENV || {};\n",
       "                    \n",
       "                if (document.getElementById(\"ab53b2b8-b225-4e0f-98cc-36adda6758c6\")) {\n",
       "                    Plotly.newPlot(\n",
       "                        'ab53b2b8-b225-4e0f-98cc-36adda6758c6',\n",
       "                        [{\"branchvalues\": \"total\", \"domain\": {\"x\": [0.0, 1.0], \"y\": [0.0, 1.0]}, \"hoverlabel\": {\"namelength\": 0}, \"hovertemplate\": \"labels=%{label}<br>total_vaccinations=%{value}<br>parent=%{parent}<br>id=%{id}\", \"ids\": [\"Sputnik V/Argentina\", \"Pfizer/BioNTech/Austria\", \"Pfizer/BioNTech, Sinopharm/Bahrain\", \"Pfizer/BioNTech/Belgium\", \"Pfizer/BioNTech/Bermuda\", \"Sinovac/Brazil\", \"Moderna, Pfizer/BioNTech/Bulgaria\", \"Moderna, Pfizer/BioNTech/Canada\", \"Pfizer/BioNTech/Chile\", \"CNBG, Sinovac/China\", \"Pfizer/BioNTech/Costa Rica\", \"Pfizer/BioNTech/Croatia\", \"Pfizer/BioNTech/Cyprus\", \"Moderna, Pfizer/BioNTech/Czechia\", \"Moderna, Pfizer/BioNTech/Denmark\", \"Pfizer/BioNTech/Ecuador\", \"Pfizer/BioNTech/Estonia\", \"Pfizer/BioNTech/Finland\", \"Pfizer/BioNTech/France\", \"Moderna, Pfizer/BioNTech/Germany\", \"Pfizer/BioNTech/Gibraltar\", \"Pfizer/BioNTech/Greece\", \"Pfizer/BioNTech/Hungary\", \"Moderna, Pfizer/BioNTech/Iceland\", \"Covaxin, Covishield/India\", \"Sinovac/Indonesia\", \"Pfizer/BioNTech/Ireland\", \"Pfizer/BioNTech/Isle of Man\", \"Moderna, Pfizer/BioNTech/Israel\", \"Pfizer/BioNTech/Italy\", \"Pfizer/BioNTech/Kuwait\", \"Pfizer/BioNTech/Latvia\", \"Moderna, Pfizer/BioNTech/Lithuania\", \"Pfizer/BioNTech/Luxembourg\", \"Pfizer/BioNTech/Malta\", \"Pfizer/BioNTech/Mexico\", \"Moderna, Pfizer/BioNTech/Netherlands\", \"Pfizer/BioNTech, Sinovac/Northern Cyprus\", \"Pfizer/BioNTech/Norway\", \"Pfizer/BioNTech/Oman\", \"Pfizer/BioNTech/Panama\", \"Pfizer/BioNTech/Poland\", \"Pfizer/BioNTech/Portugal\", \"Pfizer/BioNTech/Romania\", \"Sputnik V/Russia\", \"Pfizer/BioNTech/Saudi Arabia\", \"Pfizer/BioNTech, Sinopharm, Sputnik V/Serbia\", \"Sinopharm/Seychelles\", \"Pfizer/BioNTech/Singapore\", \"Pfizer/BioNTech/Slovakia\", \"Pfizer/BioNTech/Slovenia\", \"Moderna, Pfizer/BioNTech/Spain\", \"Pfizer/BioNTech/Sweden\", \"Pfizer/BioNTech/Switzerland\", \"Sinovac/Turkey\", \"Pfizer/BioNTech, Sinopharm/United Arab Emirates\", \"Oxford/AstraZeneca, Pfizer/BioNTech/United Kingdom\", \"Moderna, Pfizer/BioNTech/United States\", \"CNBG, Sinovac\", \"Covaxin, Covishield\", \"Moderna, Pfizer/BioNTech\", \"Oxford/AstraZeneca, Pfizer/BioNTech\", \"Pfizer/BioNTech\", \"Pfizer/BioNTech, Sinopharm\", \"Pfizer/BioNTech, Sinopharm, Sputnik V\", \"Pfizer/BioNTech, Sinovac\", \"Sinopharm\", \"Sinovac\", \"Sputnik V\"], \"labels\": [\"Argentina\", \"Austria\", \"Bahrain\", \"Belgium\", \"Bermuda\", \"Brazil\", \"Bulgaria\", \"Canada\", \"Chile\", \"China\", \"Costa Rica\", \"Croatia\", \"Cyprus\", \"Czechia\", \"Denmark\", \"Ecuador\", \"Estonia\", \"Finland\", \"France\", \"Germany\", \"Gibraltar\", \"Greece\", \"Hungary\", \"Iceland\", \"India\", \"Indonesia\", \"Ireland\", \"Isle of Man\", \"Israel\", \"Italy\", \"Kuwait\", \"Latvia\", \"Lithuania\", \"Luxembourg\", \"Malta\", \"Mexico\", \"Netherlands\", \"Northern Cyprus\", \"Norway\", \"Oman\", \"Panama\", \"Poland\", \"Portugal\", \"Romania\", \"Russia\", \"Saudi Arabia\", \"Serbia\", \"Seychelles\", \"Singapore\", \"Slovakia\", \"Slovenia\", \"Spain\", \"Sweden\", \"Switzerland\", \"Turkey\", \"United Arab Emirates\", \"United Kingdom\", \"United States\", \"CNBG, Sinovac\", \"Covaxin, Covishield\", \"Moderna, Pfizer/BioNTech\", \"Oxford/AstraZeneca, Pfizer/BioNTech\", \"Pfizer/BioNTech\", \"Pfizer/BioNTech, Sinopharm\", \"Pfizer/BioNTech, Sinopharm, Sputnik V\", \"Pfizer/BioNTech, Sinovac\", \"Sinopharm\", \"Sinovac\", \"Sputnik V\"], \"name\": \"\", \"parents\": [\"Sputnik V\", \"Pfizer/BioNTech\", \"Pfizer/BioNTech, Sinopharm\", \"Pfizer/BioNTech\", \"Pfizer/BioNTech\", \"Sinovac\", \"Moderna, Pfizer/BioNTech\", \"Moderna, Pfizer/BioNTech\", \"Pfizer/BioNTech\", \"CNBG, Sinovac\", \"Pfizer/BioNTech\", \"Pfizer/BioNTech\", \"Pfizer/BioNTech\", \"Moderna, Pfizer/BioNTech\", \"Moderna, Pfizer/BioNTech\", \"Pfizer/BioNTech\", \"Pfizer/BioNTech\", \"Pfizer/BioNTech\", \"Pfizer/BioNTech\", \"Moderna, Pfizer/BioNTech\", \"Pfizer/BioNTech\", \"Pfizer/BioNTech\", \"Pfizer/BioNTech\", \"Moderna, Pfizer/BioNTech\", \"Covaxin, Covishield\", \"Sinovac\", \"Pfizer/BioNTech\", \"Pfizer/BioNTech\", \"Moderna, Pfizer/BioNTech\", \"Pfizer/BioNTech\", \"Pfizer/BioNTech\", \"Pfizer/BioNTech\", \"Moderna, Pfizer/BioNTech\", \"Pfizer/BioNTech\", \"Pfizer/BioNTech\", \"Pfizer/BioNTech\", \"Moderna, Pfizer/BioNTech\", \"Pfizer/BioNTech, Sinovac\", \"Pfizer/BioNTech\", \"Pfizer/BioNTech\", \"Pfizer/BioNTech\", \"Pfizer/BioNTech\", \"Pfizer/BioNTech\", \"Pfizer/BioNTech\", \"Sputnik V\", \"Pfizer/BioNTech\", \"Pfizer/BioNTech, Sinopharm, Sputnik V\", \"Sinopharm\", \"Pfizer/BioNTech\", \"Pfizer/BioNTech\", \"Pfizer/BioNTech\", \"Moderna, Pfizer/BioNTech\", \"Pfizer/BioNTech\", \"Pfizer/BioNTech\", \"Sinovac\", \"Pfizer/BioNTech, Sinopharm\", \"Oxford/AstraZeneca, Pfizer/BioNTech\", \"Moderna, Pfizer/BioNTech\", \"\", \"\", \"\", \"\", \"\", \"\", \"\", \"\", \"\", \"\", \"\"], \"type\": \"treemap\", \"values\": [4134631.0, 2046716.0, 2403216.0, 2122557.0, 1665.0, 3115617.0, 439771.0, 12591453.0, 798422.0, 185500000.0, 409510.0, 928762.0, 134740.0, 2619608.0, 3494361.0, 108.0, 370554.0, 1032714.0, 10328550.0, 24332685.0, 94177.0, 1920552.0, 2194041.0, 148620.0, 12035970.0, 820886.0, 1406954.0, 18711.0, 65596935.0, 22305123.0, 2500.0, 288118.0, 1057411.0, 87238.0, 201642.0, 7855933.0, 1581681.0, 25904.0, 979960.0, 575532.0, 19829.0, 9278604.0, 2714673.0, 5162881.0, 10571500.0, 2017000.0, 1357112.0, 139787.0, 125400.0, 1163562.0, 756163.0, 15881211.0, 2169870.0, 1256717.0, 12622030.0, 37247322.0, 196862418.0, 316885603.0, 185500000.0, 12035970.0, 444629339.0, 196862418.0, 80769478.0, 39650538.0, 1357112.0, 25904.0, 139787.0, 16558533.0, 14706131.0]}],\n",
       "                        {\"legend\": {\"tracegroupgap\": 0}, \"template\": {\"data\": {\"bar\": [{\"error_x\": {\"color\": \"#2a3f5f\"}, \"error_y\": {\"color\": \"#2a3f5f\"}, \"marker\": {\"line\": {\"color\": \"#E5ECF6\", \"width\": 0.5}}, \"type\": \"bar\"}], \"barpolar\": [{\"marker\": {\"line\": {\"color\": \"#E5ECF6\", \"width\": 0.5}}, \"type\": \"barpolar\"}], \"carpet\": [{\"aaxis\": {\"endlinecolor\": \"#2a3f5f\", \"gridcolor\": \"white\", \"linecolor\": \"white\", \"minorgridcolor\": \"white\", \"startlinecolor\": \"#2a3f5f\"}, \"baxis\": {\"endlinecolor\": \"#2a3f5f\", \"gridcolor\": \"white\", \"linecolor\": \"white\", \"minorgridcolor\": \"white\", \"startlinecolor\": \"#2a3f5f\"}, \"type\": \"carpet\"}], \"choropleth\": [{\"colorbar\": {\"outlinewidth\": 0, \"ticks\": \"\"}, \"type\": \"choropleth\"}], \"contour\": [{\"colorbar\": {\"outlinewidth\": 0, \"ticks\": \"\"}, \"colorscale\": [[0.0, \"#0d0887\"], [0.1111111111111111, \"#46039f\"], [0.2222222222222222, \"#7201a8\"], [0.3333333333333333, \"#9c179e\"], [0.4444444444444444, \"#bd3786\"], [0.5555555555555556, \"#d8576b\"], [0.6666666666666666, \"#ed7953\"], [0.7777777777777778, \"#fb9f3a\"], [0.8888888888888888, \"#fdca26\"], [1.0, \"#f0f921\"]], \"type\": \"contour\"}], \"contourcarpet\": [{\"colorbar\": {\"outlinewidth\": 0, \"ticks\": \"\"}, \"type\": \"contourcarpet\"}], \"heatmap\": [{\"colorbar\": {\"outlinewidth\": 0, \"ticks\": \"\"}, \"colorscale\": [[0.0, \"#0d0887\"], [0.1111111111111111, \"#46039f\"], [0.2222222222222222, \"#7201a8\"], [0.3333333333333333, \"#9c179e\"], [0.4444444444444444, \"#bd3786\"], [0.5555555555555556, \"#d8576b\"], [0.6666666666666666, \"#ed7953\"], [0.7777777777777778, \"#fb9f3a\"], [0.8888888888888888, \"#fdca26\"], [1.0, \"#f0f921\"]], \"type\": \"heatmap\"}], \"heatmapgl\": [{\"colorbar\": {\"outlinewidth\": 0, \"ticks\": \"\"}, \"colorscale\": [[0.0, \"#0d0887\"], [0.1111111111111111, \"#46039f\"], [0.2222222222222222, \"#7201a8\"], [0.3333333333333333, \"#9c179e\"], [0.4444444444444444, \"#bd3786\"], [0.5555555555555556, \"#d8576b\"], [0.6666666666666666, \"#ed7953\"], [0.7777777777777778, \"#fb9f3a\"], [0.8888888888888888, \"#fdca26\"], [1.0, \"#f0f921\"]], \"type\": \"heatmapgl\"}], \"histogram\": [{\"marker\": {\"colorbar\": {\"outlinewidth\": 0, \"ticks\": \"\"}}, \"type\": \"histogram\"}], \"histogram2d\": [{\"colorbar\": {\"outlinewidth\": 0, \"ticks\": \"\"}, \"colorscale\": [[0.0, \"#0d0887\"], [0.1111111111111111, \"#46039f\"], [0.2222222222222222, \"#7201a8\"], [0.3333333333333333, \"#9c179e\"], [0.4444444444444444, \"#bd3786\"], [0.5555555555555556, \"#d8576b\"], [0.6666666666666666, \"#ed7953\"], [0.7777777777777778, \"#fb9f3a\"], [0.8888888888888888, \"#fdca26\"], [1.0, \"#f0f921\"]], \"type\": \"histogram2d\"}], \"histogram2dcontour\": [{\"colorbar\": {\"outlinewidth\": 0, \"ticks\": \"\"}, \"colorscale\": [[0.0, \"#0d0887\"], [0.1111111111111111, \"#46039f\"], [0.2222222222222222, \"#7201a8\"], [0.3333333333333333, \"#9c179e\"], [0.4444444444444444, \"#bd3786\"], [0.5555555555555556, \"#d8576b\"], [0.6666666666666666, \"#ed7953\"], [0.7777777777777778, \"#fb9f3a\"], [0.8888888888888888, \"#fdca26\"], [1.0, \"#f0f921\"]], \"type\": \"histogram2dcontour\"}], \"mesh3d\": [{\"colorbar\": {\"outlinewidth\": 0, \"ticks\": \"\"}, \"type\": \"mesh3d\"}], \"parcoords\": [{\"line\": {\"colorbar\": {\"outlinewidth\": 0, \"ticks\": \"\"}}, \"type\": \"parcoords\"}], \"pie\": [{\"automargin\": true, \"type\": \"pie\"}], \"scatter\": [{\"marker\": {\"colorbar\": {\"outlinewidth\": 0, \"ticks\": \"\"}}, \"type\": \"scatter\"}], \"scatter3d\": [{\"line\": {\"colorbar\": {\"outlinewidth\": 0, \"ticks\": \"\"}}, \"marker\": {\"colorbar\": {\"outlinewidth\": 0, \"ticks\": \"\"}}, \"type\": \"scatter3d\"}], \"scattercarpet\": [{\"marker\": {\"colorbar\": {\"outlinewidth\": 0, \"ticks\": \"\"}}, \"type\": \"scattercarpet\"}], \"scattergeo\": [{\"marker\": {\"colorbar\": {\"outlinewidth\": 0, \"ticks\": \"\"}}, \"type\": \"scattergeo\"}], \"scattergl\": [{\"marker\": {\"colorbar\": {\"outlinewidth\": 0, \"ticks\": \"\"}}, \"type\": \"scattergl\"}], \"scattermapbox\": [{\"marker\": {\"colorbar\": {\"outlinewidth\": 0, \"ticks\": \"\"}}, \"type\": \"scattermapbox\"}], \"scatterpolar\": [{\"marker\": {\"colorbar\": {\"outlinewidth\": 0, \"ticks\": \"\"}}, \"type\": \"scatterpolar\"}], \"scatterpolargl\": [{\"marker\": {\"colorbar\": {\"outlinewidth\": 0, \"ticks\": \"\"}}, \"type\": \"scatterpolargl\"}], \"scatterternary\": [{\"marker\": {\"colorbar\": {\"outlinewidth\": 0, \"ticks\": \"\"}}, \"type\": \"scatterternary\"}], \"surface\": [{\"colorbar\": {\"outlinewidth\": 0, \"ticks\": \"\"}, \"colorscale\": [[0.0, \"#0d0887\"], [0.1111111111111111, \"#46039f\"], [0.2222222222222222, \"#7201a8\"], [0.3333333333333333, \"#9c179e\"], [0.4444444444444444, \"#bd3786\"], [0.5555555555555556, \"#d8576b\"], [0.6666666666666666, \"#ed7953\"], [0.7777777777777778, \"#fb9f3a\"], [0.8888888888888888, \"#fdca26\"], [1.0, \"#f0f921\"]], \"type\": \"surface\"}], \"table\": [{\"cells\": {\"fill\": {\"color\": \"#EBF0F8\"}, \"line\": {\"color\": \"white\"}}, \"header\": {\"fill\": {\"color\": \"#C8D4E3\"}, \"line\": {\"color\": \"white\"}}, \"type\": \"table\"}]}, \"layout\": {\"annotationdefaults\": {\"arrowcolor\": \"#2a3f5f\", \"arrowhead\": 0, \"arrowwidth\": 1}, \"coloraxis\": {\"colorbar\": {\"outlinewidth\": 0, \"ticks\": \"\"}}, \"colorscale\": {\"diverging\": [[0, \"#8e0152\"], [0.1, \"#c51b7d\"], [0.2, \"#de77ae\"], [0.3, \"#f1b6da\"], [0.4, \"#fde0ef\"], [0.5, \"#f7f7f7\"], [0.6, \"#e6f5d0\"], [0.7, \"#b8e186\"], [0.8, \"#7fbc41\"], [0.9, \"#4d9221\"], [1, \"#276419\"]], \"sequential\": [[0.0, \"#0d0887\"], [0.1111111111111111, \"#46039f\"], [0.2222222222222222, \"#7201a8\"], [0.3333333333333333, \"#9c179e\"], [0.4444444444444444, \"#bd3786\"], [0.5555555555555556, \"#d8576b\"], [0.6666666666666666, \"#ed7953\"], [0.7777777777777778, \"#fb9f3a\"], [0.8888888888888888, \"#fdca26\"], [1.0, \"#f0f921\"]], \"sequentialminus\": [[0.0, \"#0d0887\"], [0.1111111111111111, \"#46039f\"], [0.2222222222222222, \"#7201a8\"], [0.3333333333333333, \"#9c179e\"], [0.4444444444444444, \"#bd3786\"], [0.5555555555555556, \"#d8576b\"], [0.6666666666666666, \"#ed7953\"], [0.7777777777777778, \"#fb9f3a\"], [0.8888888888888888, \"#fdca26\"], [1.0, \"#f0f921\"]]}, \"colorway\": [\"#636efa\", \"#EF553B\", \"#00cc96\", \"#ab63fa\", \"#FFA15A\", \"#19d3f3\", \"#FF6692\", \"#B6E880\", \"#FF97FF\", \"#FECB52\"], \"font\": {\"color\": \"#2a3f5f\"}, \"geo\": {\"bgcolor\": \"white\", \"lakecolor\": \"white\", \"landcolor\": \"#E5ECF6\", \"showlakes\": true, \"showland\": true, \"subunitcolor\": \"white\"}, \"hoverlabel\": {\"align\": \"left\"}, \"hovermode\": \"closest\", \"mapbox\": {\"style\": \"light\"}, \"paper_bgcolor\": \"white\", \"plot_bgcolor\": \"#E5ECF6\", \"polar\": {\"angularaxis\": {\"gridcolor\": \"white\", \"linecolor\": \"white\", \"ticks\": \"\"}, \"bgcolor\": \"#E5ECF6\", \"radialaxis\": {\"gridcolor\": \"white\", \"linecolor\": \"white\", \"ticks\": \"\"}}, \"scene\": {\"xaxis\": {\"backgroundcolor\": \"#E5ECF6\", \"gridcolor\": \"white\", \"gridwidth\": 2, \"linecolor\": \"white\", \"showbackground\": true, \"ticks\": \"\", \"zerolinecolor\": \"white\"}, \"yaxis\": {\"backgroundcolor\": \"#E5ECF6\", \"gridcolor\": \"white\", \"gridwidth\": 2, \"linecolor\": \"white\", \"showbackground\": true, \"ticks\": \"\", \"zerolinecolor\": \"white\"}, \"zaxis\": {\"backgroundcolor\": \"#E5ECF6\", \"gridcolor\": \"white\", \"gridwidth\": 2, \"linecolor\": \"white\", \"showbackground\": true, \"ticks\": \"\", \"zerolinecolor\": \"white\"}}, \"shapedefaults\": {\"line\": {\"color\": \"#2a3f5f\"}}, \"ternary\": {\"aaxis\": {\"gridcolor\": \"white\", \"linecolor\": \"white\", \"ticks\": \"\"}, \"baxis\": {\"gridcolor\": \"white\", \"linecolor\": \"white\", \"ticks\": \"\"}, \"bgcolor\": \"#E5ECF6\", \"caxis\": {\"gridcolor\": \"white\", \"linecolor\": \"white\", \"ticks\": \"\"}}, \"title\": {\"x\": 0.05}, \"xaxis\": {\"automargin\": true, \"gridcolor\": \"white\", \"linecolor\": \"white\", \"ticks\": \"\", \"title\": {\"standoff\": 15}, \"zerolinecolor\": \"white\", \"zerolinewidth\": 2}, \"yaxis\": {\"automargin\": true, \"gridcolor\": \"white\", \"linecolor\": \"white\", \"ticks\": \"\", \"title\": {\"standoff\": 15}, \"zerolinecolor\": \"white\", \"zerolinewidth\": 2}}}, \"title\": {\"text\": \"Total vaccinations per country, grouped by vaccine scheme\"}},\n",
       "                        {\"responsive\": true}\n",
       "                    ).then(function(){\n",
       "                            \n",
       "var gd = document.getElementById('ab53b2b8-b225-4e0f-98cc-36adda6758c6');\n",
       "var x = new MutationObserver(function (mutations, observer) {{\n",
       "        var display = window.getComputedStyle(gd).display;\n",
       "        if (!display || display === 'none') {{\n",
       "            console.log([gd, 'removed!']);\n",
       "            Plotly.purge(gd);\n",
       "            observer.disconnect();\n",
       "        }}\n",
       "}});\n",
       "\n",
       "// Listen for the removal of the full notebook cells\n",
       "var notebookContainer = gd.closest('#notebook-container');\n",
       "if (notebookContainer) {{\n",
       "    x.observe(notebookContainer, {childList: true});\n",
       "}}\n",
       "\n",
       "// Listen for the clearing of the current output cell\n",
       "var outputEl = gd.closest('.output');\n",
       "if (outputEl) {{\n",
       "    x.observe(outputEl, {childList: true});\n",
       "}}\n",
       "\n",
       "                        })\n",
       "                };\n",
       "                });\n",
       "            </script>\n",
       "        </div>"
      ]
     },
     "metadata": {},
     "output_type": "display_data"
    }
   ],
   "source": [
    "fig = px.treemap(covid19_vaccinations_df, path = ['vaccines', 'country'], values = 'total_vaccinations',\n",
    "                title=\"Total vaccinations per country, grouped by vaccine scheme\")\n",
    "pio.write_image(fig, \"images/image5.png\") \n",
    "fig.show()"
   ]
  },
  {
   "cell_type": "markdown",
   "metadata": {},
   "source": [
    "<a id='part4-5'></a>\n",
    "### 4.5 Total vs Total vaccinations per hundred grouped by Vaccines"
   ]
  },
  {
   "cell_type": "code",
   "execution_count": 76,
   "metadata": {},
   "outputs": [
    {
     "name": "stderr",
     "output_type": "stream",
     "text": [
      "C:\\Users\\Noyan\\Anaconda3\\lib\\site-packages\\ipykernel_launcher.py:1: FutureWarning:\n",
      "\n",
      "Indexing with multiple keys (implicitly converted to a tuple of keys) will be deprecated, use a list instead.\n",
      "\n"
     ]
    }
   ],
   "source": [
    "covid19_vaccinations_df_group = covid19_vaccinations_df.groupby([\"country\",'iso_code','vaccines'])['total_vaccinations','people_vaccinated','people_fully_vaccinated',\n",
    "                                           'daily_vaccinations','total_vaccinations_per_hundred','people_vaccinated_per_hundred',\n",
    "                                           \"people_fully_vaccinated_per_hundred\",'daily_vaccinations_per_million'].max().reset_index()"
   ]
  },
  {
   "cell_type": "code",
   "execution_count": 77,
   "metadata": {},
   "outputs": [
    {
     "data": {
      "application/vnd.plotly.v1+json": {
       "config": {
        "plotlyServerURL": "https://plot.ly"
       },
       "data": [
        {
         "hoverlabel": {
          "namelength": 0
         },
         "hovertemplate": "<b>%{hovertext}</b><br><br>vaccines=Sputnik V<br>total_vaccinations=%{marker.size}<br>people_vaccinated_per_hundred=%{y}",
         "hovertext": [
          "Argentina",
          "Russia"
         ],
         "legendgroup": "Sputnik V",
         "marker": {
          "color": "#636efa",
          "size": [
           305880,
           1000000
          ],
          "sizemode": "area",
          "sizeref": 9416.3976,
          "symbol": "circle"
         },
         "mode": "markers",
         "name": "Sputnik V",
         "showlegend": true,
         "type": "scatter",
         "x": [
          305880,
          1000000
         ],
         "xaxis": "x",
         "y": [
          0.59,
          0.69
         ],
         "yaxis": "y"
        },
        {
         "hoverlabel": {
          "namelength": 0
         },
         "hovertemplate": "<b>%{hovertext}</b><br><br>vaccines=Pfizer/BioNTech<br>total_vaccinations=%{marker.size}<br>people_vaccinated_per_hundred=%{y}",
         "hovertext": [
          "Austria",
          "Belgium",
          "Bermuda",
          "Chile",
          "Costa Rica",
          "Croatia",
          "Cyprus",
          "Ecuador",
          "Estonia",
          "Finland",
          "France",
          "Gibraltar",
          "Greece",
          "Hungary",
          "Ireland",
          "Isle of Man",
          "Italy",
          "Kuwait",
          "Latvia",
          "Luxembourg",
          "Malta",
          "Mexico",
          "Norway",
          "Oman",
          "Panama",
          "Poland",
          "Portugal",
          "Romania",
          "Saudi Arabia",
          "Singapore",
          "Slovakia",
          "Slovenia",
          "Sweden",
          "Switzerland"
         ],
         "legendgroup": "Pfizer/BioNTech",
         "marker": {
          "color": "#EF553B",
          "size": [
           185643,
           213301,
           1665,
           66569,
           48128,
           69984,
           17379,
           108,
           27180,
           117007,
           1184510,
           10539,
           195783,
           162315,
           143000,
           4209,
           1525612,
           2500,
           19683,
           8554,
           21172,
           652319,
           80003,
           36206,
           6420,
           776987,
           263499,
           528378,
           295530,
           60000,
           102692,
           57591,
           192700,
           197368
          ],
          "sizemode": "area",
          "sizeref": 9416.3976,
          "symbol": "circle"
         },
         "mode": "markers",
         "name": "Pfizer/BioNTech",
         "showlegend": true,
         "type": "scatter",
         "x": [
          185643,
          213301,
          1665,
          66569,
          48128,
          69984,
          17379,
          108,
          27180,
          117007,
          1184510,
          10539,
          195783,
          162315,
          143000,
          4209,
          1525612,
          2500,
          19683,
          8554,
          21172,
          652319,
          80003,
          36206,
          6420,
          776987,
          263499,
          528378,
          295530,
          60000,
          102692,
          57591,
          192700,
          197368
         ],
         "xaxis": "x",
         "y": [
          2.06,
          1.83,
          2.67,
          0.3,
          1.04,
          1.41,
          1.75,
          0,
          2.05,
          2.05,
          1.75,
          31.28,
          1.75,
          1.75,
          2.9,
          4.58,
          2.15,
          0.06,
          1.04,
          1.17,
          4.8,
          0.48,
          1.44,
          0.49,
          0.15,
          1.85,
          2.58,
          2.54,
          0.85,
          1.03,
          1.79,
          2.39,
          1.91,
          2.28
         ],
         "yaxis": "y"
        },
        {
         "hoverlabel": {
          "namelength": 0
         },
         "hovertemplate": "<b>%{hovertext}</b><br><br>vaccines=Pfizer/BioNTech, Sinopharm<br>total_vaccinations=%{marker.size}<br>people_vaccinated_per_hundred=%{y}",
         "hovertext": [
          "Bahrain",
          "United Arab Emirates"
         ],
         "legendgroup": "Pfizer/BioNTech, Sinopharm",
         "marker": {
          "color": "#00cc96",
          "size": [
           144130,
           2677680
          ],
          "sizemode": "area",
          "sizeref": 9416.3976,
          "symbol": "circle"
         },
         "mode": "markers",
         "name": "Pfizer/BioNTech, Sinopharm",
         "showlegend": true,
         "type": "scatter",
         "x": [
          144130,
          2677680
         ],
         "xaxis": "x",
         "y": [
          8.47,
          24.55
         ],
         "yaxis": "y"
        },
        {
         "hoverlabel": {
          "namelength": 0
         },
         "hovertemplate": "<b>%{hovertext}</b><br><br>vaccines=Sinovac<br>total_vaccinations=%{marker.size}<br>people_vaccinated_per_hundred=%{y}",
         "hovertext": [
          "Brazil",
          "Indonesia",
          "Turkey"
         ],
         "legendgroup": "Sinovac",
         "marker": {
          "color": "#ab63fa",
          "size": [
           848883,
           245685,
           1410273
          ],
          "sizemode": "area",
          "sizeref": 9416.3976,
          "symbol": "circle"
         },
         "mode": "markers",
         "name": "Sinovac",
         "showlegend": true,
         "type": "scatter",
         "x": [
          848883,
          245685,
          1410273
         ],
         "xaxis": "x",
         "y": [
          0.4,
          0.09,
          1.67
         ],
         "yaxis": "y"
        },
        {
         "hoverlabel": {
          "namelength": 0
         },
         "hovertemplate": "<b>%{hovertext}</b><br><br>vaccines=Moderna, Pfizer/BioNTech<br>total_vaccinations=%{marker.size}<br>people_vaccinated_per_hundred=%{y}",
         "hovertext": [
          "Bulgaria",
          "Canada",
          "Czechia",
          "Denmark",
          "Germany",
          "Iceland",
          "Israel",
          "Lithuania",
          "Netherlands",
          "Spain",
          "United States"
         ],
         "legendgroup": "Moderna, Pfizer/BioNTech",
         "marker": {
          "color": "#FFA15A",
          "size": [
           29122,
           868454,
           222450,
           213724,
           1921689,
           15220,
           4146005,
           70018,
           173638,
           1291216,
           23540994
          ],
          "sizemode": "area",
          "sizeref": 9416.3976,
          "symbol": "circle"
         },
         "mode": "markers",
         "name": "Moderna, Pfizer/BioNTech",
         "showlegend": true,
         "type": "scatter",
         "x": [
          29122,
          868454,
          222450,
          213724,
          1921689,
          15220,
          4146005,
          70018,
          173638,
          1291216,
          23540994
         ],
         "xaxis": "x",
         "y": [
          0.34,
          2.3,
          1.91,
          3.16,
          1.96,
          3.06,
          31.98,
          2.22,
          1.01,
          2.5,
          6.01
         ],
         "yaxis": "y"
        },
        {
         "hoverlabel": {
          "namelength": 0
         },
         "hovertemplate": "<b>%{hovertext}</b><br><br>vaccines=CNBG, Sinovac<br>total_vaccinations=%{marker.size}<br>people_vaccinated_per_hundred=%{y}",
         "hovertext": [
          "China"
         ],
         "legendgroup": "CNBG, Sinovac",
         "marker": {
          "color": "#19d3f3",
          "size": [
           15000000
          ],
          "sizemode": "area",
          "sizeref": 9416.3976,
          "symbol": "circle"
         },
         "mode": "markers",
         "name": "CNBG, Sinovac",
         "showlegend": true,
         "type": "scatter",
         "x": [
          15000000
         ],
         "xaxis": "x",
         "y": [
          1.04
         ],
         "yaxis": "y"
        },
        {
         "hoverlabel": {
          "namelength": 0
         },
         "hovertemplate": "<b>%{hovertext}</b><br><br>vaccines=Covaxin, Covishield<br>total_vaccinations=%{marker.size}<br>people_vaccinated_per_hundred=%{y}",
         "hovertext": [
          "India"
         ],
         "legendgroup": "Covaxin, Covishield",
         "marker": {
          "color": "#FF6692",
          "size": [
           2029480
          ],
          "sizemode": "area",
          "sizeref": 9416.3976,
          "symbol": "circle"
         },
         "mode": "markers",
         "name": "Covaxin, Covishield",
         "showlegend": true,
         "type": "scatter",
         "x": [
          2029480
         ],
         "xaxis": "x",
         "y": [
          0.15
         ],
         "yaxis": "y"
        },
        {
         "hoverlabel": {
          "namelength": 0
         },
         "hovertemplate": "<b>%{hovertext}</b><br><br>vaccines=Pfizer/BioNTech, Sinovac<br>total_vaccinations=%{marker.size}<br>people_vaccinated_per_hundred=%{y}",
         "hovertext": [
          "Northern Cyprus"
         ],
         "legendgroup": "Pfizer/BioNTech, Sinovac",
         "marker": {
          "color": "#B6E880",
          "size": [
           11000
          ],
          "sizemode": "area",
          "sizeref": 9416.3976,
          "symbol": "circle"
         },
         "mode": "markers",
         "name": "Pfizer/BioNTech, Sinovac",
         "showlegend": true,
         "type": "scatter",
         "x": [
          11000
         ],
         "xaxis": "x",
         "y": [
          2.88
         ],
         "yaxis": "y"
        },
        {
         "hoverlabel": {
          "namelength": 0
         },
         "hovertemplate": "<b>%{hovertext}</b><br><br>vaccines=Pfizer/BioNTech, Sinopharm, Sputnik V<br>total_vaccinations=%{marker.size}<br>people_vaccinated_per_hundred=%{y}",
         "hovertext": [
          "Serbia"
         ],
         "legendgroup": "Pfizer/BioNTech, Sinopharm, Sputnik V",
         "marker": {
          "color": "#FF97FF",
          "size": [
           310266
          ],
          "sizemode": "area",
          "sizeref": 9416.3976,
          "symbol": "circle"
         },
         "mode": "markers",
         "name": "Pfizer/BioNTech, Sinopharm, Sputnik V",
         "showlegend": true,
         "type": "scatter",
         "x": [
          310266
         ],
         "xaxis": "x",
         "y": [
          4.56
         ],
         "yaxis": "y"
        },
        {
         "hoverlabel": {
          "namelength": 0
         },
         "hovertemplate": "<b>%{hovertext}</b><br><br>vaccines=Sinopharm<br>total_vaccinations=%{marker.size}<br>people_vaccinated_per_hundred=%{y}",
         "hovertext": [
          "Seychelles"
         ],
         "legendgroup": "Sinopharm",
         "marker": {
          "color": "#FECB52",
          "size": [
           19889
          ],
          "sizemode": "area",
          "sizeref": 9416.3976,
          "symbol": "circle"
         },
         "mode": "markers",
         "name": "Sinopharm",
         "showlegend": true,
         "type": "scatter",
         "x": [
          19889
         ],
         "xaxis": "x",
         "y": [
          20.22
         ],
         "yaxis": "y"
        },
        {
         "hoverlabel": {
          "namelength": 0
         },
         "hovertemplate": "<b>%{hovertext}</b><br><br>vaccines=Oxford/AstraZeneca, Pfizer/BioNTech<br>total_vaccinations=%{marker.size}<br>people_vaccinated_per_hundred=%{y}",
         "hovertext": [
          "United Kingdom"
         ],
         "legendgroup": "Oxford/AstraZeneca, Pfizer/BioNTech",
         "marker": {
          "color": "#636efa",
          "size": [
           7325773
          ],
          "sizemode": "area",
          "sizeref": 9416.3976,
          "symbol": "circle"
         },
         "mode": "markers",
         "name": "Oxford/AstraZeneca, Pfizer/BioNTech",
         "showlegend": true,
         "type": "scatter",
         "x": [
          7325773
         ],
         "xaxis": "x",
         "y": [
          10.59
         ],
         "yaxis": "y"
        }
       ],
       "layout": {
        "legend": {
         "itemsizing": "constant",
         "title": {
          "text": "vaccines"
         },
         "tracegroupgap": 0
        },
        "template": {
         "data": {
          "bar": [
           {
            "error_x": {
             "color": "#2a3f5f"
            },
            "error_y": {
             "color": "#2a3f5f"
            },
            "marker": {
             "line": {
              "color": "#E5ECF6",
              "width": 0.5
             }
            },
            "type": "bar"
           }
          ],
          "barpolar": [
           {
            "marker": {
             "line": {
              "color": "#E5ECF6",
              "width": 0.5
             }
            },
            "type": "barpolar"
           }
          ],
          "carpet": [
           {
            "aaxis": {
             "endlinecolor": "#2a3f5f",
             "gridcolor": "white",
             "linecolor": "white",
             "minorgridcolor": "white",
             "startlinecolor": "#2a3f5f"
            },
            "baxis": {
             "endlinecolor": "#2a3f5f",
             "gridcolor": "white",
             "linecolor": "white",
             "minorgridcolor": "white",
             "startlinecolor": "#2a3f5f"
            },
            "type": "carpet"
           }
          ],
          "choropleth": [
           {
            "colorbar": {
             "outlinewidth": 0,
             "ticks": ""
            },
            "type": "choropleth"
           }
          ],
          "contour": [
           {
            "colorbar": {
             "outlinewidth": 0,
             "ticks": ""
            },
            "colorscale": [
             [
              0,
              "#0d0887"
             ],
             [
              0.1111111111111111,
              "#46039f"
             ],
             [
              0.2222222222222222,
              "#7201a8"
             ],
             [
              0.3333333333333333,
              "#9c179e"
             ],
             [
              0.4444444444444444,
              "#bd3786"
             ],
             [
              0.5555555555555556,
              "#d8576b"
             ],
             [
              0.6666666666666666,
              "#ed7953"
             ],
             [
              0.7777777777777778,
              "#fb9f3a"
             ],
             [
              0.8888888888888888,
              "#fdca26"
             ],
             [
              1,
              "#f0f921"
             ]
            ],
            "type": "contour"
           }
          ],
          "contourcarpet": [
           {
            "colorbar": {
             "outlinewidth": 0,
             "ticks": ""
            },
            "type": "contourcarpet"
           }
          ],
          "heatmap": [
           {
            "colorbar": {
             "outlinewidth": 0,
             "ticks": ""
            },
            "colorscale": [
             [
              0,
              "#0d0887"
             ],
             [
              0.1111111111111111,
              "#46039f"
             ],
             [
              0.2222222222222222,
              "#7201a8"
             ],
             [
              0.3333333333333333,
              "#9c179e"
             ],
             [
              0.4444444444444444,
              "#bd3786"
             ],
             [
              0.5555555555555556,
              "#d8576b"
             ],
             [
              0.6666666666666666,
              "#ed7953"
             ],
             [
              0.7777777777777778,
              "#fb9f3a"
             ],
             [
              0.8888888888888888,
              "#fdca26"
             ],
             [
              1,
              "#f0f921"
             ]
            ],
            "type": "heatmap"
           }
          ],
          "heatmapgl": [
           {
            "colorbar": {
             "outlinewidth": 0,
             "ticks": ""
            },
            "colorscale": [
             [
              0,
              "#0d0887"
             ],
             [
              0.1111111111111111,
              "#46039f"
             ],
             [
              0.2222222222222222,
              "#7201a8"
             ],
             [
              0.3333333333333333,
              "#9c179e"
             ],
             [
              0.4444444444444444,
              "#bd3786"
             ],
             [
              0.5555555555555556,
              "#d8576b"
             ],
             [
              0.6666666666666666,
              "#ed7953"
             ],
             [
              0.7777777777777778,
              "#fb9f3a"
             ],
             [
              0.8888888888888888,
              "#fdca26"
             ],
             [
              1,
              "#f0f921"
             ]
            ],
            "type": "heatmapgl"
           }
          ],
          "histogram": [
           {
            "marker": {
             "colorbar": {
              "outlinewidth": 0,
              "ticks": ""
             }
            },
            "type": "histogram"
           }
          ],
          "histogram2d": [
           {
            "colorbar": {
             "outlinewidth": 0,
             "ticks": ""
            },
            "colorscale": [
             [
              0,
              "#0d0887"
             ],
             [
              0.1111111111111111,
              "#46039f"
             ],
             [
              0.2222222222222222,
              "#7201a8"
             ],
             [
              0.3333333333333333,
              "#9c179e"
             ],
             [
              0.4444444444444444,
              "#bd3786"
             ],
             [
              0.5555555555555556,
              "#d8576b"
             ],
             [
              0.6666666666666666,
              "#ed7953"
             ],
             [
              0.7777777777777778,
              "#fb9f3a"
             ],
             [
              0.8888888888888888,
              "#fdca26"
             ],
             [
              1,
              "#f0f921"
             ]
            ],
            "type": "histogram2d"
           }
          ],
          "histogram2dcontour": [
           {
            "colorbar": {
             "outlinewidth": 0,
             "ticks": ""
            },
            "colorscale": [
             [
              0,
              "#0d0887"
             ],
             [
              0.1111111111111111,
              "#46039f"
             ],
             [
              0.2222222222222222,
              "#7201a8"
             ],
             [
              0.3333333333333333,
              "#9c179e"
             ],
             [
              0.4444444444444444,
              "#bd3786"
             ],
             [
              0.5555555555555556,
              "#d8576b"
             ],
             [
              0.6666666666666666,
              "#ed7953"
             ],
             [
              0.7777777777777778,
              "#fb9f3a"
             ],
             [
              0.8888888888888888,
              "#fdca26"
             ],
             [
              1,
              "#f0f921"
             ]
            ],
            "type": "histogram2dcontour"
           }
          ],
          "mesh3d": [
           {
            "colorbar": {
             "outlinewidth": 0,
             "ticks": ""
            },
            "type": "mesh3d"
           }
          ],
          "parcoords": [
           {
            "line": {
             "colorbar": {
              "outlinewidth": 0,
              "ticks": ""
             }
            },
            "type": "parcoords"
           }
          ],
          "pie": [
           {
            "automargin": true,
            "type": "pie"
           }
          ],
          "scatter": [
           {
            "marker": {
             "colorbar": {
              "outlinewidth": 0,
              "ticks": ""
             }
            },
            "type": "scatter"
           }
          ],
          "scatter3d": [
           {
            "line": {
             "colorbar": {
              "outlinewidth": 0,
              "ticks": ""
             }
            },
            "marker": {
             "colorbar": {
              "outlinewidth": 0,
              "ticks": ""
             }
            },
            "type": "scatter3d"
           }
          ],
          "scattercarpet": [
           {
            "marker": {
             "colorbar": {
              "outlinewidth": 0,
              "ticks": ""
             }
            },
            "type": "scattercarpet"
           }
          ],
          "scattergeo": [
           {
            "marker": {
             "colorbar": {
              "outlinewidth": 0,
              "ticks": ""
             }
            },
            "type": "scattergeo"
           }
          ],
          "scattergl": [
           {
            "marker": {
             "colorbar": {
              "outlinewidth": 0,
              "ticks": ""
             }
            },
            "type": "scattergl"
           }
          ],
          "scattermapbox": [
           {
            "marker": {
             "colorbar": {
              "outlinewidth": 0,
              "ticks": ""
             }
            },
            "type": "scattermapbox"
           }
          ],
          "scatterpolar": [
           {
            "marker": {
             "colorbar": {
              "outlinewidth": 0,
              "ticks": ""
             }
            },
            "type": "scatterpolar"
           }
          ],
          "scatterpolargl": [
           {
            "marker": {
             "colorbar": {
              "outlinewidth": 0,
              "ticks": ""
             }
            },
            "type": "scatterpolargl"
           }
          ],
          "scatterternary": [
           {
            "marker": {
             "colorbar": {
              "outlinewidth": 0,
              "ticks": ""
             }
            },
            "type": "scatterternary"
           }
          ],
          "surface": [
           {
            "colorbar": {
             "outlinewidth": 0,
             "ticks": ""
            },
            "colorscale": [
             [
              0,
              "#0d0887"
             ],
             [
              0.1111111111111111,
              "#46039f"
             ],
             [
              0.2222222222222222,
              "#7201a8"
             ],
             [
              0.3333333333333333,
              "#9c179e"
             ],
             [
              0.4444444444444444,
              "#bd3786"
             ],
             [
              0.5555555555555556,
              "#d8576b"
             ],
             [
              0.6666666666666666,
              "#ed7953"
             ],
             [
              0.7777777777777778,
              "#fb9f3a"
             ],
             [
              0.8888888888888888,
              "#fdca26"
             ],
             [
              1,
              "#f0f921"
             ]
            ],
            "type": "surface"
           }
          ],
          "table": [
           {
            "cells": {
             "fill": {
              "color": "#EBF0F8"
             },
             "line": {
              "color": "white"
             }
            },
            "header": {
             "fill": {
              "color": "#C8D4E3"
             },
             "line": {
              "color": "white"
             }
            },
            "type": "table"
           }
          ]
         },
         "layout": {
          "annotationdefaults": {
           "arrowcolor": "#2a3f5f",
           "arrowhead": 0,
           "arrowwidth": 1
          },
          "coloraxis": {
           "colorbar": {
            "outlinewidth": 0,
            "ticks": ""
           }
          },
          "colorscale": {
           "diverging": [
            [
             0,
             "#8e0152"
            ],
            [
             0.1,
             "#c51b7d"
            ],
            [
             0.2,
             "#de77ae"
            ],
            [
             0.3,
             "#f1b6da"
            ],
            [
             0.4,
             "#fde0ef"
            ],
            [
             0.5,
             "#f7f7f7"
            ],
            [
             0.6,
             "#e6f5d0"
            ],
            [
             0.7,
             "#b8e186"
            ],
            [
             0.8,
             "#7fbc41"
            ],
            [
             0.9,
             "#4d9221"
            ],
            [
             1,
             "#276419"
            ]
           ],
           "sequential": [
            [
             0,
             "#0d0887"
            ],
            [
             0.1111111111111111,
             "#46039f"
            ],
            [
             0.2222222222222222,
             "#7201a8"
            ],
            [
             0.3333333333333333,
             "#9c179e"
            ],
            [
             0.4444444444444444,
             "#bd3786"
            ],
            [
             0.5555555555555556,
             "#d8576b"
            ],
            [
             0.6666666666666666,
             "#ed7953"
            ],
            [
             0.7777777777777778,
             "#fb9f3a"
            ],
            [
             0.8888888888888888,
             "#fdca26"
            ],
            [
             1,
             "#f0f921"
            ]
           ],
           "sequentialminus": [
            [
             0,
             "#0d0887"
            ],
            [
             0.1111111111111111,
             "#46039f"
            ],
            [
             0.2222222222222222,
             "#7201a8"
            ],
            [
             0.3333333333333333,
             "#9c179e"
            ],
            [
             0.4444444444444444,
             "#bd3786"
            ],
            [
             0.5555555555555556,
             "#d8576b"
            ],
            [
             0.6666666666666666,
             "#ed7953"
            ],
            [
             0.7777777777777778,
             "#fb9f3a"
            ],
            [
             0.8888888888888888,
             "#fdca26"
            ],
            [
             1,
             "#f0f921"
            ]
           ]
          },
          "colorway": [
           "#636efa",
           "#EF553B",
           "#00cc96",
           "#ab63fa",
           "#FFA15A",
           "#19d3f3",
           "#FF6692",
           "#B6E880",
           "#FF97FF",
           "#FECB52"
          ],
          "font": {
           "color": "#2a3f5f"
          },
          "geo": {
           "bgcolor": "white",
           "lakecolor": "white",
           "landcolor": "#E5ECF6",
           "showlakes": true,
           "showland": true,
           "subunitcolor": "white"
          },
          "hoverlabel": {
           "align": "left"
          },
          "hovermode": "closest",
          "mapbox": {
           "style": "light"
          },
          "paper_bgcolor": "white",
          "plot_bgcolor": "#E5ECF6",
          "polar": {
           "angularaxis": {
            "gridcolor": "white",
            "linecolor": "white",
            "ticks": ""
           },
           "bgcolor": "#E5ECF6",
           "radialaxis": {
            "gridcolor": "white",
            "linecolor": "white",
            "ticks": ""
           }
          },
          "scene": {
           "xaxis": {
            "backgroundcolor": "#E5ECF6",
            "gridcolor": "white",
            "gridwidth": 2,
            "linecolor": "white",
            "showbackground": true,
            "ticks": "",
            "zerolinecolor": "white"
           },
           "yaxis": {
            "backgroundcolor": "#E5ECF6",
            "gridcolor": "white",
            "gridwidth": 2,
            "linecolor": "white",
            "showbackground": true,
            "ticks": "",
            "zerolinecolor": "white"
           },
           "zaxis": {
            "backgroundcolor": "#E5ECF6",
            "gridcolor": "white",
            "gridwidth": 2,
            "linecolor": "white",
            "showbackground": true,
            "ticks": "",
            "zerolinecolor": "white"
           }
          },
          "shapedefaults": {
           "line": {
            "color": "#2a3f5f"
           }
          },
          "ternary": {
           "aaxis": {
            "gridcolor": "white",
            "linecolor": "white",
            "ticks": ""
           },
           "baxis": {
            "gridcolor": "white",
            "linecolor": "white",
            "ticks": ""
           },
           "bgcolor": "#E5ECF6",
           "caxis": {
            "gridcolor": "white",
            "linecolor": "white",
            "ticks": ""
           }
          },
          "title": {
           "x": 0.05
          },
          "xaxis": {
           "automargin": true,
           "gridcolor": "white",
           "linecolor": "white",
           "ticks": "",
           "title": {
            "standoff": 15
           },
           "zerolinecolor": "white",
           "zerolinewidth": 2
          },
          "yaxis": {
           "automargin": true,
           "gridcolor": "white",
           "linecolor": "white",
           "ticks": "",
           "title": {
            "standoff": 15
           },
           "zerolinecolor": "white",
           "zerolinewidth": 2
          }
         }
        },
        "title": {
         "text": "Total vaccinations vs People vaccinated per hundred"
        },
        "xaxis": {
         "anchor": "y",
         "domain": [
          0,
          1
         ],
         "title": {
          "text": "total_vaccinations"
         }
        },
        "yaxis": {
         "anchor": "x",
         "domain": [
          0,
          1
         ],
         "title": {
          "text": "people_vaccinated_per_hundred"
         }
        }
       }
      },
      "text/html": [
       "<div>\n",
       "        \n",
       "        \n",
       "            <div id=\"76952bf7-0595-4cfa-bb75-a29ca05cda4a\" class=\"plotly-graph-div\" style=\"height:525px; width:100%;\"></div>\n",
       "            <script type=\"text/javascript\">\n",
       "                require([\"plotly\"], function(Plotly) {\n",
       "                    window.PLOTLYENV=window.PLOTLYENV || {};\n",
       "                    \n",
       "                if (document.getElementById(\"76952bf7-0595-4cfa-bb75-a29ca05cda4a\")) {\n",
       "                    Plotly.newPlot(\n",
       "                        '76952bf7-0595-4cfa-bb75-a29ca05cda4a',\n",
       "                        [{\"hoverlabel\": {\"namelength\": 0}, \"hovertemplate\": \"<b>%{hovertext}</b><br><br>vaccines=Sputnik V<br>total_vaccinations=%{marker.size}<br>people_vaccinated_per_hundred=%{y}\", \"hovertext\": [\"Argentina\", \"Russia\"], \"legendgroup\": \"Sputnik V\", \"marker\": {\"color\": \"#636efa\", \"size\": [305880.0, 1000000.0], \"sizemode\": \"area\", \"sizeref\": 9416.3976, \"symbol\": \"circle\"}, \"mode\": \"markers\", \"name\": \"Sputnik V\", \"showlegend\": true, \"type\": \"scatter\", \"x\": [305880.0, 1000000.0], \"xaxis\": \"x\", \"y\": [0.59, 0.69], \"yaxis\": \"y\"}, {\"hoverlabel\": {\"namelength\": 0}, \"hovertemplate\": \"<b>%{hovertext}</b><br><br>vaccines=Pfizer/BioNTech<br>total_vaccinations=%{marker.size}<br>people_vaccinated_per_hundred=%{y}\", \"hovertext\": [\"Austria\", \"Belgium\", \"Bermuda\", \"Chile\", \"Costa Rica\", \"Croatia\", \"Cyprus\", \"Ecuador\", \"Estonia\", \"Finland\", \"France\", \"Gibraltar\", \"Greece\", \"Hungary\", \"Ireland\", \"Isle of Man\", \"Italy\", \"Kuwait\", \"Latvia\", \"Luxembourg\", \"Malta\", \"Mexico\", \"Norway\", \"Oman\", \"Panama\", \"Poland\", \"Portugal\", \"Romania\", \"Saudi Arabia\", \"Singapore\", \"Slovakia\", \"Slovenia\", \"Sweden\", \"Switzerland\"], \"legendgroup\": \"Pfizer/BioNTech\", \"marker\": {\"color\": \"#EF553B\", \"size\": [185643.0, 213301.0, 1665.0, 66569.0, 48128.0, 69984.0, 17379.0, 108.0, 27180.0, 117007.0, 1184510.0, 10539.0, 195783.0, 162315.0, 143000.0, 4209.0, 1525612.0, 2500.0, 19683.0, 8554.0, 21172.0, 652319.0, 80003.0, 36206.0, 6420.0, 776987.0, 263499.0, 528378.0, 295530.0, 60000.0, 102692.0, 57591.0, 192700.0, 197368.0], \"sizemode\": \"area\", \"sizeref\": 9416.3976, \"symbol\": \"circle\"}, \"mode\": \"markers\", \"name\": \"Pfizer/BioNTech\", \"showlegend\": true, \"type\": \"scatter\", \"x\": [185643.0, 213301.0, 1665.0, 66569.0, 48128.0, 69984.0, 17379.0, 108.0, 27180.0, 117007.0, 1184510.0, 10539.0, 195783.0, 162315.0, 143000.0, 4209.0, 1525612.0, 2500.0, 19683.0, 8554.0, 21172.0, 652319.0, 80003.0, 36206.0, 6420.0, 776987.0, 263499.0, 528378.0, 295530.0, 60000.0, 102692.0, 57591.0, 192700.0, 197368.0], \"xaxis\": \"x\", \"y\": [2.06, 1.83, 2.67, 0.3, 1.04, 1.41, 1.75, 0.0, 2.05, 2.05, 1.75, 31.28, 1.75, 1.75, 2.9, 4.58, 2.15, 0.06, 1.04, 1.17, 4.8, 0.48, 1.44, 0.49, 0.15, 1.85, 2.58, 2.54, 0.85, 1.03, 1.79, 2.39, 1.91, 2.28], \"yaxis\": \"y\"}, {\"hoverlabel\": {\"namelength\": 0}, \"hovertemplate\": \"<b>%{hovertext}</b><br><br>vaccines=Pfizer/BioNTech, Sinopharm<br>total_vaccinations=%{marker.size}<br>people_vaccinated_per_hundred=%{y}\", \"hovertext\": [\"Bahrain\", \"United Arab Emirates\"], \"legendgroup\": \"Pfizer/BioNTech, Sinopharm\", \"marker\": {\"color\": \"#00cc96\", \"size\": [144130.0, 2677680.0], \"sizemode\": \"area\", \"sizeref\": 9416.3976, \"symbol\": \"circle\"}, \"mode\": \"markers\", \"name\": \"Pfizer/BioNTech, Sinopharm\", \"showlegend\": true, \"type\": \"scatter\", \"x\": [144130.0, 2677680.0], \"xaxis\": \"x\", \"y\": [8.47, 24.55], \"yaxis\": \"y\"}, {\"hoverlabel\": {\"namelength\": 0}, \"hovertemplate\": \"<b>%{hovertext}</b><br><br>vaccines=Sinovac<br>total_vaccinations=%{marker.size}<br>people_vaccinated_per_hundred=%{y}\", \"hovertext\": [\"Brazil\", \"Indonesia\", \"Turkey\"], \"legendgroup\": \"Sinovac\", \"marker\": {\"color\": \"#ab63fa\", \"size\": [848883.0, 245685.0, 1410273.0], \"sizemode\": \"area\", \"sizeref\": 9416.3976, \"symbol\": \"circle\"}, \"mode\": \"markers\", \"name\": \"Sinovac\", \"showlegend\": true, \"type\": \"scatter\", \"x\": [848883.0, 245685.0, 1410273.0], \"xaxis\": \"x\", \"y\": [0.4, 0.09, 1.67], \"yaxis\": \"y\"}, {\"hoverlabel\": {\"namelength\": 0}, \"hovertemplate\": \"<b>%{hovertext}</b><br><br>vaccines=Moderna, Pfizer/BioNTech<br>total_vaccinations=%{marker.size}<br>people_vaccinated_per_hundred=%{y}\", \"hovertext\": [\"Bulgaria\", \"Canada\", \"Czechia\", \"Denmark\", \"Germany\", \"Iceland\", \"Israel\", \"Lithuania\", \"Netherlands\", \"Spain\", \"United States\"], \"legendgroup\": \"Moderna, Pfizer/BioNTech\", \"marker\": {\"color\": \"#FFA15A\", \"size\": [29122.0, 868454.0, 222450.0, 213724.0, 1921689.0, 15220.0, 4146005.0, 70018.0, 173638.0, 1291216.0, 23540994.0], \"sizemode\": \"area\", \"sizeref\": 9416.3976, \"symbol\": \"circle\"}, \"mode\": \"markers\", \"name\": \"Moderna, Pfizer/BioNTech\", \"showlegend\": true, \"type\": \"scatter\", \"x\": [29122.0, 868454.0, 222450.0, 213724.0, 1921689.0, 15220.0, 4146005.0, 70018.0, 173638.0, 1291216.0, 23540994.0], \"xaxis\": \"x\", \"y\": [0.34, 2.3, 1.91, 3.16, 1.96, 3.06, 31.98, 2.22, 1.01, 2.5, 6.01], \"yaxis\": \"y\"}, {\"hoverlabel\": {\"namelength\": 0}, \"hovertemplate\": \"<b>%{hovertext}</b><br><br>vaccines=CNBG, Sinovac<br>total_vaccinations=%{marker.size}<br>people_vaccinated_per_hundred=%{y}\", \"hovertext\": [\"China\"], \"legendgroup\": \"CNBG, Sinovac\", \"marker\": {\"color\": \"#19d3f3\", \"size\": [15000000.0], \"sizemode\": \"area\", \"sizeref\": 9416.3976, \"symbol\": \"circle\"}, \"mode\": \"markers\", \"name\": \"CNBG, Sinovac\", \"showlegend\": true, \"type\": \"scatter\", \"x\": [15000000.0], \"xaxis\": \"x\", \"y\": [1.04], \"yaxis\": \"y\"}, {\"hoverlabel\": {\"namelength\": 0}, \"hovertemplate\": \"<b>%{hovertext}</b><br><br>vaccines=Covaxin, Covishield<br>total_vaccinations=%{marker.size}<br>people_vaccinated_per_hundred=%{y}\", \"hovertext\": [\"India\"], \"legendgroup\": \"Covaxin, Covishield\", \"marker\": {\"color\": \"#FF6692\", \"size\": [2029480.0], \"sizemode\": \"area\", \"sizeref\": 9416.3976, \"symbol\": \"circle\"}, \"mode\": \"markers\", \"name\": \"Covaxin, Covishield\", \"showlegend\": true, \"type\": \"scatter\", \"x\": [2029480.0], \"xaxis\": \"x\", \"y\": [0.15], \"yaxis\": \"y\"}, {\"hoverlabel\": {\"namelength\": 0}, \"hovertemplate\": \"<b>%{hovertext}</b><br><br>vaccines=Pfizer/BioNTech, Sinovac<br>total_vaccinations=%{marker.size}<br>people_vaccinated_per_hundred=%{y}\", \"hovertext\": [\"Northern Cyprus\"], \"legendgroup\": \"Pfizer/BioNTech, Sinovac\", \"marker\": {\"color\": \"#B6E880\", \"size\": [11000.0], \"sizemode\": \"area\", \"sizeref\": 9416.3976, \"symbol\": \"circle\"}, \"mode\": \"markers\", \"name\": \"Pfizer/BioNTech, Sinovac\", \"showlegend\": true, \"type\": \"scatter\", \"x\": [11000.0], \"xaxis\": \"x\", \"y\": [2.88], \"yaxis\": \"y\"}, {\"hoverlabel\": {\"namelength\": 0}, \"hovertemplate\": \"<b>%{hovertext}</b><br><br>vaccines=Pfizer/BioNTech, Sinopharm, Sputnik V<br>total_vaccinations=%{marker.size}<br>people_vaccinated_per_hundred=%{y}\", \"hovertext\": [\"Serbia\"], \"legendgroup\": \"Pfizer/BioNTech, Sinopharm, Sputnik V\", \"marker\": {\"color\": \"#FF97FF\", \"size\": [310266.0], \"sizemode\": \"area\", \"sizeref\": 9416.3976, \"symbol\": \"circle\"}, \"mode\": \"markers\", \"name\": \"Pfizer/BioNTech, Sinopharm, Sputnik V\", \"showlegend\": true, \"type\": \"scatter\", \"x\": [310266.0], \"xaxis\": \"x\", \"y\": [4.56], \"yaxis\": \"y\"}, {\"hoverlabel\": {\"namelength\": 0}, \"hovertemplate\": \"<b>%{hovertext}</b><br><br>vaccines=Sinopharm<br>total_vaccinations=%{marker.size}<br>people_vaccinated_per_hundred=%{y}\", \"hovertext\": [\"Seychelles\"], \"legendgroup\": \"Sinopharm\", \"marker\": {\"color\": \"#FECB52\", \"size\": [19889.0], \"sizemode\": \"area\", \"sizeref\": 9416.3976, \"symbol\": \"circle\"}, \"mode\": \"markers\", \"name\": \"Sinopharm\", \"showlegend\": true, \"type\": \"scatter\", \"x\": [19889.0], \"xaxis\": \"x\", \"y\": [20.22], \"yaxis\": \"y\"}, {\"hoverlabel\": {\"namelength\": 0}, \"hovertemplate\": \"<b>%{hovertext}</b><br><br>vaccines=Oxford/AstraZeneca, Pfizer/BioNTech<br>total_vaccinations=%{marker.size}<br>people_vaccinated_per_hundred=%{y}\", \"hovertext\": [\"United Kingdom\"], \"legendgroup\": \"Oxford/AstraZeneca, Pfizer/BioNTech\", \"marker\": {\"color\": \"#636efa\", \"size\": [7325773.0], \"sizemode\": \"area\", \"sizeref\": 9416.3976, \"symbol\": \"circle\"}, \"mode\": \"markers\", \"name\": \"Oxford/AstraZeneca, Pfizer/BioNTech\", \"showlegend\": true, \"type\": \"scatter\", \"x\": [7325773.0], \"xaxis\": \"x\", \"y\": [10.59], \"yaxis\": \"y\"}],\n",
       "                        {\"legend\": {\"itemsizing\": \"constant\", \"title\": {\"text\": \"vaccines\"}, \"tracegroupgap\": 0}, \"template\": {\"data\": {\"bar\": [{\"error_x\": {\"color\": \"#2a3f5f\"}, \"error_y\": {\"color\": \"#2a3f5f\"}, \"marker\": {\"line\": {\"color\": \"#E5ECF6\", \"width\": 0.5}}, \"type\": \"bar\"}], \"barpolar\": [{\"marker\": {\"line\": {\"color\": \"#E5ECF6\", \"width\": 0.5}}, \"type\": \"barpolar\"}], \"carpet\": [{\"aaxis\": {\"endlinecolor\": \"#2a3f5f\", \"gridcolor\": \"white\", \"linecolor\": \"white\", \"minorgridcolor\": \"white\", \"startlinecolor\": \"#2a3f5f\"}, \"baxis\": {\"endlinecolor\": \"#2a3f5f\", \"gridcolor\": \"white\", \"linecolor\": \"white\", \"minorgridcolor\": \"white\", \"startlinecolor\": \"#2a3f5f\"}, \"type\": \"carpet\"}], \"choropleth\": [{\"colorbar\": {\"outlinewidth\": 0, \"ticks\": \"\"}, \"type\": \"choropleth\"}], \"contour\": [{\"colorbar\": {\"outlinewidth\": 0, \"ticks\": \"\"}, \"colorscale\": [[0.0, \"#0d0887\"], [0.1111111111111111, \"#46039f\"], [0.2222222222222222, \"#7201a8\"], [0.3333333333333333, \"#9c179e\"], [0.4444444444444444, \"#bd3786\"], [0.5555555555555556, \"#d8576b\"], [0.6666666666666666, \"#ed7953\"], [0.7777777777777778, \"#fb9f3a\"], [0.8888888888888888, \"#fdca26\"], [1.0, \"#f0f921\"]], \"type\": \"contour\"}], \"contourcarpet\": [{\"colorbar\": {\"outlinewidth\": 0, \"ticks\": \"\"}, \"type\": \"contourcarpet\"}], \"heatmap\": [{\"colorbar\": {\"outlinewidth\": 0, \"ticks\": \"\"}, \"colorscale\": [[0.0, \"#0d0887\"], [0.1111111111111111, \"#46039f\"], [0.2222222222222222, \"#7201a8\"], [0.3333333333333333, \"#9c179e\"], [0.4444444444444444, \"#bd3786\"], [0.5555555555555556, \"#d8576b\"], [0.6666666666666666, \"#ed7953\"], [0.7777777777777778, \"#fb9f3a\"], [0.8888888888888888, \"#fdca26\"], [1.0, \"#f0f921\"]], \"type\": \"heatmap\"}], \"heatmapgl\": [{\"colorbar\": {\"outlinewidth\": 0, \"ticks\": \"\"}, \"colorscale\": [[0.0, \"#0d0887\"], [0.1111111111111111, \"#46039f\"], [0.2222222222222222, \"#7201a8\"], [0.3333333333333333, \"#9c179e\"], [0.4444444444444444, \"#bd3786\"], [0.5555555555555556, \"#d8576b\"], [0.6666666666666666, \"#ed7953\"], [0.7777777777777778, \"#fb9f3a\"], [0.8888888888888888, \"#fdca26\"], [1.0, \"#f0f921\"]], \"type\": \"heatmapgl\"}], \"histogram\": [{\"marker\": {\"colorbar\": {\"outlinewidth\": 0, \"ticks\": \"\"}}, \"type\": \"histogram\"}], \"histogram2d\": [{\"colorbar\": {\"outlinewidth\": 0, \"ticks\": \"\"}, \"colorscale\": [[0.0, \"#0d0887\"], [0.1111111111111111, \"#46039f\"], [0.2222222222222222, \"#7201a8\"], [0.3333333333333333, \"#9c179e\"], [0.4444444444444444, \"#bd3786\"], [0.5555555555555556, \"#d8576b\"], [0.6666666666666666, \"#ed7953\"], [0.7777777777777778, \"#fb9f3a\"], [0.8888888888888888, \"#fdca26\"], [1.0, \"#f0f921\"]], \"type\": \"histogram2d\"}], \"histogram2dcontour\": [{\"colorbar\": {\"outlinewidth\": 0, \"ticks\": \"\"}, \"colorscale\": [[0.0, \"#0d0887\"], [0.1111111111111111, \"#46039f\"], [0.2222222222222222, \"#7201a8\"], [0.3333333333333333, \"#9c179e\"], [0.4444444444444444, \"#bd3786\"], [0.5555555555555556, \"#d8576b\"], [0.6666666666666666, \"#ed7953\"], [0.7777777777777778, \"#fb9f3a\"], [0.8888888888888888, \"#fdca26\"], [1.0, \"#f0f921\"]], \"type\": \"histogram2dcontour\"}], \"mesh3d\": [{\"colorbar\": {\"outlinewidth\": 0, \"ticks\": \"\"}, \"type\": \"mesh3d\"}], \"parcoords\": [{\"line\": {\"colorbar\": {\"outlinewidth\": 0, \"ticks\": \"\"}}, \"type\": \"parcoords\"}], \"pie\": [{\"automargin\": true, \"type\": \"pie\"}], \"scatter\": [{\"marker\": {\"colorbar\": {\"outlinewidth\": 0, \"ticks\": \"\"}}, \"type\": \"scatter\"}], \"scatter3d\": [{\"line\": {\"colorbar\": {\"outlinewidth\": 0, \"ticks\": \"\"}}, \"marker\": {\"colorbar\": {\"outlinewidth\": 0, \"ticks\": \"\"}}, \"type\": \"scatter3d\"}], \"scattercarpet\": [{\"marker\": {\"colorbar\": {\"outlinewidth\": 0, \"ticks\": \"\"}}, \"type\": \"scattercarpet\"}], \"scattergeo\": [{\"marker\": {\"colorbar\": {\"outlinewidth\": 0, \"ticks\": \"\"}}, \"type\": \"scattergeo\"}], \"scattergl\": [{\"marker\": {\"colorbar\": {\"outlinewidth\": 0, \"ticks\": \"\"}}, \"type\": \"scattergl\"}], \"scattermapbox\": [{\"marker\": {\"colorbar\": {\"outlinewidth\": 0, \"ticks\": \"\"}}, \"type\": \"scattermapbox\"}], \"scatterpolar\": [{\"marker\": {\"colorbar\": {\"outlinewidth\": 0, \"ticks\": \"\"}}, \"type\": \"scatterpolar\"}], \"scatterpolargl\": [{\"marker\": {\"colorbar\": {\"outlinewidth\": 0, \"ticks\": \"\"}}, \"type\": \"scatterpolargl\"}], \"scatterternary\": [{\"marker\": {\"colorbar\": {\"outlinewidth\": 0, \"ticks\": \"\"}}, \"type\": \"scatterternary\"}], \"surface\": [{\"colorbar\": {\"outlinewidth\": 0, \"ticks\": \"\"}, \"colorscale\": [[0.0, \"#0d0887\"], [0.1111111111111111, \"#46039f\"], [0.2222222222222222, \"#7201a8\"], [0.3333333333333333, \"#9c179e\"], [0.4444444444444444, \"#bd3786\"], [0.5555555555555556, \"#d8576b\"], [0.6666666666666666, \"#ed7953\"], [0.7777777777777778, \"#fb9f3a\"], [0.8888888888888888, \"#fdca26\"], [1.0, \"#f0f921\"]], \"type\": \"surface\"}], \"table\": [{\"cells\": {\"fill\": {\"color\": \"#EBF0F8\"}, \"line\": {\"color\": \"white\"}}, \"header\": {\"fill\": {\"color\": \"#C8D4E3\"}, \"line\": {\"color\": \"white\"}}, \"type\": \"table\"}]}, \"layout\": {\"annotationdefaults\": {\"arrowcolor\": \"#2a3f5f\", \"arrowhead\": 0, \"arrowwidth\": 1}, \"coloraxis\": {\"colorbar\": {\"outlinewidth\": 0, \"ticks\": \"\"}}, \"colorscale\": {\"diverging\": [[0, \"#8e0152\"], [0.1, \"#c51b7d\"], [0.2, \"#de77ae\"], [0.3, \"#f1b6da\"], [0.4, \"#fde0ef\"], [0.5, \"#f7f7f7\"], [0.6, \"#e6f5d0\"], [0.7, \"#b8e186\"], [0.8, \"#7fbc41\"], [0.9, \"#4d9221\"], [1, \"#276419\"]], \"sequential\": [[0.0, \"#0d0887\"], [0.1111111111111111, \"#46039f\"], [0.2222222222222222, \"#7201a8\"], [0.3333333333333333, \"#9c179e\"], [0.4444444444444444, \"#bd3786\"], [0.5555555555555556, \"#d8576b\"], [0.6666666666666666, \"#ed7953\"], [0.7777777777777778, \"#fb9f3a\"], [0.8888888888888888, \"#fdca26\"], [1.0, \"#f0f921\"]], \"sequentialminus\": [[0.0, \"#0d0887\"], [0.1111111111111111, \"#46039f\"], [0.2222222222222222, \"#7201a8\"], [0.3333333333333333, \"#9c179e\"], [0.4444444444444444, \"#bd3786\"], [0.5555555555555556, \"#d8576b\"], [0.6666666666666666, \"#ed7953\"], [0.7777777777777778, \"#fb9f3a\"], [0.8888888888888888, \"#fdca26\"], [1.0, \"#f0f921\"]]}, \"colorway\": [\"#636efa\", \"#EF553B\", \"#00cc96\", \"#ab63fa\", \"#FFA15A\", \"#19d3f3\", \"#FF6692\", \"#B6E880\", \"#FF97FF\", \"#FECB52\"], \"font\": {\"color\": \"#2a3f5f\"}, \"geo\": {\"bgcolor\": \"white\", \"lakecolor\": \"white\", \"landcolor\": \"#E5ECF6\", \"showlakes\": true, \"showland\": true, \"subunitcolor\": \"white\"}, \"hoverlabel\": {\"align\": \"left\"}, \"hovermode\": \"closest\", \"mapbox\": {\"style\": \"light\"}, \"paper_bgcolor\": \"white\", \"plot_bgcolor\": \"#E5ECF6\", \"polar\": {\"angularaxis\": {\"gridcolor\": \"white\", \"linecolor\": \"white\", \"ticks\": \"\"}, \"bgcolor\": \"#E5ECF6\", \"radialaxis\": {\"gridcolor\": \"white\", \"linecolor\": \"white\", \"ticks\": \"\"}}, \"scene\": {\"xaxis\": {\"backgroundcolor\": \"#E5ECF6\", \"gridcolor\": \"white\", \"gridwidth\": 2, \"linecolor\": \"white\", \"showbackground\": true, \"ticks\": \"\", \"zerolinecolor\": \"white\"}, \"yaxis\": {\"backgroundcolor\": \"#E5ECF6\", \"gridcolor\": \"white\", \"gridwidth\": 2, \"linecolor\": \"white\", \"showbackground\": true, \"ticks\": \"\", \"zerolinecolor\": \"white\"}, \"zaxis\": {\"backgroundcolor\": \"#E5ECF6\", \"gridcolor\": \"white\", \"gridwidth\": 2, \"linecolor\": \"white\", \"showbackground\": true, \"ticks\": \"\", \"zerolinecolor\": \"white\"}}, \"shapedefaults\": {\"line\": {\"color\": \"#2a3f5f\"}}, \"ternary\": {\"aaxis\": {\"gridcolor\": \"white\", \"linecolor\": \"white\", \"ticks\": \"\"}, \"baxis\": {\"gridcolor\": \"white\", \"linecolor\": \"white\", \"ticks\": \"\"}, \"bgcolor\": \"#E5ECF6\", \"caxis\": {\"gridcolor\": \"white\", \"linecolor\": \"white\", \"ticks\": \"\"}}, \"title\": {\"x\": 0.05}, \"xaxis\": {\"automargin\": true, \"gridcolor\": \"white\", \"linecolor\": \"white\", \"ticks\": \"\", \"title\": {\"standoff\": 15}, \"zerolinecolor\": \"white\", \"zerolinewidth\": 2}, \"yaxis\": {\"automargin\": true, \"gridcolor\": \"white\", \"linecolor\": \"white\", \"ticks\": \"\", \"title\": {\"standoff\": 15}, \"zerolinecolor\": \"white\", \"zerolinewidth\": 2}}}, \"title\": {\"text\": \"Total vaccinations vs People vaccinated per hundred\"}, \"xaxis\": {\"anchor\": \"y\", \"domain\": [0.0, 1.0], \"title\": {\"text\": \"total_vaccinations\"}}, \"yaxis\": {\"anchor\": \"x\", \"domain\": [0.0, 1.0], \"title\": {\"text\": \"people_vaccinated_per_hundred\"}}},\n",
       "                        {\"responsive\": true}\n",
       "                    ).then(function(){\n",
       "                            \n",
       "var gd = document.getElementById('76952bf7-0595-4cfa-bb75-a29ca05cda4a');\n",
       "var x = new MutationObserver(function (mutations, observer) {{\n",
       "        var display = window.getComputedStyle(gd).display;\n",
       "        if (!display || display === 'none') {{\n",
       "            console.log([gd, 'removed!']);\n",
       "            Plotly.purge(gd);\n",
       "            observer.disconnect();\n",
       "        }}\n",
       "}});\n",
       "\n",
       "// Listen for the removal of the full notebook cells\n",
       "var notebookContainer = gd.closest('#notebook-container');\n",
       "if (notebookContainer) {{\n",
       "    x.observe(notebookContainer, {childList: true});\n",
       "}}\n",
       "\n",
       "// Listen for the clearing of the current output cell\n",
       "var outputEl = gd.closest('.output');\n",
       "if (outputEl) {{\n",
       "    x.observe(outputEl, {childList: true});\n",
       "}}\n",
       "\n",
       "                        })\n",
       "                };\n",
       "                });\n",
       "            </script>\n",
       "        </div>"
      ]
     },
     "metadata": {},
     "output_type": "display_data"
    }
   ],
   "source": [
    "fig = px.scatter(covid19_vaccinations_df_group,\n",
    "                 x = 'total_vaccinations',\n",
    "                 y='people_vaccinated_per_hundred',\n",
    "                 color='vaccines',\n",
    "                 size='total_vaccinations',\n",
    "                 hover_name = 'country',\n",
    "                 size_max = 50,\n",
    "                 title=\"Total vaccinations vs People vaccinated per hundred\")\n",
    "pio.write_image(fig, \"images/image6.png\") \n",
    "fig.show()"
   ]
  },
  {
   "cell_type": "markdown",
   "metadata": {},
   "source": [
    "<a id='part4-6'></a>\n",
    "### 4.6 Timeline for No of people Vaccinated by Country"
   ]
  },
  {
   "cell_type": "code",
   "execution_count": 78,
   "metadata": {},
   "outputs": [
    {
     "data": {
      "text/plain": [
       "Index(['13-12-2020', '14-12-2020', '15-12-2020', '16-12-2020', '17-12-2020',\n",
       "       '18-12-2020', '19-12-2020', '20-12-2020', '21-12-2020', '22-12-2020',\n",
       "       '23-12-2020', '24-12-2020', '25-12-2020', '26-12-2020', '27-12-2020',\n",
       "       '28-12-2020', '29-12-2020', '30-12-2020', '31-12-2020', '01-01-2021',\n",
       "       '02-01-2021', '03-01-2021', '04-01-2021', '05-01-2021', '06-01-2021',\n",
       "       '07-01-2021', '08-01-2021', '09-01-2021', '10-01-2021', '11-01-2021',\n",
       "       '12-01-2021', '13-01-2021', '14-01-2021', '15-01-2021', '16-01-2021',\n",
       "       '17-01-2021', '18-01-2021', '19-01-2021', '20-01-2021', '21-01-2021',\n",
       "       '22-01-2021', '23-01-2021', '24-01-2021', '25-01-2021', '26-01-2021'],\n",
       "      dtype='object')"
      ]
     },
     "execution_count": 78,
     "metadata": {},
     "output_type": "execute_result"
    }
   ],
   "source": [
    "d = pd.date_range('13-12-2020', '26-01-2021', freq='D').strftime('%d-%m-%Y')   \n",
    "d"
   ]
  },
  {
   "cell_type": "code",
   "execution_count": 79,
   "metadata": {},
   "outputs": [
    {
     "data": {
      "image/png": "[encoded data removed]",
      "text/plain": [
       "<Figure size 1296x648 with 1 Axes>"
      ]
     },
     "metadata": {},
     "output_type": "display_data"
    }
   ],
   "source": [
    "plt.figure(figsize=(18,9))\n",
    "\n",
    "ax = sns.pointplot(data = covid19_vaccinations_df, \n",
    "                   x='date', \n",
    "                   y='total_vaccinations', \n",
    "                   hue='country', \n",
    "                   palette='rainbow',\n",
    "                   order = pd.date_range('13-12-2020', '26-01-2021', freq='D').strftime('%d-%m-%Y') ,\n",
    "                   facet_kws={\"legend_out\": True}                   \n",
    "                  )\n",
    "plt.ticklabel_format(style='plain',axis='y')\n",
    "plt.title('Timeline for No of people Vaccinated by Country', fontsize=22, y=1.015)\n",
    "plt.xlabel('date-month-year', labelpad=16)\n",
    "plt.ylabel('total vaccinations', labelpad=16)\n",
    "leg = ax.legend(loc='center right', bbox_to_anchor=(1.15, 0.5), ncol=1)\n",
    "plt.xticks(rotation=90)\n",
    "#plt.setp(ax.collections, alpha=.6) #for the markers\n",
    "#plt.setp(ax.lines, alpha=.3) #for the lines\n",
    "plt.savefig('images/image7.png', bbox_inches='tight')\n",
    "plt.show()"
   ]
  },
  {
   "cell_type": "markdown",
   "metadata": {},
   "source": [
    "<a id='part4-7'></a>\n",
    "### 4.7 WordCloud  "
   ]
  },
  {
   "cell_type": "code",
   "execution_count": 80,
   "metadata": {},
   "outputs": [],
   "source": [
    "country_list = covid19_vaccinations_df['country'].unique()"
   ]
  },
  {
   "cell_type": "code",
   "execution_count": 82,
   "metadata": {},
   "outputs": [
    {
     "data": {
      "image/png": "[encoded data removed]",
      "text/plain": [
       "<Figure size 1080x1080 with 1 Axes>"
      ]
     },
     "metadata": {},
     "output_type": "display_data"
    }
   ],
   "source": [
    "plt.figure(figsize=[15, 15])\n",
    "\n",
    "image = Image.open(\"images/vaccine.png\")\n",
    "image_gray = image.convert('L')\n",
    "image_invert = ImageOps.invert(image_gray)\n",
    "char_mask = np.array(image_invert)\n",
    "image_colors = ImageColorGenerator(char_mask)\n",
    "\n",
    "\n",
    "wordcloud = WordCloud(stopwords=STOPWORDS,\n",
    "                        background_color='black', \n",
    "                        #width=1000,  \n",
    "                        #height=1000, \n",
    "                        max_words=300,\n",
    "                        mask=char_mask,\n",
    "                        contour_width=3, \n",
    "                        contour_color='white',\n",
    "                    ).generate(' '.join(country_list))\n",
    "\n",
    "\n",
    "plt.imshow(wordcloud, interpolation='bilinear')\n",
    "plt.axis('off')\n",
    "plt.title('Country Names implemeting Covid-19 Vaccine in Wordcloud', fontsize=30)\n",
    "plt.savefig('images/image8.png')\n",
    "plt.show()"
   ]
  },
  {
   "cell_type": "code",
   "execution_count": null,
   "metadata": {},
   "outputs": [],
   "source": []
  }
 ],
 "metadata": {
  "kernelspec": {
   "display_name": "Python 3",
   "language": "python",
   "name": "python3"
  },
  "language_info": {
   "codemirror_mode": {
    "name": "ipython",
    "version": 3
   },
   "file_extension": ".py",
   "mimetype": "text/x-python",
   "name": "python",
   "nbconvert_exporter": "python",
   "pygments_lexer": "ipython3",
   "version": "3.7.1"
  }
 },
 "nbformat": 4,
 "nbformat_minor": 4
}
