{
 "cells": [
  {
   "cell_type": "markdown",
   "metadata": {},
   "source": [
    "## WiiU Games\n",
    "### WiiU Games EDA with Recommendation System\n",
    "\n",
    "#### Content\n",
    "The dataset includes all games for WiiU\n",
    "\n",
    "The dataset is prepared by Alexander Filin\n",
    "\n",
    "Here is the dataset link : https://www.kaggle.com/infamous25700/wiiu-games"
   ]
  },
  {
   "cell_type": "markdown",
   "metadata": {},
   "source": [
    "## Content"
   ]
  },
  {
   "cell_type": "markdown",
   "metadata": {},
   "source": [
    "<ul>\n",
    "  <li><a href=\"#part1\">1. Loading Data and Checking Values</a></li>\n",
    "  <li><a href=\"#part2\">2. Description of  Columns in Dataframe</a>\n",
    "  <li><a href=\"#part3\">3. Data Wrangling</a>\n",
    "    <ul>\n",
    "      <li><a href=\"#part3-1\">3.1 Defining new dataframes not containing \"Unreleased\" of each Release date</a></li>\n",
    "      <li><a href=\"#part3-2\">3.2 Removing nan values from Release date in each dataframe</a></li>        \n",
    "      <li><a href=\"#part3-3\">3.3 Seperate month and year from Release date Column of each dataframe</a></li>\n",
    "      <li><a href=\"#part3-3\">3.4 Create new 3 dataframe for pie graph by genre, developer and publisher in wii dataframe</a></li>\n",
    "    </ul>\n",
    "  </li>\n",
    "  <li><a href=\"#part4\">4. Data Visualization</a>\n",
    "    <ul>\n",
    "      <li><a href=\"#part4-1\">4.1 Define a Time period showing released games by Japan</a></li>\n",
    "      <li><a href=\"#part4-2\">4.2 Define a Time period showing released games by North America</a></li>\n",
    "      <li><a href=\"#part4-3\">4.3 Define a Time period showing released games by Australasia</a></li>\n",
    "      <li><a href=\"#part4-4\">4.4 Define a Time period showing released games by Europe</a></li>\n",
    "      <li><a href=\"#part4-5\">4.5 Show the spectrum of wii games by genre, developer and publisher</a></li>\n",
    "    </ul>\n",
    "  </li>\n",
    "  <li><a href=\"#part5\">5. Recommendation System</a>\n",
    "    <ul>\n",
    "      <li><a href=\"#part5-1\">5.1 Recommendation System by using Levenshtein Distance</a></li>\n",
    "    </ul>\n",
    "  </li>  \n",
    "</ul>"
   ]
  },
  {
   "cell_type": "markdown",
   "metadata": {},
   "source": [
    "<a id='part1'></a>\n",
    "## 1. Loading Data and Checking Values"
   ]
  },
  {
   "cell_type": "code",
   "execution_count": 82,
   "metadata": {},
   "outputs": [],
   "source": [
    "# !pip install -U strsimpy"
   ]
  },
  {
   "cell_type": "markdown",
   "metadata": {},
   "source": [
    "1 - Import libraries I used for visualization"
   ]
  },
  {
   "cell_type": "code",
   "execution_count": 83,
   "metadata": {},
   "outputs": [],
   "source": [
    "import numpy as np\n",
    "import pandas as pd\n",
    "import matplotlib.pyplot as plt\n",
    "import seaborn as sns\n",
    "import plotly.graph_objects as go\n",
    "from plotly.subplots import make_subplots\n",
    "from plotly.offline import init_notebook_mode, iplot\n",
    "from collections import Counter\n",
    "from operator import itemgetter\n",
    "from IPython.display import display, HTML\n",
    "from plotly.subplots import make_subplots\n",
    "from wordcloud import WordCloud, STOPWORDS,ImageColorGenerator \n",
    "from PIL import Image, ImageOps\n",
    "import plotly.express as px\n",
    "import plotly.io as pio\n",
    "import datetime\n",
    "import matplotlib.cm as mplcm\n",
    "import random\n",
    "import matplotlib.colors as mcolors\n",
    "import requests\n",
    "from matplotlib.offsetbox import OffsetImage,AnnotationBbox\n",
    "import matplotlib.image as mpimg \n",
    "from strsimpy.levenshtein import Levenshtein\n",
    "from sklearn.preprocessing import StandardScaler\n",
    "%matplotlib inline\n",
    "\n",
    "import warnings\n",
    "warnings.filterwarnings('ignore')\n",
    "\n",
    "sns.set(style=\"darkgrid\")"
   ]
  },
  {
   "cell_type": "markdown",
   "metadata": {},
   "source": [
    "2 - Define dataframe after loading all values from csv file and assigning them to it"
   ]
  },
  {
   "cell_type": "code",
   "execution_count": 84,
   "metadata": {},
   "outputs": [],
   "source": [
    "file_location_url = \"files/wiiu_games.csv\";\n",
    "\n",
    "wii_df = pd.read_csv(file_location_url, error_bad_lines=False,encoding = \"utf-8\")"
   ]
  },
  {
   "cell_type": "markdown",
   "metadata": {},
   "source": [
    "3 - Deterime how many rows and columns are defined in dataframe"
   ]
  },
  {
   "cell_type": "code",
   "execution_count": 85,
   "metadata": {},
   "outputs": [
    {
     "name": "stdout",
     "output_type": "stream",
     "text": [
      "Row : 781 , Column : 8\n"
     ]
    }
   ],
   "source": [
    "row_count = wii_df.shape[0]\n",
    "column_count = wii_df.shape[1]\n",
    "\n",
    "print(\"Row : {} , Column : {}\".format(row_count,column_count))"
   ]
  },
  {
   "cell_type": "markdown",
   "metadata": {},
   "source": [
    "4 - Show first 5 values of dataframe"
   ]
  },
  {
   "cell_type": "code",
   "execution_count": 86,
   "metadata": {},
   "outputs": [
    {
     "data": {
      "text/html": [
       "<div>\n",
       "<style scoped>\n",
       "    .dataframe tbody tr th:only-of-type {\n",
       "        vertical-align: middle;\n",
       "    }\n",
       "\n",
       "    .dataframe tbody tr th {\n",
       "        vertical-align: top;\n",
       "    }\n",
       "\n",
       "    .dataframe thead th {\n",
       "        text-align: right;\n",
       "    }\n",
       "</style>\n",
       "<table border=\"1\" class=\"dataframe\">\n",
       "  <thead>\n",
       "    <tr style=\"text-align: right;\">\n",
       "      <th></th>\n",
       "      <th>Title</th>\n",
       "      <th>Genre(s)</th>\n",
       "      <th>Developer(s)</th>\n",
       "      <th>Publisher(s)</th>\n",
       "      <th>Release date(Japan)</th>\n",
       "      <th>Release date(NA)</th>\n",
       "      <th>Release date(Australasia)</th>\n",
       "      <th>Release date(Europe)</th>\n",
       "    </tr>\n",
       "  </thead>\n",
       "  <tbody>\n",
       "    <tr>\n",
       "      <th>0</th>\n",
       "      <td>007 Legends</td>\n",
       "      <td>First-person shooter</td>\n",
       "      <td>Eurocom</td>\n",
       "      <td>Activision</td>\n",
       "      <td>Unreleased</td>\n",
       "      <td>December 11, 2012</td>\n",
       "      <td>Unreleased</td>\n",
       "      <td>December 7, 2012</td>\n",
       "    </tr>\n",
       "    <tr>\n",
       "      <th>1</th>\n",
       "      <td>1001 Spikes</td>\n",
       "      <td>Platformpuzzle</td>\n",
       "      <td>8bits Fanatics</td>\n",
       "      <td>Nicalis</td>\n",
       "      <td>November 25, 2015</td>\n",
       "      <td>June 3, 2014</td>\n",
       "      <td>Unreleased</td>\n",
       "      <td>October 1, 2015</td>\n",
       "    </tr>\n",
       "    <tr>\n",
       "      <th>2</th>\n",
       "      <td>140</td>\n",
       "      <td>Platform</td>\n",
       "      <td>Double Fine Productions</td>\n",
       "      <td>Abstraction Games</td>\n",
       "      <td>Unreleased</td>\n",
       "      <td>September 1, 2016</td>\n",
       "      <td>Unreleased</td>\n",
       "      <td>September 1, 2016</td>\n",
       "    </tr>\n",
       "    <tr>\n",
       "      <th>3</th>\n",
       "      <td>153 Hand Video Poker</td>\n",
       "      <td>Simulation</td>\n",
       "      <td>Skunk Software</td>\n",
       "      <td>Skunk Software</td>\n",
       "      <td>Unreleased</td>\n",
       "      <td>June 2, 2016</td>\n",
       "      <td>Unreleased</td>\n",
       "      <td>Unreleased</td>\n",
       "    </tr>\n",
       "    <tr>\n",
       "      <th>4</th>\n",
       "      <td>3Souls</td>\n",
       "      <td>Puzzle platformer</td>\n",
       "      <td>Red Column</td>\n",
       "      <td>Red Column</td>\n",
       "      <td>Unreleased</td>\n",
       "      <td>July 28, 2016</td>\n",
       "      <td>July 28, 2016</td>\n",
       "      <td>July 28, 2016</td>\n",
       "    </tr>\n",
       "  </tbody>\n",
       "</table>\n",
       "</div>"
      ],
      "text/plain": [
       "                  Title              Genre(s)             Developer(s)  \\\n",
       "0           007 Legends  First-person shooter                  Eurocom   \n",
       "1           1001 Spikes        Platformpuzzle           8bits Fanatics   \n",
       "2                   140              Platform  Double Fine Productions   \n",
       "3  153 Hand Video Poker            Simulation           Skunk Software   \n",
       "4                3Souls     Puzzle platformer               Red Column   \n",
       "\n",
       "        Publisher(s) Release date(Japan)   Release date(NA)  \\\n",
       "0         Activision          Unreleased  December 11, 2012   \n",
       "1            Nicalis   November 25, 2015       June 3, 2014   \n",
       "2  Abstraction Games          Unreleased  September 1, 2016   \n",
       "3     Skunk Software          Unreleased       June 2, 2016   \n",
       "4         Red Column          Unreleased      July 28, 2016   \n",
       "\n",
       "  Release date(Australasia) Release date(Europe)  \n",
       "0                Unreleased     December 7, 2012  \n",
       "1                Unreleased      October 1, 2015  \n",
       "2                Unreleased    September 1, 2016  \n",
       "3                Unreleased           Unreleased  \n",
       "4             July 28, 2016        July 28, 2016  "
      ]
     },
     "execution_count": 86,
     "metadata": {},
     "output_type": "execute_result"
    }
   ],
   "source": [
    "wii_df.head()"
   ]
  },
  {
   "cell_type": "markdown",
   "metadata": {},
   "source": [
    "5 - Show last 5 values of dataframe"
   ]
  },
  {
   "cell_type": "code",
   "execution_count": 87,
   "metadata": {},
   "outputs": [
    {
     "data": {
      "text/html": [
       "<div>\n",
       "<style scoped>\n",
       "    .dataframe tbody tr th:only-of-type {\n",
       "        vertical-align: middle;\n",
       "    }\n",
       "\n",
       "    .dataframe tbody tr th {\n",
       "        vertical-align: top;\n",
       "    }\n",
       "\n",
       "    .dataframe thead th {\n",
       "        text-align: right;\n",
       "    }\n",
       "</style>\n",
       "<table border=\"1\" class=\"dataframe\">\n",
       "  <thead>\n",
       "    <tr style=\"text-align: right;\">\n",
       "      <th></th>\n",
       "      <th>Title</th>\n",
       "      <th>Genre(s)</th>\n",
       "      <th>Developer(s)</th>\n",
       "      <th>Publisher(s)</th>\n",
       "      <th>Release date(Japan)</th>\n",
       "      <th>Release date(NA)</th>\n",
       "      <th>Release date(Australasia)</th>\n",
       "      <th>Release date(Europe)</th>\n",
       "    </tr>\n",
       "  </thead>\n",
       "  <tbody>\n",
       "    <tr>\n",
       "      <th>776</th>\n",
       "      <td>Zombeer</td>\n",
       "      <td>Action, first-person shooter</td>\n",
       "      <td>Padaone Games</td>\n",
       "      <td>Padaone Games</td>\n",
       "      <td>Unreleased</td>\n",
       "      <td>April 13, 2017</td>\n",
       "      <td>Unreleased</td>\n",
       "      <td>Unreleased</td>\n",
       "    </tr>\n",
       "    <tr>\n",
       "      <th>777</th>\n",
       "      <td>Zombie Brigade: No Brain No Gain</td>\n",
       "      <td>Action</td>\n",
       "      <td>Cypronia</td>\n",
       "      <td>Cypronia</td>\n",
       "      <td>Unreleased</td>\n",
       "      <td>January 5, 2017</td>\n",
       "      <td>Unreleased</td>\n",
       "      <td>December 22, 2016</td>\n",
       "    </tr>\n",
       "    <tr>\n",
       "      <th>778</th>\n",
       "      <td>Zombie Defense</td>\n",
       "      <td>Tower defense</td>\n",
       "      <td>Teyon</td>\n",
       "      <td>Teyon</td>\n",
       "      <td>August 5, 2015</td>\n",
       "      <td>September 17, 2015</td>\n",
       "      <td>Unreleased</td>\n",
       "      <td>September 3, 2015</td>\n",
       "    </tr>\n",
       "    <tr>\n",
       "      <th>779</th>\n",
       "      <td>ZombiU</td>\n",
       "      <td>Survival horror</td>\n",
       "      <td>Ubisoft Montpellier</td>\n",
       "      <td>Ubisoft</td>\n",
       "      <td>December 8, 2012</td>\n",
       "      <td>November 18, 2012</td>\n",
       "      <td>November 30, 2012</td>\n",
       "      <td>November 30, 2012</td>\n",
       "    </tr>\n",
       "    <tr>\n",
       "      <th>780</th>\n",
       "      <td>Zumba Fitness: World Party</td>\n",
       "      <td>Fitness</td>\n",
       "      <td>Zoë Mode</td>\n",
       "      <td>JP: Hamster CorporationWW: Majesco Entertainment</td>\n",
       "      <td>September 4, 2014</td>\n",
       "      <td>November 5, 2013</td>\n",
       "      <td>November 22, 2013</td>\n",
       "      <td>November 22, 2013</td>\n",
       "    </tr>\n",
       "  </tbody>\n",
       "</table>\n",
       "</div>"
      ],
      "text/plain": [
       "                                Title                      Genre(s)  \\\n",
       "776                           Zombeer  Action, first-person shooter   \n",
       "777  Zombie Brigade: No Brain No Gain                        Action   \n",
       "778                    Zombie Defense                 Tower defense   \n",
       "779                            ZombiU               Survival horror   \n",
       "780        Zumba Fitness: World Party                       Fitness   \n",
       "\n",
       "            Developer(s)                                      Publisher(s)  \\\n",
       "776        Padaone Games                                     Padaone Games   \n",
       "777             Cypronia                                          Cypronia   \n",
       "778                Teyon                                             Teyon   \n",
       "779  Ubisoft Montpellier                                           Ubisoft   \n",
       "780             Zoë Mode  JP: Hamster CorporationWW: Majesco Entertainment   \n",
       "\n",
       "    Release date(Japan)    Release date(NA) Release date(Australasia)  \\\n",
       "776          Unreleased      April 13, 2017                Unreleased   \n",
       "777          Unreleased     January 5, 2017                Unreleased   \n",
       "778      August 5, 2015  September 17, 2015                Unreleased   \n",
       "779    December 8, 2012   November 18, 2012         November 30, 2012   \n",
       "780   September 4, 2014    November 5, 2013         November 22, 2013   \n",
       "\n",
       "    Release date(Europe)  \n",
       "776           Unreleased  \n",
       "777    December 22, 2016  \n",
       "778    September 3, 2015  \n",
       "779    November 30, 2012  \n",
       "780    November 22, 2013  "
      ]
     },
     "execution_count": 87,
     "metadata": {},
     "output_type": "execute_result"
    }
   ],
   "source": [
    "wii_df.tail()"
   ]
  },
  {
   "cell_type": "markdown",
   "metadata": {},
   "source": [
    "6 - Show each column information of dataframe"
   ]
  },
  {
   "cell_type": "code",
   "execution_count": 88,
   "metadata": {},
   "outputs": [
    {
     "name": "stdout",
     "output_type": "stream",
     "text": [
      "<class 'pandas.core.frame.DataFrame'>\n",
      "RangeIndex: 781 entries, 0 to 780\n",
      "Data columns (total 8 columns):\n",
      " #   Column                     Non-Null Count  Dtype \n",
      "---  ------                     --------------  ----- \n",
      " 0   Title                      781 non-null    object\n",
      " 1   Genre(s)                   781 non-null    object\n",
      " 2   Developer(s)               781 non-null    object\n",
      " 3   Publisher(s)               781 non-null    object\n",
      " 4   Release date(Japan)        781 non-null    object\n",
      " 5   Release date(NA)           781 non-null    object\n",
      " 6   Release date(Australasia)  781 non-null    object\n",
      " 7   Release date(Europe)       780 non-null    object\n",
      "dtypes: object(8)\n",
      "memory usage: 48.9+ KB\n"
     ]
    }
   ],
   "source": [
    "wii_df.info()"
   ]
  },
  {
   "cell_type": "markdown",
   "metadata": {},
   "source": [
    "7 - Show how many variables there are in dataframe"
   ]
  },
  {
   "cell_type": "code",
   "execution_count": 89,
   "metadata": {},
   "outputs": [
    {
     "data": {
      "text/plain": [
       "Title                        781\n",
       "Genre(s)                     781\n",
       "Developer(s)                 781\n",
       "Publisher(s)                 781\n",
       "Release date(Japan)          781\n",
       "Release date(NA)             781\n",
       "Release date(Australasia)    781\n",
       "Release date(Europe)         780\n",
       "dtype: int64"
      ]
     },
     "execution_count": 89,
     "metadata": {},
     "output_type": "execute_result"
    }
   ],
   "source": [
    "wii_df.count()"
   ]
  },
  {
   "cell_type": "markdown",
   "metadata": {},
   "source": [
    "8 - Show descriptive statistics of dataframe"
   ]
  },
  {
   "cell_type": "code",
   "execution_count": 90,
   "metadata": {},
   "outputs": [
    {
     "data": {
      "text/html": [
       "<div>\n",
       "<style scoped>\n",
       "    .dataframe tbody tr th:only-of-type {\n",
       "        vertical-align: middle;\n",
       "    }\n",
       "\n",
       "    .dataframe tbody tr th {\n",
       "        vertical-align: top;\n",
       "    }\n",
       "\n",
       "    .dataframe thead th {\n",
       "        text-align: right;\n",
       "    }\n",
       "</style>\n",
       "<table border=\"1\" class=\"dataframe\">\n",
       "  <thead>\n",
       "    <tr style=\"text-align: right;\">\n",
       "      <th></th>\n",
       "      <th>Title</th>\n",
       "      <th>Genre(s)</th>\n",
       "      <th>Developer(s)</th>\n",
       "      <th>Publisher(s)</th>\n",
       "      <th>Release date(Japan)</th>\n",
       "      <th>Release date(NA)</th>\n",
       "      <th>Release date(Australasia)</th>\n",
       "      <th>Release date(Europe)</th>\n",
       "    </tr>\n",
       "  </thead>\n",
       "  <tbody>\n",
       "    <tr>\n",
       "      <th>count</th>\n",
       "      <td>781</td>\n",
       "      <td>781</td>\n",
       "      <td>781</td>\n",
       "      <td>781</td>\n",
       "      <td>781</td>\n",
       "      <td>781</td>\n",
       "      <td>781</td>\n",
       "      <td>780</td>\n",
       "    </tr>\n",
       "    <tr>\n",
       "      <th>unique</th>\n",
       "      <td>781</td>\n",
       "      <td>199</td>\n",
       "      <td>472</td>\n",
       "      <td>358</td>\n",
       "      <td>173</td>\n",
       "      <td>348</td>\n",
       "      <td>183</td>\n",
       "      <td>303</td>\n",
       "    </tr>\n",
       "    <tr>\n",
       "      <th>top</th>\n",
       "      <td>Rock 'N Racing Off Road</td>\n",
       "      <td>Puzzle</td>\n",
       "      <td>RCMADIAX</td>\n",
       "      <td>Nintendo</td>\n",
       "      <td>Unreleased</td>\n",
       "      <td>Unreleased</td>\n",
       "      <td>Unreleased</td>\n",
       "      <td>Unreleased</td>\n",
       "    </tr>\n",
       "    <tr>\n",
       "      <th>freq</th>\n",
       "      <td>1</td>\n",
       "      <td>69</td>\n",
       "      <td>36</td>\n",
       "      <td>54</td>\n",
       "      <td>540</td>\n",
       "      <td>68</td>\n",
       "      <td>540</td>\n",
       "      <td>213</td>\n",
       "    </tr>\n",
       "  </tbody>\n",
       "</table>\n",
       "</div>"
      ],
      "text/plain": [
       "                          Title Genre(s) Developer(s) Publisher(s)  \\\n",
       "count                       781      781          781          781   \n",
       "unique                      781      199          472          358   \n",
       "top     Rock 'N Racing Off Road   Puzzle     RCMADIAX     Nintendo   \n",
       "freq                          1       69           36           54   \n",
       "\n",
       "       Release date(Japan) Release date(NA) Release date(Australasia)  \\\n",
       "count                  781              781                       781   \n",
       "unique                 173              348                       183   \n",
       "top             Unreleased       Unreleased                Unreleased   \n",
       "freq                   540               68                       540   \n",
       "\n",
       "       Release date(Europe)  \n",
       "count                   780  \n",
       "unique                  303  \n",
       "top              Unreleased  \n",
       "freq                    213  "
      ]
     },
     "execution_count": 90,
     "metadata": {},
     "output_type": "execute_result"
    }
   ],
   "source": [
    "wii_df.describe()"
   ]
  },
  {
   "cell_type": "markdown",
   "metadata": {},
   "source": [
    "9 - Determine if null values of each column are in a dataframe"
   ]
  },
  {
   "cell_type": "code",
   "execution_count": 91,
   "metadata": {},
   "outputs": [
    {
     "data": {
      "text/plain": [
       "Title                        0\n",
       "Genre(s)                     0\n",
       "Developer(s)                 0\n",
       "Publisher(s)                 0\n",
       "Release date(Japan)          0\n",
       "Release date(NA)             0\n",
       "Release date(Australasia)    0\n",
       "Release date(Europe)         1\n",
       "dtype: int64"
      ]
     },
     "execution_count": 91,
     "metadata": {},
     "output_type": "execute_result"
    }
   ],
   "source": [
    "wii_df.isnull().sum()"
   ]
  },
  {
   "cell_type": "markdown",
   "metadata": {},
   "source": [
    "<a id='part2'></a>\n",
    "## 2. Description of  Columns in Dataframe"
   ]
  },
  {
   "cell_type": "code",
   "execution_count": 92,
   "metadata": {},
   "outputs": [
    {
     "data": {
      "application/vnd.plotly.v1+json": {
       "config": {
        "plotlyServerURL": "https://plot.ly"
       },
       "data": [
        {
         "cells": {
          "align": [
           "left",
           "left"
          ],
          "fill": {
           "color": [
            "gold",
            "yellow"
           ]
          },
          "font": {
           "size": 12
          },
          "height": 30,
          "line": {
           "color": "darkslategray"
          },
          "values": [
           [
            "Title",
            "Genre(s)",
            "Developer(s)",
            "Publisher(s)",
            "Release date(Japan)",
            "Release date(NA)",
            "Release date(Australasia)",
            "Release date(Europe)"
           ],
           [
            "A Title of the game",
            "A Genre of the game",
            "A Developer of the game",
            "A Publisher of the game",
            "A Release date for Japan",
            "A Release date for North America",
            "A Release date for Australasia",
            "A Release date for Europe"
           ]
          ]
         },
         "columnwidth": [
          200,
          400
         ],
         "header": {
          "align": [
           "left",
           "center"
          ],
          "fill": {
           "color": "goldenrod"
          },
          "font": {
           "color": "white",
           "size": 12
          },
          "height": 40,
          "line": {
           "color": "darkgoldenrod"
          },
          "values": [
           [
            "<b>COLUMN NAME</b>"
           ],
           [
            "<b>DESCRIPTION</b>"
           ]
          ]
         },
         "type": "table"
        }
       ],
       "layout": {
        "height": 500,
        "legend": {
         "x": 1.1,
         "y": 1.3
        },
        "template": {
         "data": {
          "bar": [
           {
            "error_x": {
             "color": "#2a3f5f"
            },
            "error_y": {
             "color": "#2a3f5f"
            },
            "marker": {
             "line": {
              "color": "#E5ECF6",
              "width": 0.5
             }
            },
            "type": "bar"
           }
          ],
          "barpolar": [
           {
            "marker": {
             "line": {
              "color": "#E5ECF6",
              "width": 0.5
             }
            },
            "type": "barpolar"
           }
          ],
          "carpet": [
           {
            "aaxis": {
             "endlinecolor": "#2a3f5f",
             "gridcolor": "white",
             "linecolor": "white",
             "minorgridcolor": "white",
             "startlinecolor": "#2a3f5f"
            },
            "baxis": {
             "endlinecolor": "#2a3f5f",
             "gridcolor": "white",
             "linecolor": "white",
             "minorgridcolor": "white",
             "startlinecolor": "#2a3f5f"
            },
            "type": "carpet"
           }
          ],
          "choropleth": [
           {
            "colorbar": {
             "outlinewidth": 0,
             "ticks": ""
            },
            "type": "choropleth"
           }
          ],
          "contour": [
           {
            "colorbar": {
             "outlinewidth": 0,
             "ticks": ""
            },
            "colorscale": [
             [
              0,
              "#0d0887"
             ],
             [
              0.1111111111111111,
              "#46039f"
             ],
             [
              0.2222222222222222,
              "#7201a8"
             ],
             [
              0.3333333333333333,
              "#9c179e"
             ],
             [
              0.4444444444444444,
              "#bd3786"
             ],
             [
              0.5555555555555556,
              "#d8576b"
             ],
             [
              0.6666666666666666,
              "#ed7953"
             ],
             [
              0.7777777777777778,
              "#fb9f3a"
             ],
             [
              0.8888888888888888,
              "#fdca26"
             ],
             [
              1,
              "#f0f921"
             ]
            ],
            "type": "contour"
           }
          ],
          "contourcarpet": [
           {
            "colorbar": {
             "outlinewidth": 0,
             "ticks": ""
            },
            "type": "contourcarpet"
           }
          ],
          "heatmap": [
           {
            "colorbar": {
             "outlinewidth": 0,
             "ticks": ""
            },
            "colorscale": [
             [
              0,
              "#0d0887"
             ],
             [
              0.1111111111111111,
              "#46039f"
             ],
             [
              0.2222222222222222,
              "#7201a8"
             ],
             [
              0.3333333333333333,
              "#9c179e"
             ],
             [
              0.4444444444444444,
              "#bd3786"
             ],
             [
              0.5555555555555556,
              "#d8576b"
             ],
             [
              0.6666666666666666,
              "#ed7953"
             ],
             [
              0.7777777777777778,
              "#fb9f3a"
             ],
             [
              0.8888888888888888,
              "#fdca26"
             ],
             [
              1,
              "#f0f921"
             ]
            ],
            "type": "heatmap"
           }
          ],
          "heatmapgl": [
           {
            "colorbar": {
             "outlinewidth": 0,
             "ticks": ""
            },
            "colorscale": [
             [
              0,
              "#0d0887"
             ],
             [
              0.1111111111111111,
              "#46039f"
             ],
             [
              0.2222222222222222,
              "#7201a8"
             ],
             [
              0.3333333333333333,
              "#9c179e"
             ],
             [
              0.4444444444444444,
              "#bd3786"
             ],
             [
              0.5555555555555556,
              "#d8576b"
             ],
             [
              0.6666666666666666,
              "#ed7953"
             ],
             [
              0.7777777777777778,
              "#fb9f3a"
             ],
             [
              0.8888888888888888,
              "#fdca26"
             ],
             [
              1,
              "#f0f921"
             ]
            ],
            "type": "heatmapgl"
           }
          ],
          "histogram": [
           {
            "marker": {
             "colorbar": {
              "outlinewidth": 0,
              "ticks": ""
             }
            },
            "type": "histogram"
           }
          ],
          "histogram2d": [
           {
            "colorbar": {
             "outlinewidth": 0,
             "ticks": ""
            },
            "colorscale": [
             [
              0,
              "#0d0887"
             ],
             [
              0.1111111111111111,
              "#46039f"
             ],
             [
              0.2222222222222222,
              "#7201a8"
             ],
             [
              0.3333333333333333,
              "#9c179e"
             ],
             [
              0.4444444444444444,
              "#bd3786"
             ],
             [
              0.5555555555555556,
              "#d8576b"
             ],
             [
              0.6666666666666666,
              "#ed7953"
             ],
             [
              0.7777777777777778,
              "#fb9f3a"
             ],
             [
              0.8888888888888888,
              "#fdca26"
             ],
             [
              1,
              "#f0f921"
             ]
            ],
            "type": "histogram2d"
           }
          ],
          "histogram2dcontour": [
           {
            "colorbar": {
             "outlinewidth": 0,
             "ticks": ""
            },
            "colorscale": [
             [
              0,
              "#0d0887"
             ],
             [
              0.1111111111111111,
              "#46039f"
             ],
             [
              0.2222222222222222,
              "#7201a8"
             ],
             [
              0.3333333333333333,
              "#9c179e"
             ],
             [
              0.4444444444444444,
              "#bd3786"
             ],
             [
              0.5555555555555556,
              "#d8576b"
             ],
             [
              0.6666666666666666,
              "#ed7953"
             ],
             [
              0.7777777777777778,
              "#fb9f3a"
             ],
             [
              0.8888888888888888,
              "#fdca26"
             ],
             [
              1,
              "#f0f921"
             ]
            ],
            "type": "histogram2dcontour"
           }
          ],
          "mesh3d": [
           {
            "colorbar": {
             "outlinewidth": 0,
             "ticks": ""
            },
            "type": "mesh3d"
           }
          ],
          "parcoords": [
           {
            "line": {
             "colorbar": {
              "outlinewidth": 0,
              "ticks": ""
             }
            },
            "type": "parcoords"
           }
          ],
          "pie": [
           {
            "automargin": true,
            "type": "pie"
           }
          ],
          "scatter": [
           {
            "marker": {
             "colorbar": {
              "outlinewidth": 0,
              "ticks": ""
             }
            },
            "type": "scatter"
           }
          ],
          "scatter3d": [
           {
            "line": {
             "colorbar": {
              "outlinewidth": 0,
              "ticks": ""
             }
            },
            "marker": {
             "colorbar": {
              "outlinewidth": 0,
              "ticks": ""
             }
            },
            "type": "scatter3d"
           }
          ],
          "scattercarpet": [
           {
            "marker": {
             "colorbar": {
              "outlinewidth": 0,
              "ticks": ""
             }
            },
            "type": "scattercarpet"
           }
          ],
          "scattergeo": [
           {
            "marker": {
             "colorbar": {
              "outlinewidth": 0,
              "ticks": ""
             }
            },
            "type": "scattergeo"
           }
          ],
          "scattergl": [
           {
            "marker": {
             "colorbar": {
              "outlinewidth": 0,
              "ticks": ""
             }
            },
            "type": "scattergl"
           }
          ],
          "scattermapbox": [
           {
            "marker": {
             "colorbar": {
              "outlinewidth": 0,
              "ticks": ""
             }
            },
            "type": "scattermapbox"
           }
          ],
          "scatterpolar": [
           {
            "marker": {
             "colorbar": {
              "outlinewidth": 0,
              "ticks": ""
             }
            },
            "type": "scatterpolar"
           }
          ],
          "scatterpolargl": [
           {
            "marker": {
             "colorbar": {
              "outlinewidth": 0,
              "ticks": ""
             }
            },
            "type": "scatterpolargl"
           }
          ],
          "scatterternary": [
           {
            "marker": {
             "colorbar": {
              "outlinewidth": 0,
              "ticks": ""
             }
            },
            "type": "scatterternary"
           }
          ],
          "surface": [
           {
            "colorbar": {
             "outlinewidth": 0,
             "ticks": ""
            },
            "colorscale": [
             [
              0,
              "#0d0887"
             ],
             [
              0.1111111111111111,
              "#46039f"
             ],
             [
              0.2222222222222222,
              "#7201a8"
             ],
             [
              0.3333333333333333,
              "#9c179e"
             ],
             [
              0.4444444444444444,
              "#bd3786"
             ],
             [
              0.5555555555555556,
              "#d8576b"
             ],
             [
              0.6666666666666666,
              "#ed7953"
             ],
             [
              0.7777777777777778,
              "#fb9f3a"
             ],
             [
              0.8888888888888888,
              "#fdca26"
             ],
             [
              1,
              "#f0f921"
             ]
            ],
            "type": "surface"
           }
          ],
          "table": [
           {
            "cells": {
             "fill": {
              "color": "#EBF0F8"
             },
             "line": {
              "color": "white"
             }
            },
            "header": {
             "fill": {
              "color": "#C8D4E3"
             },
             "line": {
              "color": "white"
             }
            },
            "type": "table"
           }
          ]
         },
         "layout": {
          "annotationdefaults": {
           "arrowcolor": "#2a3f5f",
           "arrowhead": 0,
           "arrowwidth": 1
          },
          "coloraxis": {
           "colorbar": {
            "outlinewidth": 0,
            "ticks": ""
           }
          },
          "colorscale": {
           "diverging": [
            [
             0,
             "#8e0152"
            ],
            [
             0.1,
             "#c51b7d"
            ],
            [
             0.2,
             "#de77ae"
            ],
            [
             0.3,
             "#f1b6da"
            ],
            [
             0.4,
             "#fde0ef"
            ],
            [
             0.5,
             "#f7f7f7"
            ],
            [
             0.6,
             "#e6f5d0"
            ],
            [
             0.7,
             "#b8e186"
            ],
            [
             0.8,
             "#7fbc41"
            ],
            [
             0.9,
             "#4d9221"
            ],
            [
             1,
             "#276419"
            ]
           ],
           "sequential": [
            [
             0,
             "#0d0887"
            ],
            [
             0.1111111111111111,
             "#46039f"
            ],
            [
             0.2222222222222222,
             "#7201a8"
            ],
            [
             0.3333333333333333,
             "#9c179e"
            ],
            [
             0.4444444444444444,
             "#bd3786"
            ],
            [
             0.5555555555555556,
             "#d8576b"
            ],
            [
             0.6666666666666666,
             "#ed7953"
            ],
            [
             0.7777777777777778,
             "#fb9f3a"
            ],
            [
             0.8888888888888888,
             "#fdca26"
            ],
            [
             1,
             "#f0f921"
            ]
           ],
           "sequentialminus": [
            [
             0,
             "#0d0887"
            ],
            [
             0.1111111111111111,
             "#46039f"
            ],
            [
             0.2222222222222222,
             "#7201a8"
            ],
            [
             0.3333333333333333,
             "#9c179e"
            ],
            [
             0.4444444444444444,
             "#bd3786"
            ],
            [
             0.5555555555555556,
             "#d8576b"
            ],
            [
             0.6666666666666666,
             "#ed7953"
            ],
            [
             0.7777777777777778,
             "#fb9f3a"
            ],
            [
             0.8888888888888888,
             "#fdca26"
            ],
            [
             1,
             "#f0f921"
            ]
           ]
          },
          "colorway": [
           "#636efa",
           "#EF553B",
           "#00cc96",
           "#ab63fa",
           "#FFA15A",
           "#19d3f3",
           "#FF6692",
           "#B6E880",
           "#FF97FF",
           "#FECB52"
          ],
          "font": {
           "color": "#2a3f5f"
          },
          "geo": {
           "bgcolor": "white",
           "lakecolor": "white",
           "landcolor": "#E5ECF6",
           "showlakes": true,
           "showland": true,
           "subunitcolor": "white"
          },
          "hoverlabel": {
           "align": "left"
          },
          "hovermode": "closest",
          "mapbox": {
           "style": "light"
          },
          "paper_bgcolor": "white",
          "plot_bgcolor": "#E5ECF6",
          "polar": {
           "angularaxis": {
            "gridcolor": "white",
            "linecolor": "white",
            "ticks": ""
           },
           "bgcolor": "#E5ECF6",
           "radialaxis": {
            "gridcolor": "white",
            "linecolor": "white",
            "ticks": ""
           }
          },
          "scene": {
           "xaxis": {
            "backgroundcolor": "#E5ECF6",
            "gridcolor": "white",
            "gridwidth": 2,
            "linecolor": "white",
            "showbackground": true,
            "ticks": "",
            "zerolinecolor": "white"
           },
           "yaxis": {
            "backgroundcolor": "#E5ECF6",
            "gridcolor": "white",
            "gridwidth": 2,
            "linecolor": "white",
            "showbackground": true,
            "ticks": "",
            "zerolinecolor": "white"
           },
           "zaxis": {
            "backgroundcolor": "#E5ECF6",
            "gridcolor": "white",
            "gridwidth": 2,
            "linecolor": "white",
            "showbackground": true,
            "ticks": "",
            "zerolinecolor": "white"
           }
          },
          "shapedefaults": {
           "line": {
            "color": "#2a3f5f"
           }
          },
          "ternary": {
           "aaxis": {
            "gridcolor": "white",
            "linecolor": "white",
            "ticks": ""
           },
           "baxis": {
            "gridcolor": "white",
            "linecolor": "white",
            "ticks": ""
           },
           "bgcolor": "#E5ECF6",
           "caxis": {
            "gridcolor": "white",
            "linecolor": "white",
            "ticks": ""
           }
          },
          "title": {
           "x": 0.05
          },
          "xaxis": {
           "automargin": true,
           "gridcolor": "white",
           "linecolor": "white",
           "ticks": "",
           "title": {
            "standoff": 15
           },
           "zerolinecolor": "white",
           "zerolinewidth": 2
          },
          "yaxis": {
           "automargin": true,
           "gridcolor": "white",
           "linecolor": "white",
           "ticks": "",
           "title": {
            "standoff": 15
           },
           "zerolinecolor": "white",
           "zerolinewidth": 2
          }
         }
        },
        "title": {
         "text": "A Description of Columns in Dataframe"
        }
       }
      },
      "text/html": [
       "<div>\n",
       "        \n",
       "        \n",
       "            <div id=\"915cfc87-d4eb-4508-95de-596ae2915f5e\" class=\"plotly-graph-div\" style=\"height:500px; width:100%;\"></div>\n",
       "            <script type=\"text/javascript\">\n",
       "                require([\"plotly\"], function(Plotly) {\n",
       "                    window.PLOTLYENV=window.PLOTLYENV || {};\n",
       "                    \n",
       "                if (document.getElementById(\"915cfc87-d4eb-4508-95de-596ae2915f5e\")) {\n",
       "                    Plotly.newPlot(\n",
       "                        '915cfc87-d4eb-4508-95de-596ae2915f5e',\n",
       "                        [{\"cells\": {\"align\": [\"left\", \"left\"], \"fill\": {\"color\": [\"gold\", \"yellow\"]}, \"font\": {\"size\": 12}, \"height\": 30, \"line\": {\"color\": \"darkslategray\"}, \"values\": [[\"Title\", \"Genre(s)\", \"Developer(s)\", \"Publisher(s)\", \"Release date(Japan)\", \"Release date(NA)\", \"Release date(Australasia)\", \"Release date(Europe)\"], [\"A Title of the game\", \"A Genre of the game\", \"A Developer of the game\", \"A Publisher of the game\", \"A Release date for Japan\", \"A Release date for North America\", \"A Release date for Australasia\", \"A Release date for Europe\"]]}, \"columnwidth\": [200, 400], \"header\": {\"align\": [\"left\", \"center\"], \"fill\": {\"color\": \"goldenrod\"}, \"font\": {\"color\": \"white\", \"size\": 12}, \"height\": 40, \"line\": {\"color\": \"darkgoldenrod\"}, \"values\": [[\"<b>COLUMN NAME</b>\"], [\"<b>DESCRIPTION</b>\"]]}, \"type\": \"table\"}],\n",
       "                        {\"height\": 500, \"legend\": {\"x\": 1.1, \"y\": 1.3}, \"template\": {\"data\": {\"bar\": [{\"error_x\": {\"color\": \"#2a3f5f\"}, \"error_y\": {\"color\": \"#2a3f5f\"}, \"marker\": {\"line\": {\"color\": \"#E5ECF6\", \"width\": 0.5}}, \"type\": \"bar\"}], \"barpolar\": [{\"marker\": {\"line\": {\"color\": \"#E5ECF6\", \"width\": 0.5}}, \"type\": \"barpolar\"}], \"carpet\": [{\"aaxis\": {\"endlinecolor\": \"#2a3f5f\", \"gridcolor\": \"white\", \"linecolor\": \"white\", \"minorgridcolor\": \"white\", \"startlinecolor\": \"#2a3f5f\"}, \"baxis\": {\"endlinecolor\": \"#2a3f5f\", \"gridcolor\": \"white\", \"linecolor\": \"white\", \"minorgridcolor\": \"white\", \"startlinecolor\": \"#2a3f5f\"}, \"type\": \"carpet\"}], \"choropleth\": [{\"colorbar\": {\"outlinewidth\": 0, \"ticks\": \"\"}, \"type\": \"choropleth\"}], \"contour\": [{\"colorbar\": {\"outlinewidth\": 0, \"ticks\": \"\"}, \"colorscale\": [[0.0, \"#0d0887\"], [0.1111111111111111, \"#46039f\"], [0.2222222222222222, \"#7201a8\"], [0.3333333333333333, \"#9c179e\"], [0.4444444444444444, \"#bd3786\"], [0.5555555555555556, \"#d8576b\"], [0.6666666666666666, \"#ed7953\"], [0.7777777777777778, \"#fb9f3a\"], [0.8888888888888888, \"#fdca26\"], [1.0, \"#f0f921\"]], \"type\": \"contour\"}], \"contourcarpet\": [{\"colorbar\": {\"outlinewidth\": 0, \"ticks\": \"\"}, \"type\": \"contourcarpet\"}], \"heatmap\": [{\"colorbar\": {\"outlinewidth\": 0, \"ticks\": \"\"}, \"colorscale\": [[0.0, \"#0d0887\"], [0.1111111111111111, \"#46039f\"], [0.2222222222222222, \"#7201a8\"], [0.3333333333333333, \"#9c179e\"], [0.4444444444444444, \"#bd3786\"], [0.5555555555555556, \"#d8576b\"], [0.6666666666666666, \"#ed7953\"], [0.7777777777777778, \"#fb9f3a\"], [0.8888888888888888, \"#fdca26\"], [1.0, \"#f0f921\"]], \"type\": \"heatmap\"}], \"heatmapgl\": [{\"colorbar\": {\"outlinewidth\": 0, \"ticks\": \"\"}, \"colorscale\": [[0.0, \"#0d0887\"], [0.1111111111111111, \"#46039f\"], [0.2222222222222222, \"#7201a8\"], [0.3333333333333333, \"#9c179e\"], [0.4444444444444444, \"#bd3786\"], [0.5555555555555556, \"#d8576b\"], [0.6666666666666666, \"#ed7953\"], [0.7777777777777778, \"#fb9f3a\"], [0.8888888888888888, \"#fdca26\"], [1.0, \"#f0f921\"]], \"type\": \"heatmapgl\"}], \"histogram\": [{\"marker\": {\"colorbar\": {\"outlinewidth\": 0, \"ticks\": \"\"}}, \"type\": \"histogram\"}], \"histogram2d\": [{\"colorbar\": {\"outlinewidth\": 0, \"ticks\": \"\"}, \"colorscale\": [[0.0, \"#0d0887\"], [0.1111111111111111, \"#46039f\"], [0.2222222222222222, \"#7201a8\"], [0.3333333333333333, \"#9c179e\"], [0.4444444444444444, \"#bd3786\"], [0.5555555555555556, \"#d8576b\"], [0.6666666666666666, \"#ed7953\"], [0.7777777777777778, \"#fb9f3a\"], [0.8888888888888888, \"#fdca26\"], [1.0, \"#f0f921\"]], \"type\": \"histogram2d\"}], \"histogram2dcontour\": [{\"colorbar\": {\"outlinewidth\": 0, \"ticks\": \"\"}, \"colorscale\": [[0.0, \"#0d0887\"], [0.1111111111111111, \"#46039f\"], [0.2222222222222222, \"#7201a8\"], [0.3333333333333333, \"#9c179e\"], [0.4444444444444444, \"#bd3786\"], [0.5555555555555556, \"#d8576b\"], [0.6666666666666666, \"#ed7953\"], [0.7777777777777778, \"#fb9f3a\"], [0.8888888888888888, \"#fdca26\"], [1.0, \"#f0f921\"]], \"type\": \"histogram2dcontour\"}], \"mesh3d\": [{\"colorbar\": {\"outlinewidth\": 0, \"ticks\": \"\"}, \"type\": \"mesh3d\"}], \"parcoords\": [{\"line\": {\"colorbar\": {\"outlinewidth\": 0, \"ticks\": \"\"}}, \"type\": \"parcoords\"}], \"pie\": [{\"automargin\": true, \"type\": \"pie\"}], \"scatter\": [{\"marker\": {\"colorbar\": {\"outlinewidth\": 0, \"ticks\": \"\"}}, \"type\": \"scatter\"}], \"scatter3d\": [{\"line\": {\"colorbar\": {\"outlinewidth\": 0, \"ticks\": \"\"}}, \"marker\": {\"colorbar\": {\"outlinewidth\": 0, \"ticks\": \"\"}}, \"type\": \"scatter3d\"}], \"scattercarpet\": [{\"marker\": {\"colorbar\": {\"outlinewidth\": 0, \"ticks\": \"\"}}, \"type\": \"scattercarpet\"}], \"scattergeo\": [{\"marker\": {\"colorbar\": {\"outlinewidth\": 0, \"ticks\": \"\"}}, \"type\": \"scattergeo\"}], \"scattergl\": [{\"marker\": {\"colorbar\": {\"outlinewidth\": 0, \"ticks\": \"\"}}, \"type\": \"scattergl\"}], \"scattermapbox\": [{\"marker\": {\"colorbar\": {\"outlinewidth\": 0, \"ticks\": \"\"}}, \"type\": \"scattermapbox\"}], \"scatterpolar\": [{\"marker\": {\"colorbar\": {\"outlinewidth\": 0, \"ticks\": \"\"}}, \"type\": \"scatterpolar\"}], \"scatterpolargl\": [{\"marker\": {\"colorbar\": {\"outlinewidth\": 0, \"ticks\": \"\"}}, \"type\": \"scatterpolargl\"}], \"scatterternary\": [{\"marker\": {\"colorbar\": {\"outlinewidth\": 0, \"ticks\": \"\"}}, \"type\": \"scatterternary\"}], \"surface\": [{\"colorbar\": {\"outlinewidth\": 0, \"ticks\": \"\"}, \"colorscale\": [[0.0, \"#0d0887\"], [0.1111111111111111, \"#46039f\"], [0.2222222222222222, \"#7201a8\"], [0.3333333333333333, \"#9c179e\"], [0.4444444444444444, \"#bd3786\"], [0.5555555555555556, \"#d8576b\"], [0.6666666666666666, \"#ed7953\"], [0.7777777777777778, \"#fb9f3a\"], [0.8888888888888888, \"#fdca26\"], [1.0, \"#f0f921\"]], \"type\": \"surface\"}], \"table\": [{\"cells\": {\"fill\": {\"color\": \"#EBF0F8\"}, \"line\": {\"color\": \"white\"}}, \"header\": {\"fill\": {\"color\": \"#C8D4E3\"}, \"line\": {\"color\": \"white\"}}, \"type\": \"table\"}]}, \"layout\": {\"annotationdefaults\": {\"arrowcolor\": \"#2a3f5f\", \"arrowhead\": 0, \"arrowwidth\": 1}, \"coloraxis\": {\"colorbar\": {\"outlinewidth\": 0, \"ticks\": \"\"}}, \"colorscale\": {\"diverging\": [[0, \"#8e0152\"], [0.1, \"#c51b7d\"], [0.2, \"#de77ae\"], [0.3, \"#f1b6da\"], [0.4, \"#fde0ef\"], [0.5, \"#f7f7f7\"], [0.6, \"#e6f5d0\"], [0.7, \"#b8e186\"], [0.8, \"#7fbc41\"], [0.9, \"#4d9221\"], [1, \"#276419\"]], \"sequential\": [[0.0, \"#0d0887\"], [0.1111111111111111, \"#46039f\"], [0.2222222222222222, \"#7201a8\"], [0.3333333333333333, \"#9c179e\"], [0.4444444444444444, \"#bd3786\"], [0.5555555555555556, \"#d8576b\"], [0.6666666666666666, \"#ed7953\"], [0.7777777777777778, \"#fb9f3a\"], [0.8888888888888888, \"#fdca26\"], [1.0, \"#f0f921\"]], \"sequentialminus\": [[0.0, \"#0d0887\"], [0.1111111111111111, \"#46039f\"], [0.2222222222222222, \"#7201a8\"], [0.3333333333333333, \"#9c179e\"], [0.4444444444444444, \"#bd3786\"], [0.5555555555555556, \"#d8576b\"], [0.6666666666666666, \"#ed7953\"], [0.7777777777777778, \"#fb9f3a\"], [0.8888888888888888, \"#fdca26\"], [1.0, \"#f0f921\"]]}, \"colorway\": [\"#636efa\", \"#EF553B\", \"#00cc96\", \"#ab63fa\", \"#FFA15A\", \"#19d3f3\", \"#FF6692\", \"#B6E880\", \"#FF97FF\", \"#FECB52\"], \"font\": {\"color\": \"#2a3f5f\"}, \"geo\": {\"bgcolor\": \"white\", \"lakecolor\": \"white\", \"landcolor\": \"#E5ECF6\", \"showlakes\": true, \"showland\": true, \"subunitcolor\": \"white\"}, \"hoverlabel\": {\"align\": \"left\"}, \"hovermode\": \"closest\", \"mapbox\": {\"style\": \"light\"}, \"paper_bgcolor\": \"white\", \"plot_bgcolor\": \"#E5ECF6\", \"polar\": {\"angularaxis\": {\"gridcolor\": \"white\", \"linecolor\": \"white\", \"ticks\": \"\"}, \"bgcolor\": \"#E5ECF6\", \"radialaxis\": {\"gridcolor\": \"white\", \"linecolor\": \"white\", \"ticks\": \"\"}}, \"scene\": {\"xaxis\": {\"backgroundcolor\": \"#E5ECF6\", \"gridcolor\": \"white\", \"gridwidth\": 2, \"linecolor\": \"white\", \"showbackground\": true, \"ticks\": \"\", \"zerolinecolor\": \"white\"}, \"yaxis\": {\"backgroundcolor\": \"#E5ECF6\", \"gridcolor\": \"white\", \"gridwidth\": 2, \"linecolor\": \"white\", \"showbackground\": true, \"ticks\": \"\", \"zerolinecolor\": \"white\"}, \"zaxis\": {\"backgroundcolor\": \"#E5ECF6\", \"gridcolor\": \"white\", \"gridwidth\": 2, \"linecolor\": \"white\", \"showbackground\": true, \"ticks\": \"\", \"zerolinecolor\": \"white\"}}, \"shapedefaults\": {\"line\": {\"color\": \"#2a3f5f\"}}, \"ternary\": {\"aaxis\": {\"gridcolor\": \"white\", \"linecolor\": \"white\", \"ticks\": \"\"}, \"baxis\": {\"gridcolor\": \"white\", \"linecolor\": \"white\", \"ticks\": \"\"}, \"bgcolor\": \"#E5ECF6\", \"caxis\": {\"gridcolor\": \"white\", \"linecolor\": \"white\", \"ticks\": \"\"}}, \"title\": {\"x\": 0.05}, \"xaxis\": {\"automargin\": true, \"gridcolor\": \"white\", \"linecolor\": \"white\", \"ticks\": \"\", \"title\": {\"standoff\": 15}, \"zerolinecolor\": \"white\", \"zerolinewidth\": 2}, \"yaxis\": {\"automargin\": true, \"gridcolor\": \"white\", \"linecolor\": \"white\", \"ticks\": \"\", \"title\": {\"standoff\": 15}, \"zerolinecolor\": \"white\", \"zerolinewidth\": 2}}}, \"title\": {\"text\": \"A Description of Columns in Dataframe\"}},\n",
       "                        {\"responsive\": true}\n",
       "                    ).then(function(){\n",
       "                            \n",
       "var gd = document.getElementById('915cfc87-d4eb-4508-95de-596ae2915f5e');\n",
       "var x = new MutationObserver(function (mutations, observer) {{\n",
       "        var display = window.getComputedStyle(gd).display;\n",
       "        if (!display || display === 'none') {{\n",
       "            console.log([gd, 'removed!']);\n",
       "            Plotly.purge(gd);\n",
       "            observer.disconnect();\n",
       "        }}\n",
       "}});\n",
       "\n",
       "// Listen for the removal of the full notebook cells\n",
       "var notebookContainer = gd.closest('#notebook-container');\n",
       "if (notebookContainer) {{\n",
       "    x.observe(notebookContainer, {childList: true});\n",
       "}}\n",
       "\n",
       "// Listen for the clearing of the current output cell\n",
       "var outputEl = gd.closest('.output');\n",
       "if (outputEl) {{\n",
       "    x.observe(outputEl, {childList: true});\n",
       "}}\n",
       "\n",
       "                        })\n",
       "                };\n",
       "                });\n",
       "            </script>\n",
       "        </div>"
      ]
     },
     "metadata": {},
     "output_type": "display_data"
    }
   ],
   "source": [
    "values = [\n",
    "  ['Title', \n",
    "   'Genre(s)', \n",
    "   'Developer(s)',\n",
    "   'Publisher(s)',\n",
    "   'Release date(Japan)',\n",
    "   'Release date(NA)',\n",
    "   'Release date(Australasia)',\n",
    "   'Release date(Europe)',\n",
    "  ],  #1st col\n",
    "  [\"A Title of the game\", \n",
    "   \"A Genre of the game\",\n",
    "   \"A Developer of the game\",  \n",
    "   \"A Publisher of the game\",\n",
    "   \"A Release date for Japan\",\n",
    "   \"A Release date for North America\",\n",
    "   \"A Release date for Australasia\",\n",
    "   \"A Release date for Europe\",\n",
    "  ] #2nd col\n",
    "] \n",
    "\n",
    "layout = go.Layout(title=\"A Description of Columns in Dataframe\", \n",
    "                   height=500, \n",
    "                   legend=dict(x=1.1, y=1.3)\n",
    "                  )\n",
    "\n",
    "fig = go.Figure(data=[go.Table(\n",
    "  columnwidth = [200,400],\n",
    "  header = dict(\n",
    "    values = [['<b>COLUMN NAME</b>'],\n",
    "              ['<b>DESCRIPTION</b>']\n",
    "             ],\n",
    "    line_color='darkgoldenrod',\n",
    "    fill_color='goldenrod',\n",
    "    align=['left','center'],\n",
    "    font=dict(color='white', size=12),\n",
    "    height=40\n",
    "  ),\n",
    "  cells=dict(\n",
    "    values=values,\n",
    "    line_color='darkslategray',\n",
    "    fill=dict(color=['gold', 'yellow']),\n",
    "    align=['left', 'left'],\n",
    "    font_size=12,\n",
    "    height=30)\n",
    "    )\n",
    "], layout = layout)\n",
    "pio.write_image(fig, \"images/image1.png\")\n",
    "fig.show()"
   ]
  },
  {
   "cell_type": "markdown",
   "metadata": {},
   "source": [
    "<a id='part3'></a>\n",
    "## 3. Data Wrangling"
   ]
  },
  {
   "cell_type": "markdown",
   "metadata": {},
   "source": [
    "<a id='part3-1'></a>\n",
    "### 3.1 Defining new dataframes not containing \"Unreleased\" of each Release date"
   ]
  },
  {
   "cell_type": "code",
   "execution_count": 93,
   "metadata": {},
   "outputs": [],
   "source": [
    "wii_df_japan = wii_df[wii_df[\"Release date(Japan)\"] != \"Unreleased\"]\n",
    "wii_df_na = wii_df[wii_df[\"Release date(NA)\"] != \"Unreleased\"]\n",
    "wii_df_australasia = wii_df[wii_df[\"Release date(Australasia)\"] != \"Unreleased\"]\n",
    "wii_df_europe = wii_df[wii_df[\"Release date(Europe)\"] != \"Unreleased\"]"
   ]
  },
  {
   "cell_type": "markdown",
   "metadata": {},
   "source": [
    "<a id='part3-2'></a>\n",
    "### 3.2 Removing nan values from Release date in each dataframe"
   ]
  },
  {
   "cell_type": "code",
   "execution_count": 94,
   "metadata": {},
   "outputs": [],
   "source": [
    "wii_df_japan.dropna(subset = ['Release date(Europe)'],inplace=True)\n",
    "wii_df_na.dropna(subset = ['Release date(Europe)'],inplace=True)\n",
    "wii_df_australasia.dropna(subset = ['Release date(Europe)'],inplace=True)\n",
    "wii_df_europe.dropna(subset = ['Release date(Europe)'],inplace=True)"
   ]
  },
  {
   "cell_type": "markdown",
   "metadata": {},
   "source": [
    "<a id='part3-3'></a>\n",
    "### 3.3 Seperate month and year from Release date Column of each dataframe"
   ]
  },
  {
   "cell_type": "code",
   "execution_count": 95,
   "metadata": {},
   "outputs": [],
   "source": [
    "def defineDate(df,column_name):\n",
    "    df[column_name] = pd.to_datetime(df[column_name],utc=True)\n",
    "    df[column_name] = df[column_name].dt.strftime('%d-%m-%Y')"
   ]
  },
  {
   "cell_type": "code",
   "execution_count": 96,
   "metadata": {},
   "outputs": [],
   "source": [
    "def seperateMonthAndDate(df,column_name):\n",
    "    df['Month'] = df[column_name].apply(lambda x : x.split('-')[1])\n",
    "    df['Year'] = df[column_name].apply(lambda x : x.lstrip().split('-')[-1])"
   ]
  },
  {
   "cell_type": "code",
   "execution_count": 97,
   "metadata": {},
   "outputs": [],
   "source": [
    "def convertdatetime(defined_list):    \n",
    "    sample_list = []\n",
    "    for date in defined_list:\n",
    "        month = \"\"\n",
    "        if(date in \"01\"):\n",
    "            month = \"January\"\n",
    "        if(date in \"02\"):\n",
    "            month = \"February\"\n",
    "        if(date in \"03\"):\n",
    "            month = \"March\"\n",
    "        if(date in \"04\"):\n",
    "            month = \"April\"\n",
    "        if(date in \"05\"):\n",
    "            month = \"May\"\n",
    "        if(date in \"06\"):\n",
    "            month = \"June\"\n",
    "        if(date in \"07\"):\n",
    "            month = \"July\"\n",
    "        if(date in \"08\"):\n",
    "            month = \"August\"\n",
    "        if(date in \"09\"):\n",
    "            month = \"September\"\n",
    "        if(date in \"10\"):\n",
    "            month = \"October\"\n",
    "        if(date in \"11\"):\n",
    "            month = \"November\"\n",
    "        if(date in \"12\"):\n",
    "            month = \"December\"\n",
    "        sample_list.append(str(month))    \n",
    "    return sample_list"
   ]
  },
  {
   "cell_type": "code",
   "execution_count": 98,
   "metadata": {},
   "outputs": [],
   "source": [
    "defineDate(wii_df_japan,\"Release date(Japan)\")\n",
    "defineDate(wii_df_na,\"Release date(NA)\")\n",
    "defineDate(wii_df_australasia,\"Release date(Australasia)\")\n",
    "defineDate(wii_df_europe,\"Release date(Europe)\")\n",
    "\n",
    "\n",
    "seperateMonthAndDate(wii_df_japan,\"Release date(Japan)\")\n",
    "seperateMonthAndDate(wii_df_na,\"Release date(NA)\")\n",
    "seperateMonthAndDate(wii_df_australasia,\"Release date(Australasia)\")\n",
    "seperateMonthAndDate(wii_df_europe,\"Release date(Europe)\")\n",
    "\n",
    "\n",
    "date_of_month_list_wii_japan = wii_df_japan['Month'].to_list()\n",
    "date_of_month_list_wii_na = wii_df_na['Month'].to_list()\n",
    "date_of_month_list_wii_australasia = wii_df_australasia['Month'].to_list()\n",
    "date_of_month_list_wii_europe = wii_df_europe['Month'].to_list()\n",
    "\n",
    "month_list_japan = convertdatetime(date_of_month_list_wii_japan)\n",
    "month_list_na = convertdatetime(date_of_month_list_wii_na)\n",
    "month_list_australasia = convertdatetime(date_of_month_list_wii_australasia)\n",
    "month_list_europe = convertdatetime(date_of_month_list_wii_europe)\n",
    "\n",
    "wii_df_japan['Month'] = month_list_japan\n",
    "wii_df_na['Month'] = month_list_na\n",
    "wii_df_australasia['Month'] = month_list_australasia\n",
    "wii_df_europe['Month'] = month_list_europe"
   ]
  },
  {
   "cell_type": "markdown",
   "metadata": {},
   "source": [
    "<a id='part3-4'></a>\n",
    "### 3.4 Create new 3 dataframe for pie graph by genre, developer and publisher in wii dataframe"
   ]
  },
  {
   "cell_type": "code",
   "execution_count": 99,
   "metadata": {},
   "outputs": [
    {
     "data": {
      "text/html": [
       "<div>\n",
       "<style scoped>\n",
       "    .dataframe tbody tr th:only-of-type {\n",
       "        vertical-align: middle;\n",
       "    }\n",
       "\n",
       "    .dataframe tbody tr th {\n",
       "        vertical-align: top;\n",
       "    }\n",
       "\n",
       "    .dataframe thead th {\n",
       "        text-align: right;\n",
       "    }\n",
       "</style>\n",
       "<table border=\"1\" class=\"dataframe\">\n",
       "  <thead>\n",
       "    <tr style=\"text-align: right;\">\n",
       "      <th></th>\n",
       "      <th>Genre(s)</th>\n",
       "      <th>count</th>\n",
       "    </tr>\n",
       "  </thead>\n",
       "  <tbody>\n",
       "    <tr>\n",
       "      <th>0</th>\n",
       "      <td>Puzzle</td>\n",
       "      <td>69</td>\n",
       "    </tr>\n",
       "    <tr>\n",
       "      <th>1</th>\n",
       "      <td>Action</td>\n",
       "      <td>56</td>\n",
       "    </tr>\n",
       "    <tr>\n",
       "      <th>2</th>\n",
       "      <td>Platform</td>\n",
       "      <td>49</td>\n",
       "    </tr>\n",
       "    <tr>\n",
       "      <th>3</th>\n",
       "      <td>Action-adventure</td>\n",
       "      <td>37</td>\n",
       "    </tr>\n",
       "    <tr>\n",
       "      <th>4</th>\n",
       "      <td>Party</td>\n",
       "      <td>32</td>\n",
       "    </tr>\n",
       "    <tr>\n",
       "      <th>5</th>\n",
       "      <td>Arcade</td>\n",
       "      <td>24</td>\n",
       "    </tr>\n",
       "    <tr>\n",
       "      <th>6</th>\n",
       "      <td>Actionadventure</td>\n",
       "      <td>24</td>\n",
       "    </tr>\n",
       "    <tr>\n",
       "      <th>7</th>\n",
       "      <td>Racing</td>\n",
       "      <td>20</td>\n",
       "    </tr>\n",
       "    <tr>\n",
       "      <th>8</th>\n",
       "      <td>Sports</td>\n",
       "      <td>19</td>\n",
       "    </tr>\n",
       "    <tr>\n",
       "      <th>9</th>\n",
       "      <td>Puzzlestrategy</td>\n",
       "      <td>17</td>\n",
       "    </tr>\n",
       "    <tr>\n",
       "      <th>10</th>\n",
       "      <td>others</td>\n",
       "      <td>434</td>\n",
       "    </tr>\n",
       "  </tbody>\n",
       "</table>\n",
       "</div>"
      ],
      "text/plain": [
       "            Genre(s)  count\n",
       "0             Puzzle     69\n",
       "1             Action     56\n",
       "2           Platform     49\n",
       "3   Action-adventure     37\n",
       "4              Party     32\n",
       "5             Arcade     24\n",
       "6    Actionadventure     24\n",
       "7             Racing     20\n",
       "8             Sports     19\n",
       "9     Puzzlestrategy     17\n",
       "10            others    434"
      ]
     },
     "execution_count": 99,
     "metadata": {},
     "output_type": "execute_result"
    }
   ],
   "source": [
    "wii_df_genre = pd.DataFrame({'count' : wii_df.groupby(['Genre(s)']).size()}).reset_index()\n",
    "wii_df_genre = wii_df_genre.sort_values(['count'], ascending = False)\n",
    "\n",
    "df2 = wii_df_genre[:10].copy()\n",
    "\n",
    "new_row = pd.DataFrame(data = {\n",
    "    'Genre(s)' : ['others'],\n",
    "    'count' : [wii_df_genre['count'][10:].sum()]\n",
    "})\n",
    "\n",
    "\n",
    "wii_df_genre_top_10_others = pd.concat([df2, new_row])\n",
    "wii_df_genre_top_10_others = wii_df_genre_top_10_others.reset_index(drop=True)\n",
    "wii_df_genre_top_10_others"
   ]
  },
  {
   "cell_type": "code",
   "execution_count": 100,
   "metadata": {},
   "outputs": [
    {
     "data": {
      "text/html": [
       "<div>\n",
       "<style scoped>\n",
       "    .dataframe tbody tr th:only-of-type {\n",
       "        vertical-align: middle;\n",
       "    }\n",
       "\n",
       "    .dataframe tbody tr th {\n",
       "        vertical-align: top;\n",
       "    }\n",
       "\n",
       "    .dataframe thead th {\n",
       "        text-align: right;\n",
       "    }\n",
       "</style>\n",
       "<table border=\"1\" class=\"dataframe\">\n",
       "  <thead>\n",
       "    <tr style=\"text-align: right;\">\n",
       "      <th></th>\n",
       "      <th>Developer(s)</th>\n",
       "      <th>count</th>\n",
       "    </tr>\n",
       "  </thead>\n",
       "  <tbody>\n",
       "    <tr>\n",
       "      <th>0</th>\n",
       "      <td>RCMADIAX</td>\n",
       "      <td>36</td>\n",
       "    </tr>\n",
       "    <tr>\n",
       "      <th>1</th>\n",
       "      <td>Skunk Software</td>\n",
       "      <td>15</td>\n",
       "    </tr>\n",
       "    <tr>\n",
       "      <th>2</th>\n",
       "      <td>Capcom</td>\n",
       "      <td>10</td>\n",
       "    </tr>\n",
       "    <tr>\n",
       "      <th>3</th>\n",
       "      <td>EnjoyUp Games</td>\n",
       "      <td>10</td>\n",
       "    </tr>\n",
       "    <tr>\n",
       "      <th>4</th>\n",
       "      <td>nuGAME</td>\n",
       "      <td>10</td>\n",
       "    </tr>\n",
       "    <tr>\n",
       "      <th>5</th>\n",
       "      <td>Cypronia</td>\n",
       "      <td>9</td>\n",
       "    </tr>\n",
       "    <tr>\n",
       "      <th>6</th>\n",
       "      <td>Nintendo EAD</td>\n",
       "      <td>9</td>\n",
       "    </tr>\n",
       "    <tr>\n",
       "      <th>7</th>\n",
       "      <td>RandomSpin</td>\n",
       "      <td>9</td>\n",
       "    </tr>\n",
       "    <tr>\n",
       "      <th>8</th>\n",
       "      <td>Nintendo</td>\n",
       "      <td>8</td>\n",
       "    </tr>\n",
       "    <tr>\n",
       "      <th>9</th>\n",
       "      <td>Joindots</td>\n",
       "      <td>7</td>\n",
       "    </tr>\n",
       "    <tr>\n",
       "      <th>10</th>\n",
       "      <td>others</td>\n",
       "      <td>658</td>\n",
       "    </tr>\n",
       "  </tbody>\n",
       "</table>\n",
       "</div>"
      ],
      "text/plain": [
       "      Developer(s)  count\n",
       "0         RCMADIAX     36\n",
       "1   Skunk Software     15\n",
       "2           Capcom     10\n",
       "3    EnjoyUp Games     10\n",
       "4           nuGAME     10\n",
       "5         Cypronia      9\n",
       "6     Nintendo EAD      9\n",
       "7       RandomSpin      9\n",
       "8         Nintendo      8\n",
       "9         Joindots      7\n",
       "10          others    658"
      ]
     },
     "execution_count": 100,
     "metadata": {},
     "output_type": "execute_result"
    }
   ],
   "source": [
    "wii_df_developer = pd.DataFrame({'count' : wii_df.groupby(['Developer(s)']).size()}).reset_index()\n",
    "wii_df_developer = wii_df_developer.sort_values(['count'], ascending = False)\n",
    "\n",
    "df2 = wii_df_developer[:10].copy()\n",
    "\n",
    "new_row = pd.DataFrame(data = {\n",
    "    'Developer(s)' : ['others'],\n",
    "    'count' : [wii_df_developer['count'][10:].sum()]\n",
    "})\n",
    "\n",
    "\n",
    "wii_df_developer_top_10_others = pd.concat([df2, new_row])\n",
    "wii_df_developer_top_10_others = wii_df_developer_top_10_others.reset_index(drop=True)\n",
    "wii_df_developer_top_10_others"
   ]
  },
  {
   "cell_type": "code",
   "execution_count": 101,
   "metadata": {},
   "outputs": [
    {
     "data": {
      "text/html": [
       "<div>\n",
       "<style scoped>\n",
       "    .dataframe tbody tr th:only-of-type {\n",
       "        vertical-align: middle;\n",
       "    }\n",
       "\n",
       "    .dataframe tbody tr th {\n",
       "        vertical-align: top;\n",
       "    }\n",
       "\n",
       "    .dataframe thead th {\n",
       "        text-align: right;\n",
       "    }\n",
       "</style>\n",
       "<table border=\"1\" class=\"dataframe\">\n",
       "  <thead>\n",
       "    <tr style=\"text-align: right;\">\n",
       "      <th></th>\n",
       "      <th>Publisher(s)</th>\n",
       "      <th>count</th>\n",
       "    </tr>\n",
       "  </thead>\n",
       "  <tbody>\n",
       "    <tr>\n",
       "      <th>0</th>\n",
       "      <td>Nintendo</td>\n",
       "      <td>54</td>\n",
       "    </tr>\n",
       "    <tr>\n",
       "      <th>1</th>\n",
       "      <td>RCMADIAX</td>\n",
       "      <td>33</td>\n",
       "    </tr>\n",
       "    <tr>\n",
       "      <th>2</th>\n",
       "      <td>Activision</td>\n",
       "      <td>22</td>\n",
       "    </tr>\n",
       "    <tr>\n",
       "      <th>3</th>\n",
       "      <td>Ubisoft</td>\n",
       "      <td>22</td>\n",
       "    </tr>\n",
       "    <tr>\n",
       "      <th>4</th>\n",
       "      <td>EnjoyUp Games</td>\n",
       "      <td>15</td>\n",
       "    </tr>\n",
       "    <tr>\n",
       "      <th>5</th>\n",
       "      <td>Warner Bros. Interactive Entertainment</td>\n",
       "      <td>14</td>\n",
       "    </tr>\n",
       "    <tr>\n",
       "      <th>6</th>\n",
       "      <td>Skunk Software</td>\n",
       "      <td>14</td>\n",
       "    </tr>\n",
       "    <tr>\n",
       "      <th>7</th>\n",
       "      <td>Capcom</td>\n",
       "      <td>13</td>\n",
       "    </tr>\n",
       "    <tr>\n",
       "      <th>8</th>\n",
       "      <td>RandomSpin</td>\n",
       "      <td>11</td>\n",
       "    </tr>\n",
       "    <tr>\n",
       "      <th>9</th>\n",
       "      <td>Joindots</td>\n",
       "      <td>10</td>\n",
       "    </tr>\n",
       "    <tr>\n",
       "      <th>10</th>\n",
       "      <td>others</td>\n",
       "      <td>573</td>\n",
       "    </tr>\n",
       "  </tbody>\n",
       "</table>\n",
       "</div>"
      ],
      "text/plain": [
       "                              Publisher(s)  count\n",
       "0                                 Nintendo     54\n",
       "1                                 RCMADIAX     33\n",
       "2                               Activision     22\n",
       "3                                  Ubisoft     22\n",
       "4                            EnjoyUp Games     15\n",
       "5   Warner Bros. Interactive Entertainment     14\n",
       "6                           Skunk Software     14\n",
       "7                                   Capcom     13\n",
       "8                               RandomSpin     11\n",
       "9                                 Joindots     10\n",
       "10                                  others    573"
      ]
     },
     "execution_count": 101,
     "metadata": {},
     "output_type": "execute_result"
    }
   ],
   "source": [
    "wii_df_publisher = pd.DataFrame({'count' : wii_df.groupby(['Publisher(s)']).size()}).reset_index()\n",
    "wii_df_publisher = wii_df_publisher.sort_values(['count'], ascending = False)\n",
    "\n",
    "df2 = wii_df_publisher[:10].copy()\n",
    "\n",
    "new_row = pd.DataFrame(data = {\n",
    "    'Publisher(s)' : ['others'],\n",
    "    'count' : [wii_df_publisher['count'][10:].sum()]\n",
    "})\n",
    "\n",
    "\n",
    "wii_df_publisher_top_10_others = pd.concat([df2, new_row])\n",
    "wii_df_publisher_top_10_others = wii_df_publisher_top_10_others.reset_index(drop=True)\n",
    "wii_df_publisher_top_10_others"
   ]
  },
  {
   "cell_type": "markdown",
   "metadata": {},
   "source": [
    "<a id='part4'></a>\n",
    "## 4. Data Visualization"
   ]
  },
  {
   "cell_type": "markdown",
   "metadata": {},
   "source": [
    "<a id='part4-1'></a>\n",
    "### 4.1 Define a Time period showing released games by Japan"
   ]
  },
  {
   "cell_type": "code",
   "execution_count": 102,
   "metadata": {},
   "outputs": [
    {
     "data": {
      "image/png": "[encoded data removed]",
      "text/plain": [
       "<Figure size 1296x504 with 2 Axes>"
      ]
     },
     "metadata": {},
     "output_type": "display_data"
    }
   ],
   "source": [
    "plt.figure(figsize=(18, 7))\n",
    "wii_df_japan.reset_index(inplace = True)\n",
    "wii_df_japan['Month'] = pd.Categorical(wii_df_japan['Month'], \n",
    "                                                categories=['January', 'February', 'March', 'April', 'May','June', 'July', 'August', 'September', 'October', 'November', 'December'], \n",
    "                                                ordered=True)\n",
    "\n",
    "wii_df_japan_timeline = wii_df_japan.groupby([\"Year\", \"Month\"])[\"index\"].size().reset_index()\n",
    "wii_df_japan_timeline = wii_df_japan_timeline.pivot(\"Month\", \"Year\", \"index\")\n",
    "sns.heatmap(wii_df_japan_timeline, cmap=\"spring\", linewidths=1 ,xticklabels=True, yticklabels=True,annot = True)\n",
    "\n",
    "plt.title(\"Time Period of Released Wii Games in Japan\", y=1, fontsize=20)\n",
    "plt.xlabel('Year')\n",
    "plt.ylabel('Month')\n",
    "plt.savefig('images/image2.png', bbox_inches = \"tight\")\n",
    "plt.tight_layout()\n",
    "plt.show()"
   ]
  },
  {
   "cell_type": "markdown",
   "metadata": {},
   "source": [
    "<a id='part4-2'></a>\n",
    "### 4.2 Define a Time period showing released games by North America"
   ]
  },
  {
   "cell_type": "code",
   "execution_count": 103,
   "metadata": {},
   "outputs": [
    {
     "data": {
      "image/png": "[encoded data removed]",
      "text/plain": [
       "<Figure size 1296x504 with 2 Axes>"
      ]
     },
     "metadata": {},
     "output_type": "display_data"
    }
   ],
   "source": [
    "plt.figure(figsize=(18, 7))\n",
    "wii_df_na.reset_index(inplace = True)\n",
    "wii_df_na['Month'] = pd.Categorical(wii_df_na['Month'], \n",
    "                                                categories=['January', 'February', 'March', 'April', 'May','June', 'July', 'August', 'September', 'October', 'November', 'December'], \n",
    "                                                ordered=True)\n",
    "\n",
    "wii_df_na_timeline = wii_df_na.groupby([\"Year\", \"Month\"])[\"index\"].size().reset_index()\n",
    "wii_df_na_timeline = wii_df_na_timeline.pivot(\"Month\", \"Year\", \"index\")\n",
    "sns.heatmap(wii_df_na_timeline, cmap=\"summer\", linewidths=1 ,xticklabels=True, yticklabels=True,annot = True)\n",
    "\n",
    "plt.title(\"Time Period of Released Wii Games in North America\", y=1, fontsize=20)\n",
    "plt.xlabel('Year')\n",
    "plt.ylabel('Month')\n",
    "plt.savefig('images/image3.png', bbox_inches = \"tight\")\n",
    "plt.tight_layout()\n",
    "plt.show()"
   ]
  },
  {
   "cell_type": "markdown",
   "metadata": {},
   "source": [
    "<a id='part4-3'></a>\n",
    "### 4.3 Define a Time period showing released games by Australasia"
   ]
  },
  {
   "cell_type": "code",
   "execution_count": 104,
   "metadata": {},
   "outputs": [
    {
     "data": {
      "image/png": "[encoded data removed]",
      "text/plain": [
       "<Figure size 1296x504 with 2 Axes>"
      ]
     },
     "metadata": {},
     "output_type": "display_data"
    }
   ],
   "source": [
    "plt.figure(figsize=(18, 7))\n",
    "wii_df_australasia.reset_index(inplace = True)\n",
    "wii_df_australasia['Month'] = pd.Categorical(wii_df_australasia['Month'], \n",
    "                                                categories=['January', 'February', 'March', 'April', 'May','June', 'July', 'August', 'September', 'October', 'November', 'December'], \n",
    "                                                ordered=True)\n",
    "\n",
    "wii_df_australasia_timeline = wii_df_australasia.groupby([\"Year\", \"Month\"])[\"index\"].size().reset_index()\n",
    "wii_df_australasia_timeline = wii_df_australasia_timeline.pivot(\"Month\", \"Year\", \"index\")\n",
    "sns.heatmap(wii_df_australasia_timeline, cmap=\"autumn\", linewidths=1 ,xticklabels=True, yticklabels=True,annot = True)\n",
    "\n",
    "plt.title(\"Time Period of Released Wii Games in Australasia\", y=1, fontsize=20)\n",
    "plt.xlabel('Year')\n",
    "plt.ylabel('Month')\n",
    "plt.savefig('images/image4.png', bbox_inches = \"tight\")\n",
    "plt.tight_layout()\n",
    "plt.show()"
   ]
  },
  {
   "cell_type": "markdown",
   "metadata": {},
   "source": [
    "<a id='part4-4'></a>\n",
    "### 4.4 Define a Time period showing released games by Europe"
   ]
  },
  {
   "cell_type": "code",
   "execution_count": 105,
   "metadata": {},
   "outputs": [
    {
     "data": {
      "image/png": "[encoded data removed]",
      "text/plain": [
       "<Figure size 1296x504 with 2 Axes>"
      ]
     },
     "metadata": {},
     "output_type": "display_data"
    }
   ],
   "source": [
    "plt.figure(figsize=(18, 7))\n",
    "wii_df_europe.reset_index(inplace = True)\n",
    "wii_df_europe['Month'] = pd.Categorical(wii_df_europe['Month'], \n",
    "                                                categories=['January', 'February', 'March', 'April', 'May','June', 'July', 'August', 'September', 'October', 'November', 'December'], \n",
    "                                                ordered=True)\n",
    "\n",
    "wii_df_europe_timeline = wii_df_europe.groupby([\"Year\", \"Month\"])[\"index\"].size().reset_index()\n",
    "wii_df_europe_timeline = wii_df_europe_timeline.pivot(\"Month\", \"Year\", \"index\")\n",
    "sns.heatmap(wii_df_europe_timeline, cmap=\"winter\", linewidths=1 ,xticklabels=True, yticklabels=True,annot = True)\n",
    "\n",
    "plt.title(\"Time Period of Released Wii Games in Europe\", y=1, fontsize=20)\n",
    "plt.xlabel('Year')\n",
    "plt.ylabel('Month')\n",
    "plt.savefig('images/image5.png', bbox_inches = \"tight\")\n",
    "plt.tight_layout()\n",
    "plt.show()"
   ]
  },
  {
   "cell_type": "markdown",
   "metadata": {},
   "source": [
    "<a id='part4-5'></a>\n",
    "### 4.5 Show the spectrum of wii games by genre, developer and publisher"
   ]
  },
  {
   "cell_type": "code",
   "execution_count": 106,
   "metadata": {},
   "outputs": [
    {
     "data": {
      "image/png": "[encoded data removed]",
      "text/plain": [
       "<Figure size 1224x1224 with 3 Axes>"
      ]
     },
     "metadata": {},
     "output_type": "display_data"
    }
   ],
   "source": [
    "f,a = plt.subplots(2,2,figsize=(17,17))\n",
    "f.subplots_adjust(wspace = .2)\n",
    "\n",
    "\n",
    "colors_1 = random.choices(list(mcolors.CSS4_COLORS.values()),k = wii_df_genre_top_10_others.size)\n",
    "colors_2 = random.choices(list(mcolors.CSS4_COLORS.values()),k = wii_df_developer_top_10_others.size)\n",
    "colors_3 = random.choices(list(mcolors.CSS4_COLORS.values()),k = wii_df_publisher_top_10_others.size)\n",
    "\n",
    "a[0,0].pie(wii_df_genre_top_10_others[\"count\"], \n",
    "        labels = wii_df_genre_top_10_others[\"Genre(s)\"],  \n",
    "        startangle=90, shadow = True, autopct = '%1.1f%%', colors = colors_1)\n",
    "\n",
    "a[0,0].set_title('Wii Games by Genre')\n",
    "a[0,0].set_ylabel('');\n",
    "\n",
    "\n",
    "a[0,1].pie(wii_df_developer_top_10_others[\"count\"], \n",
    "        labels = wii_df_developer_top_10_others[\"Developer(s)\"],  \n",
    "        startangle=90, shadow = True, autopct = '%1.1f%%', colors = colors_2)\n",
    "\n",
    "a[0,1].set_title('Wii Games by Developer')\n",
    "a[0,1].set_ylabel('');\n",
    "\n",
    "\n",
    "a[1,0].pie(wii_df_publisher_top_10_others[\"count\"], \n",
    "        labels = wii_df_publisher_top_10_others[\"Publisher(s)\"],  \n",
    "        startangle=90, shadow = True, autopct = '%1.1f%%', colors = colors_3)\n",
    "\n",
    "a[1,0].set_title('Wii Games by Publisher')\n",
    "a[1,0].set_ylabel('');\n",
    "\n",
    "# delete extra plot\n",
    "f.delaxes(a[1][1])\n",
    "\n",
    "f.suptitle(\"Analysis of Spectrum of wii games by genre, developer and publisher\", y=1, fontsize=20)\n",
    "plt.savefig('images/image6.png')\n",
    "plt.show()"
   ]
  },
  {
   "cell_type": "markdown",
   "metadata": {},
   "source": [
    "<a id='part5'></a>\n",
    "## 5. Recommendation System"
   ]
  },
  {
   "cell_type": "code",
   "execution_count": 107,
   "metadata": {},
   "outputs": [],
   "source": [
    "# This is a function to find the closest game title from the list\n",
    "def find_word(word,words):\n",
    "    t=[]\n",
    "    count=0\n",
    "    if word[-1]==' ':\n",
    "        word=word[:-1]\n",
    "    for i in words:\n",
    "        if word.lower() in i.lower():\n",
    "            t.append([len(word)/len(i),count])\n",
    "        else:\n",
    "            t.append([0,count])\n",
    "        count+=1\n",
    "    t.sort(reverse=True)\n",
    "    return words[t[0][1]]"
   ]
  },
  {
   "cell_type": "code",
   "execution_count": 108,
   "metadata": {},
   "outputs": [
    {
     "data": {
      "text/plain": [
       "array(['007 Legends', '1001 Spikes', '140', '153 Hand Video Poker',\n",
       "       '3Souls', '6-Hand Video Poker', '6180 the moon', '8Bit Hero',\n",
       "       '99Moves', '99Seconds', 'Absolutely Unstoppable MineRun', 'Abyss',\n",
       "       'Ace: Alien Cleanup Elite', 'Ace of Seafood',\n",
       "       'Act It Out! A Game of Charades',\n",
       "       'Adventure Party: Cats and Caverns',\n",
       "       \"Adventure Time: Explore the Dungeon Because I Don't Know!\",\n",
       "       'Adventure Time: Finn & Jake Investigations', 'Adventures of Pip',\n",
       "       'Aenigma Os', 'Affordable Space Adventures', 'Alice in Wonderland',\n",
       "       'Alphadia Genesis', 'The Amazing Spider-Man: Ultimate Edition',\n",
       "       'The Amazing Spider-Man 2', 'Angry Birds Star Wars',\n",
       "       'Angry Birds Trilogy', 'Angry Bunnies: Colossal Carrot Crusade',\n",
       "       'Angry Video Game Nerd Adventures',\n",
       "       'Animal Crossing: Amiibo Festival', 'Animal Gods', 'Annihilation',\n",
       "       'Another World: 20th Anniversary Edition', 'Aperion Cyberstorm',\n",
       "       'Aqua Moto Racing Utopia', 'Aqua TV', 'Arc Style: Baseball! SP',\n",
       "       'Archery by Thornbury Software', 'Ark Rush', 'Armikrog', 'Armillo',\n",
       "       'Armored Acorns: Action Squirrel Squad', 'Arrow Time U',\n",
       "       'Art of Balance', 'Ascent of Kings', 'Asdivine Hearts',\n",
       "       \"Assassin's Creed III\", \"Assassin's Creed IV: Black Flag\",\n",
       "       'Asteroid Quarry', 'Astral Breakers',\n",
       "       'Ava and Avior Save the Earth', 'Avoider', 'Axiom Verge',\n",
       "       'Azure Snake', 'B3 Game Expo for Bees', 'Back to Bed',\n",
       "       'Badland: Game of the Year Edition', 'Baila Latino',\n",
       "       'Ballpoint Universe: Infinite',\n",
       "       'Barbie and her Sisters: Puppy Rescue', 'Barbie: Dreamhouse Party',\n",
       "       'Batman: Arkham City – Armored Edition', 'Batman: Arkham Origins',\n",
       "       'Batman: Arkham Origins Blackgate – Deluxe Edition', 'Bayonetta',\n",
       "       'Bayonetta 2', 'Beatbuddy: Tale of the Guardians',\n",
       "       \"The Beggar's Ride\", 'Ben 10: Omniverse', 'Ben 10: Omniverse 2',\n",
       "       \"Bigley's Revenge\", 'The Binding of Isaac: Rebirth',\n",
       "       'Bird Mania Party', 'Bit Dungeon Plus',\n",
       "       'Bit.Trip Presents... Runner2: Future Legend of Rhythm Alien',\n",
       "       'Blackjack 21', 'Blasting Agent: Ultimate Edition', 'Blek', 'Bloc',\n",
       "       'Blockara', 'Block Zombies!', 'Blocky Bot', 'Blok Drop U',\n",
       "       'Blok Drop X: Twisted Fusion', 'Blue-Collar Astronaut',\n",
       "       'Bombing Bastards', 'The Book of Unwritten Tales 2', 'Booty Diver',\n",
       "       'Box Up', 'Brave Tank Hero', 'Breakout Defense',\n",
       "       'Breakout Defense 2', 'Breezeblox', 'BrickBlast U!',\n",
       "       'Brick Breaker', 'Brick Race', 'The Bridge',\n",
       "       'Bridge Constructor Playground', 'Brunswick Pro Bowling',\n",
       "       'Bubble Gum Popper', 'Buddy & Me: Dream Edition', 'Buta Medal',\n",
       "       \"Cabela's Big Game Hunter: Pro Hunts\",\n",
       "       \"Cabela's Dangerous Hunts 2013\",\n",
       "       'Cake Ninja 3: The Legend Continues', 'Call of Duty: Black Ops II',\n",
       "       'Call of Duty: Ghosts', 'Call of Nightmare', 'Candy Hoarder',\n",
       "       'Canvaleon', 'Captain Toad: Treasure Tracker',\n",
       "       'Cars 3: Driven to Win', 'CastleStorm', 'The Cave', 'Chariot',\n",
       "       'ChariSou Ultra DX: Sekai Tour', 'Chasing Aurora', 'Chasing Dead',\n",
       "       \"Chests o' Booty\", 'Child of Light', 'Chimpuzzle Pro',\n",
       "       'Chompy Chomp Chomp Party',\n",
       "       'Christmas Adventure of Rocket Penguin', 'Chroma Blast',\n",
       "       'Chronicles of Teddy: Harmony of Exidus', 'Chubbins',\n",
       "       'Citadale: Gate of Souls', 'Citadale: The Legends Trilogy',\n",
       "       'Citizens of Earth', 'Cloudberry Kingdom', 'Coaster Crazy Deluxe',\n",
       "       'Cocoto Magic Circus 2', 'Collateral Thinking', 'Color Bombs',\n",
       "       'Color Cubes', 'Color Symphony 2', 'Color Zen', 'Color Zen Kids',\n",
       "       'Coqui The Game', 'Cosmophony', 'Costume Quest 2',\n",
       "       'Crab Cakes Rescue', 'The Croods: Prehistoric Party!',\n",
       "       'Crush Insects', 'Crystorld', 'Cube Blitz',\n",
       "       'Cube Life: Island Survival', 'Cube Life: Pixel Action Heroes',\n",
       "       'Cubemen 2', 'Cubeshift', 'Cubit The Hardcore Platformer Robot HD',\n",
       "       'Cup Critters', 'Cutie Clash', 'Cutie Pets Go Fishing',\n",
       "       'Cutie Pets Jump Rope', 'Cutie Pets Pick Berries',\n",
       "       'Cycle of Eternity: Space Anomaly',\n",
       "       'D.M.L.C. Death Match Love Comedy', 'Daikon Set',\n",
       "       'Dare Up Adrenaline', 'Darksiders II',\n",
       "       'Darksiders: Warmastered Edition', 'Darts Up',\n",
       "       'A Day at the Carnival', 'The Deer God', 'Defend Your Crypt',\n",
       "       'Defense Dome', 'Demonic Karma Summoner',\n",
       "       \"Deus Ex: Human Revolution – Director's Cut\", \"Devil's Third\",\n",
       "       'Dinox', 'Discovery', 'Disney Epic Mickey 2: The Power of Two',\n",
       "       'Disney Infinity', 'Disney Infinity 3.0',\n",
       "       'Disney Infinity: Marvel Super Heroes', 'Disney Planes',\n",
       "       'Disney Planes: Fire & Rescue', \"Disney's DuckTales: Remastered\",\n",
       "       'Dodge Club Party', 'DokiDoki Tegami Relay', 'Dolphin Up',\n",
       "       \"Don't Crash\", \"Don't Starve: Giant Edition\",\n",
       "       \"Don't Touch Anything Red\", 'Donkey Kong Country: Tropical Freeze',\n",
       "       'Dot Arcade', 'Double Breakout', 'Double Breakout II', 'Dr. Luigi',\n",
       "       \"Dracula's Legacy\", 'Dragon Fantasy: The Black Tome of Ice',\n",
       "       'Dragon Fantasy: The Volumes of Westeria',\n",
       "       'Dragon Quest X: 5000-nen no Harukanaru Kokyou e Online',\n",
       "       'Dragon Quest X: Inishie no Ryuu no Denshou Online',\n",
       "       'Dragon Quest X: Mezameshi Itsutsu no Shuzoku Online',\n",
       "       'Dragon Quest X: Nemureru Yūsha to Michibiki no Meiyū Online',\n",
       "       'Dragon Skills', 'Draw 2 Survive', 'Draw a Stickman: Epic 2',\n",
       "       \"A Drawing's Journey\", 'Dream Pinball 3D II', 'Dreamals',\n",
       "       'Dreamals: Dream Quest', 'Dreii', 'Drop It: Block Paradise!',\n",
       "       'Dual Core', 'Dungeons & Dragons: Chronicles of Mystara',\n",
       "       'Dungeon Hearts DX', 'Dying is Dangerous',\n",
       "       'Earthlock: Festival of Magic', 'Eba & Egg: A Hatch Trip',\n",
       "       'Ectoplaza', 'Edge', 'Educational Pack of Kids Games',\n",
       "       'Electronic Super Joy', 'Electronic Super Joy: Groove City',\n",
       "       'Elliot Quest', 'El Silla: Arcade Edition',\n",
       "       'Emojikara: A Clever Emoji Match Game', 'Endless Golf',\n",
       "       'Epic Dumpster Bear', 'Escape from Flare Industries',\n",
       "       'ESPN Sports Connection', 'Evofish', \"Exile's End\", 'Explody Bomb',\n",
       "       'Extreme Exorcism', 'F1 Race Stars: Powered Up Edition',\n",
       "       'Factotum', 'Fake Colors', 'The Fall', 'Falling Skies: The Game',\n",
       "       'Family Party: 30 Great Games Obstacle Arcade', 'Family Tennis SP',\n",
       "       'Fast & Furious: Showdown', 'Fast Racing Neo', 'Fat City',\n",
       "       'Fat Dragons', 'Fatal Frame: Maiden of Black Water', 'FIFA 13',\n",
       "       'Fifteen', 'Finding Teddy II', \"Fire: Ungh's Quest\",\n",
       "       \"Fist of the North Star: Ken's Rage 2\", 'Fit Music for Wii U',\n",
       "       'Flapp & Zegeta', 'Flight of Light',\n",
       "       \"Flowerworks HD: Follie's Adventure\", 'Forced', 'Forest Escape',\n",
       "       'Forma.8', 'Frag doch mal...die Maus!',\n",
       "       'Frankenstein: Master of Death', 'Frederic: Resurrection of Music',\n",
       "       'Free Balling', 'Freedom Planet', 'FreezeME', 'Frenchy Bird',\n",
       "       'Fujiko F. Fujio Characters: Daishuugou! SF Dotabata Party!',\n",
       "       'FullBlast', 'Funk of Titans', \"Funky Barn: It's Farming\",\n",
       "       'Funky Physics', 'Futuridium EP Deluxe', 'Gaiabreaker',\n",
       "       'Galaxy Blaster', 'Game & Wario', 'Game Party Champions',\n",
       "       'Games for Toddlers', 'Gear Gauntlet', 'The Gem Collector',\n",
       "       'Gemology', 'Geom', 'GetClose: A game for Rivals',\n",
       "       'Ghost Blade HD', 'Giana Sisters: Twisted Dreams',\n",
       "       'Giana Sisters: Twisted Dreams – Owltimate Edition',\n",
       "       'Ginsei Shogi: Kyoutendotou Fuuraijin', 'The Girl and the Robot',\n",
       "       'Girls Like Robots',\n",
       "       'Gotouchi Tetsudou: Gotouchi Kyara to Nihon Zenkoku no Tabi',\n",
       "       'GravBlocks+', 'Gravity+', 'Gravity Badgers', 'The Great Race',\n",
       "       'Grumpy Reaper', \"Guac' a Mole\",\n",
       "       'Guacamelee!: Super Turbo Championship Edition',\n",
       "       'Guitar Hero Live', 'Gunman Clive HD Collection',\n",
       "       'Hello Kitty Kruisers', 'Heptrix', 'High Strangeness', 'Hive Jump',\n",
       "       'Hold Your Fire: A Game About Responsibility', 'Horror Stories',\n",
       "       'Hot Rod Racer', \"Hot Wheels World's Best Driver\",\n",
       "       'How to Survive', 'How to Train Your Dragon 2',\n",
       "       'Human Resource Machine', 'Humanitarian Helicopter',\n",
       "       \"Hunter's Trophy 2 Europa\", 'HurryUp! Bird Hunter',\n",
       "       'Hyrule Warriors', 'I C Redd', \"I've Got to Run!\",\n",
       "       'Ice Cream Surfer', 'Infinity Runner', 'Injustice: Gods Among Us',\n",
       "       'Insect Planet TD', 'Inside My Radio', 'Internal Invasion',\n",
       "       'Invanoid', 'IQ Test', 'Island Flight Simulator', 'Ittle Dew',\n",
       "       'Jackpot 777', 'Jeopardy!', 'Jett Tailfin', 'Jewel Quest',\n",
       "       'Jikan Satansa', 'Job the Leprechaun', \"Joe's Diner\",\n",
       "       'Jolt Family Robot Racer', 'Jones on Fire',\n",
       "       'Jotun: Valhalla Edition', 'Journey of a Special Average Balloon',\n",
       "       'Just Dance 4', 'Just Dance 2014', 'Just Dance 2015',\n",
       "       'Just Dance 2016', 'Just Dance 2017', 'Just Dance 2018',\n",
       "       'Just Dance 2019', 'Just Dance: Disney Party 2',\n",
       "       'Just Dance Kids 2014', 'Just Dance Wii U',\n",
       "       'Kamen Rider: Battride War II', 'Kamen Rider: SummonRide',\n",
       "       'Kemono Dash', 'Kick & Fennick', 'KickBeat: Special Edition',\n",
       "       'Kirby and the Rainbow Curse', 'Koi DX', 'Knytt Underground',\n",
       "       'Kung Fu Fight!', 'Kung Fu Panda: Showdown of Legendary Legends',\n",
       "       'Kung Fu Rabbit', 'Land It Rocket', 'Laser Blaster',\n",
       "       'Last Soldier', 'Legend of Kay Anniversary',\n",
       "       'The Legend of Zelda: Breath of the Wild',\n",
       "       'The Legend of Zelda: Twilight Princess HD',\n",
       "       'The Legend of Zelda: The Wind Waker HD',\n",
       "       'Lego Batman 2: DC Super Heroes', 'Lego Batman 3: Beyond Gotham',\n",
       "       'Lego City Undercover', 'Lego Dimensions', 'Lego Jurassic World',\n",
       "       'Lego Marvel Super Heroes', \"Lego Marvel's Avengers\",\n",
       "       'The Lego Movie Videogame', 'Lego Star Wars: The Force Awakens',\n",
       "       'Lego The Hobbit', 'The Letter', 'Letter Quest Remastered',\n",
       "       \"Level 22, Gary's Misadventures\", 'Life of Pixel',\n",
       "       'Little Inferno', \"Lone Survivor: The Director's Cut\",\n",
       "       'Lost Reavers', 'Lovely Planet', 'Lucadian Chronicles',\n",
       "       'Lucentek Beyond', 'Lucentek: Activate',\n",
       "       'Luv Me Buddies Wonderland', 'Madden NFL 13', 'Mahjong',\n",
       "       'Mahjong Deluxe 3', 'Manabi Getto!',\n",
       "       'Mario & Sonic at the Rio 2016 Olympic Games',\n",
       "       'Mario & Sonic at the Sochi 2014 Olympic Winter Games',\n",
       "       'Mario Kart 8', 'Mario Party 10', 'Mario Tennis: Ultra Smash',\n",
       "       'Mario vs. Donkey Kong: Tipping Stars',\n",
       "       'Marvel Avengers: Battle for Earth',\n",
       "       'Mass Effect 3: Special Edition', 'Masked Forces', 'Master Reboot',\n",
       "       'Maze', 'Maze Break', 'Mega Maze', 'Meine Ersten Mitsing-Lieder',\n",
       "       'Meme Run', 'Michiko Jump!', 'Midnight', 'Midnight 2',\n",
       "       'Midtown Crazy Race', 'Mighty No. 9',\n",
       "       'Mighty Switch Force!: Hyper Drive Edition',\n",
       "       'Mighty Switch Force! 2', 'Miko Mole', 'MikroGame: Rotator',\n",
       "       'Minecraft: Story Mode - The Complete Adventure',\n",
       "       'Minecraft: Wii U Edition',\n",
       "       'Mini Mario & Friends: Amiibo Challenge',\n",
       "       'Mini-Games Madness Volume #1: Hello World!',\n",
       "       'Minna de Uchū Tour: ChariSou DX 2',\n",
       "       'The Misshitsukara no Dasshutsu: Subete no Hajimari 16 no Nazo',\n",
       "       'The Misshitsukara no Dasshutsu 2: Kesareta 19 no Kioku',\n",
       "       'Molly Maggot', 'Momonga Pinball Adventures',\n",
       "       'Mon Premier Karaoké', 'Monkey Pirates', 'Monster High: 13 Wishes',\n",
       "       'Monster High: New Ghoul in School', 'Monster Hunter 3 Ultimate',\n",
       "       'Monster Hunter: Frontier G', 'Monster Hunter: Frontier G Genuine',\n",
       "       'Monster Hunter: Frontier G5', 'Monster Hunter: Frontier G6',\n",
       "       'Monster Hunter: Frontier G7', 'Monster Hunter: Frontier G8',\n",
       "       'Monster Hunter: Frontier G9', 'Monster Hunter: Frontier G10',\n",
       "       'Monster Hunter: Frontier Z', 'Mop: Operation Cleanup',\n",
       "       'Mortar Melon', 'Mountain Peak Battle Mess',\n",
       "       'Mr. Pumpkin Adventure', 'Mutant Alien Moles of the Dead',\n",
       "       'Mutant Mudds Deluxe', 'Mutant Mudds Super Challenge',\n",
       "       'My Arctic Farm', 'My Exotic Farm', 'My Farm', 'My First Songs',\n",
       "       'My Jurassic Farm', 'My Style Studio: Hair Salon',\n",
       "       'The Mysterious Cities of Gold: Secret Paths', 'Nano Assault Neo',\n",
       "       'NBA 2K13', 'Near Earth Objects', 'Need for Speed: Most Wanted U',\n",
       "       'Neon Battle', 'NES Remix', 'NES Remix 2', 'Never Alone',\n",
       "       'New Super Luigi U', 'New Super Mario Bros. U', 'Nihilumbra',\n",
       "       \"Ninja Gaiden 3: Razor's Edge\", 'Ninja Pizza Girl',\n",
       "       'Ninja Strike: Dangerous Dash',\n",
       "       'Nintendo Game Seminar 2013 Jukousei Sakuhin', 'Nintendo Land',\n",
       "       'Noitu Love: Devolution', 'Nova-111', 'Now I know my ABCs',\n",
       "       'Octocopter: Super Sub Squid Escape', 'Octodad: Dadliest Catch',\n",
       "       \"Oddworld: Abe's Oddysee – New 'n' Tasty!\",\n",
       "       \"Ohayou! Beginner's Japanese\", 'OlliOlli', 'Olympia Rising',\n",
       "       'One Piece: Unlimited World Red', 'Orbit', 'Othello',\n",
       "       'Outside The Realm', 'Overworld Defender Remix',\n",
       "       'Pac-Man and the Ghostly Adventures',\n",
       "       'Pac-Man and the Ghostly Adventures 2', 'Panda Love', 'Paparazzi',\n",
       "       'Paper Mario: Color Splash', 'Paper Monsters Recut',\n",
       "       'Paranautical Activity',\n",
       "       \"The Peanuts Movie: Snoopy's Grand Adventure\", 'Peg Solitaire',\n",
       "       'Penguins of Madagascar', 'Pentapuzzle', \"Percy's Predicament\",\n",
       "       'Perpetual Blast', 'The Perplexing Orb', 'Petite Zombies',\n",
       "       'Phineas and Ferb: Quest for Cool Stuff', 'Piano Teacher',\n",
       "       'Pic-a-Pix Color', 'PictoParty',\n",
       "       'Pier Solar and the Great Architects', 'Pikmin 3', 'Pinball',\n",
       "       'The Pinball Arcade', 'Pinball Breakout', 'Ping 1.5+',\n",
       "       'Pirate Pop Plus', 'Pixel Slime U', 'PixelJunk Monsters',\n",
       "       'PixlCross', 'Placards', 'Plantera', 'Plenty of Fishies',\n",
       "       'Pokémon Rumble U', 'Poker Dice Solitaire Future',\n",
       "       'Pokkén Tournament', 'Poncho',\n",
       "       'Preston Sterling and the Legend of Excalibur', 'Prism Pets',\n",
       "       'Psibo', 'Psyscrolr', 'Puddle', 'Pumped BMX', 'Pure Chess',\n",
       "       'Pushmo World', 'Puyo Puyo Tetris', 'Puzzle Monkeys',\n",
       "       'Quadcopter Pilot Challenge', \"Q.U.B.E.: Director's Cut\",\n",
       "       'Queens Garden', 'Quest of Dungeons', 'The Quiet Collection',\n",
       "       'Rabbids Land', 'Race the Sun', 'Radiantflux: Hyperfractal',\n",
       "       'Rainbow Snake', 'Rakoo & Friends', 'Rapala Pro Bass Fishing',\n",
       "       'Rayman Legends', 'Rayman Legends Challenges', 'Red Riding Hood',\n",
       "       'Regina & Mac', 'Replay: VHS is Not Dead', 'Reptilian Rebellion',\n",
       "       'Resident Evil: Revelations', 'Retro Road Rumble', 'Revenant Saga',\n",
       "       'Rise of the Guardians: The Video Game',\n",
       "       'The Rivers of Alice: Extended Version',\n",
       "       \"Rock 'N Racing Grand Prix\", \"Rock 'N Racing Off Road\",\n",
       "       \"Rock 'N Racing Off Road DX\", 'Rock Zombie',\n",
       "       'Rodea the Sky Soldier', 'Romance of the Three Kingdoms 12',\n",
       "       'Rorrim', 'Roving Rogue', 'RTO', 'RTO 2', \"Rubik's Cube\",\n",
       "       'Run Run and Die', 'Runbow', 'Rush',\n",
       "       \"Rynn's Adventure: Trouble in the Enchanted Forest\",\n",
       "       'Ryū ga Gotoku 1 & 2: HD Edition', 'Sanatory Hallways',\n",
       "       'Santa Factory', 'Schlag den Star: Das Spiel',\n",
       "       'Scoop! Around the World in 80 Spaces',\n",
       "       'Scram Kitty and His Buddy on Rails', 'Scribble',\n",
       "       'Scribblenauts Unlimited',\n",
       "       'Scribblenauts Unmasked: A DC Comics Adventure',\n",
       "       'Secret Files: Tunguska', 'Severed', 'Shadow Archer',\n",
       "       'Shadow Archery', 'Shadow Puppeteer', 'Shakedown: Hawaii',\n",
       "       \"Shantae and the Pirate's Curse\", 'Shantae: Half-Genie Hero',\n",
       "       \"Shantae: Risky's Revenge - Director's Cut\", 'Shapes of Gray',\n",
       "       'Shiftlings', 'Shiny the Firefly', 'SHMUP Collection',\n",
       "       'Shooting Range by Thornbury Software', 'Shoot the Ball',\n",
       "       'Shooty Space', 'Shovel Knight', 'Shut the Box', 'Shütshimi',\n",
       "       'Shuttle Rush', 'Sing Party', 'Sinister Assistant',\n",
       "       'Six Sides of the World', 'Skeasy', 'Sketch Wars', 'Skorb',\n",
       "       \"Skunky B's Super Slots Saga #1\", 'Sky Force Anniversary',\n",
       "       'Skylanders: Giants', 'Skylanders: Imaginators',\n",
       "       \"Skylanders: Spyro's Adventure\", 'Skylanders: SuperChargers',\n",
       "       'Skylanders: Swap Force', 'Skylanders: Trap Team',\n",
       "       'Slender: The Arrival', \"Slots: Pharaoh's Riches\",\n",
       "       'Smart Adventures Mission Math: Sabotage at the Space Station',\n",
       "       'The Smurfs 2', 'Snake Den', 'Sniper Elite V2', 'Snowball',\n",
       "       'Solitaire', 'Solitaire Dungeon Escape',\n",
       "       'Sonic & All-Stars Racing Transformed',\n",
       "       'Sonic Boom: Rise of Lyric', 'Sonic Lost World', 'Soon Shine',\n",
       "       'Soul Axiom', 'Space Hulk', 'Space Hunted',\n",
       "       'Space Hunted: The Lost Levels', 'Space Intervention',\n",
       "       'SpaceRoads', \"Spellcaster's Assistant\", 'Sphere Slice',\n",
       "       'SphereZor', 'Spheroids', 'Spikey Walls',\n",
       "       \"Spin the Bottle: Bumpie's Party\", 'Splashy Duck', 'Splatoon',\n",
       "       \"SpongeBob SquarePants: Plankton's Robotic Revenge\", 'Sportsball',\n",
       "       'Spot the Differences! Party', 'Spy Chameleon', 'Squids Odyssey',\n",
       "       'Star Fox Guard', 'Star Fox Zero', 'Star Ghost', 'Star Sky',\n",
       "       'Star Sky 2', 'Star Splash: Shattered Star', 'Star Wars Pinball',\n",
       "       'Starwhal', 'Stealth Inc. 2: A Game of Clones', 'SteamWorld Dig',\n",
       "       'SteamWorld Heist', 'Steel Lords', 'Steel Rivals',\n",
       "       'Stick It to the Man!', 'Stone Shire', 'The Stonecutter',\n",
       "       'Sudoku and Permudoku', 'Sudoku Party', 'Super Destronaut',\n",
       "       'Super Destronaut 2: Go Duck Yourself', 'Super Hero Math',\n",
       "       'Super Mario 3D World', 'Super Mario Maker', 'Super Meat Boy',\n",
       "       'Super Robo Mouse', 'Super Smash Bros. for Wii U',\n",
       "       'Super Toy Cars', 'Super Ultra Star Shooter',\n",
       "       \"Surfin' Sam: Attack of the Aqualites\",\n",
       "       'Suspension Railroad Simulator', 'Swap Blocks', 'Swap Fire',\n",
       "       'The Swapper', 'Sweetest Thing', 'The Swindle',\n",
       "       'Swords & Soldiers', 'Swords & Soldiers II', 'Tabletop Gallery',\n",
       "       'Tachyon Project', 'Tadpole Treble',\n",
       "       'Taiko no Tatsujin: Atsumete ☆ Tomodachi Daisakusen!',\n",
       "       'Taiko no Tatsujin: Tokumori!', 'Taiko no Tatsujin: Wii U Version',\n",
       "       'Tallowmere', 'Tank SP', 'Tank! Tank! Tank!', 'Tap Tap Arcade',\n",
       "       'Tap Tap Arcade 2', 'Tekken Tag Tournament 2: Wii U Edition',\n",
       "       'Temple of Yog', 'Tengami', 'Terraria', 'Teslagrad', 'Teslapunk',\n",
       "       'Test Your Mind', 'Tested with Robots!', 'Tetrobot and Co.',\n",
       "       'Tetraminos', 'The First Skunk Bundle', 'Thomas Was Alone',\n",
       "       'Tilelicious: Delicious Tiles', 'Tiny Galaxy!', 'Tiny Thief',\n",
       "       'Titans Tower', 'TNT Racers: Nitro Machines Edition',\n",
       "       'Toby: The Secret Mine', 'Togabito no Senritsu', 'Toki Tori',\n",
       "       'Toki Tori 2+', 'Tomeling in Trouble', 'Tokyo Mirage Sessions ♯FE',\n",
       "       \"Tom Clancy's Splinter Cell: Blacklist\", 'Toon Tanks', 'Toon War',\n",
       "       'TorqueL', 'Toss n Go', 'Totem Topple', 'Toto Temple Deluxe',\n",
       "       'Touch Battle Tank SP', 'Touch Selections',\n",
       "       'Transformers Prime: The Game',\n",
       "       'Transformers: Rise of the Dark Spark', 'Trine: Enchanted Edition',\n",
       "       \"Trine 2: Director's Cut\", 'Tri-Strip', 'Triple Breakout',\n",
       "       'Tumblestone', 'Turbo: Super Stunt Squad', 'Turtle Tale',\n",
       "       'Twin Robots', 'Twisted Fusion', 'Typoman', 'U Host', 'Ultratron',\n",
       "       'Unalive', 'Underground', 'Unepic', 'Use Your Words', 'uWordsmith',\n",
       "       'Vaccine', 'Vector Assault', 'Vektor Wars',\n",
       "       'The Voice: I Want You', 'Volcanic Field 2', 'Volgarr the Viking',\n",
       "       'VRog', 'The Walking Dead: Survival Instinct', 'Wall Ball',\n",
       "       'Warriors Orochi 3 Hyper', 'Watch Dogs', 'Wheel of Fortune',\n",
       "       'Whispering Willows', 'Wicked Monsters Blast! HD Plus',\n",
       "       'Wii Fit U', 'Wii Karaoke U', 'Wii Party U', 'Wii Sports Club',\n",
       "       'Wind-up Knight 2', 'Wings of Magloryx', 'WinKings', 'Wipeout 3',\n",
       "       'Wipeout: Create & Crash', 'Woah Dave!', 'The Wonderful 101',\n",
       "       \"Wooden Sen'SeY\", 'Word Party', 'Word Logic by Powgi',\n",
       "       'Word Puzzles by Powgi', 'Word Search by Powgi',\n",
       "       'WordsUp! Academy', 'A World of Keflings', 'Xavier',\n",
       "       'Xenoblade Chronicles X', 'Xeodrifter', 'XType Plus', 'Y.A.S.G',\n",
       "       'Yakuman Hō-ō', 'Year Walk',\n",
       "       'Yo-kai Watch Dance: Just Dance Special Version',\n",
       "       \"Yoshi's Woolly World\", 'Your Shape: Fitness Evolved 2013',\n",
       "       \"ZaciSa's Last Stand\", 'Zen Pinball 2', 'Ziggurat', 'Zombeer',\n",
       "       'Zombie Brigade: No Brain No Gain', 'Zombie Defense', 'ZombiU',\n",
       "       'Zumba Fitness: World Party'], dtype=object)"
      ]
     },
     "execution_count": 108,
     "metadata": {},
     "output_type": "execute_result"
    }
   ],
   "source": [
    "wii_df[\"Title\"].unique()"
   ]
  },
  {
   "cell_type": "code",
   "execution_count": 109,
   "metadata": {},
   "outputs": [
    {
     "data": {
      "text/plain": [
       "array(['First-person shooter', 'Platformpuzzle', 'Platform', 'Simulation',\n",
       "       'Puzzle platformer', 'Puzzlestrategy', 'Actionadventure', 'Action',\n",
       "       'Adventure', 'Actionarcadefirst-person shooterfighting', 'Party',\n",
       "       'Action-adventure', 'Action-adventurerole-playing', 'Puzzle',\n",
       "       'Adventurepuzzle', 'Visual Novel', 'Japanese role-playing',\n",
       "       'Puzzlesplatform', 'Arcadefirst-person shooter',\n",
       "       'Platformaction-adventure', 'Twin-stick shooter', 'Lifestyle',\n",
       "       'Sports', 'platform', 'Point-and-click adventure',\n",
       "       'Puzzleplatform', 'Actionadventurearcadefighting',\n",
       "       'Action-adventureplatformer', 'Role-playing',\n",
       "       'Action-adventurestealth', 'Educationadventurepuzzle',\n",
       "       'Arcadestrategy', 'Metroidvania', 'Arcade', 'Actionshooter',\n",
       "       'Musicfitnesslifestyle', \"Action-adventureshoot 'em up\",\n",
       "       'Actionhack and slash', 'Platformmusic',\n",
       "       'Adventureplatformerpuzzle', \"Beat 'em upfighting\", 'Roguelike',\n",
       "       'First-person shooteraction', 'Puzzlesstrategy',\n",
       "       'Actionadventurefirst-person shooter', 'Simulationstrategy',\n",
       "       'Arcadepuzzle', 'Puzzles', 'Puzzleart', 'Puzzlesimulation',\n",
       "       'Endless runner', 'Survival horror', 'Platformstealth', 'Racing',\n",
       "       'Platformpuzzleadventure', 'Actionmultiplayer',\n",
       "       'Platformerrole-playing', 'Actionadventurerole-playing',\n",
       "       'Actionadventurerole-playingstrategy', 'Rhythm',\n",
       "       'Adventurerole-playing', 'Actionpuzzle', 'Sandbox',\n",
       "       'Real-time strategytower defense', 'Arcadepuzzles',\n",
       "       'Actionarcadeplatformer', 'Turn-based strategy', 'Dating sim',\n",
       "       'Actionarcadestrategy', 'Action role-playinghack and slash',\n",
       "       'Strategy', 'Action role-playingfirst-person shooterstealth',\n",
       "       'First-person shooterhack and slash', 'Edutainment',\n",
       "       'Sportsracing', 'Action-adventuresurvival horror',\n",
       "       'Massively multiplayer online role-playing game',\n",
       "       'Adventurepuzzles', 'Pinball', 'Arcadeplatformerpuzzle',\n",
       "       'Platformerpuzzle', \"Beat 'em upaction role-playing\",\n",
       "       'Role-playingpuzzlestrategy', 'Actionadventurearcadeplatformer',\n",
       "       'Actionparty', 'Adventureplatformer', 'Actionpuzzle platformer',\n",
       "       'Actionplatform', 'Action-adventureplatform',\n",
       "       'Tactical role-playing', 'Platformer', 'Arcadepuzzlesstrategy',\n",
       "       'Actionadventureplatformer', \"Beat 'em up\", 'Fitness',\n",
       "       'Platform-adventure', 'Music', 'Actionpuzzlesstrategy',\n",
       "       'Actionarcade', 'Action platformer', 'Physics', \"Shoot 'em up\",\n",
       "       'Strategypuzzle', 'Board game',\n",
       "       'Actionadventurepuzzlesrole-playing', 'Actionarcadepuzzle',\n",
       "       'Actionpuzzlearcade', \"Platformbeat 'em up\",\n",
       "       'Actionside-scrolling', 'Platformshooter',\n",
       "       'Action role-playingsurvival horror', \"Actionshoot 'em up\",\n",
       "       'Fighting', 'Trivia', 'Actionexploration', 'Musicrhythmdance',\n",
       "       'Musicrhythm', 'Puzzleadventure',\n",
       "       'Action-adventureaction role-playing', 'Stealth',\n",
       "       'Role-playingadventureactionfighting', 'Action, adventure',\n",
       "       'Educational', 'Action role-playingthird-person shooter',\n",
       "       'Graphic adventuresurvival horror',\n",
       "       'Graphic adventureinteractive movie', 'Action role-playing',\n",
       "       'Action, adventure, arcade', 'Puzzlestealth',\n",
       "       'Action-adventurehack and slash', 'Real-time strategypuzzle',\n",
       "       'Actionplatformer', 'Arcadepuzzlestrategyfirst-person shooter',\n",
       "       'Puzzle, strategy', 'Arcade, platform', 'Real-time strategy',\n",
       "       'Arcadeadventureboard gamestrategypuzzle', 'Tower defense',\n",
       "       \"Action role-playingbeat 'em up\", 'Actionadventurepuzzle',\n",
       "       'Racingplatform', 'Flight simulator', 'Board gamepuzzle',\n",
       "       'Actionplatformerpuzzle', 'Actionarcadeshooter',\n",
       "       'Turn-based strategytactical role-playing', 'Platform, racing',\n",
       "       'Puzzle, platform', 'Adventureparty', 'Puzzle, action',\n",
       "       'Adventure, puzzle', 'Puzzle, adventure', 'Puzzles, strategy',\n",
       "       'Arcade, shooter', 'Action, platform', 'Arcade, strategy',\n",
       "       'Adventurestrategyracing', 'Role-playingaction-adventureplatform',\n",
       "       'Role-playingaction-adventureplatformracing',\n",
       "       'Role-playing, action-adventure, platform',\n",
       "       'Action, platformer, puzzle', 'Action-adventure, platform',\n",
       "       'Tactical shooter, stealth', 'Card game', 'Action, puzzle', 'RPG',\n",
       "       'Turn-based tactics', 'Sports, racing',\n",
       "       'Arcade, fighting, puzzles, strategy', 'Action, arcade',\n",
       "       'Third-person shooter',\n",
       "       'Action-adventure, platform, third-person shooter',\n",
       "       'Arcade, puzzle', 'Shooter', 'Adventure, simulation',\n",
       "       'Platform, stealth', 'Platform, action-adventure',\n",
       "       'Action, adventure, fighting', 'Visual novel', 'Action, puzzles',\n",
       "       'Level editorplatform', 'Platform, puzzle',\n",
       "       'Platform, action, stealth', 'Arcaderacingstrategy',\n",
       "       'Roguelikeadventure', 'Arcadepuzzlestrategy', 'Puzzles, adventure',\n",
       "       \"Action, shoot 'em up\", 'Platform, puzzle, action role-playing',\n",
       "       'Multidirectional shooter', 'Platformrole-playing',\n",
       "       'Actionpuzzlestrategy', 'Hack and slash',\n",
       "       'Action-adventureopen worldstealth', 'Partyshooter',\n",
       "       'First-person shooterpartyplatformer', 'City-building',\n",
       "       'First-person shooterdungeon crawl',\n",
       "       'Action, first-person shooter'], dtype=object)"
      ]
     },
     "execution_count": 109,
     "metadata": {},
     "output_type": "execute_result"
    }
   ],
   "source": [
    "wii_df['Genre(s)'].unique()"
   ]
  },
  {
   "cell_type": "code",
   "execution_count": 110,
   "metadata": {},
   "outputs": [],
   "source": [
    "wii_df.drop(['Release date(Japan)',\n",
    "         'Release date(NA)',\n",
    "         'Release date(Australasia)',\n",
    "         'Release date(Europe)',\n",
    "         'Developer(s)'    \n",
    "        ], axis = 1, inplace = True) "
   ]
  },
  {
   "cell_type": "markdown",
   "metadata": {},
   "source": [
    "<a id='part5-1'></a>\n",
    "### 5.1 Recommendation System by using Levenshtein Distance"
   ]
  },
  {
   "cell_type": "code",
   "execution_count": 111,
   "metadata": {},
   "outputs": [],
   "source": [
    "levenshtein = Levenshtein()"
   ]
  },
  {
   "cell_type": "code",
   "execution_count": 112,
   "metadata": {},
   "outputs": [],
   "source": [
    "# Making a weight matrix using Levenshtein distance\n",
    "def recommendationSystembyLevenshteinDistance(data,game,number):\n",
    "    print(\"Recommendation System by using Levenshtein Distance\")\n",
    "    df=pd.DataFrame()\n",
    "    data.drop_duplicates(inplace=True)\n",
    "    games=data['Title'].values\n",
    "    best=find_word(game,games)\n",
    "    print('The game closest to your search is :', best)\n",
    "    genre=data[data['Title']==best]['Genre(s)'].values[0]\n",
    "    print('The genre closest to your search is :', genre)\n",
    "    df=data[data['Genre(s)']==genre]\n",
    "    x=df[df['Title']==best].drop(columns=['Genre(s)','Title']).values\n",
    "    if len(x)>1:\n",
    "        x=x[1]\n",
    "    games_names=df['Title'].values\n",
    "    df.drop(columns=['Genre(s)','Title'],inplace=True)\n",
    "    df=df.fillna(df.mean())\n",
    "    p=[]\n",
    "    count=0\n",
    "    for i in df.values:\n",
    "        p.append([levenshtein.distance(x,i),count])\n",
    "        count+=1\n",
    "    p.sort()\n",
    "    print('Recommendation of Game List')\n",
    "    for i in range(1,number+1):\n",
    "        print(games_names[p[i][1]])    "
   ]
  },
  {
   "cell_type": "code",
   "execution_count": 113,
   "metadata": {},
   "outputs": [
    {
     "name": "stdout",
     "output_type": "stream",
     "text": [
      "Please enter The name of the wiigame :Turbo\n",
      "Please enter the number of recommendations you want: 3\n",
      "Recommendation System by using Levenshtein Distance\n",
      "The game closest to your search is : Turbo: Super Stunt Squad\n",
      "The genre closest to your search is : Action\n",
      "Recommendation of Game List\n",
      "99Moves\n",
      "99Seconds\n",
      "Ace of Seafood\n"
     ]
    }
   ],
   "source": [
    "search_game=input('Please enter The name of the wiigame :')\n",
    "number=int(input('Please enter the number of recommendations you want: '))\n",
    "recommendationSystembyLevenshteinDistance(wii_df,search_game,number)"
   ]
  },
  {
   "cell_type": "code",
   "execution_count": null,
   "metadata": {},
   "outputs": [],
   "source": []
  }
 ],
 "metadata": {
  "kernelspec": {
   "display_name": "Python 3",
   "language": "python",
   "name": "python3"
  },
  "language_info": {
   "codemirror_mode": {
    "name": "ipython",
    "version": 3
   },
   "file_extension": ".py",
   "mimetype": "text/x-python",
   "name": "python",
   "nbconvert_exporter": "python",
   "pygments_lexer": "ipython3",
   "version": "3.7.1"
  }
 },
 "nbformat": 4,
 "nbformat_minor": 4
}
